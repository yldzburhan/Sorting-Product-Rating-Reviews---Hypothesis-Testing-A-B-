{
 "cells": [
  {
   "cell_type": "markdown",
   "id": "6be82093",
   "metadata": {
    "papermill": {
     "duration": 0.028441,
     "end_time": "2023-11-13T13:58:44.176635",
     "exception": false,
     "start_time": "2023-11-13T13:58:44.148194",
     "status": "completed"
    },
    "tags": []
   },
   "source": [
    "<div style=\"border-radius: 10px; border: #6B8E23 solid; padding: 15px; background-color: #F5F5DC; font-size: 100%; text-align: left\">\n",
    "\n",
    "<h3 align=\"left\"><font color='#556B2F'>📜 Introduction : </font></h3>\n",
    "\n",
    "**What Drives a User to Make a Purchase?**\n",
    "\n",
    "For instance, when a user decides to make a purchase, they go to an e-commerce site and search for a product. They are presented with suggestions and alternatives related to the product. One of the most critical factors that compel a person to make a purchase is the concept of social proof. It is one of the most influential reasons for a user to buy a product. Reviews and ratings from individuals who have previously purchased the product are examined, allowing the person to form an opinion about the product. This phenomenon is primarily driven by the belief in the wisdom of crowds.\n",
    "\n",
    "Now, let's assume our user has narrowed down their choices to two products from a variety of options, disregarding the brand and price. Let's focus solely on the ratings of these two products. Our perception shifts towards the product with the highest rating, assuming it is the best.\n",
    "\n",
    "In another scenario, let's assume that the products display both ratings and the number of reviews simultaneously. For example, a product with a rating of 5 has received 7 reviews, and a product with a rating of 4.5 has received 256 reviews. At this point, we might choose to purchase the product with a rating of 4.5 because the concept of social proof is effective.\n",
    "\n",
    "In essence, the buyer's primary goal is to find the best product in terms of price and performance. The goal of the marketplace/seller is to deliver products to users as accurately as possible. Sellers may even secure sponsorships to ensure their products appear at the top of search results. Since social proof heavily influences users' purchasing decisions, it is crucial to present this social proof wherever it may be, avoiding manipulation and ensuring accuracy.\n",
    "\n",
    "Entering this process comes with some challenges that concern developers when a user enters the purchasing process. Topics that will interest developers include:\n",
    "\n",
    "* Calculating product ratings\n",
    "* Sorting products\n",
    "* Sorting user reviews on product detail pages\n",
    "* Designs of pages, processes, and interaction areas\n",
    "* Feature tests\n",
    "* Testing possible actions and reactions\n",
    "\n",
    "Throughout this process, we will examine various scientific aspects of topics that collectively influence the user experience:\n",
    "\n",
    "* Rating Products\n",
    "* Sorting Products\n",
    "* Sorting Reviews"
   ]
  },
  {
   "cell_type": "markdown",
   "id": "91596342",
   "metadata": {
    "papermill": {
     "duration": 0.02685,
     "end_time": "2023-11-13T13:58:44.232256",
     "exception": false,
     "start_time": "2023-11-13T13:58:44.205406",
     "status": "completed"
    },
    "tags": []
   },
   "source": [
    "<center><img src=\"https://i.imgur.com/jIuU22M.png\" width=\"800\" height=\"800\"></center>"
   ]
  },
  {
   "cell_type": "markdown",
   "id": "81edb54a",
   "metadata": {
    "papermill": {
     "duration": 0.026501,
     "end_time": "2023-11-13T13:58:44.285631",
     "exception": false,
     "start_time": "2023-11-13T13:58:44.259130",
     "status": "completed"
    },
    "tags": []
   },
   "source": [
    "# Content\n",
    "\n",
    "1. [💯 Rating Products 💯](#1)\n",
    "    * [Average](#2)\n",
    "    * [Time-Based Weighted Average](#3)\n",
    "    * [User-Based Weighted Average](#4)\n",
    "    * [Weighted Rating](#5)\n",
    "1. [🤩 Sorting Products 🤩](#6)\n",
    "    * [Sorting by Rating](#7)\n",
    "    * [Sorting by Comment Count or Purchase Count](#8)\n",
    "    * [Sorting by Rating, Comment and Purchase](#9)\n",
    "    * [Bayesian Average Rating Score](#10)\n",
    "    * [Hybrid Sorting](#11)\n",
    "    * [IMDB Movie Scoring and Sorting](#12)\n",
    "        * [Importing Libraries & First Look](#13)\n",
    "        * [Sorting by Vote Average](#14)\n",
    "    * [IMDB Weighted Rating](#15)\n",
    "    * [Bayesian Average Rating Score (BAR Score)](#16)\n",
    "1. [🙏 Sorting Reviews 🙏](#17)\n",
    "    * [Up-Down Difference Score](#18)\n",
    "    * [Average Rating (Up Ratio)](#19)\n",
    "    * [Wilson Lower Bound Score](#20)\n",
    "    * [Case Study](#21)"
   ]
  },
  {
   "cell_type": "markdown",
   "id": "18509da4",
   "metadata": {
    "_cell_guid": "b1076dfc-b9ad-4769-8c92-a6c4dae69d19",
    "_uuid": "8f2839f25d086af736a60e9eeb907d3b93b6e0e5",
    "papermill": {
     "duration": 0.026932,
     "end_time": "2023-11-13T13:58:44.421829",
     "exception": false,
     "start_time": "2023-11-13T13:58:44.394897",
     "status": "completed"
    },
    "tags": []
   },
   "source": [
    "<a id=\"1\"></a>\n",
    "<h1 style=\"border-radius: 10px; border: 2px solid #6B8E23; background-color: #F5F5DC; font-family: 'Pacifico', cursive; font-size: 200%; text-align: center; border-radius: 15px 50px; padding: 15px; box-shadow: 5px 5px 5px #556B2F; color: #556B2F;\">💯 Rating Products 💯</h1>"
   ]
  },
  {
   "cell_type": "markdown",
   "id": "e468c128",
   "metadata": {
    "papermill": {
     "duration": 0.027113,
     "end_time": "2023-11-13T13:58:44.476077",
     "exception": false,
     "start_time": "2023-11-13T13:58:44.448964",
     "status": "completed"
    },
    "tags": []
   },
   "source": [
    "\"Rating Products\" refers to the application of assigning or displaying ratings for various products, services, or items. This is done to provide potential customers or users with an indicator of the quality, satisfaction, or performance of products. Ratings are typically presented as a numerical value, often on a scale such as 1 to 5 stars, where a higher rating indicates a better or more favorable product.\n",
    "\n",
    "Rating products is done to help users make informed decisions among different options. Users can use ratings and reviews provided by other customers to assess the overall quality of a product and its suitability for their needs. Higher ratings are generally associated with positive user experiences and can guide potential buyers towards choosing a highly-rated product.\n",
    "\n",
    "Rating products can be found on various platforms such as e-commerce websites, online marketplaces, mobile applications, and product review websites. Users are encouraged to leave their ratings and written reviews to share their personal experiences and opinions, which can contribute to building trust and transparency in the marketplace."
   ]
  },
  {
   "cell_type": "markdown",
   "id": "23aac869",
   "metadata": {
    "papermill": {
     "duration": 0.026955,
     "end_time": "2023-11-13T13:58:44.530383",
     "exception": false,
     "start_time": "2023-11-13T13:58:44.503428",
     "status": "completed"
    },
    "tags": []
   },
   "source": [
    "<a id = \"2\"></a><br>\n",
    "<p style=\"font-family: 'Pacifico', cursive; font-weight: bold; letter-spacing: 2px; color: #556B2F; font-size: 160%; text-align: left; padding: 0px; border-bottom: 3px solid\">✨Average✨</p>"
   ]
  },
  {
   "cell_type": "code",
   "execution_count": 1,
   "id": "d56424b9",
   "metadata": {
    "execution": {
     "iopub.execute_input": "2023-11-13T13:58:44.586820Z",
     "iopub.status.busy": "2023-11-13T13:58:44.586378Z",
     "iopub.status.idle": "2023-11-13T13:58:46.424028Z",
     "shell.execute_reply": "2023-11-13T13:58:46.422954Z"
    },
    "papermill": {
     "duration": 1.869346,
     "end_time": "2023-11-13T13:58:46.426857",
     "exception": false,
     "start_time": "2023-11-13T13:58:44.557511",
     "status": "completed"
    },
    "tags": []
   },
   "outputs": [],
   "source": [
    "import pandas as pd\n",
    "import math\n",
    "import scipy.stats as st\n",
    "from sklearn.preprocessing import MinMaxScaler\n",
    "\n",
    "import warnings\n",
    "\n",
    "warnings.filterwarnings(\"ignore\")\n",
    "\n",
    "# pd.set_option('display.max_columns', None)\n",
    "# pd.set_option('display.max_rows', None)\n",
    "# pd.set_option('display.width', 500)\n",
    "# pd.set_option('display.expand_frame_repr', False)\n",
    "# pd.set_option('display.float_format', lambda x: '%.5f' % x"
   ]
  },
  {
   "cell_type": "markdown",
   "id": "4b4ed248",
   "metadata": {
    "papermill": {
     "duration": 0.027152,
     "end_time": "2023-11-13T13:58:46.481809",
     "exception": false,
     "start_time": "2023-11-13T13:58:46.454657",
     "status": "completed"
    },
    "tags": []
   },
   "source": [
    "<div style=\"border-radius:10px; border:#D0C2F0 solid; padding: 15px; background-color: #F8E8EE; font-size:100%; text-align:left\">\n",
    "\n",
    "<h3 align=\"left\"><font color='#5E5273'>📄 Notes: </font></h3>\n",
    "\n",
    "**Sample Scenario for Examination:**\n",
    "\n",
    "- (50+ Hours) Python A-Z™: Data Science and Machine Learning\n",
    "- Rating: 4.8 (4.764925)\n",
    "- Total Ratings: 4611\n",
    "- Rating Percentages: 75, 20, 4, 1, <1\n",
    "- Approximate Numerical Equivalents: 3458, 922, 184, 46, 6"
   ]
  },
  {
   "cell_type": "code",
   "execution_count": 2,
   "id": "b4df1c99",
   "metadata": {
    "execution": {
     "iopub.execute_input": "2023-11-13T13:58:46.540428Z",
     "iopub.status.busy": "2023-11-13T13:58:46.539381Z",
     "iopub.status.idle": "2023-11-13T13:58:46.573465Z",
     "shell.execute_reply": "2023-11-13T13:58:46.572161Z"
    },
    "papermill": {
     "duration": 0.066364,
     "end_time": "2023-11-13T13:58:46.576383",
     "exception": false,
     "start_time": "2023-11-13T13:58:46.510019",
     "status": "completed"
    },
    "tags": []
   },
   "outputs": [],
   "source": [
    "df = pd.read_csv(\"/kaggle/input/course-reviewscsv/course_reviews.csv\")"
   ]
  },
  {
   "cell_type": "code",
   "execution_count": 3,
   "id": "95b82629",
   "metadata": {
    "execution": {
     "iopub.execute_input": "2023-11-13T13:58:46.634204Z",
     "iopub.status.busy": "2023-11-13T13:58:46.633382Z",
     "iopub.status.idle": "2023-11-13T13:58:46.659403Z",
     "shell.execute_reply": "2023-11-13T13:58:46.658419Z"
    },
    "papermill": {
     "duration": 0.057172,
     "end_time": "2023-11-13T13:58:46.661594",
     "exception": false,
     "start_time": "2023-11-13T13:58:46.604422",
     "status": "completed"
    },
    "tags": []
   },
   "outputs": [
    {
     "data": {
      "text/html": [
       "<div>\n",
       "<style scoped>\n",
       "    .dataframe tbody tr th:only-of-type {\n",
       "        vertical-align: middle;\n",
       "    }\n",
       "\n",
       "    .dataframe tbody tr th {\n",
       "        vertical-align: top;\n",
       "    }\n",
       "\n",
       "    .dataframe thead th {\n",
       "        text-align: right;\n",
       "    }\n",
       "</style>\n",
       "<table border=\"1\" class=\"dataframe\">\n",
       "  <thead>\n",
       "    <tr style=\"text-align: right;\">\n",
       "      <th></th>\n",
       "      <th>Rating</th>\n",
       "      <th>Timestamp</th>\n",
       "      <th>Enrolled</th>\n",
       "      <th>Progress</th>\n",
       "      <th>Questions Asked</th>\n",
       "      <th>Questions Answered</th>\n",
       "    </tr>\n",
       "  </thead>\n",
       "  <tbody>\n",
       "    <tr>\n",
       "      <th>0</th>\n",
       "      <td>5.0</td>\n",
       "      <td>2021-02-05 07:45:55</td>\n",
       "      <td>2021-01-25 15:12:08</td>\n",
       "      <td>5.0</td>\n",
       "      <td>0.0</td>\n",
       "      <td>0.0</td>\n",
       "    </tr>\n",
       "    <tr>\n",
       "      <th>1</th>\n",
       "      <td>5.0</td>\n",
       "      <td>2021-02-04 21:05:32</td>\n",
       "      <td>2021-02-04 20:43:40</td>\n",
       "      <td>1.0</td>\n",
       "      <td>0.0</td>\n",
       "      <td>0.0</td>\n",
       "    </tr>\n",
       "    <tr>\n",
       "      <th>2</th>\n",
       "      <td>4.5</td>\n",
       "      <td>2021-02-04 20:34:03</td>\n",
       "      <td>2019-07-04 23:23:27</td>\n",
       "      <td>1.0</td>\n",
       "      <td>0.0</td>\n",
       "      <td>0.0</td>\n",
       "    </tr>\n",
       "    <tr>\n",
       "      <th>3</th>\n",
       "      <td>5.0</td>\n",
       "      <td>2021-02-04 16:56:28</td>\n",
       "      <td>2021-02-04 14:41:29</td>\n",
       "      <td>10.0</td>\n",
       "      <td>0.0</td>\n",
       "      <td>0.0</td>\n",
       "    </tr>\n",
       "    <tr>\n",
       "      <th>4</th>\n",
       "      <td>4.0</td>\n",
       "      <td>2021-02-04 15:00:24</td>\n",
       "      <td>2020-10-13 03:10:07</td>\n",
       "      <td>10.0</td>\n",
       "      <td>0.0</td>\n",
       "      <td>0.0</td>\n",
       "    </tr>\n",
       "  </tbody>\n",
       "</table>\n",
       "</div>"
      ],
      "text/plain": [
       "   Rating            Timestamp             Enrolled  Progress  \\\n",
       "0     5.0  2021-02-05 07:45:55  2021-01-25 15:12:08       5.0   \n",
       "1     5.0  2021-02-04 21:05:32  2021-02-04 20:43:40       1.0   \n",
       "2     4.5  2021-02-04 20:34:03  2019-07-04 23:23:27       1.0   \n",
       "3     5.0  2021-02-04 16:56:28  2021-02-04 14:41:29      10.0   \n",
       "4     4.0  2021-02-04 15:00:24  2020-10-13 03:10:07      10.0   \n",
       "\n",
       "   Questions Asked  Questions Answered  \n",
       "0              0.0                 0.0  \n",
       "1              0.0                 0.0  \n",
       "2              0.0                 0.0  \n",
       "3              0.0                 0.0  \n",
       "4              0.0                 0.0  "
      ]
     },
     "execution_count": 3,
     "metadata": {},
     "output_type": "execute_result"
    }
   ],
   "source": [
    "df.head()"
   ]
  },
  {
   "cell_type": "markdown",
   "id": "e7d76e4b",
   "metadata": {
    "papermill": {
     "duration": 0.027361,
     "end_time": "2023-11-13T13:58:46.717007",
     "exception": false,
     "start_time": "2023-11-13T13:58:46.689646",
     "status": "completed"
    },
    "tags": []
   },
   "source": [
    "<div style=\"border-radius: 10px; border: #6B8E23 solid; padding: 15px; background-color: #F5F5DC; font-size: 100%; text-align: left\">\n",
    "\n",
    "<h3 align=\"left\"><font color='#556B2F'>👀 Features : </font></h3>\n",
    "\n",
    "1. **Rating:** The score given to the course.\n",
    "2. **Timestamp:** The date when the rating was given.\n",
    "3. **Enrolled:** The date of enrollment.\n",
    "4. **Progress:** The percentage of the course that has been completed.\n",
    "5. **Questions Asked:** The number of questions asked.\n",
    "6. **Questions Answered:** The number of questions answered."
   ]
  },
  {
   "cell_type": "code",
   "execution_count": 4,
   "id": "c2434665",
   "metadata": {
    "execution": {
     "iopub.execute_input": "2023-11-13T13:58:46.775061Z",
     "iopub.status.busy": "2023-11-13T13:58:46.774289Z",
     "iopub.status.idle": "2023-11-13T13:58:46.780030Z",
     "shell.execute_reply": "2023-11-13T13:58:46.779328Z"
    },
    "papermill": {
     "duration": 0.036931,
     "end_time": "2023-11-13T13:58:46.781899",
     "exception": false,
     "start_time": "2023-11-13T13:58:46.744968",
     "status": "completed"
    },
    "tags": []
   },
   "outputs": [
    {
     "data": {
      "text/plain": [
       "(4323, 6)"
      ]
     },
     "execution_count": 4,
     "metadata": {},
     "output_type": "execute_result"
    }
   ],
   "source": [
    "df.shape # 4323 reviews."
   ]
  },
  {
   "cell_type": "code",
   "execution_count": 5,
   "id": "81fe8d12",
   "metadata": {
    "execution": {
     "iopub.execute_input": "2023-11-13T13:58:46.839926Z",
     "iopub.status.busy": "2023-11-13T13:58:46.839153Z",
     "iopub.status.idle": "2023-11-13T13:58:46.853764Z",
     "shell.execute_reply": "2023-11-13T13:58:46.853004Z"
    },
    "papermill": {
     "duration": 0.046501,
     "end_time": "2023-11-13T13:58:46.856302",
     "exception": false,
     "start_time": "2023-11-13T13:58:46.809801",
     "status": "completed"
    },
    "tags": []
   },
   "outputs": [
    {
     "data": {
      "text/plain": [
       "Rating\n",
       "5.0    3267\n",
       "4.5     475\n",
       "4.0     383\n",
       "3.5      96\n",
       "3.0      62\n",
       "1.0      15\n",
       "2.0      12\n",
       "2.5      11\n",
       "1.5       2\n",
       "Name: count, dtype: int64"
      ]
     },
     "execution_count": 5,
     "metadata": {},
     "output_type": "execute_result"
    }
   ],
   "source": [
    "df[\"Rating\"].value_counts() # rating distribution."
   ]
  },
  {
   "cell_type": "code",
   "execution_count": 6,
   "id": "8d75dd70",
   "metadata": {
    "execution": {
     "iopub.execute_input": "2023-11-13T13:58:46.915953Z",
     "iopub.status.busy": "2023-11-13T13:58:46.914866Z",
     "iopub.status.idle": "2023-11-13T13:58:46.924023Z",
     "shell.execute_reply": "2023-11-13T13:58:46.923281Z"
    },
    "papermill": {
     "duration": 0.040643,
     "end_time": "2023-11-13T13:58:46.926063",
     "exception": false,
     "start_time": "2023-11-13T13:58:46.885420",
     "status": "completed"
    },
    "tags": []
   },
   "outputs": [
    {
     "data": {
      "text/plain": [
       "Questions Asked\n",
       "0.0     3867\n",
       "1.0      276\n",
       "2.0       80\n",
       "3.0       43\n",
       "4.0       15\n",
       "5.0       13\n",
       "6.0        9\n",
       "8.0        5\n",
       "9.0        3\n",
       "14.0       2\n",
       "11.0       2\n",
       "7.0        2\n",
       "10.0       2\n",
       "15.0       2\n",
       "22.0       1\n",
       "12.0       1\n",
       "Name: count, dtype: int64"
      ]
     },
     "execution_count": 6,
     "metadata": {},
     "output_type": "execute_result"
    }
   ],
   "source": [
    "df[\"Questions Asked\"].value_counts() \n",
    "\n",
    "# the distribution of ratings based on the number of evaluations conducted"
   ]
  },
  {
   "cell_type": "code",
   "execution_count": 7,
   "id": "19f3c148",
   "metadata": {
    "execution": {
     "iopub.execute_input": "2023-11-13T13:58:46.986159Z",
     "iopub.status.busy": "2023-11-13T13:58:46.985738Z",
     "iopub.status.idle": "2023-11-13T13:58:47.006527Z",
     "shell.execute_reply": "2023-11-13T13:58:47.005690Z"
    },
    "papermill": {
     "duration": 0.053929,
     "end_time": "2023-11-13T13:58:47.008583",
     "exception": false,
     "start_time": "2023-11-13T13:58:46.954654",
     "status": "completed"
    },
    "tags": []
   },
   "outputs": [
    {
     "data": {
      "text/html": [
       "<div>\n",
       "<style scoped>\n",
       "    .dataframe tbody tr th:only-of-type {\n",
       "        vertical-align: middle;\n",
       "    }\n",
       "\n",
       "    .dataframe tbody tr th {\n",
       "        vertical-align: top;\n",
       "    }\n",
       "\n",
       "    .dataframe thead th {\n",
       "        text-align: right;\n",
       "    }\n",
       "</style>\n",
       "<table border=\"1\" class=\"dataframe\">\n",
       "  <thead>\n",
       "    <tr style=\"text-align: right;\">\n",
       "      <th></th>\n",
       "      <th>Questions Asked</th>\n",
       "      <th>Rating</th>\n",
       "    </tr>\n",
       "    <tr>\n",
       "      <th>Questions Asked</th>\n",
       "      <th></th>\n",
       "      <th></th>\n",
       "    </tr>\n",
       "  </thead>\n",
       "  <tbody>\n",
       "    <tr>\n",
       "      <th>0.0</th>\n",
       "      <td>3867</td>\n",
       "      <td>4.765193</td>\n",
       "    </tr>\n",
       "    <tr>\n",
       "      <th>1.0</th>\n",
       "      <td>276</td>\n",
       "      <td>4.740942</td>\n",
       "    </tr>\n",
       "    <tr>\n",
       "      <th>2.0</th>\n",
       "      <td>80</td>\n",
       "      <td>4.806250</td>\n",
       "    </tr>\n",
       "    <tr>\n",
       "      <th>3.0</th>\n",
       "      <td>43</td>\n",
       "      <td>4.744186</td>\n",
       "    </tr>\n",
       "    <tr>\n",
       "      <th>4.0</th>\n",
       "      <td>15</td>\n",
       "      <td>4.833333</td>\n",
       "    </tr>\n",
       "    <tr>\n",
       "      <th>5.0</th>\n",
       "      <td>13</td>\n",
       "      <td>4.653846</td>\n",
       "    </tr>\n",
       "    <tr>\n",
       "      <th>6.0</th>\n",
       "      <td>9</td>\n",
       "      <td>5.000000</td>\n",
       "    </tr>\n",
       "    <tr>\n",
       "      <th>7.0</th>\n",
       "      <td>2</td>\n",
       "      <td>4.750000</td>\n",
       "    </tr>\n",
       "    <tr>\n",
       "      <th>8.0</th>\n",
       "      <td>5</td>\n",
       "      <td>4.900000</td>\n",
       "    </tr>\n",
       "    <tr>\n",
       "      <th>9.0</th>\n",
       "      <td>3</td>\n",
       "      <td>5.000000</td>\n",
       "    </tr>\n",
       "    <tr>\n",
       "      <th>10.0</th>\n",
       "      <td>2</td>\n",
       "      <td>5.000000</td>\n",
       "    </tr>\n",
       "    <tr>\n",
       "      <th>11.0</th>\n",
       "      <td>2</td>\n",
       "      <td>5.000000</td>\n",
       "    </tr>\n",
       "    <tr>\n",
       "      <th>12.0</th>\n",
       "      <td>1</td>\n",
       "      <td>5.000000</td>\n",
       "    </tr>\n",
       "    <tr>\n",
       "      <th>14.0</th>\n",
       "      <td>2</td>\n",
       "      <td>4.500000</td>\n",
       "    </tr>\n",
       "    <tr>\n",
       "      <th>15.0</th>\n",
       "      <td>2</td>\n",
       "      <td>3.000000</td>\n",
       "    </tr>\n",
       "    <tr>\n",
       "      <th>22.0</th>\n",
       "      <td>1</td>\n",
       "      <td>5.000000</td>\n",
       "    </tr>\n",
       "  </tbody>\n",
       "</table>\n",
       "</div>"
      ],
      "text/plain": [
       "                 Questions Asked    Rating\n",
       "Questions Asked                           \n",
       "0.0                         3867  4.765193\n",
       "1.0                          276  4.740942\n",
       "2.0                           80  4.806250\n",
       "3.0                           43  4.744186\n",
       "4.0                           15  4.833333\n",
       "5.0                           13  4.653846\n",
       "6.0                            9  5.000000\n",
       "7.0                            2  4.750000\n",
       "8.0                            5  4.900000\n",
       "9.0                            3  5.000000\n",
       "10.0                           2  5.000000\n",
       "11.0                           2  5.000000\n",
       "12.0                           1  5.000000\n",
       "14.0                           2  4.500000\n",
       "15.0                           2  3.000000\n",
       "22.0                           1  5.000000"
      ]
     },
     "execution_count": 7,
     "metadata": {},
     "output_type": "execute_result"
    }
   ],
   "source": [
    "# What is the average rating based on the number of questions asked?\n",
    "\n",
    "df.groupby(\"Questions Asked\").agg({\"Questions Asked\": \"count\",\n",
    "                                   \"Rating\": \"mean\"})"
   ]
  },
  {
   "cell_type": "code",
   "execution_count": 8,
   "id": "e430e5fc",
   "metadata": {
    "execution": {
     "iopub.execute_input": "2023-11-13T13:58:47.069511Z",
     "iopub.status.busy": "2023-11-13T13:58:47.068857Z",
     "iopub.status.idle": "2023-11-13T13:58:47.078037Z",
     "shell.execute_reply": "2023-11-13T13:58:47.076880Z"
    },
    "papermill": {
     "duration": 0.041648,
     "end_time": "2023-11-13T13:58:47.080198",
     "exception": false,
     "start_time": "2023-11-13T13:58:47.038550",
     "status": "completed"
    },
    "tags": []
   },
   "outputs": [
    {
     "data": {
      "text/plain": [
       "4.764284061993986"
      ]
     },
     "execution_count": 8,
     "metadata": {},
     "output_type": "execute_result"
    }
   ],
   "source": [
    "df[\"Rating\"].mean()"
   ]
  },
  {
   "cell_type": "markdown",
   "id": "b8c1e542",
   "metadata": {
    "papermill": {
     "duration": 0.028557,
     "end_time": "2023-11-13T13:58:47.137480",
     "exception": false,
     "start_time": "2023-11-13T13:58:47.108923",
     "status": "completed"
    },
    "tags": []
   },
   "source": [
    "<div style=\"border-radius:10px; border:#65647C solid; padding: 15px; background-color: #F8EDE3; font-size:100%; text-align:left\">\n",
    "\n",
    "<h3 align=\"left\"><font color='#7D6E83'><b>🗨️ Comment: </b></font></h3>\n",
    "    \n",
    "* For calculating the average, you can use \"**mean()**.\"\n",
    "* However, it doesn't make a judgment of right or wrong. It's entirely a matter of preference.\n",
    "* We will need to disregard any biases that may arise since the same rating calculation is done for other courses as well.\n",
    "* The result in this case is a preference, an indicator, and is usable.\n",
    "* The disadvantage is that we might miss recent satisfaction trends. For example, the course may have had high satisfaction in the first 3 months since its release but entered a negative trend in the next 3 months. Therefore, other factors should also be considered.\n",
    "* Of course, this situation can also apply to the rating of a product on an e-commerce website, not just courses."
   ]
  },
  {
   "cell_type": "markdown",
   "id": "21d24250",
   "metadata": {
    "papermill": {
     "duration": 0.028473,
     "end_time": "2023-11-13T13:58:47.195067",
     "exception": false,
     "start_time": "2023-11-13T13:58:47.166594",
     "status": "completed"
    },
    "tags": []
   },
   "source": [
    "<a id = \"3\"></a><br>\n",
    "<p style=\"font-family: 'Pacifico', cursive; font-weight: bold; letter-spacing: 2px; color: #556B2F; font-size: 160%; text-align: left; padding: 0px; border-bottom: 3px solid\">✨Time-Based Weighted Average✨</p>"
   ]
  },
  {
   "cell_type": "markdown",
   "id": "37bdde04",
   "metadata": {
    "papermill": {
     "duration": 0.028326,
     "end_time": "2023-11-13T13:58:47.251892",
     "exception": false,
     "start_time": "2023-11-13T13:58:47.223566",
     "status": "completed"
    },
    "tags": []
   },
   "source": [
    "\"Time-Based Weighted Average\" refers to the average value of data in a data series calculated with different weights based on time. This method is used in situations where it is desired to assign more importance to newer or more recent data in the dataset. This is because, when operations are solely based on the average, the quality of recent events, such as shipping services, packaging services, etc., or recent customer satisfaction in an e-commerce site, might be overlooked.\n",
    "\n",
    "The calculation of the Time-Based Weighted Average is based on the age or timing of each data point when determining its weight. In other words, more recent or newer data points have higher weights, while older data points have lower weights. This helps ensure that future predictions or analyses are based on more up-to-date information.\n",
    "\n",
    "For example, a financial analyst might use Time-Based Weighted Average to predict the price movements of stocks. In this case, the stock prices of the past few days would be given more weight, while prices from earlier periods would be given less weight. This ensures that predictions are more current and relevant."
   ]
  },
  {
   "cell_type": "code",
   "execution_count": 9,
   "id": "7e6f735b",
   "metadata": {
    "execution": {
     "iopub.execute_input": "2023-11-13T13:58:47.313924Z",
     "iopub.status.busy": "2023-11-13T13:58:47.313115Z",
     "iopub.status.idle": "2023-11-13T13:58:47.326490Z",
     "shell.execute_reply": "2023-11-13T13:58:47.325534Z"
    },
    "papermill": {
     "duration": 0.045577,
     "end_time": "2023-11-13T13:58:47.328409",
     "exception": false,
     "start_time": "2023-11-13T13:58:47.282832",
     "status": "completed"
    },
    "tags": []
   },
   "outputs": [
    {
     "data": {
      "text/html": [
       "<div>\n",
       "<style scoped>\n",
       "    .dataframe tbody tr th:only-of-type {\n",
       "        vertical-align: middle;\n",
       "    }\n",
       "\n",
       "    .dataframe tbody tr th {\n",
       "        vertical-align: top;\n",
       "    }\n",
       "\n",
       "    .dataframe thead th {\n",
       "        text-align: right;\n",
       "    }\n",
       "</style>\n",
       "<table border=\"1\" class=\"dataframe\">\n",
       "  <thead>\n",
       "    <tr style=\"text-align: right;\">\n",
       "      <th></th>\n",
       "      <th>Rating</th>\n",
       "      <th>Timestamp</th>\n",
       "      <th>Enrolled</th>\n",
       "      <th>Progress</th>\n",
       "      <th>Questions Asked</th>\n",
       "      <th>Questions Answered</th>\n",
       "    </tr>\n",
       "  </thead>\n",
       "  <tbody>\n",
       "    <tr>\n",
       "      <th>0</th>\n",
       "      <td>5.0</td>\n",
       "      <td>2021-02-05 07:45:55</td>\n",
       "      <td>2021-01-25 15:12:08</td>\n",
       "      <td>5.0</td>\n",
       "      <td>0.0</td>\n",
       "      <td>0.0</td>\n",
       "    </tr>\n",
       "    <tr>\n",
       "      <th>1</th>\n",
       "      <td>5.0</td>\n",
       "      <td>2021-02-04 21:05:32</td>\n",
       "      <td>2021-02-04 20:43:40</td>\n",
       "      <td>1.0</td>\n",
       "      <td>0.0</td>\n",
       "      <td>0.0</td>\n",
       "    </tr>\n",
       "    <tr>\n",
       "      <th>2</th>\n",
       "      <td>4.5</td>\n",
       "      <td>2021-02-04 20:34:03</td>\n",
       "      <td>2019-07-04 23:23:27</td>\n",
       "      <td>1.0</td>\n",
       "      <td>0.0</td>\n",
       "      <td>0.0</td>\n",
       "    </tr>\n",
       "    <tr>\n",
       "      <th>3</th>\n",
       "      <td>5.0</td>\n",
       "      <td>2021-02-04 16:56:28</td>\n",
       "      <td>2021-02-04 14:41:29</td>\n",
       "      <td>10.0</td>\n",
       "      <td>0.0</td>\n",
       "      <td>0.0</td>\n",
       "    </tr>\n",
       "    <tr>\n",
       "      <th>4</th>\n",
       "      <td>4.0</td>\n",
       "      <td>2021-02-04 15:00:24</td>\n",
       "      <td>2020-10-13 03:10:07</td>\n",
       "      <td>10.0</td>\n",
       "      <td>0.0</td>\n",
       "      <td>0.0</td>\n",
       "    </tr>\n",
       "  </tbody>\n",
       "</table>\n",
       "</div>"
      ],
      "text/plain": [
       "   Rating            Timestamp             Enrolled  Progress  \\\n",
       "0     5.0  2021-02-05 07:45:55  2021-01-25 15:12:08       5.0   \n",
       "1     5.0  2021-02-04 21:05:32  2021-02-04 20:43:40       1.0   \n",
       "2     4.5  2021-02-04 20:34:03  2019-07-04 23:23:27       1.0   \n",
       "3     5.0  2021-02-04 16:56:28  2021-02-04 14:41:29      10.0   \n",
       "4     4.0  2021-02-04 15:00:24  2020-10-13 03:10:07      10.0   \n",
       "\n",
       "   Questions Asked  Questions Answered  \n",
       "0              0.0                 0.0  \n",
       "1              0.0                 0.0  \n",
       "2              0.0                 0.0  \n",
       "3              0.0                 0.0  \n",
       "4              0.0                 0.0  "
      ]
     },
     "execution_count": 9,
     "metadata": {},
     "output_type": "execute_result"
    }
   ],
   "source": [
    "df.head()"
   ]
  },
  {
   "cell_type": "code",
   "execution_count": 10,
   "id": "22aba7f4",
   "metadata": {
    "execution": {
     "iopub.execute_input": "2023-11-13T13:58:47.389139Z",
     "iopub.status.busy": "2023-11-13T13:58:47.388344Z",
     "iopub.status.idle": "2023-11-13T13:58:47.406400Z",
     "shell.execute_reply": "2023-11-13T13:58:47.405284Z"
    },
    "papermill": {
     "duration": 0.051123,
     "end_time": "2023-11-13T13:58:47.408810",
     "exception": false,
     "start_time": "2023-11-13T13:58:47.357687",
     "status": "completed"
    },
    "tags": []
   },
   "outputs": [
    {
     "name": "stdout",
     "output_type": "stream",
     "text": [
      "<class 'pandas.core.frame.DataFrame'>\n",
      "RangeIndex: 4323 entries, 0 to 4322\n",
      "Data columns (total 6 columns):\n",
      " #   Column              Non-Null Count  Dtype  \n",
      "---  ------              --------------  -----  \n",
      " 0   Rating              4323 non-null   float64\n",
      " 1   Timestamp           4323 non-null   object \n",
      " 2   Enrolled            4323 non-null   object \n",
      " 3   Progress            4323 non-null   float64\n",
      " 4   Questions Asked     4323 non-null   float64\n",
      " 5   Questions Answered  4323 non-null   float64\n",
      "dtypes: float64(4), object(2)\n",
      "memory usage: 202.8+ KB\n"
     ]
    }
   ],
   "source": [
    "df.info()"
   ]
  },
  {
   "cell_type": "code",
   "execution_count": 11,
   "id": "a58907e2",
   "metadata": {
    "execution": {
     "iopub.execute_input": "2023-11-13T13:58:47.470367Z",
     "iopub.status.busy": "2023-11-13T13:58:47.469923Z",
     "iopub.status.idle": "2023-11-13T13:58:47.484308Z",
     "shell.execute_reply": "2023-11-13T13:58:47.482937Z"
    },
    "papermill": {
     "duration": 0.047508,
     "end_time": "2023-11-13T13:58:47.486721",
     "exception": false,
     "start_time": "2023-11-13T13:58:47.439213",
     "status": "completed"
    },
    "tags": []
   },
   "outputs": [],
   "source": [
    "# Converting the data type from object to datetime;\n",
    "\n",
    "df[\"Timestamp\"] = pd.to_datetime(df[\"Timestamp\"]) "
   ]
  },
  {
   "cell_type": "code",
   "execution_count": 12,
   "id": "26e34fdb",
   "metadata": {
    "execution": {
     "iopub.execute_input": "2023-11-13T13:58:47.549064Z",
     "iopub.status.busy": "2023-11-13T13:58:47.548213Z",
     "iopub.status.idle": "2023-11-13T13:58:47.554579Z",
     "shell.execute_reply": "2023-11-13T13:58:47.553401Z"
    },
    "papermill": {
     "duration": 0.039827,
     "end_time": "2023-11-13T13:58:47.556665",
     "exception": false,
     "start_time": "2023-11-13T13:58:47.516838",
     "status": "completed"
    },
    "tags": []
   },
   "outputs": [],
   "source": [
    "current_date = pd.to_datetime('2021-02-10 0:0:0')\n",
    "\n",
    "# We provide a string value, convert it to the datetime type, and assign it as `current_time`."
   ]
  },
  {
   "cell_type": "code",
   "execution_count": 13,
   "id": "60fc8a65",
   "metadata": {
    "execution": {
     "iopub.execute_input": "2023-11-13T13:58:47.619103Z",
     "iopub.status.busy": "2023-11-13T13:58:47.617996Z",
     "iopub.status.idle": "2023-11-13T13:58:47.626320Z",
     "shell.execute_reply": "2023-11-13T13:58:47.625486Z"
    },
    "papermill": {
     "duration": 0.042079,
     "end_time": "2023-11-13T13:58:47.628640",
     "exception": false,
     "start_time": "2023-11-13T13:58:47.586561",
     "status": "completed"
    },
    "tags": []
   },
   "outputs": [],
   "source": [
    "df[\"days\"] = (current_date - df[\"Timestamp\"]).dt.days"
   ]
  },
  {
   "cell_type": "code",
   "execution_count": 14,
   "id": "d557146f",
   "metadata": {
    "execution": {
     "iopub.execute_input": "2023-11-13T13:58:47.691069Z",
     "iopub.status.busy": "2023-11-13T13:58:47.690197Z",
     "iopub.status.idle": "2023-11-13T13:58:47.706191Z",
     "shell.execute_reply": "2023-11-13T13:58:47.705200Z"
    },
    "papermill": {
     "duration": 0.049795,
     "end_time": "2023-11-13T13:58:47.708539",
     "exception": false,
     "start_time": "2023-11-13T13:58:47.658744",
     "status": "completed"
    },
    "tags": []
   },
   "outputs": [
    {
     "data": {
      "text/html": [
       "<div>\n",
       "<style scoped>\n",
       "    .dataframe tbody tr th:only-of-type {\n",
       "        vertical-align: middle;\n",
       "    }\n",
       "\n",
       "    .dataframe tbody tr th {\n",
       "        vertical-align: top;\n",
       "    }\n",
       "\n",
       "    .dataframe thead th {\n",
       "        text-align: right;\n",
       "    }\n",
       "</style>\n",
       "<table border=\"1\" class=\"dataframe\">\n",
       "  <thead>\n",
       "    <tr style=\"text-align: right;\">\n",
       "      <th></th>\n",
       "      <th>Rating</th>\n",
       "      <th>Timestamp</th>\n",
       "      <th>Enrolled</th>\n",
       "      <th>Progress</th>\n",
       "      <th>Questions Asked</th>\n",
       "      <th>Questions Answered</th>\n",
       "      <th>days</th>\n",
       "    </tr>\n",
       "  </thead>\n",
       "  <tbody>\n",
       "    <tr>\n",
       "      <th>0</th>\n",
       "      <td>5.0</td>\n",
       "      <td>2021-02-05 07:45:55</td>\n",
       "      <td>2021-01-25 15:12:08</td>\n",
       "      <td>5.0</td>\n",
       "      <td>0.0</td>\n",
       "      <td>0.0</td>\n",
       "      <td>4</td>\n",
       "    </tr>\n",
       "    <tr>\n",
       "      <th>1</th>\n",
       "      <td>5.0</td>\n",
       "      <td>2021-02-04 21:05:32</td>\n",
       "      <td>2021-02-04 20:43:40</td>\n",
       "      <td>1.0</td>\n",
       "      <td>0.0</td>\n",
       "      <td>0.0</td>\n",
       "      <td>5</td>\n",
       "    </tr>\n",
       "    <tr>\n",
       "      <th>2</th>\n",
       "      <td>4.5</td>\n",
       "      <td>2021-02-04 20:34:03</td>\n",
       "      <td>2019-07-04 23:23:27</td>\n",
       "      <td>1.0</td>\n",
       "      <td>0.0</td>\n",
       "      <td>0.0</td>\n",
       "      <td>5</td>\n",
       "    </tr>\n",
       "    <tr>\n",
       "      <th>3</th>\n",
       "      <td>5.0</td>\n",
       "      <td>2021-02-04 16:56:28</td>\n",
       "      <td>2021-02-04 14:41:29</td>\n",
       "      <td>10.0</td>\n",
       "      <td>0.0</td>\n",
       "      <td>0.0</td>\n",
       "      <td>5</td>\n",
       "    </tr>\n",
       "    <tr>\n",
       "      <th>4</th>\n",
       "      <td>4.0</td>\n",
       "      <td>2021-02-04 15:00:24</td>\n",
       "      <td>2020-10-13 03:10:07</td>\n",
       "      <td>10.0</td>\n",
       "      <td>0.0</td>\n",
       "      <td>0.0</td>\n",
       "      <td>5</td>\n",
       "    </tr>\n",
       "  </tbody>\n",
       "</table>\n",
       "</div>"
      ],
      "text/plain": [
       "   Rating           Timestamp             Enrolled  Progress  Questions Asked  \\\n",
       "0     5.0 2021-02-05 07:45:55  2021-01-25 15:12:08       5.0              0.0   \n",
       "1     5.0 2021-02-04 21:05:32  2021-02-04 20:43:40       1.0              0.0   \n",
       "2     4.5 2021-02-04 20:34:03  2019-07-04 23:23:27       1.0              0.0   \n",
       "3     5.0 2021-02-04 16:56:28  2021-02-04 14:41:29      10.0              0.0   \n",
       "4     4.0 2021-02-04 15:00:24  2020-10-13 03:10:07      10.0              0.0   \n",
       "\n",
       "   Questions Answered  days  \n",
       "0                 0.0     4  \n",
       "1                 0.0     5  \n",
       "2                 0.0     5  \n",
       "3                 0.0     5  \n",
       "4                 0.0     5  "
      ]
     },
     "execution_count": 14,
     "metadata": {},
     "output_type": "execute_result"
    }
   ],
   "source": [
    "df.head()"
   ]
  },
  {
   "cell_type": "code",
   "execution_count": 15,
   "id": "ac587d3d",
   "metadata": {
    "execution": {
     "iopub.execute_input": "2023-11-13T13:58:47.771403Z",
     "iopub.status.busy": "2023-11-13T13:58:47.770105Z",
     "iopub.status.idle": "2023-11-13T13:58:47.784303Z",
     "shell.execute_reply": "2023-11-13T13:58:47.783029Z"
    },
    "papermill": {
     "duration": 0.047846,
     "end_time": "2023-11-13T13:58:47.786474",
     "exception": false,
     "start_time": "2023-11-13T13:58:47.738628",
     "status": "completed"
    },
    "tags": []
   },
   "outputs": [
    {
     "data": {
      "text/plain": [
       "Rating                194\n",
       "Timestamp             194\n",
       "Enrolled              194\n",
       "Progress              194\n",
       "Questions Asked       194\n",
       "Questions Answered    194\n",
       "days                  194\n",
       "dtype: int64"
      ]
     },
     "execution_count": 15,
     "metadata": {},
     "output_type": "execute_result"
    }
   ],
   "source": [
    "df[df[\"days\"] <= 30].count()\n",
    "\n",
    "# There have been 194 comments made in the last 30 days."
   ]
  },
  {
   "cell_type": "code",
   "execution_count": 16,
   "id": "06e8ac7d",
   "metadata": {
    "execution": {
     "iopub.execute_input": "2023-11-13T13:58:47.849978Z",
     "iopub.status.busy": "2023-11-13T13:58:47.848908Z",
     "iopub.status.idle": "2023-11-13T13:58:47.857421Z",
     "shell.execute_reply": "2023-11-13T13:58:47.856375Z"
    },
    "papermill": {
     "duration": 0.042853,
     "end_time": "2023-11-13T13:58:47.859785",
     "exception": false,
     "start_time": "2023-11-13T13:58:47.816932",
     "status": "completed"
    },
    "tags": []
   },
   "outputs": [
    {
     "data": {
      "text/plain": [
       "4.775773195876289"
      ]
     },
     "execution_count": 16,
     "metadata": {},
     "output_type": "execute_result"
    }
   ],
   "source": [
    "# The average product ratings in the last 30 days in this dataset are;\n",
    "\n",
    "df.loc[df[\"days\"] <= 30, \"Rating\"].mean()"
   ]
  },
  {
   "cell_type": "code",
   "execution_count": 17,
   "id": "a05b231b",
   "metadata": {
    "execution": {
     "iopub.execute_input": "2023-11-13T13:58:47.922452Z",
     "iopub.status.busy": "2023-11-13T13:58:47.921758Z",
     "iopub.status.idle": "2023-11-13T13:58:47.931102Z",
     "shell.execute_reply": "2023-11-13T13:58:47.930296Z"
    },
    "papermill": {
     "duration": 0.043255,
     "end_time": "2023-11-13T13:58:47.933243",
     "exception": false,
     "start_time": "2023-11-13T13:58:47.889988",
     "status": "completed"
    },
    "tags": []
   },
   "outputs": [
    {
     "data": {
      "text/plain": [
       "4.763833992094861"
      ]
     },
     "execution_count": 17,
     "metadata": {},
     "output_type": "execute_result"
    }
   ],
   "source": [
    "# Product rating averages greater than 30 and less than or equal to 90 days;\n",
    "\n",
    "df.loc[(df[\"days\"] > 30) & (df[\"days\"] <= 90), \"Rating\"].mean()"
   ]
  },
  {
   "cell_type": "code",
   "execution_count": 18,
   "id": "d0053b00",
   "metadata": {
    "execution": {
     "iopub.execute_input": "2023-11-13T13:58:48.001054Z",
     "iopub.status.busy": "2023-11-13T13:58:48.000497Z",
     "iopub.status.idle": "2023-11-13T13:58:48.011006Z",
     "shell.execute_reply": "2023-11-13T13:58:48.009814Z"
    },
    "papermill": {
     "duration": 0.050118,
     "end_time": "2023-11-13T13:58:48.013864",
     "exception": false,
     "start_time": "2023-11-13T13:58:47.963746",
     "status": "completed"
    },
    "tags": []
   },
   "outputs": [
    {
     "data": {
      "text/plain": [
       "4.752503576537912"
      ]
     },
     "execution_count": 18,
     "metadata": {},
     "output_type": "execute_result"
    }
   ],
   "source": [
    "# Product rating averages greater than 90 days and less than or equal to 180 days;\n",
    "\n",
    "df.loc[(df[\"days\"] > 90) & (df[\"days\"] <= 180), \"Rating\"].mean()"
   ]
  },
  {
   "cell_type": "code",
   "execution_count": 19,
   "id": "e5a2f56d",
   "metadata": {
    "execution": {
     "iopub.execute_input": "2023-11-13T13:58:48.094677Z",
     "iopub.status.busy": "2023-11-13T13:58:48.094004Z",
     "iopub.status.idle": "2023-11-13T13:58:48.105488Z",
     "shell.execute_reply": "2023-11-13T13:58:48.104111Z"
    },
    "papermill": {
     "duration": 0.055032,
     "end_time": "2023-11-13T13:58:48.108286",
     "exception": false,
     "start_time": "2023-11-13T13:58:48.053254",
     "status": "completed"
    },
    "tags": []
   },
   "outputs": [
    {
     "data": {
      "text/plain": [
       "4.76641586867305"
      ]
     },
     "execution_count": 19,
     "metadata": {},
     "output_type": "execute_result"
    }
   ],
   "source": [
    "# If we want to look at records older than 180 days;\n",
    "\n",
    "df.loc[(df[\"days\"] > 180), \"Rating\"].mean()"
   ]
  },
  {
   "cell_type": "markdown",
   "id": "b4afaacc",
   "metadata": {
    "papermill": {
     "duration": 0.030925,
     "end_time": "2023-11-13T13:58:48.178460",
     "exception": false,
     "start_time": "2023-11-13T13:58:48.147535",
     "status": "completed"
    },
    "tags": []
   },
   "source": [
    "<div style=\"border-radius:10px; border:#65647C solid; padding: 15px; background-color: #F8EDE3; font-size:100%; text-align:left\">\n",
    "\n",
    "<h3 align=\"left\"><font color='#7D6E83'><b>🗨️ Comment: </b></font></h3>\n",
    "\n",
    "* As we can see, there has been an increase in course satisfaction in recent days.\n",
    "* We calculated averages over different time intervals, but our goal is to introduce a weighting parameter for these time intervals."
   ]
  },
  {
   "cell_type": "code",
   "execution_count": 20,
   "id": "1bbe09bb",
   "metadata": {
    "execution": {
     "iopub.execute_input": "2023-11-13T13:58:48.241617Z",
     "iopub.status.busy": "2023-11-13T13:58:48.240506Z",
     "iopub.status.idle": "2023-11-13T13:58:48.254733Z",
     "shell.execute_reply": "2023-11-13T13:58:48.253601Z"
    },
    "papermill": {
     "duration": 0.048052,
     "end_time": "2023-11-13T13:58:48.256850",
     "exception": false,
     "start_time": "2023-11-13T13:58:48.208798",
     "status": "completed"
    },
    "tags": []
   },
   "outputs": [
    {
     "data": {
      "text/plain": [
       "4.765025682267194"
      ]
     },
     "execution_count": 20,
     "metadata": {},
     "output_type": "execute_result"
    }
   ],
   "source": [
    "# Weighted average rating calculation over time;\n",
    "\n",
    "df.loc[df[\"days\"] <= 30, \"Rating\"].mean() * 28/100 + \\\n",
    "    df.loc[(df[\"days\"] > 30) & (df[\"days\"] <= 90), \"Rating\"].mean() * 26/100 + \\\n",
    "    df.loc[(df[\"days\"] > 90) & (df[\"days\"] <= 180), \"Rating\"].mean() * 24/100 + \\\n",
    "    df.loc[(df[\"days\"] > 180), \"Rating\"].mean() * 22/100"
   ]
  },
  {
   "cell_type": "code",
   "execution_count": 21,
   "id": "ac10f330",
   "metadata": {
    "execution": {
     "iopub.execute_input": "2023-11-13T13:58:48.320546Z",
     "iopub.status.busy": "2023-11-13T13:58:48.319479Z",
     "iopub.status.idle": "2023-11-13T13:58:48.329274Z",
     "shell.execute_reply": "2023-11-13T13:58:48.328156Z"
    },
    "papermill": {
     "duration": 0.04527,
     "end_time": "2023-11-13T13:58:48.332685",
     "exception": false,
     "start_time": "2023-11-13T13:58:48.287415",
     "status": "completed"
    },
    "tags": []
   },
   "outputs": [],
   "source": [
    "def time_based_weighted_average(dataframe, w1=28, w2=26, w3=24, w4=22):\n",
    "    \n",
    "    return dataframe.loc[df[\"days\"] <= 30, \"Rating\"].mean() * w1 / 100 + \\\n",
    "           dataframe.loc[(dataframe[\"days\"] > 30) & (dataframe[\"days\"] <= 90), \"Rating\"].mean() * w2 / 100 + \\\n",
    "           dataframe.loc[(dataframe[\"days\"] > 90) & (dataframe[\"days\"] <= 180), \"Rating\"].mean() * w3 / 100 + \\\n",
    "           dataframe.loc[(dataframe[\"days\"] > 180), \"Rating\"].mean() * w4 / 100"
   ]
  },
  {
   "cell_type": "code",
   "execution_count": 22,
   "id": "109af80e",
   "metadata": {
    "execution": {
     "iopub.execute_input": "2023-11-13T13:58:48.414170Z",
     "iopub.status.busy": "2023-11-13T13:58:48.413174Z",
     "iopub.status.idle": "2023-11-13T13:58:48.423914Z",
     "shell.execute_reply": "2023-11-13T13:58:48.423017Z"
    },
    "papermill": {
     "duration": 0.052562,
     "end_time": "2023-11-13T13:58:48.425818",
     "exception": false,
     "start_time": "2023-11-13T13:58:48.373256",
     "status": "completed"
    },
    "tags": []
   },
   "outputs": [
    {
     "data": {
      "text/plain": [
       "4.765025682267194"
      ]
     },
     "execution_count": 22,
     "metadata": {},
     "output_type": "execute_result"
    }
   ],
   "source": [
    "time_based_weighted_average(df)"
   ]
  },
  {
   "cell_type": "code",
   "execution_count": 23,
   "id": "56fc2528",
   "metadata": {
    "execution": {
     "iopub.execute_input": "2023-11-13T13:58:48.489965Z",
     "iopub.status.busy": "2023-11-13T13:58:48.489214Z",
     "iopub.status.idle": "2023-11-13T13:58:48.497968Z",
     "shell.execute_reply": "2023-11-13T13:58:48.497271Z"
    },
    "papermill": {
     "duration": 0.043017,
     "end_time": "2023-11-13T13:58:48.499847",
     "exception": false,
     "start_time": "2023-11-13T13:58:48.456830",
     "status": "completed"
    },
    "tags": []
   },
   "outputs": [
    {
     "data": {
      "text/plain": [
       "4.765491074653962"
      ]
     },
     "execution_count": 23,
     "metadata": {},
     "output_type": "execute_result"
    }
   ],
   "source": [
    "# We can modify the weight values;\n",
    "\n",
    "time_based_weighted_average(df, 30, 26, 22, 22)"
   ]
  },
  {
   "cell_type": "markdown",
   "id": "600b9373",
   "metadata": {
    "papermill": {
     "duration": 0.030654,
     "end_time": "2023-11-13T13:58:48.561531",
     "exception": false,
     "start_time": "2023-11-13T13:58:48.530877",
     "status": "completed"
    },
    "tags": []
   },
   "source": [
    "<div style=\"border-radius:10px; border:#65647C solid; padding: 15px; background-color: #F8EDE3; font-size:100%; text-align:left\">\n",
    "\n",
    "<h3 align=\"left\"><font color='#7D6E83'><b>🗨️ Comment: </b></font></h3>\n",
    "    \n",
    "* The sum of these weighted averages must be **100**.\n",
    "* The significance of the digits after the decimal point is substantial, as it is observed to lead to significant profits in e-commerce websites. Therefore, we should take it into account."
   ]
  },
  {
   "cell_type": "markdown",
   "id": "833d6f52",
   "metadata": {
    "papermill": {
     "duration": 0.030745,
     "end_time": "2023-11-13T13:58:48.623597",
     "exception": false,
     "start_time": "2023-11-13T13:58:48.592852",
     "status": "completed"
    },
    "tags": []
   },
   "source": [
    "<a id = \"4\"></a><br>\n",
    "<p style=\"font-family: 'Pacifico', cursive; font-weight: bold; letter-spacing: 2px; color: #556B2F; font-size: 160%; text-align: left; padding: 0px; border-bottom: 3px solid\">✨User-Based Weighted Average✨</p>"
   ]
  },
  {
   "cell_type": "markdown",
   "id": "400ba37e",
   "metadata": {
    "papermill": {
     "duration": 0.030678,
     "end_time": "2023-11-13T13:58:48.685511",
     "exception": false,
     "start_time": "2023-11-13T13:58:48.654833",
     "status": "completed"
    },
    "tags": []
   },
   "source": [
    "\"User-Based Weighted Average\" refers to a weighted average value calculated based on the preferences or characteristics of a user or individual. This type of average is used in situations where users assign different weights to various features or factors. It is commonly applied in areas such as marketing, recommendation systems, and delivering personalized content.\n",
    "\n",
    "The calculation of the User-Based Weighted Average includes weights that reflect how much importance each user places on specific features or preferences. These weights are utilized to better understand user data and provide them with more tailored services or content.\n",
    "\n",
    "For example, an online shopping platform may use User-Based Weighted Average to offer product recommendations based on users' past purchase history and preferences. By giving more weight to users' previous buying habits and preferences, personalized product suggestions can be provided, enhancing the user experience and potentially increasing sales."
   ]
  },
  {
   "cell_type": "markdown",
   "id": "5931a5f2",
   "metadata": {
    "papermill": {
     "duration": 0.032331,
     "end_time": "2023-11-13T13:58:48.753416",
     "exception": false,
     "start_time": "2023-11-13T13:58:48.721085",
     "status": "completed"
    },
    "tags": []
   },
   "source": [
    "<div style=\"border-radius:10px; border:#65647C solid; padding: 15px; background-color: #F8EDE3; font-size:100%; text-align:left\">\n",
    "\n",
    "<h3 align=\"left\"><font color='#7D6E83'><b>🗨️ Comment: </b></font></h3>\n",
    "    \n",
    "1. Different User Groups May Have Different Weights: The ratings given by users should not have the same weight. This is because some users may have only watched a small portion of the course and left a rating, so their ratings may have a different weight than those of users who have watched a larger portion and contributed. This is important to better reflect the actual contributions of users and prevent fake ratings.\n",
    "\n",
    "2. The Concept of Social Proof and Fake Ratings: Ratings from users who have made only a single purchase or given a high rating based on a small portion of the dataset may not accurately reflect the concept of \"Social Proof.\" It should be considered that such ratings may not objectively represent the quality of a product or service, and there is a possibility of fake ratings. Therefore, having different weights for different user groups is crucial to creating a more balanced and reliable rating system."
   ]
  },
  {
   "cell_type": "code",
   "execution_count": 24,
   "id": "5f4c4bbc",
   "metadata": {
    "execution": {
     "iopub.execute_input": "2023-11-13T13:58:48.819918Z",
     "iopub.status.busy": "2023-11-13T13:58:48.819460Z",
     "iopub.status.idle": "2023-11-13T13:58:48.834955Z",
     "shell.execute_reply": "2023-11-13T13:58:48.833973Z"
    },
    "papermill": {
     "duration": 0.049957,
     "end_time": "2023-11-13T13:58:48.836959",
     "exception": false,
     "start_time": "2023-11-13T13:58:48.787002",
     "status": "completed"
    },
    "tags": []
   },
   "outputs": [
    {
     "data": {
      "text/html": [
       "<div>\n",
       "<style scoped>\n",
       "    .dataframe tbody tr th:only-of-type {\n",
       "        vertical-align: middle;\n",
       "    }\n",
       "\n",
       "    .dataframe tbody tr th {\n",
       "        vertical-align: top;\n",
       "    }\n",
       "\n",
       "    .dataframe thead th {\n",
       "        text-align: right;\n",
       "    }\n",
       "</style>\n",
       "<table border=\"1\" class=\"dataframe\">\n",
       "  <thead>\n",
       "    <tr style=\"text-align: right;\">\n",
       "      <th></th>\n",
       "      <th>Rating</th>\n",
       "      <th>Timestamp</th>\n",
       "      <th>Enrolled</th>\n",
       "      <th>Progress</th>\n",
       "      <th>Questions Asked</th>\n",
       "      <th>Questions Answered</th>\n",
       "      <th>days</th>\n",
       "    </tr>\n",
       "  </thead>\n",
       "  <tbody>\n",
       "    <tr>\n",
       "      <th>0</th>\n",
       "      <td>5.0</td>\n",
       "      <td>2021-02-05 07:45:55</td>\n",
       "      <td>2021-01-25 15:12:08</td>\n",
       "      <td>5.0</td>\n",
       "      <td>0.0</td>\n",
       "      <td>0.0</td>\n",
       "      <td>4</td>\n",
       "    </tr>\n",
       "    <tr>\n",
       "      <th>1</th>\n",
       "      <td>5.0</td>\n",
       "      <td>2021-02-04 21:05:32</td>\n",
       "      <td>2021-02-04 20:43:40</td>\n",
       "      <td>1.0</td>\n",
       "      <td>0.0</td>\n",
       "      <td>0.0</td>\n",
       "      <td>5</td>\n",
       "    </tr>\n",
       "    <tr>\n",
       "      <th>2</th>\n",
       "      <td>4.5</td>\n",
       "      <td>2021-02-04 20:34:03</td>\n",
       "      <td>2019-07-04 23:23:27</td>\n",
       "      <td>1.0</td>\n",
       "      <td>0.0</td>\n",
       "      <td>0.0</td>\n",
       "      <td>5</td>\n",
       "    </tr>\n",
       "    <tr>\n",
       "      <th>3</th>\n",
       "      <td>5.0</td>\n",
       "      <td>2021-02-04 16:56:28</td>\n",
       "      <td>2021-02-04 14:41:29</td>\n",
       "      <td>10.0</td>\n",
       "      <td>0.0</td>\n",
       "      <td>0.0</td>\n",
       "      <td>5</td>\n",
       "    </tr>\n",
       "    <tr>\n",
       "      <th>4</th>\n",
       "      <td>4.0</td>\n",
       "      <td>2021-02-04 15:00:24</td>\n",
       "      <td>2020-10-13 03:10:07</td>\n",
       "      <td>10.0</td>\n",
       "      <td>0.0</td>\n",
       "      <td>0.0</td>\n",
       "      <td>5</td>\n",
       "    </tr>\n",
       "  </tbody>\n",
       "</table>\n",
       "</div>"
      ],
      "text/plain": [
       "   Rating           Timestamp             Enrolled  Progress  Questions Asked  \\\n",
       "0     5.0 2021-02-05 07:45:55  2021-01-25 15:12:08       5.0              0.0   \n",
       "1     5.0 2021-02-04 21:05:32  2021-02-04 20:43:40       1.0              0.0   \n",
       "2     4.5 2021-02-04 20:34:03  2019-07-04 23:23:27       1.0              0.0   \n",
       "3     5.0 2021-02-04 16:56:28  2021-02-04 14:41:29      10.0              0.0   \n",
       "4     4.0 2021-02-04 15:00:24  2020-10-13 03:10:07      10.0              0.0   \n",
       "\n",
       "   Questions Answered  days  \n",
       "0                 0.0     4  \n",
       "1                 0.0     5  \n",
       "2                 0.0     5  \n",
       "3                 0.0     5  \n",
       "4                 0.0     5  "
      ]
     },
     "execution_count": 24,
     "metadata": {},
     "output_type": "execute_result"
    }
   ],
   "source": [
    "df.head()"
   ]
  },
  {
   "cell_type": "code",
   "execution_count": 25,
   "id": "3e4a0ffe",
   "metadata": {
    "execution": {
     "iopub.execute_input": "2023-11-13T13:58:48.901833Z",
     "iopub.status.busy": "2023-11-13T13:58:48.900858Z",
     "iopub.status.idle": "2023-11-13T13:58:48.914906Z",
     "shell.execute_reply": "2023-11-13T13:58:48.913780Z"
    },
    "papermill": {
     "duration": 0.048854,
     "end_time": "2023-11-13T13:58:48.917184",
     "exception": false,
     "start_time": "2023-11-13T13:58:48.868330",
     "status": "completed"
    },
    "tags": []
   },
   "outputs": [
    {
     "data": {
      "text/html": [
       "<div>\n",
       "<style scoped>\n",
       "    .dataframe tbody tr th:only-of-type {\n",
       "        vertical-align: middle;\n",
       "    }\n",
       "\n",
       "    .dataframe tbody tr th {\n",
       "        vertical-align: top;\n",
       "    }\n",
       "\n",
       "    .dataframe thead th {\n",
       "        text-align: right;\n",
       "    }\n",
       "</style>\n",
       "<table border=\"1\" class=\"dataframe\">\n",
       "  <thead>\n",
       "    <tr style=\"text-align: right;\">\n",
       "      <th></th>\n",
       "      <th>Rating</th>\n",
       "    </tr>\n",
       "    <tr>\n",
       "      <th>Progress</th>\n",
       "      <th></th>\n",
       "    </tr>\n",
       "  </thead>\n",
       "  <tbody>\n",
       "    <tr>\n",
       "      <th>0.0</th>\n",
       "      <td>4.673913</td>\n",
       "    </tr>\n",
       "    <tr>\n",
       "      <th>1.0</th>\n",
       "      <td>4.642691</td>\n",
       "    </tr>\n",
       "    <tr>\n",
       "      <th>2.0</th>\n",
       "      <td>4.654762</td>\n",
       "    </tr>\n",
       "    <tr>\n",
       "      <th>3.0</th>\n",
       "      <td>4.663551</td>\n",
       "    </tr>\n",
       "    <tr>\n",
       "      <th>4.0</th>\n",
       "      <td>4.777328</td>\n",
       "    </tr>\n",
       "    <tr>\n",
       "      <th>5.0</th>\n",
       "      <td>4.698210</td>\n",
       "    </tr>\n",
       "    <tr>\n",
       "      <th>6.0</th>\n",
       "      <td>4.755102</td>\n",
       "    </tr>\n",
       "    <tr>\n",
       "      <th>7.0</th>\n",
       "      <td>4.732558</td>\n",
       "    </tr>\n",
       "    <tr>\n",
       "      <th>8.0</th>\n",
       "      <td>4.741935</td>\n",
       "    </tr>\n",
       "    <tr>\n",
       "      <th>9.0</th>\n",
       "      <td>4.831250</td>\n",
       "    </tr>\n",
       "  </tbody>\n",
       "</table>\n",
       "</div>"
      ],
      "text/plain": [
       "            Rating\n",
       "Progress          \n",
       "0.0       4.673913\n",
       "1.0       4.642691\n",
       "2.0       4.654762\n",
       "3.0       4.663551\n",
       "4.0       4.777328\n",
       "5.0       4.698210\n",
       "6.0       4.755102\n",
       "7.0       4.732558\n",
       "8.0       4.741935\n",
       "9.0       4.831250"
      ]
     },
     "execution_count": 25,
     "metadata": {},
     "output_type": "execute_result"
    }
   ],
   "source": [
    "df.groupby(\"Progress\").agg({\"Rating\": \"mean\"}).head(10)"
   ]
  },
  {
   "cell_type": "code",
   "execution_count": 26,
   "id": "d9fd4d22",
   "metadata": {
    "execution": {
     "iopub.execute_input": "2023-11-13T13:58:48.984005Z",
     "iopub.status.busy": "2023-11-13T13:58:48.982881Z",
     "iopub.status.idle": "2023-11-13T13:58:48.996820Z",
     "shell.execute_reply": "2023-11-13T13:58:48.995704Z"
    },
    "papermill": {
     "duration": 0.049962,
     "end_time": "2023-11-13T13:58:48.999154",
     "exception": false,
     "start_time": "2023-11-13T13:58:48.949192",
     "status": "completed"
    },
    "tags": []
   },
   "outputs": [
    {
     "data": {
      "text/html": [
       "<div>\n",
       "<style scoped>\n",
       "    .dataframe tbody tr th:only-of-type {\n",
       "        vertical-align: middle;\n",
       "    }\n",
       "\n",
       "    .dataframe tbody tr th {\n",
       "        vertical-align: top;\n",
       "    }\n",
       "\n",
       "    .dataframe thead th {\n",
       "        text-align: right;\n",
       "    }\n",
       "</style>\n",
       "<table border=\"1\" class=\"dataframe\">\n",
       "  <thead>\n",
       "    <tr style=\"text-align: right;\">\n",
       "      <th></th>\n",
       "      <th>Rating</th>\n",
       "    </tr>\n",
       "    <tr>\n",
       "      <th>Progress</th>\n",
       "      <th></th>\n",
       "    </tr>\n",
       "  </thead>\n",
       "  <tbody>\n",
       "    <tr>\n",
       "      <th>87.0</th>\n",
       "      <td>5.000000</td>\n",
       "    </tr>\n",
       "    <tr>\n",
       "      <th>89.0</th>\n",
       "      <td>4.794118</td>\n",
       "    </tr>\n",
       "    <tr>\n",
       "      <th>90.0</th>\n",
       "      <td>4.923077</td>\n",
       "    </tr>\n",
       "    <tr>\n",
       "      <th>91.0</th>\n",
       "      <td>5.000000</td>\n",
       "    </tr>\n",
       "    <tr>\n",
       "      <th>93.0</th>\n",
       "      <td>4.833333</td>\n",
       "    </tr>\n",
       "    <tr>\n",
       "      <th>94.0</th>\n",
       "      <td>5.000000</td>\n",
       "    </tr>\n",
       "    <tr>\n",
       "      <th>95.0</th>\n",
       "      <td>4.794118</td>\n",
       "    </tr>\n",
       "    <tr>\n",
       "      <th>97.0</th>\n",
       "      <td>5.000000</td>\n",
       "    </tr>\n",
       "    <tr>\n",
       "      <th>98.0</th>\n",
       "      <td>5.000000</td>\n",
       "    </tr>\n",
       "    <tr>\n",
       "      <th>100.0</th>\n",
       "      <td>4.866319</td>\n",
       "    </tr>\n",
       "  </tbody>\n",
       "</table>\n",
       "</div>"
      ],
      "text/plain": [
       "            Rating\n",
       "Progress          \n",
       "87.0      5.000000\n",
       "89.0      4.794118\n",
       "90.0      4.923077\n",
       "91.0      5.000000\n",
       "93.0      4.833333\n",
       "94.0      5.000000\n",
       "95.0      4.794118\n",
       "97.0      5.000000\n",
       "98.0      5.000000\n",
       "100.0     4.866319"
      ]
     },
     "execution_count": 26,
     "metadata": {},
     "output_type": "execute_result"
    }
   ],
   "source": [
    "df.groupby(\"Progress\").agg({\"Rating\": \"mean\"}).tail(10)"
   ]
  },
  {
   "cell_type": "markdown",
   "id": "b9c3b89b",
   "metadata": {
    "papermill": {
     "duration": 0.032955,
     "end_time": "2023-11-13T13:58:49.064237",
     "exception": false,
     "start_time": "2023-11-13T13:58:49.031282",
     "status": "completed"
    },
    "tags": []
   },
   "source": [
    "<div style=\"border-radius:10px; border:#65647C solid; padding: 15px; background-color: #F8EDE3; font-size:100%; text-align:left\">\n",
    "\n",
    "<h3 align=\"left\"><font color='#7D6E83'><b>🗨️ Comment: </b></font></h3>\n",
    "    \n",
    "* As the course progresses, there are increases in the ratings given.\n",
    "* We can say that there is a relationship between the progress percentage of the course and the ratings given.\n",
    "* By doing so, we can calculate the weighted ratings based on the course's progress to prevent some fraud or misleading calculations."
   ]
  },
  {
   "cell_type": "code",
   "execution_count": 27,
   "id": "18f75b77",
   "metadata": {
    "execution": {
     "iopub.execute_input": "2023-11-13T13:58:49.131920Z",
     "iopub.status.busy": "2023-11-13T13:58:49.130883Z",
     "iopub.status.idle": "2023-11-13T13:58:49.143153Z",
     "shell.execute_reply": "2023-11-13T13:58:49.142174Z"
    },
    "papermill": {
     "duration": 0.048292,
     "end_time": "2023-11-13T13:58:49.145195",
     "exception": false,
     "start_time": "2023-11-13T13:58:49.096903",
     "status": "completed"
    },
    "tags": []
   },
   "outputs": [
    {
     "data": {
      "text/plain": [
       "4.800257704672543"
      ]
     },
     "execution_count": 27,
     "metadata": {},
     "output_type": "execute_result"
    }
   ],
   "source": [
    "df.loc[df[\"Progress\"] <= 10, \"Rating\"].mean() * 22 / 100 + \\\n",
    "    df.loc[(df[\"Progress\"] > 10) & (df[\"Progress\"] <= 45), \"Rating\"].mean() * 24 / 100 + \\\n",
    "    df.loc[(df[\"Progress\"] > 45) & (df[\"Progress\"] <= 75), \"Rating\"].mean() * 26 / 100 + \\\n",
    "    df.loc[(df[\"Progress\"] > 75), \"Rating\"].mean() * 28 / 100"
   ]
  },
  {
   "cell_type": "code",
   "execution_count": 28,
   "id": "3ba2c9fc",
   "metadata": {
    "execution": {
     "iopub.execute_input": "2023-11-13T13:58:49.214191Z",
     "iopub.status.busy": "2023-11-13T13:58:49.213365Z",
     "iopub.status.idle": "2023-11-13T13:58:49.220460Z",
     "shell.execute_reply": "2023-11-13T13:58:49.219543Z"
    },
    "papermill": {
     "duration": 0.04531,
     "end_time": "2023-11-13T13:58:49.222736",
     "exception": false,
     "start_time": "2023-11-13T13:58:49.177426",
     "status": "completed"
    },
    "tags": []
   },
   "outputs": [],
   "source": [
    "def user_based_weighted_average(dataframe, w1=22, w2=24, w3=26, w4=28):\n",
    "    \n",
    "    return dataframe.loc[dataframe[\"Progress\"] <= 10, \"Rating\"].mean() * w1 / 100 + \\\n",
    "           dataframe.loc[(dataframe[\"Progress\"] > 10) & (dataframe[\"Progress\"] <= 45), \"Rating\"].mean() * w2 / 100 + \\\n",
    "           dataframe.loc[(dataframe[\"Progress\"] > 45) & (dataframe[\"Progress\"] <= 75), \"Rating\"].mean() * w3 / 100 + \\\n",
    "           dataframe.loc[(dataframe[\"Progress\"] > 75), \"Rating\"].mean() * w4 / 100"
   ]
  },
  {
   "cell_type": "code",
   "execution_count": 29,
   "id": "bcf3e605",
   "metadata": {
    "execution": {
     "iopub.execute_input": "2023-11-13T13:58:49.290370Z",
     "iopub.status.busy": "2023-11-13T13:58:49.289543Z",
     "iopub.status.idle": "2023-11-13T13:58:49.299976Z",
     "shell.execute_reply": "2023-11-13T13:58:49.298913Z"
    },
    "papermill": {
     "duration": 0.046496,
     "end_time": "2023-11-13T13:58:49.301975",
     "exception": false,
     "start_time": "2023-11-13T13:58:49.255479",
     "status": "completed"
    },
    "tags": []
   },
   "outputs": [
    {
     "data": {
      "text/plain": [
       "4.803286469062915"
      ]
     },
     "execution_count": 29,
     "metadata": {},
     "output_type": "execute_result"
    }
   ],
   "source": [
    "user_based_weighted_average(df, 20, 24, 26, 30)"
   ]
  },
  {
   "cell_type": "markdown",
   "id": "ed318e82",
   "metadata": {
    "papermill": {
     "duration": 0.031543,
     "end_time": "2023-11-13T13:58:49.365540",
     "exception": false,
     "start_time": "2023-11-13T13:58:49.333997",
     "status": "completed"
    },
    "tags": []
   },
   "source": [
    "<a id = \"5\"></a><br>\n",
    "<p style=\"font-family: 'Pacifico', cursive; font-weight: bold; letter-spacing: 2px; color: #556B2F; font-size: 160%; text-align: left; padding: 0px; border-bottom: 3px solid\">✨Weighted Rating✨</p>"
   ]
  },
  {
   "cell_type": "markdown",
   "id": "d756d2ec",
   "metadata": {
    "papermill": {
     "duration": 0.031779,
     "end_time": "2023-11-13T13:58:49.429355",
     "exception": false,
     "start_time": "2023-11-13T13:58:49.397576",
     "status": "completed"
    },
    "tags": []
   },
   "source": [
    "\"Weighted Rating\" represents an average value calculated by assigning different weights to various factors or features when determining the rating of a particular item or product. This is used to assess the quality or value of a product or item more precisely. Weights are determined based on the priority of specific factors or features.\n",
    "\n",
    "For example, on a movie review site, when calculating the overall rating of a film, different weights can be assigned to critics' ratings and user ratings. By giving a higher weight to critics' ratings, it is assumed that critics generally have a greater impact on the artistic or technical quality of the film. Conversely, by assigning a lower weight to user ratings, the evaluation of the general audience is somewhat disregarded."
   ]
  },
  {
   "cell_type": "markdown",
   "id": "c3ef45a1",
   "metadata": {
    "papermill": {
     "duration": 0.032859,
     "end_time": "2023-11-13T13:58:49.494205",
     "exception": false,
     "start_time": "2023-11-13T13:58:49.461346",
     "status": "completed"
    },
    "tags": []
   },
   "source": [
    "<div style=\"border-radius:10px; border:#65647C solid; padding: 15px; background-color: #F8EDE3; font-size:100%; text-align:left\">\n",
    "\n",
    "<h3 align=\"left\"><font color='#7D6E83'><b>🗨️ Comment: </b></font></h3>\n",
    "\n",
    "* At this stage, we will attempt to combine time-based and user-based weight calculations into a single function to achieve a more consistent result."
   ]
  },
  {
   "cell_type": "code",
   "execution_count": 30,
   "id": "2a22e791",
   "metadata": {
    "execution": {
     "iopub.execute_input": "2023-11-13T13:58:49.561405Z",
     "iopub.status.busy": "2023-11-13T13:58:49.560687Z",
     "iopub.status.idle": "2023-11-13T13:58:49.566208Z",
     "shell.execute_reply": "2023-11-13T13:58:49.565423Z"
    },
    "papermill": {
     "duration": 0.041667,
     "end_time": "2023-11-13T13:58:49.568321",
     "exception": false,
     "start_time": "2023-11-13T13:58:49.526654",
     "status": "completed"
    },
    "tags": []
   },
   "outputs": [],
   "source": [
    "def course_weighted_rating(dataframe, time_w=50, user_w=50):\n",
    "    \n",
    "    return time_based_weighted_average(dataframe) * time_w/100 + user_based_weighted_average(dataframe)*user_w/100"
   ]
  },
  {
   "cell_type": "markdown",
   "id": "08fe9678",
   "metadata": {
    "papermill": {
     "duration": 0.03205,
     "end_time": "2023-11-13T13:58:49.632823",
     "exception": false,
     "start_time": "2023-11-13T13:58:49.600773",
     "status": "completed"
    },
    "tags": []
   },
   "source": [
    "<div style=\"border-radius:10px; border:#65647C solid; padding: 15px; background-color: #F8EDE3; font-size:100%; text-align:left\">\n",
    "\n",
    "<h3 align=\"left\"><font color='#7D6E83'><b>🗨️ Comment: </b></font></h3>\n",
    "    \n",
    "* **time_w:** The weight of the rating from time.\n",
    "* **user_w:** The weight of the rating from the user."
   ]
  },
  {
   "cell_type": "code",
   "execution_count": 31,
   "id": "1b265919",
   "metadata": {
    "execution": {
     "iopub.execute_input": "2023-11-13T13:58:49.699740Z",
     "iopub.status.busy": "2023-11-13T13:58:49.699013Z",
     "iopub.status.idle": "2023-11-13T13:58:49.711198Z",
     "shell.execute_reply": "2023-11-13T13:58:49.710097Z"
    },
    "papermill": {
     "duration": 0.048056,
     "end_time": "2023-11-13T13:58:49.713387",
     "exception": false,
     "start_time": "2023-11-13T13:58:49.665331",
     "status": "completed"
    },
    "tags": []
   },
   "outputs": [
    {
     "data": {
      "text/plain": [
       "4.782641693469868"
      ]
     },
     "execution_count": 31,
     "metadata": {},
     "output_type": "execute_result"
    }
   ],
   "source": [
    "course_weighted_rating(df)"
   ]
  },
  {
   "cell_type": "code",
   "execution_count": 32,
   "id": "3388a696",
   "metadata": {
    "execution": {
     "iopub.execute_input": "2023-11-13T13:58:49.780458Z",
     "iopub.status.busy": "2023-11-13T13:58:49.779726Z",
     "iopub.status.idle": "2023-11-13T13:58:49.792324Z",
     "shell.execute_reply": "2023-11-13T13:58:49.791310Z"
    },
    "papermill": {
     "duration": 0.048479,
     "end_time": "2023-11-13T13:58:49.794356",
     "exception": false,
     "start_time": "2023-11-13T13:58:49.745877",
     "status": "completed"
    },
    "tags": []
   },
   "outputs": [
    {
     "data": {
      "text/plain": [
       "4.786164895710403"
      ]
     },
     "execution_count": 32,
     "metadata": {},
     "output_type": "execute_result"
    }
   ],
   "source": [
    "course_weighted_rating(df, time_w=40, user_w=60)"
   ]
  },
  {
   "cell_type": "markdown",
   "id": "449534bd",
   "metadata": {
    "papermill": {
     "duration": 0.032046,
     "end_time": "2023-11-13T13:58:49.858955",
     "exception": false,
     "start_time": "2023-11-13T13:58:49.826909",
     "status": "completed"
    },
    "tags": []
   },
   "source": [
    "<a id=\"6\"></a>\n",
    "<h1 style=\"border-radius: 10px; border: 2px solid #6B8E23; background-color: #F5F5DC; font-family: 'Pacifico', cursive; font-size: 200%; text-align: center; border-radius: 15px 50px; padding: 15px; box-shadow: 5px 5px 5px #556B2F; color: #556B2F;\">🤩 Sorting Products 🤩</h1>"
   ]
  },
  {
   "cell_type": "markdown",
   "id": "952c996f",
   "metadata": {
    "papermill": {
     "duration": 0.03329,
     "end_time": "2023-11-13T13:58:49.924977",
     "exception": false,
     "start_time": "2023-11-13T13:58:49.891687",
     "status": "completed"
    },
    "tags": []
   },
   "source": [
    "\"Sorting Products\" is a process on an online shopping platform or e-commerce website where products are arranged based on specific criteria chosen by users. Users typically want to sort products during online shopping based on factors such as price, size, color, brand, popularity, or other features.\n",
    "\n",
    "For example, on a clothing website, a user can quickly find products within their budget by selecting the \"low to high price\" sorting option. This allows users to easily choose and compare the products or categories they are interested in."
   ]
  },
  {
   "cell_type": "markdown",
   "id": "b83554a4",
   "metadata": {
    "papermill": {
     "duration": 0.032542,
     "end_time": "2023-11-13T13:58:49.990740",
     "exception": false,
     "start_time": "2023-11-13T13:58:49.958198",
     "status": "completed"
    },
    "tags": []
   },
   "source": [
    "<a id = \"7\"></a><br>\n",
    "<p style=\"font-family: 'Pacifico', cursive; font-weight: bold; letter-spacing: 2px; color: #556B2F; font-size: 160%; text-align: left; padding: 0px; border-bottom: 3px solid\">✨Sorting by Rating✨</p>"
   ]
  },
  {
   "cell_type": "code",
   "execution_count": 33,
   "id": "5d3ebec5",
   "metadata": {
    "execution": {
     "iopub.execute_input": "2023-11-13T13:58:50.058766Z",
     "iopub.status.busy": "2023-11-13T13:58:50.058032Z",
     "iopub.status.idle": "2023-11-13T13:58:50.063196Z",
     "shell.execute_reply": "2023-11-13T13:58:50.062471Z"
    },
    "papermill": {
     "duration": 0.04213,
     "end_time": "2023-11-13T13:58:50.065255",
     "exception": false,
     "start_time": "2023-11-13T13:58:50.023125",
     "status": "completed"
    },
    "tags": []
   },
   "outputs": [],
   "source": [
    "import pandas as pd\n",
    "import math\n",
    "import scipy.stats as st\n",
    "from sklearn.preprocessing import MinMaxScaler\n",
    "\n",
    "# pd.set_option('display.max_columns', None)\n",
    "# pd.set_option('display.max_rows', None)\n",
    "# pd.set_option('display.expand_frame_repr', False)\n",
    "# pd.set_option('display.float_format', lambda x: '%.5f' % x)"
   ]
  },
  {
   "cell_type": "code",
   "execution_count": 34,
   "id": "2c0d6497",
   "metadata": {
    "execution": {
     "iopub.execute_input": "2023-11-13T13:58:50.132270Z",
     "iopub.status.busy": "2023-11-13T13:58:50.131557Z",
     "iopub.status.idle": "2023-11-13T13:58:50.143570Z",
     "shell.execute_reply": "2023-11-13T13:58:50.142566Z"
    },
    "papermill": {
     "duration": 0.048334,
     "end_time": "2023-11-13T13:58:50.145926",
     "exception": false,
     "start_time": "2023-11-13T13:58:50.097592",
     "status": "completed"
    },
    "tags": []
   },
   "outputs": [],
   "source": [
    "df = pd.read_csv(\"/kaggle/input/product-sortingdataset/product_sorting.csv\")"
   ]
  },
  {
   "cell_type": "code",
   "execution_count": 35,
   "id": "1759a257",
   "metadata": {
    "execution": {
     "iopub.execute_input": "2023-11-13T13:58:50.219071Z",
     "iopub.status.busy": "2023-11-13T13:58:50.218448Z",
     "iopub.status.idle": "2023-11-13T13:58:50.237275Z",
     "shell.execute_reply": "2023-11-13T13:58:50.236162Z"
    },
    "papermill": {
     "duration": 0.059379,
     "end_time": "2023-11-13T13:58:50.239508",
     "exception": false,
     "start_time": "2023-11-13T13:58:50.180129",
     "status": "completed"
    },
    "tags": []
   },
   "outputs": [
    {
     "data": {
      "text/html": [
       "<div>\n",
       "<style scoped>\n",
       "    .dataframe tbody tr th:only-of-type {\n",
       "        vertical-align: middle;\n",
       "    }\n",
       "\n",
       "    .dataframe tbody tr th {\n",
       "        vertical-align: top;\n",
       "    }\n",
       "\n",
       "    .dataframe thead th {\n",
       "        text-align: right;\n",
       "    }\n",
       "</style>\n",
       "<table border=\"1\" class=\"dataframe\">\n",
       "  <thead>\n",
       "    <tr style=\"text-align: right;\">\n",
       "      <th></th>\n",
       "      <th>course_name</th>\n",
       "      <th>instructor_name</th>\n",
       "      <th>purchase_count</th>\n",
       "      <th>rating</th>\n",
       "      <th>commment_count</th>\n",
       "      <th>5_point</th>\n",
       "      <th>4_point</th>\n",
       "      <th>3_point</th>\n",
       "      <th>2_point</th>\n",
       "      <th>1_point</th>\n",
       "    </tr>\n",
       "  </thead>\n",
       "  <tbody>\n",
       "    <tr>\n",
       "      <th>0</th>\n",
       "      <td>(50+ Saat) Python A-Z™: Veri Bilimi ve Machine...</td>\n",
       "      <td>Veri Bilimi Okulu</td>\n",
       "      <td>17380</td>\n",
       "      <td>4.8</td>\n",
       "      <td>4621</td>\n",
       "      <td>3466</td>\n",
       "      <td>924</td>\n",
       "      <td>185</td>\n",
       "      <td>46</td>\n",
       "      <td>6</td>\n",
       "    </tr>\n",
       "    <tr>\n",
       "      <th>1</th>\n",
       "      <td>Python: Yapay Zeka ve Veri Bilimi için Python ...</td>\n",
       "      <td>Veri Bilimi Okulu</td>\n",
       "      <td>48291</td>\n",
       "      <td>4.6</td>\n",
       "      <td>4488</td>\n",
       "      <td>2962</td>\n",
       "      <td>1122</td>\n",
       "      <td>314</td>\n",
       "      <td>45</td>\n",
       "      <td>45</td>\n",
       "    </tr>\n",
       "    <tr>\n",
       "      <th>2</th>\n",
       "      <td>5 Saatte Veri Bilimci Olun (Valla Billa)</td>\n",
       "      <td>Instructor_1</td>\n",
       "      <td>18693</td>\n",
       "      <td>4.4</td>\n",
       "      <td>2362</td>\n",
       "      <td>1582</td>\n",
       "      <td>567</td>\n",
       "      <td>165</td>\n",
       "      <td>24</td>\n",
       "      <td>24</td>\n",
       "    </tr>\n",
       "    <tr>\n",
       "      <th>3</th>\n",
       "      <td>R ile Veri Bilimi ve Machine Learning (35 Saat)</td>\n",
       "      <td>Veri Bilimi Okulu</td>\n",
       "      <td>6626</td>\n",
       "      <td>4.6</td>\n",
       "      <td>1027</td>\n",
       "      <td>688</td>\n",
       "      <td>257</td>\n",
       "      <td>51</td>\n",
       "      <td>10</td>\n",
       "      <td>21</td>\n",
       "    </tr>\n",
       "    <tr>\n",
       "      <th>4</th>\n",
       "      <td>(2020) Python ile Makine Öğrenmesi (Machine Le...</td>\n",
       "      <td>Veri Bilimi Okulu</td>\n",
       "      <td>11314</td>\n",
       "      <td>4.6</td>\n",
       "      <td>969</td>\n",
       "      <td>717</td>\n",
       "      <td>194</td>\n",
       "      <td>38</td>\n",
       "      <td>10</td>\n",
       "      <td>10</td>\n",
       "    </tr>\n",
       "  </tbody>\n",
       "</table>\n",
       "</div>"
      ],
      "text/plain": [
       "                                         course_name    instructor_name  \\\n",
       "0  (50+ Saat) Python A-Z™: Veri Bilimi ve Machine...  Veri Bilimi Okulu   \n",
       "1  Python: Yapay Zeka ve Veri Bilimi için Python ...  Veri Bilimi Okulu   \n",
       "2           5 Saatte Veri Bilimci Olun (Valla Billa)       Instructor_1   \n",
       "3    R ile Veri Bilimi ve Machine Learning (35 Saat)  Veri Bilimi Okulu   \n",
       "4  (2020) Python ile Makine Öğrenmesi (Machine Le...  Veri Bilimi Okulu   \n",
       "\n",
       "   purchase_count  rating  commment_count  5_point  4_point  3_point  2_point  \\\n",
       "0           17380     4.8            4621     3466      924      185       46   \n",
       "1           48291     4.6            4488     2962     1122      314       45   \n",
       "2           18693     4.4            2362     1582      567      165       24   \n",
       "3            6626     4.6            1027      688      257       51       10   \n",
       "4           11314     4.6             969      717      194       38       10   \n",
       "\n",
       "   1_point  \n",
       "0        6  \n",
       "1       45  \n",
       "2       24  \n",
       "3       21  \n",
       "4       10  "
      ]
     },
     "execution_count": 35,
     "metadata": {},
     "output_type": "execute_result"
    }
   ],
   "source": [
    "df.head()"
   ]
  },
  {
   "cell_type": "code",
   "execution_count": 36,
   "id": "012248dd",
   "metadata": {
    "execution": {
     "iopub.execute_input": "2023-11-13T13:58:50.325093Z",
     "iopub.status.busy": "2023-11-13T13:58:50.324073Z",
     "iopub.status.idle": "2023-11-13T13:58:50.331653Z",
     "shell.execute_reply": "2023-11-13T13:58:50.330640Z"
    },
    "papermill": {
     "duration": 0.055049,
     "end_time": "2023-11-13T13:58:50.333721",
     "exception": false,
     "start_time": "2023-11-13T13:58:50.278672",
     "status": "completed"
    },
    "tags": []
   },
   "outputs": [
    {
     "data": {
      "text/plain": [
       "(32, 10)"
      ]
     },
     "execution_count": 36,
     "metadata": {},
     "output_type": "execute_result"
    }
   ],
   "source": [
    "df.shape"
   ]
  },
  {
   "cell_type": "markdown",
   "id": "46a4cf89",
   "metadata": {
    "papermill": {
     "duration": 0.034006,
     "end_time": "2023-11-13T13:58:50.401835",
     "exception": false,
     "start_time": "2023-11-13T13:58:50.367829",
     "status": "completed"
    },
    "tags": []
   },
   "source": [
    "<div style=\"border-radius: 10px; border: #6B8E23 solid; padding: 15px; background-color: #F5F5DC; font-size: 100%; text-align: left\">\n",
    "\n",
    "<h3 align=\"left\"><font color='#556B2F'>👀 Features : </font></h3>\n",
    "\n",
    "- **course_name:** Courses that do not belong to the \"Veri Bilimi Okulu\" instructor are listed as \"Course_1, Course_2...\".\n",
    "- **instructor_name:** The name of only the \"Veri Bilimi Okulu\" instructor is explicitly mentioned, while others are named as \"Instructor_1, Instructor_2...\".\n",
    "- **purchase_count:** The number of purchases for the course.\n",
    "- **rating:** The average rating of the course.\n",
    "- **comment_count:** The number of comments or reviews received by the course.\n",
    "- **5_point, 4_point, 3_point, 2_point, 1_point:** The distribution of comments' ratings."
   ]
  },
  {
   "cell_type": "code",
   "execution_count": 37,
   "id": "0a329d2c",
   "metadata": {
    "execution": {
     "iopub.execute_input": "2023-11-13T13:58:50.481117Z",
     "iopub.status.busy": "2023-11-13T13:58:50.480208Z",
     "iopub.status.idle": "2023-11-13T13:58:50.497635Z",
     "shell.execute_reply": "2023-11-13T13:58:50.496660Z"
    },
    "papermill": {
     "duration": 0.057703,
     "end_time": "2023-11-13T13:58:50.500671",
     "exception": false,
     "start_time": "2023-11-13T13:58:50.442968",
     "status": "completed"
    },
    "tags": []
   },
   "outputs": [
    {
     "data": {
      "text/html": [
       "<div>\n",
       "<style scoped>\n",
       "    .dataframe tbody tr th:only-of-type {\n",
       "        vertical-align: middle;\n",
       "    }\n",
       "\n",
       "    .dataframe tbody tr th {\n",
       "        vertical-align: top;\n",
       "    }\n",
       "\n",
       "    .dataframe thead th {\n",
       "        text-align: right;\n",
       "    }\n",
       "</style>\n",
       "<table border=\"1\" class=\"dataframe\">\n",
       "  <thead>\n",
       "    <tr style=\"text-align: right;\">\n",
       "      <th></th>\n",
       "      <th>course_name</th>\n",
       "      <th>instructor_name</th>\n",
       "      <th>purchase_count</th>\n",
       "      <th>rating</th>\n",
       "      <th>commment_count</th>\n",
       "      <th>5_point</th>\n",
       "      <th>4_point</th>\n",
       "      <th>3_point</th>\n",
       "      <th>2_point</th>\n",
       "      <th>1_point</th>\n",
       "    </tr>\n",
       "  </thead>\n",
       "  <tbody>\n",
       "    <tr>\n",
       "      <th>0</th>\n",
       "      <td>(50+ Saat) Python A-Z™: Veri Bilimi ve Machine...</td>\n",
       "      <td>Veri Bilimi Okulu</td>\n",
       "      <td>17380</td>\n",
       "      <td>4.8</td>\n",
       "      <td>4621</td>\n",
       "      <td>3466</td>\n",
       "      <td>924</td>\n",
       "      <td>185</td>\n",
       "      <td>46</td>\n",
       "      <td>6</td>\n",
       "    </tr>\n",
       "    <tr>\n",
       "      <th>10</th>\n",
       "      <td>İleri Düzey Excel|Dashboard|Excel İp Uçları</td>\n",
       "      <td>Veri Bilimi Okulu</td>\n",
       "      <td>9554</td>\n",
       "      <td>4.8</td>\n",
       "      <td>2266</td>\n",
       "      <td>1654</td>\n",
       "      <td>499</td>\n",
       "      <td>91</td>\n",
       "      <td>22</td>\n",
       "      <td>0</td>\n",
       "    </tr>\n",
       "    <tr>\n",
       "      <th>19</th>\n",
       "      <td>Alıştırmalarla SQL Öğreniyorum</td>\n",
       "      <td>Veri Bilimi Okulu</td>\n",
       "      <td>3155</td>\n",
       "      <td>4.8</td>\n",
       "      <td>235</td>\n",
       "      <td>200</td>\n",
       "      <td>31</td>\n",
       "      <td>4</td>\n",
       "      <td>0</td>\n",
       "      <td>0</td>\n",
       "    </tr>\n",
       "    <tr>\n",
       "      <th>5</th>\n",
       "      <td>Course_1</td>\n",
       "      <td>Instructor_2</td>\n",
       "      <td>4601</td>\n",
       "      <td>4.8</td>\n",
       "      <td>213</td>\n",
       "      <td>164</td>\n",
       "      <td>45</td>\n",
       "      <td>4</td>\n",
       "      <td>0</td>\n",
       "      <td>0</td>\n",
       "    </tr>\n",
       "    <tr>\n",
       "      <th>6</th>\n",
       "      <td>Course_2</td>\n",
       "      <td>Instructor_3</td>\n",
       "      <td>3171</td>\n",
       "      <td>4.7</td>\n",
       "      <td>856</td>\n",
       "      <td>582</td>\n",
       "      <td>205</td>\n",
       "      <td>51</td>\n",
       "      <td>9</td>\n",
       "      <td>9</td>\n",
       "    </tr>\n",
       "    <tr>\n",
       "      <th>14</th>\n",
       "      <td>Uçtan Uca SQL Server Eğitimi</td>\n",
       "      <td>Veri Bilimi Okulu</td>\n",
       "      <td>12893</td>\n",
       "      <td>4.7</td>\n",
       "      <td>2425</td>\n",
       "      <td>1722</td>\n",
       "      <td>510</td>\n",
       "      <td>145</td>\n",
       "      <td>24</td>\n",
       "      <td>24</td>\n",
       "    </tr>\n",
       "    <tr>\n",
       "      <th>8</th>\n",
       "      <td>A'dan Z'ye Apache Spark (Scala &amp; Python)</td>\n",
       "      <td>Veri Bilimi Okulu</td>\n",
       "      <td>6920</td>\n",
       "      <td>4.7</td>\n",
       "      <td>214</td>\n",
       "      <td>154</td>\n",
       "      <td>41</td>\n",
       "      <td>13</td>\n",
       "      <td>2</td>\n",
       "      <td>4</td>\n",
       "    </tr>\n",
       "    <tr>\n",
       "      <th>13</th>\n",
       "      <td>Course_5</td>\n",
       "      <td>Instructor_6</td>\n",
       "      <td>6056</td>\n",
       "      <td>4.7</td>\n",
       "      <td>144</td>\n",
       "      <td>82</td>\n",
       "      <td>46</td>\n",
       "      <td>12</td>\n",
       "      <td>1</td>\n",
       "      <td>3</td>\n",
       "    </tr>\n",
       "    <tr>\n",
       "      <th>27</th>\n",
       "      <td>Course_15</td>\n",
       "      <td>Instructor_1</td>\n",
       "      <td>1164</td>\n",
       "      <td>4.6</td>\n",
       "      <td>98</td>\n",
       "      <td>65</td>\n",
       "      <td>24</td>\n",
       "      <td>6</td>\n",
       "      <td>0</td>\n",
       "      <td>3</td>\n",
       "    </tr>\n",
       "    <tr>\n",
       "      <th>1</th>\n",
       "      <td>Python: Yapay Zeka ve Veri Bilimi için Python ...</td>\n",
       "      <td>Veri Bilimi Okulu</td>\n",
       "      <td>48291</td>\n",
       "      <td>4.6</td>\n",
       "      <td>4488</td>\n",
       "      <td>2962</td>\n",
       "      <td>1122</td>\n",
       "      <td>314</td>\n",
       "      <td>45</td>\n",
       "      <td>45</td>\n",
       "    </tr>\n",
       "  </tbody>\n",
       "</table>\n",
       "</div>"
      ],
      "text/plain": [
       "                                          course_name    instructor_name  \\\n",
       "0   (50+ Saat) Python A-Z™: Veri Bilimi ve Machine...  Veri Bilimi Okulu   \n",
       "10        İleri Düzey Excel|Dashboard|Excel İp Uçları  Veri Bilimi Okulu   \n",
       "19                     Alıştırmalarla SQL Öğreniyorum  Veri Bilimi Okulu   \n",
       "5                                            Course_1       Instructor_2   \n",
       "6                                            Course_2       Instructor_3   \n",
       "14                       Uçtan Uca SQL Server Eğitimi  Veri Bilimi Okulu   \n",
       "8            A'dan Z'ye Apache Spark (Scala & Python)  Veri Bilimi Okulu   \n",
       "13                                           Course_5       Instructor_6   \n",
       "27                                          Course_15       Instructor_1   \n",
       "1   Python: Yapay Zeka ve Veri Bilimi için Python ...  Veri Bilimi Okulu   \n",
       "\n",
       "    purchase_count  rating  commment_count  5_point  4_point  3_point  \\\n",
       "0            17380     4.8            4621     3466      924      185   \n",
       "10            9554     4.8            2266     1654      499       91   \n",
       "19            3155     4.8             235      200       31        4   \n",
       "5             4601     4.8             213      164       45        4   \n",
       "6             3171     4.7             856      582      205       51   \n",
       "14           12893     4.7            2425     1722      510      145   \n",
       "8             6920     4.7             214      154       41       13   \n",
       "13            6056     4.7             144       82       46       12   \n",
       "27            1164     4.6              98       65       24        6   \n",
       "1            48291     4.6            4488     2962     1122      314   \n",
       "\n",
       "    2_point  1_point  \n",
       "0        46        6  \n",
       "10       22        0  \n",
       "19        0        0  \n",
       "5         0        0  \n",
       "6         9        9  \n",
       "14       24       24  \n",
       "8         2        4  \n",
       "13        1        3  \n",
       "27        0        3  \n",
       "1        45       45  "
      ]
     },
     "execution_count": 37,
     "metadata": {},
     "output_type": "execute_result"
    }
   ],
   "source": [
    "df.sort_values(\"rating\", ascending=False).head(10)"
   ]
  },
  {
   "cell_type": "markdown",
   "id": "d803e0fa",
   "metadata": {
    "papermill": {
     "duration": 0.03478,
     "end_time": "2023-11-13T13:58:50.589240",
     "exception": false,
     "start_time": "2023-11-13T13:58:50.554460",
     "status": "completed"
    },
    "tags": []
   },
   "source": [
    "<div style=\"border-radius:10px; border:#65647C solid; padding: 15px; background-color: #F8EDE3; font-size:100%; text-align:left\">\n",
    "\n",
    "<h3 align=\"left\"><font color='#7D6E83'><b>🗨️ Comment: </b></font></h3>\n",
    "    \n",
    "* **\"Course_1\"** has a significantly low number of comments in relation to the purchase count.\n",
    "* **\"purchase_count\"** and **\"comment_count\"** are the most influential factors for social proof."
   ]
  },
  {
   "cell_type": "markdown",
   "id": "dfe8dba0",
   "metadata": {
    "papermill": {
     "duration": 0.035213,
     "end_time": "2023-11-13T13:58:50.662350",
     "exception": false,
     "start_time": "2023-11-13T13:58:50.627137",
     "status": "completed"
    },
    "tags": []
   },
   "source": [
    "<a id = \"8\"></a><br>\n",
    "<p style=\"font-family: 'Pacifico', cursive; font-weight: bold; letter-spacing: 2px; color: #556B2F; font-size: 160%; text-align: left; padding: 0px; border-bottom: 3px solid\">✨Sorting by Comment Count or Purchase Count✨</p>"
   ]
  },
  {
   "cell_type": "code",
   "execution_count": 38,
   "id": "f111bc9f",
   "metadata": {
    "execution": {
     "iopub.execute_input": "2023-11-13T13:58:50.740481Z",
     "iopub.status.busy": "2023-11-13T13:58:50.739466Z",
     "iopub.status.idle": "2023-11-13T13:58:50.758427Z",
     "shell.execute_reply": "2023-11-13T13:58:50.757324Z"
    },
    "papermill": {
     "duration": 0.057477,
     "end_time": "2023-11-13T13:58:50.760660",
     "exception": false,
     "start_time": "2023-11-13T13:58:50.703183",
     "status": "completed"
    },
    "tags": []
   },
   "outputs": [
    {
     "data": {
      "text/html": [
       "<div>\n",
       "<style scoped>\n",
       "    .dataframe tbody tr th:only-of-type {\n",
       "        vertical-align: middle;\n",
       "    }\n",
       "\n",
       "    .dataframe tbody tr th {\n",
       "        vertical-align: top;\n",
       "    }\n",
       "\n",
       "    .dataframe thead th {\n",
       "        text-align: right;\n",
       "    }\n",
       "</style>\n",
       "<table border=\"1\" class=\"dataframe\">\n",
       "  <thead>\n",
       "    <tr style=\"text-align: right;\">\n",
       "      <th></th>\n",
       "      <th>course_name</th>\n",
       "      <th>instructor_name</th>\n",
       "      <th>purchase_count</th>\n",
       "      <th>rating</th>\n",
       "      <th>commment_count</th>\n",
       "      <th>5_point</th>\n",
       "      <th>4_point</th>\n",
       "      <th>3_point</th>\n",
       "      <th>2_point</th>\n",
       "      <th>1_point</th>\n",
       "    </tr>\n",
       "  </thead>\n",
       "  <tbody>\n",
       "    <tr>\n",
       "      <th>1</th>\n",
       "      <td>Python: Yapay Zeka ve Veri Bilimi için Python ...</td>\n",
       "      <td>Veri Bilimi Okulu</td>\n",
       "      <td>48291</td>\n",
       "      <td>4.6</td>\n",
       "      <td>4488</td>\n",
       "      <td>2962</td>\n",
       "      <td>1122</td>\n",
       "      <td>314</td>\n",
       "      <td>45</td>\n",
       "      <td>45</td>\n",
       "    </tr>\n",
       "    <tr>\n",
       "      <th>11</th>\n",
       "      <td>Course_3</td>\n",
       "      <td>Instructor_4</td>\n",
       "      <td>24809</td>\n",
       "      <td>4.3</td>\n",
       "      <td>250</td>\n",
       "      <td>95</td>\n",
       "      <td>87</td>\n",
       "      <td>51</td>\n",
       "      <td>12</td>\n",
       "      <td>5</td>\n",
       "    </tr>\n",
       "    <tr>\n",
       "      <th>2</th>\n",
       "      <td>5 Saatte Veri Bilimci Olun (Valla Billa)</td>\n",
       "      <td>Instructor_1</td>\n",
       "      <td>18693</td>\n",
       "      <td>4.4</td>\n",
       "      <td>2362</td>\n",
       "      <td>1582</td>\n",
       "      <td>567</td>\n",
       "      <td>165</td>\n",
       "      <td>24</td>\n",
       "      <td>24</td>\n",
       "    </tr>\n",
       "    <tr>\n",
       "      <th>0</th>\n",
       "      <td>(50+ Saat) Python A-Z™: Veri Bilimi ve Machine...</td>\n",
       "      <td>Veri Bilimi Okulu</td>\n",
       "      <td>17380</td>\n",
       "      <td>4.8</td>\n",
       "      <td>4621</td>\n",
       "      <td>3466</td>\n",
       "      <td>924</td>\n",
       "      <td>185</td>\n",
       "      <td>46</td>\n",
       "      <td>6</td>\n",
       "    </tr>\n",
       "    <tr>\n",
       "      <th>20</th>\n",
       "      <td>Course_9</td>\n",
       "      <td>Instructor_3</td>\n",
       "      <td>12946</td>\n",
       "      <td>4.5</td>\n",
       "      <td>3371</td>\n",
       "      <td>2191</td>\n",
       "      <td>877</td>\n",
       "      <td>203</td>\n",
       "      <td>33</td>\n",
       "      <td>67</td>\n",
       "    </tr>\n",
       "    <tr>\n",
       "      <th>14</th>\n",
       "      <td>Uçtan Uca SQL Server Eğitimi</td>\n",
       "      <td>Veri Bilimi Okulu</td>\n",
       "      <td>12893</td>\n",
       "      <td>4.7</td>\n",
       "      <td>2425</td>\n",
       "      <td>1722</td>\n",
       "      <td>510</td>\n",
       "      <td>145</td>\n",
       "      <td>24</td>\n",
       "      <td>24</td>\n",
       "    </tr>\n",
       "    <tr>\n",
       "      <th>15</th>\n",
       "      <td>Uygulamalarla SQL Öğreniyorum</td>\n",
       "      <td>Veri Bilimi Okulu</td>\n",
       "      <td>11397</td>\n",
       "      <td>4.5</td>\n",
       "      <td>2353</td>\n",
       "      <td>1435</td>\n",
       "      <td>705</td>\n",
       "      <td>165</td>\n",
       "      <td>24</td>\n",
       "      <td>24</td>\n",
       "    </tr>\n",
       "    <tr>\n",
       "      <th>4</th>\n",
       "      <td>(2020) Python ile Makine Öğrenmesi (Machine Le...</td>\n",
       "      <td>Veri Bilimi Okulu</td>\n",
       "      <td>11314</td>\n",
       "      <td>4.6</td>\n",
       "      <td>969</td>\n",
       "      <td>717</td>\n",
       "      <td>194</td>\n",
       "      <td>38</td>\n",
       "      <td>10</td>\n",
       "      <td>10</td>\n",
       "    </tr>\n",
       "    <tr>\n",
       "      <th>10</th>\n",
       "      <td>İleri Düzey Excel|Dashboard|Excel İp Uçları</td>\n",
       "      <td>Veri Bilimi Okulu</td>\n",
       "      <td>9554</td>\n",
       "      <td>4.8</td>\n",
       "      <td>2266</td>\n",
       "      <td>1654</td>\n",
       "      <td>499</td>\n",
       "      <td>91</td>\n",
       "      <td>22</td>\n",
       "      <td>0</td>\n",
       "    </tr>\n",
       "    <tr>\n",
       "      <th>8</th>\n",
       "      <td>A'dan Z'ye Apache Spark (Scala &amp; Python)</td>\n",
       "      <td>Veri Bilimi Okulu</td>\n",
       "      <td>6920</td>\n",
       "      <td>4.7</td>\n",
       "      <td>214</td>\n",
       "      <td>154</td>\n",
       "      <td>41</td>\n",
       "      <td>13</td>\n",
       "      <td>2</td>\n",
       "      <td>4</td>\n",
       "    </tr>\n",
       "  </tbody>\n",
       "</table>\n",
       "</div>"
      ],
      "text/plain": [
       "                                          course_name    instructor_name  \\\n",
       "1   Python: Yapay Zeka ve Veri Bilimi için Python ...  Veri Bilimi Okulu   \n",
       "11                                           Course_3       Instructor_4   \n",
       "2            5 Saatte Veri Bilimci Olun (Valla Billa)       Instructor_1   \n",
       "0   (50+ Saat) Python A-Z™: Veri Bilimi ve Machine...  Veri Bilimi Okulu   \n",
       "20                                           Course_9       Instructor_3   \n",
       "14                       Uçtan Uca SQL Server Eğitimi  Veri Bilimi Okulu   \n",
       "15                      Uygulamalarla SQL Öğreniyorum  Veri Bilimi Okulu   \n",
       "4   (2020) Python ile Makine Öğrenmesi (Machine Le...  Veri Bilimi Okulu   \n",
       "10        İleri Düzey Excel|Dashboard|Excel İp Uçları  Veri Bilimi Okulu   \n",
       "8            A'dan Z'ye Apache Spark (Scala & Python)  Veri Bilimi Okulu   \n",
       "\n",
       "    purchase_count  rating  commment_count  5_point  4_point  3_point  \\\n",
       "1            48291     4.6            4488     2962     1122      314   \n",
       "11           24809     4.3             250       95       87       51   \n",
       "2            18693     4.4            2362     1582      567      165   \n",
       "0            17380     4.8            4621     3466      924      185   \n",
       "20           12946     4.5            3371     2191      877      203   \n",
       "14           12893     4.7            2425     1722      510      145   \n",
       "15           11397     4.5            2353     1435      705      165   \n",
       "4            11314     4.6             969      717      194       38   \n",
       "10            9554     4.8            2266     1654      499       91   \n",
       "8             6920     4.7             214      154       41       13   \n",
       "\n",
       "    2_point  1_point  \n",
       "1        45       45  \n",
       "11       12        5  \n",
       "2        24       24  \n",
       "0        46        6  \n",
       "20       33       67  \n",
       "14       24       24  \n",
       "15       24       24  \n",
       "4        10       10  \n",
       "10       22        0  \n",
       "8         2        4  "
      ]
     },
     "execution_count": 38,
     "metadata": {},
     "output_type": "execute_result"
    }
   ],
   "source": [
    "df.sort_values(\"purchase_count\", ascending=False).head(10)"
   ]
  },
  {
   "cell_type": "markdown",
   "id": "8b17d10d",
   "metadata": {
    "papermill": {
     "duration": 0.034188,
     "end_time": "2023-11-13T13:58:50.830034",
     "exception": false,
     "start_time": "2023-11-13T13:58:50.795846",
     "status": "completed"
    },
    "tags": []
   },
   "source": [
    "<div style=\"border-radius:10px; border:#65647C solid; padding: 15px; background-color: #F8EDE3; font-size:100%; text-align:left\">\n",
    "\n",
    "<h3 align=\"left\"><font color='#7D6E83'><b>🗨️ Comment: </b></font></h3>\n",
    "\n",
    "* **\"Course_3\"** stands out directly. It may potentially be available for free because, despite having the second-highest purchase count, its comment count is significantly low.\n",
    "* This metric doesn't seem to be successful on its own. Additionally, as we did below, comment counts alone fall short in conveying meaningful information."
   ]
  },
  {
   "cell_type": "code",
   "execution_count": 39,
   "id": "42aaef34",
   "metadata": {
    "execution": {
     "iopub.execute_input": "2023-11-13T13:58:50.900806Z",
     "iopub.status.busy": "2023-11-13T13:58:50.900360Z",
     "iopub.status.idle": "2023-11-13T13:58:50.917569Z",
     "shell.execute_reply": "2023-11-13T13:58:50.916424Z"
    },
    "papermill": {
     "duration": 0.054861,
     "end_time": "2023-11-13T13:58:50.919841",
     "exception": false,
     "start_time": "2023-11-13T13:58:50.864980",
     "status": "completed"
    },
    "tags": []
   },
   "outputs": [
    {
     "data": {
      "text/html": [
       "<div>\n",
       "<style scoped>\n",
       "    .dataframe tbody tr th:only-of-type {\n",
       "        vertical-align: middle;\n",
       "    }\n",
       "\n",
       "    .dataframe tbody tr th {\n",
       "        vertical-align: top;\n",
       "    }\n",
       "\n",
       "    .dataframe thead th {\n",
       "        text-align: right;\n",
       "    }\n",
       "</style>\n",
       "<table border=\"1\" class=\"dataframe\">\n",
       "  <thead>\n",
       "    <tr style=\"text-align: right;\">\n",
       "      <th></th>\n",
       "      <th>course_name</th>\n",
       "      <th>instructor_name</th>\n",
       "      <th>purchase_count</th>\n",
       "      <th>rating</th>\n",
       "      <th>commment_count</th>\n",
       "      <th>5_point</th>\n",
       "      <th>4_point</th>\n",
       "      <th>3_point</th>\n",
       "      <th>2_point</th>\n",
       "      <th>1_point</th>\n",
       "    </tr>\n",
       "  </thead>\n",
       "  <tbody>\n",
       "    <tr>\n",
       "      <th>0</th>\n",
       "      <td>(50+ Saat) Python A-Z™: Veri Bilimi ve Machine...</td>\n",
       "      <td>Veri Bilimi Okulu</td>\n",
       "      <td>17380</td>\n",
       "      <td>4.8</td>\n",
       "      <td>4621</td>\n",
       "      <td>3466</td>\n",
       "      <td>924</td>\n",
       "      <td>185</td>\n",
       "      <td>46</td>\n",
       "      <td>6</td>\n",
       "    </tr>\n",
       "    <tr>\n",
       "      <th>1</th>\n",
       "      <td>Python: Yapay Zeka ve Veri Bilimi için Python ...</td>\n",
       "      <td>Veri Bilimi Okulu</td>\n",
       "      <td>48291</td>\n",
       "      <td>4.6</td>\n",
       "      <td>4488</td>\n",
       "      <td>2962</td>\n",
       "      <td>1122</td>\n",
       "      <td>314</td>\n",
       "      <td>45</td>\n",
       "      <td>45</td>\n",
       "    </tr>\n",
       "    <tr>\n",
       "      <th>20</th>\n",
       "      <td>Course_9</td>\n",
       "      <td>Instructor_3</td>\n",
       "      <td>12946</td>\n",
       "      <td>4.5</td>\n",
       "      <td>3371</td>\n",
       "      <td>2191</td>\n",
       "      <td>877</td>\n",
       "      <td>203</td>\n",
       "      <td>33</td>\n",
       "      <td>67</td>\n",
       "    </tr>\n",
       "    <tr>\n",
       "      <th>14</th>\n",
       "      <td>Uçtan Uca SQL Server Eğitimi</td>\n",
       "      <td>Veri Bilimi Okulu</td>\n",
       "      <td>12893</td>\n",
       "      <td>4.7</td>\n",
       "      <td>2425</td>\n",
       "      <td>1722</td>\n",
       "      <td>510</td>\n",
       "      <td>145</td>\n",
       "      <td>24</td>\n",
       "      <td>24</td>\n",
       "    </tr>\n",
       "    <tr>\n",
       "      <th>2</th>\n",
       "      <td>5 Saatte Veri Bilimci Olun (Valla Billa)</td>\n",
       "      <td>Instructor_1</td>\n",
       "      <td>18693</td>\n",
       "      <td>4.4</td>\n",
       "      <td>2362</td>\n",
       "      <td>1582</td>\n",
       "      <td>567</td>\n",
       "      <td>165</td>\n",
       "      <td>24</td>\n",
       "      <td>24</td>\n",
       "    </tr>\n",
       "    <tr>\n",
       "      <th>15</th>\n",
       "      <td>Uygulamalarla SQL Öğreniyorum</td>\n",
       "      <td>Veri Bilimi Okulu</td>\n",
       "      <td>11397</td>\n",
       "      <td>4.5</td>\n",
       "      <td>2353</td>\n",
       "      <td>1435</td>\n",
       "      <td>705</td>\n",
       "      <td>165</td>\n",
       "      <td>24</td>\n",
       "      <td>24</td>\n",
       "    </tr>\n",
       "    <tr>\n",
       "      <th>10</th>\n",
       "      <td>İleri Düzey Excel|Dashboard|Excel İp Uçları</td>\n",
       "      <td>Veri Bilimi Okulu</td>\n",
       "      <td>9554</td>\n",
       "      <td>4.8</td>\n",
       "      <td>2266</td>\n",
       "      <td>1654</td>\n",
       "      <td>499</td>\n",
       "      <td>91</td>\n",
       "      <td>22</td>\n",
       "      <td>0</td>\n",
       "    </tr>\n",
       "    <tr>\n",
       "      <th>3</th>\n",
       "      <td>R ile Veri Bilimi ve Machine Learning (35 Saat)</td>\n",
       "      <td>Veri Bilimi Okulu</td>\n",
       "      <td>6626</td>\n",
       "      <td>4.6</td>\n",
       "      <td>1027</td>\n",
       "      <td>688</td>\n",
       "      <td>257</td>\n",
       "      <td>51</td>\n",
       "      <td>10</td>\n",
       "      <td>21</td>\n",
       "    </tr>\n",
       "    <tr>\n",
       "      <th>4</th>\n",
       "      <td>(2020) Python ile Makine Öğrenmesi (Machine Le...</td>\n",
       "      <td>Veri Bilimi Okulu</td>\n",
       "      <td>11314</td>\n",
       "      <td>4.6</td>\n",
       "      <td>969</td>\n",
       "      <td>717</td>\n",
       "      <td>194</td>\n",
       "      <td>38</td>\n",
       "      <td>10</td>\n",
       "      <td>10</td>\n",
       "    </tr>\n",
       "    <tr>\n",
       "      <th>9</th>\n",
       "      <td>Modern R Programlama Eğitimi</td>\n",
       "      <td>Veri Bilimi Okulu</td>\n",
       "      <td>6537</td>\n",
       "      <td>4.4</td>\n",
       "      <td>901</td>\n",
       "      <td>559</td>\n",
       "      <td>252</td>\n",
       "      <td>72</td>\n",
       "      <td>9</td>\n",
       "      <td>9</td>\n",
       "    </tr>\n",
       "  </tbody>\n",
       "</table>\n",
       "</div>"
      ],
      "text/plain": [
       "                                          course_name    instructor_name  \\\n",
       "0   (50+ Saat) Python A-Z™: Veri Bilimi ve Machine...  Veri Bilimi Okulu   \n",
       "1   Python: Yapay Zeka ve Veri Bilimi için Python ...  Veri Bilimi Okulu   \n",
       "20                                           Course_9       Instructor_3   \n",
       "14                       Uçtan Uca SQL Server Eğitimi  Veri Bilimi Okulu   \n",
       "2            5 Saatte Veri Bilimci Olun (Valla Billa)       Instructor_1   \n",
       "15                      Uygulamalarla SQL Öğreniyorum  Veri Bilimi Okulu   \n",
       "10        İleri Düzey Excel|Dashboard|Excel İp Uçları  Veri Bilimi Okulu   \n",
       "3     R ile Veri Bilimi ve Machine Learning (35 Saat)  Veri Bilimi Okulu   \n",
       "4   (2020) Python ile Makine Öğrenmesi (Machine Le...  Veri Bilimi Okulu   \n",
       "9                        Modern R Programlama Eğitimi  Veri Bilimi Okulu   \n",
       "\n",
       "    purchase_count  rating  commment_count  5_point  4_point  3_point  \\\n",
       "0            17380     4.8            4621     3466      924      185   \n",
       "1            48291     4.6            4488     2962     1122      314   \n",
       "20           12946     4.5            3371     2191      877      203   \n",
       "14           12893     4.7            2425     1722      510      145   \n",
       "2            18693     4.4            2362     1582      567      165   \n",
       "15           11397     4.5            2353     1435      705      165   \n",
       "10            9554     4.8            2266     1654      499       91   \n",
       "3             6626     4.6            1027      688      257       51   \n",
       "4            11314     4.6             969      717      194       38   \n",
       "9             6537     4.4             901      559      252       72   \n",
       "\n",
       "    2_point  1_point  \n",
       "0        46        6  \n",
       "1        45       45  \n",
       "20       33       67  \n",
       "14       24       24  \n",
       "2        24       24  \n",
       "15       24       24  \n",
       "10       22        0  \n",
       "3        10       21  \n",
       "4        10       10  \n",
       "9         9        9  "
      ]
     },
     "execution_count": 39,
     "metadata": {},
     "output_type": "execute_result"
    }
   ],
   "source": [
    "df.sort_values(\"commment_count\", ascending=False).head(10)"
   ]
  },
  {
   "cell_type": "markdown",
   "id": "d180ffb7",
   "metadata": {
    "papermill": {
     "duration": 0.034088,
     "end_time": "2023-11-13T13:58:50.989336",
     "exception": false,
     "start_time": "2023-11-13T13:58:50.955248",
     "status": "completed"
    },
    "tags": []
   },
   "source": [
    "<a id = \"9\"></a><br>\n",
    "<p style=\"font-family: 'Pacifico', cursive; font-weight: bold; letter-spacing: 2px; color: #556B2F; font-size: 160%; text-align: left; padding: 0px; border-bottom: 3px solid\">✨Sorting by Rating, Comment and Purchase✨</p>"
   ]
  },
  {
   "cell_type": "markdown",
   "id": "5eb388d2",
   "metadata": {
    "papermill": {
     "duration": 0.037013,
     "end_time": "2023-11-13T13:58:51.061148",
     "exception": false,
     "start_time": "2023-11-13T13:58:51.024135",
     "status": "completed"
    },
    "tags": []
   },
   "source": [
    "<div style=\"border-radius:10px; border:#65647C solid; padding: 15px; background-color: #F8EDE3; font-size:100%; text-align:left\">\n",
    "\n",
    "<h3 align=\"left\"><font color='#7D6E83'><b>🗨️ Comment: </b></font></h3>\n",
    "\n",
    "* Our goal is to examine these three factors (ratings, purchases, and reviews) together.\n",
    "* If we consider the idea of multiplying the three factors together, such as **\"purchase_count\"** and **\"comment_count\"** numbers are much larger than **\"rating\"** numbers, in such a situation, the **\"rating\"** values would have no effect. The reason for this is the difference in their scales.\n",
    "* Based on this result, we can normalize all three variables to the same scale in terms of **\"rating.\"**"
   ]
  },
  {
   "cell_type": "code",
   "execution_count": 40,
   "id": "82f0ece5",
   "metadata": {
    "execution": {
     "iopub.execute_input": "2023-11-13T13:58:51.133831Z",
     "iopub.status.busy": "2023-11-13T13:58:51.133430Z",
     "iopub.status.idle": "2023-11-13T13:58:51.146102Z",
     "shell.execute_reply": "2023-11-13T13:58:51.145228Z"
    },
    "papermill": {
     "duration": 0.051474,
     "end_time": "2023-11-13T13:58:51.148425",
     "exception": false,
     "start_time": "2023-11-13T13:58:51.096951",
     "status": "completed"
    },
    "tags": []
   },
   "outputs": [],
   "source": [
    "df[\"purchase_count_scaled\"] = MinMaxScaler(feature_range=(1, 5)). \\\n",
    "    fit(df[[\"purchase_count\"]]). \\\n",
    "    transform(df[[\"purchase_count\"]])"
   ]
  },
  {
   "cell_type": "code",
   "execution_count": 41,
   "id": "4601cd90",
   "metadata": {
    "execution": {
     "iopub.execute_input": "2023-11-13T13:58:51.221780Z",
     "iopub.status.busy": "2023-11-13T13:58:51.220440Z",
     "iopub.status.idle": "2023-11-13T13:58:51.261312Z",
     "shell.execute_reply": "2023-11-13T13:58:51.260035Z"
    },
    "papermill": {
     "duration": 0.080887,
     "end_time": "2023-11-13T13:58:51.263868",
     "exception": false,
     "start_time": "2023-11-13T13:58:51.182981",
     "status": "completed"
    },
    "tags": []
   },
   "outputs": [
    {
     "data": {
      "text/html": [
       "<div>\n",
       "<style scoped>\n",
       "    .dataframe tbody tr th:only-of-type {\n",
       "        vertical-align: middle;\n",
       "    }\n",
       "\n",
       "    .dataframe tbody tr th {\n",
       "        vertical-align: top;\n",
       "    }\n",
       "\n",
       "    .dataframe thead th {\n",
       "        text-align: right;\n",
       "    }\n",
       "</style>\n",
       "<table border=\"1\" class=\"dataframe\">\n",
       "  <thead>\n",
       "    <tr style=\"text-align: right;\">\n",
       "      <th></th>\n",
       "      <th>count</th>\n",
       "      <th>mean</th>\n",
       "      <th>std</th>\n",
       "      <th>min</th>\n",
       "      <th>25%</th>\n",
       "      <th>50%</th>\n",
       "      <th>75%</th>\n",
       "      <th>max</th>\n",
       "    </tr>\n",
       "  </thead>\n",
       "  <tbody>\n",
       "    <tr>\n",
       "      <th>purchase_count</th>\n",
       "      <td>32.0</td>\n",
       "      <td>7110.718750</td>\n",
       "      <td>9760.893396</td>\n",
       "      <td>30.0</td>\n",
       "      <td>877.500000</td>\n",
       "      <td>3687.500000</td>\n",
       "      <td>9994.000000</td>\n",
       "      <td>48291.0</td>\n",
       "    </tr>\n",
       "    <tr>\n",
       "      <th>rating</th>\n",
       "      <td>32.0</td>\n",
       "      <td>4.356250</td>\n",
       "      <td>0.447889</td>\n",
       "      <td>3.1</td>\n",
       "      <td>4.275000</td>\n",
       "      <td>4.500000</td>\n",
       "      <td>4.625000</td>\n",
       "      <td>4.8</td>\n",
       "    </tr>\n",
       "    <tr>\n",
       "      <th>commment_count</th>\n",
       "      <td>32.0</td>\n",
       "      <td>882.062500</td>\n",
       "      <td>1321.498903</td>\n",
       "      <td>7.0</td>\n",
       "      <td>87.750000</td>\n",
       "      <td>194.500000</td>\n",
       "      <td>983.500000</td>\n",
       "      <td>4621.0</td>\n",
       "    </tr>\n",
       "    <tr>\n",
       "      <th>5_point</th>\n",
       "      <td>32.0</td>\n",
       "      <td>598.093750</td>\n",
       "      <td>920.140114</td>\n",
       "      <td>1.0</td>\n",
       "      <td>49.250000</td>\n",
       "      <td>112.500000</td>\n",
       "      <td>695.250000</td>\n",
       "      <td>3466.0</td>\n",
       "    </tr>\n",
       "    <tr>\n",
       "      <th>4_point</th>\n",
       "      <td>32.0</td>\n",
       "      <td>211.531250</td>\n",
       "      <td>312.262915</td>\n",
       "      <td>2.0</td>\n",
       "      <td>19.750000</td>\n",
       "      <td>45.500000</td>\n",
       "      <td>253.250000</td>\n",
       "      <td>1122.0</td>\n",
       "    </tr>\n",
       "    <tr>\n",
       "      <th>3_point</th>\n",
       "      <td>32.0</td>\n",
       "      <td>54.125000</td>\n",
       "      <td>76.576232</td>\n",
       "      <td>0.0</td>\n",
       "      <td>6.750000</td>\n",
       "      <td>14.500000</td>\n",
       "      <td>56.250000</td>\n",
       "      <td>314.0</td>\n",
       "    </tr>\n",
       "    <tr>\n",
       "      <th>2_point</th>\n",
       "      <td>32.0</td>\n",
       "      <td>9.531250</td>\n",
       "      <td>12.991273</td>\n",
       "      <td>0.0</td>\n",
       "      <td>0.750000</td>\n",
       "      <td>3.000000</td>\n",
       "      <td>10.500000</td>\n",
       "      <td>46.0</td>\n",
       "    </tr>\n",
       "    <tr>\n",
       "      <th>1_point</th>\n",
       "      <td>32.0</td>\n",
       "      <td>8.968750</td>\n",
       "      <td>14.570151</td>\n",
       "      <td>0.0</td>\n",
       "      <td>2.000000</td>\n",
       "      <td>3.000000</td>\n",
       "      <td>9.000000</td>\n",
       "      <td>67.0</td>\n",
       "    </tr>\n",
       "    <tr>\n",
       "      <th>purchase_count_scaled</th>\n",
       "      <td>32.0</td>\n",
       "      <td>1.586869</td>\n",
       "      <td>0.809009</td>\n",
       "      <td>1.0</td>\n",
       "      <td>1.070243</td>\n",
       "      <td>1.303143</td>\n",
       "      <td>1.825843</td>\n",
       "      <td>5.0</td>\n",
       "    </tr>\n",
       "  </tbody>\n",
       "</table>\n",
       "</div>"
      ],
      "text/plain": [
       "                       count         mean          std   min         25%  \\\n",
       "purchase_count          32.0  7110.718750  9760.893396  30.0  877.500000   \n",
       "rating                  32.0     4.356250     0.447889   3.1    4.275000   \n",
       "commment_count          32.0   882.062500  1321.498903   7.0   87.750000   \n",
       "5_point                 32.0   598.093750   920.140114   1.0   49.250000   \n",
       "4_point                 32.0   211.531250   312.262915   2.0   19.750000   \n",
       "3_point                 32.0    54.125000    76.576232   0.0    6.750000   \n",
       "2_point                 32.0     9.531250    12.991273   0.0    0.750000   \n",
       "1_point                 32.0     8.968750    14.570151   0.0    2.000000   \n",
       "purchase_count_scaled   32.0     1.586869     0.809009   1.0    1.070243   \n",
       "\n",
       "                               50%          75%      max  \n",
       "purchase_count         3687.500000  9994.000000  48291.0  \n",
       "rating                    4.500000     4.625000      4.8  \n",
       "commment_count          194.500000   983.500000   4621.0  \n",
       "5_point                 112.500000   695.250000   3466.0  \n",
       "4_point                  45.500000   253.250000   1122.0  \n",
       "3_point                  14.500000    56.250000    314.0  \n",
       "2_point                   3.000000    10.500000     46.0  \n",
       "1_point                   3.000000     9.000000     67.0  \n",
       "purchase_count_scaled     1.303143     1.825843      5.0  "
      ]
     },
     "execution_count": 41,
     "metadata": {},
     "output_type": "execute_result"
    }
   ],
   "source": [
    "df.describe().T"
   ]
  },
  {
   "cell_type": "code",
   "execution_count": 42,
   "id": "ba6648cb",
   "metadata": {
    "execution": {
     "iopub.execute_input": "2023-11-13T13:58:51.336415Z",
     "iopub.status.busy": "2023-11-13T13:58:51.335969Z",
     "iopub.status.idle": "2023-11-13T13:58:51.346726Z",
     "shell.execute_reply": "2023-11-13T13:58:51.345562Z"
    },
    "papermill": {
     "duration": 0.049453,
     "end_time": "2023-11-13T13:58:51.348829",
     "exception": false,
     "start_time": "2023-11-13T13:58:51.299376",
     "status": "completed"
    },
    "tags": []
   },
   "outputs": [],
   "source": [
    "df[\"comment_count_scaled\"] = MinMaxScaler(feature_range=(1, 5)). \\\n",
    "    fit(df[[\"commment_count\"]]). \\\n",
    "    transform(df[[\"commment_count\"]])"
   ]
  },
  {
   "cell_type": "code",
   "execution_count": 43,
   "id": "9e1089fc",
   "metadata": {
    "execution": {
     "iopub.execute_input": "2023-11-13T13:58:51.423787Z",
     "iopub.status.busy": "2023-11-13T13:58:51.423373Z",
     "iopub.status.idle": "2023-11-13T13:58:51.439068Z",
     "shell.execute_reply": "2023-11-13T13:58:51.438281Z"
    },
    "papermill": {
     "duration": 0.057077,
     "end_time": "2023-11-13T13:58:51.440948",
     "exception": false,
     "start_time": "2023-11-13T13:58:51.383871",
     "status": "completed"
    },
    "tags": []
   },
   "outputs": [
    {
     "data": {
      "text/html": [
       "<div>\n",
       "<style scoped>\n",
       "    .dataframe tbody tr th:only-of-type {\n",
       "        vertical-align: middle;\n",
       "    }\n",
       "\n",
       "    .dataframe tbody tr th {\n",
       "        vertical-align: top;\n",
       "    }\n",
       "\n",
       "    .dataframe thead th {\n",
       "        text-align: right;\n",
       "    }\n",
       "</style>\n",
       "<table border=\"1\" class=\"dataframe\">\n",
       "  <thead>\n",
       "    <tr style=\"text-align: right;\">\n",
       "      <th></th>\n",
       "      <th>course_name</th>\n",
       "      <th>instructor_name</th>\n",
       "      <th>purchase_count</th>\n",
       "      <th>rating</th>\n",
       "      <th>commment_count</th>\n",
       "      <th>5_point</th>\n",
       "      <th>4_point</th>\n",
       "      <th>3_point</th>\n",
       "      <th>2_point</th>\n",
       "      <th>1_point</th>\n",
       "      <th>purchase_count_scaled</th>\n",
       "      <th>comment_count_scaled</th>\n",
       "    </tr>\n",
       "  </thead>\n",
       "  <tbody>\n",
       "    <tr>\n",
       "      <th>0</th>\n",
       "      <td>(50+ Saat) Python A-Z™: Veri Bilimi ve Machine...</td>\n",
       "      <td>Veri Bilimi Okulu</td>\n",
       "      <td>17380</td>\n",
       "      <td>4.8</td>\n",
       "      <td>4621</td>\n",
       "      <td>3466</td>\n",
       "      <td>924</td>\n",
       "      <td>185</td>\n",
       "      <td>46</td>\n",
       "      <td>6</td>\n",
       "      <td>2.438014</td>\n",
       "      <td>5.000000</td>\n",
       "    </tr>\n",
       "    <tr>\n",
       "      <th>1</th>\n",
       "      <td>Python: Yapay Zeka ve Veri Bilimi için Python ...</td>\n",
       "      <td>Veri Bilimi Okulu</td>\n",
       "      <td>48291</td>\n",
       "      <td>4.6</td>\n",
       "      <td>4488</td>\n",
       "      <td>2962</td>\n",
       "      <td>1122</td>\n",
       "      <td>314</td>\n",
       "      <td>45</td>\n",
       "      <td>45</td>\n",
       "      <td>5.000000</td>\n",
       "      <td>4.884699</td>\n",
       "    </tr>\n",
       "    <tr>\n",
       "      <th>2</th>\n",
       "      <td>5 Saatte Veri Bilimci Olun (Valla Billa)</td>\n",
       "      <td>Instructor_1</td>\n",
       "      <td>18693</td>\n",
       "      <td>4.4</td>\n",
       "      <td>2362</td>\n",
       "      <td>1582</td>\n",
       "      <td>567</td>\n",
       "      <td>165</td>\n",
       "      <td>24</td>\n",
       "      <td>24</td>\n",
       "      <td>2.546839</td>\n",
       "      <td>3.041612</td>\n",
       "    </tr>\n",
       "    <tr>\n",
       "      <th>3</th>\n",
       "      <td>R ile Veri Bilimi ve Machine Learning (35 Saat)</td>\n",
       "      <td>Veri Bilimi Okulu</td>\n",
       "      <td>6626</td>\n",
       "      <td>4.6</td>\n",
       "      <td>1027</td>\n",
       "      <td>688</td>\n",
       "      <td>257</td>\n",
       "      <td>51</td>\n",
       "      <td>10</td>\n",
       "      <td>21</td>\n",
       "      <td>1.546694</td>\n",
       "      <td>1.884265</td>\n",
       "    </tr>\n",
       "    <tr>\n",
       "      <th>4</th>\n",
       "      <td>(2020) Python ile Makine Öğrenmesi (Machine Le...</td>\n",
       "      <td>Veri Bilimi Okulu</td>\n",
       "      <td>11314</td>\n",
       "      <td>4.6</td>\n",
       "      <td>969</td>\n",
       "      <td>717</td>\n",
       "      <td>194</td>\n",
       "      <td>38</td>\n",
       "      <td>10</td>\n",
       "      <td>10</td>\n",
       "      <td>1.935248</td>\n",
       "      <td>1.833984</td>\n",
       "    </tr>\n",
       "  </tbody>\n",
       "</table>\n",
       "</div>"
      ],
      "text/plain": [
       "                                         course_name    instructor_name  \\\n",
       "0  (50+ Saat) Python A-Z™: Veri Bilimi ve Machine...  Veri Bilimi Okulu   \n",
       "1  Python: Yapay Zeka ve Veri Bilimi için Python ...  Veri Bilimi Okulu   \n",
       "2           5 Saatte Veri Bilimci Olun (Valla Billa)       Instructor_1   \n",
       "3    R ile Veri Bilimi ve Machine Learning (35 Saat)  Veri Bilimi Okulu   \n",
       "4  (2020) Python ile Makine Öğrenmesi (Machine Le...  Veri Bilimi Okulu   \n",
       "\n",
       "   purchase_count  rating  commment_count  5_point  4_point  3_point  2_point  \\\n",
       "0           17380     4.8            4621     3466      924      185       46   \n",
       "1           48291     4.6            4488     2962     1122      314       45   \n",
       "2           18693     4.4            2362     1582      567      165       24   \n",
       "3            6626     4.6            1027      688      257       51       10   \n",
       "4           11314     4.6             969      717      194       38       10   \n",
       "\n",
       "   1_point  purchase_count_scaled  comment_count_scaled  \n",
       "0        6               2.438014              5.000000  \n",
       "1       45               5.000000              4.884699  \n",
       "2       24               2.546839              3.041612  \n",
       "3       21               1.546694              1.884265  \n",
       "4       10               1.935248              1.833984  "
      ]
     },
     "execution_count": 43,
     "metadata": {},
     "output_type": "execute_result"
    }
   ],
   "source": [
    "df.head()"
   ]
  },
  {
   "cell_type": "code",
   "execution_count": 44,
   "id": "52b5b1dd",
   "metadata": {
    "execution": {
     "iopub.execute_input": "2023-11-13T13:58:51.514302Z",
     "iopub.status.busy": "2023-11-13T13:58:51.513506Z",
     "iopub.status.idle": "2023-11-13T13:58:51.522596Z",
     "shell.execute_reply": "2023-11-13T13:58:51.521843Z"
    },
    "papermill": {
     "duration": 0.048003,
     "end_time": "2023-11-13T13:58:51.524472",
     "exception": false,
     "start_time": "2023-11-13T13:58:51.476469",
     "status": "completed"
    },
    "tags": []
   },
   "outputs": [
    {
     "data": {
      "text/plain": [
       "0     4.249884\n",
       "1     4.795104\n",
       "2     3.483494\n",
       "3     2.937105\n",
       "4     3.022039\n",
       "5     2.751651\n",
       "6     2.857214\n",
       "7     2.522386\n",
       "8     2.759901\n",
       "9     2.816233\n",
       "10    3.427921\n",
       "11    2.987387\n",
       "12    2.528686\n",
       "13    2.721863\n",
       "14    3.501984\n",
       "15    3.365772\n",
       "16    2.517977\n",
       "17    2.282315\n",
       "18    2.458066\n",
       "19    2.726593\n",
       "20    3.681563\n",
       "21    2.519056\n",
       "22    2.538280\n",
       "23    2.354586\n",
       "24    2.264794\n",
       "25    2.021050\n",
       "26    2.436116\n",
       "27    2.561682\n",
       "28    2.544666\n",
       "29    1.925836\n",
       "30    1.924000\n",
       "31    2.273764\n",
       "dtype: float64"
      ]
     },
     "execution_count": 44,
     "metadata": {},
     "output_type": "execute_result"
    }
   ],
   "source": [
    "(df[\"comment_count_scaled\"] * 32 / 100 +\n",
    " df[\"purchase_count_scaled\"] * 26 / 100 +\n",
    " df[\"rating\"] * 42 / 100)"
   ]
  },
  {
   "cell_type": "markdown",
   "id": "58e31283",
   "metadata": {
    "papermill": {
     "duration": 0.035253,
     "end_time": "2023-11-13T13:58:51.595012",
     "exception": false,
     "start_time": "2023-11-13T13:58:51.559759",
     "status": "completed"
    },
    "tags": []
   },
   "source": [
    "<div style=\"border-radius:10px; border:#65647C solid; padding: 15px; background-color: #F8EDE3; font-size:100%; text-align:left\">\n",
    "\n",
    "<h3 align=\"left\"><font color='#7D6E83'><b>🗨️ Comment: </b></font></h3>\n",
    "\n",
    "* They are weighted scores resulting from the conditions we have defined.\n",
    "* When creating this score, the most important factor for us is **\"rating,\"** followed by **\"comment_count_scaled,\"** and finally **\"purchase_count_scaled.\"**\n",
    "* The reason for this is the possibility of the course having values of \"purchase_count_scaled\" for free courses. However, to make a general inference, we should include it in the score calculation rather than completely ignoring it."
   ]
  },
  {
   "cell_type": "code",
   "execution_count": 45,
   "id": "49c12ac0",
   "metadata": {
    "execution": {
     "iopub.execute_input": "2023-11-13T13:58:51.667946Z",
     "iopub.status.busy": "2023-11-13T13:58:51.667174Z",
     "iopub.status.idle": "2023-11-13T13:58:51.672160Z",
     "shell.execute_reply": "2023-11-13T13:58:51.671419Z"
    },
    "papermill": {
     "duration": 0.043772,
     "end_time": "2023-11-13T13:58:51.674197",
     "exception": false,
     "start_time": "2023-11-13T13:58:51.630425",
     "status": "completed"
    },
    "tags": []
   },
   "outputs": [],
   "source": [
    "def weighted_sorting_score(dataframe, w1=32, w2=26, w3=42):\n",
    "    \n",
    "    return (dataframe[\"comment_count_scaled\"] * w1 / 100 +\n",
    "            dataframe[\"purchase_count_scaled\"] * w2 / 100 +\n",
    "            dataframe[\"rating\"] * w3 / 100)"
   ]
  },
  {
   "cell_type": "code",
   "execution_count": 46,
   "id": "59affa27",
   "metadata": {
    "execution": {
     "iopub.execute_input": "2023-11-13T13:58:51.747613Z",
     "iopub.status.busy": "2023-11-13T13:58:51.746821Z",
     "iopub.status.idle": "2023-11-13T13:58:51.753617Z",
     "shell.execute_reply": "2023-11-13T13:58:51.752579Z"
    },
    "papermill": {
     "duration": 0.046028,
     "end_time": "2023-11-13T13:58:51.755952",
     "exception": false,
     "start_time": "2023-11-13T13:58:51.709924",
     "status": "completed"
    },
    "tags": []
   },
   "outputs": [],
   "source": [
    "df[\"weighted_sorting_score\"] = weighted_sorting_score(df)"
   ]
  },
  {
   "cell_type": "code",
   "execution_count": 47,
   "id": "47e3e8c9",
   "metadata": {
    "execution": {
     "iopub.execute_input": "2023-11-13T13:58:51.828085Z",
     "iopub.status.busy": "2023-11-13T13:58:51.827634Z",
     "iopub.status.idle": "2023-11-13T13:58:51.847163Z",
     "shell.execute_reply": "2023-11-13T13:58:51.846025Z"
    },
    "papermill": {
     "duration": 0.05835,
     "end_time": "2023-11-13T13:58:51.849654",
     "exception": false,
     "start_time": "2023-11-13T13:58:51.791304",
     "status": "completed"
    },
    "tags": []
   },
   "outputs": [
    {
     "data": {
      "text/html": [
       "<div>\n",
       "<style scoped>\n",
       "    .dataframe tbody tr th:only-of-type {\n",
       "        vertical-align: middle;\n",
       "    }\n",
       "\n",
       "    .dataframe tbody tr th {\n",
       "        vertical-align: top;\n",
       "    }\n",
       "\n",
       "    .dataframe thead th {\n",
       "        text-align: right;\n",
       "    }\n",
       "</style>\n",
       "<table border=\"1\" class=\"dataframe\">\n",
       "  <thead>\n",
       "    <tr style=\"text-align: right;\">\n",
       "      <th></th>\n",
       "      <th>course_name</th>\n",
       "      <th>instructor_name</th>\n",
       "      <th>purchase_count</th>\n",
       "      <th>rating</th>\n",
       "      <th>commment_count</th>\n",
       "      <th>5_point</th>\n",
       "      <th>4_point</th>\n",
       "      <th>3_point</th>\n",
       "      <th>2_point</th>\n",
       "      <th>1_point</th>\n",
       "      <th>purchase_count_scaled</th>\n",
       "      <th>comment_count_scaled</th>\n",
       "      <th>weighted_sorting_score</th>\n",
       "    </tr>\n",
       "  </thead>\n",
       "  <tbody>\n",
       "    <tr>\n",
       "      <th>1</th>\n",
       "      <td>Python: Yapay Zeka ve Veri Bilimi için Python ...</td>\n",
       "      <td>Veri Bilimi Okulu</td>\n",
       "      <td>48291</td>\n",
       "      <td>4.6</td>\n",
       "      <td>4488</td>\n",
       "      <td>2962</td>\n",
       "      <td>1122</td>\n",
       "      <td>314</td>\n",
       "      <td>45</td>\n",
       "      <td>45</td>\n",
       "      <td>5.000000</td>\n",
       "      <td>4.884699</td>\n",
       "      <td>4.795104</td>\n",
       "    </tr>\n",
       "    <tr>\n",
       "      <th>0</th>\n",
       "      <td>(50+ Saat) Python A-Z™: Veri Bilimi ve Machine...</td>\n",
       "      <td>Veri Bilimi Okulu</td>\n",
       "      <td>17380</td>\n",
       "      <td>4.8</td>\n",
       "      <td>4621</td>\n",
       "      <td>3466</td>\n",
       "      <td>924</td>\n",
       "      <td>185</td>\n",
       "      <td>46</td>\n",
       "      <td>6</td>\n",
       "      <td>2.438014</td>\n",
       "      <td>5.000000</td>\n",
       "      <td>4.249884</td>\n",
       "    </tr>\n",
       "    <tr>\n",
       "      <th>20</th>\n",
       "      <td>Course_9</td>\n",
       "      <td>Instructor_3</td>\n",
       "      <td>12946</td>\n",
       "      <td>4.5</td>\n",
       "      <td>3371</td>\n",
       "      <td>2191</td>\n",
       "      <td>877</td>\n",
       "      <td>203</td>\n",
       "      <td>33</td>\n",
       "      <td>67</td>\n",
       "      <td>2.070512</td>\n",
       "      <td>3.916342</td>\n",
       "      <td>3.681563</td>\n",
       "    </tr>\n",
       "    <tr>\n",
       "      <th>14</th>\n",
       "      <td>Uçtan Uca SQL Server Eğitimi</td>\n",
       "      <td>Veri Bilimi Okulu</td>\n",
       "      <td>12893</td>\n",
       "      <td>4.7</td>\n",
       "      <td>2425</td>\n",
       "      <td>1722</td>\n",
       "      <td>510</td>\n",
       "      <td>145</td>\n",
       "      <td>24</td>\n",
       "      <td>24</td>\n",
       "      <td>2.066120</td>\n",
       "      <td>3.096229</td>\n",
       "      <td>3.501984</td>\n",
       "    </tr>\n",
       "    <tr>\n",
       "      <th>2</th>\n",
       "      <td>5 Saatte Veri Bilimci Olun (Valla Billa)</td>\n",
       "      <td>Instructor_1</td>\n",
       "      <td>18693</td>\n",
       "      <td>4.4</td>\n",
       "      <td>2362</td>\n",
       "      <td>1582</td>\n",
       "      <td>567</td>\n",
       "      <td>165</td>\n",
       "      <td>24</td>\n",
       "      <td>24</td>\n",
       "      <td>2.546839</td>\n",
       "      <td>3.041612</td>\n",
       "      <td>3.483494</td>\n",
       "    </tr>\n",
       "    <tr>\n",
       "      <th>10</th>\n",
       "      <td>İleri Düzey Excel|Dashboard|Excel İp Uçları</td>\n",
       "      <td>Veri Bilimi Okulu</td>\n",
       "      <td>9554</td>\n",
       "      <td>4.8</td>\n",
       "      <td>2266</td>\n",
       "      <td>1654</td>\n",
       "      <td>499</td>\n",
       "      <td>91</td>\n",
       "      <td>22</td>\n",
       "      <td>0</td>\n",
       "      <td>1.789374</td>\n",
       "      <td>2.958388</td>\n",
       "      <td>3.427921</td>\n",
       "    </tr>\n",
       "    <tr>\n",
       "      <th>15</th>\n",
       "      <td>Uygulamalarla SQL Öğreniyorum</td>\n",
       "      <td>Veri Bilimi Okulu</td>\n",
       "      <td>11397</td>\n",
       "      <td>4.5</td>\n",
       "      <td>2353</td>\n",
       "      <td>1435</td>\n",
       "      <td>705</td>\n",
       "      <td>165</td>\n",
       "      <td>24</td>\n",
       "      <td>24</td>\n",
       "      <td>1.942127</td>\n",
       "      <td>3.033810</td>\n",
       "      <td>3.365772</td>\n",
       "    </tr>\n",
       "    <tr>\n",
       "      <th>4</th>\n",
       "      <td>(2020) Python ile Makine Öğrenmesi (Machine Le...</td>\n",
       "      <td>Veri Bilimi Okulu</td>\n",
       "      <td>11314</td>\n",
       "      <td>4.6</td>\n",
       "      <td>969</td>\n",
       "      <td>717</td>\n",
       "      <td>194</td>\n",
       "      <td>38</td>\n",
       "      <td>10</td>\n",
       "      <td>10</td>\n",
       "      <td>1.935248</td>\n",
       "      <td>1.833984</td>\n",
       "      <td>3.022039</td>\n",
       "    </tr>\n",
       "    <tr>\n",
       "      <th>11</th>\n",
       "      <td>Course_3</td>\n",
       "      <td>Instructor_4</td>\n",
       "      <td>24809</td>\n",
       "      <td>4.3</td>\n",
       "      <td>250</td>\n",
       "      <td>95</td>\n",
       "      <td>87</td>\n",
       "      <td>51</td>\n",
       "      <td>12</td>\n",
       "      <td>5</td>\n",
       "      <td>3.053749</td>\n",
       "      <td>1.210663</td>\n",
       "      <td>2.987387</td>\n",
       "    </tr>\n",
       "    <tr>\n",
       "      <th>3</th>\n",
       "      <td>R ile Veri Bilimi ve Machine Learning (35 Saat)</td>\n",
       "      <td>Veri Bilimi Okulu</td>\n",
       "      <td>6626</td>\n",
       "      <td>4.6</td>\n",
       "      <td>1027</td>\n",
       "      <td>688</td>\n",
       "      <td>257</td>\n",
       "      <td>51</td>\n",
       "      <td>10</td>\n",
       "      <td>21</td>\n",
       "      <td>1.546694</td>\n",
       "      <td>1.884265</td>\n",
       "      <td>2.937105</td>\n",
       "    </tr>\n",
       "  </tbody>\n",
       "</table>\n",
       "</div>"
      ],
      "text/plain": [
       "                                          course_name    instructor_name  \\\n",
       "1   Python: Yapay Zeka ve Veri Bilimi için Python ...  Veri Bilimi Okulu   \n",
       "0   (50+ Saat) Python A-Z™: Veri Bilimi ve Machine...  Veri Bilimi Okulu   \n",
       "20                                           Course_9       Instructor_3   \n",
       "14                       Uçtan Uca SQL Server Eğitimi  Veri Bilimi Okulu   \n",
       "2            5 Saatte Veri Bilimci Olun (Valla Billa)       Instructor_1   \n",
       "10        İleri Düzey Excel|Dashboard|Excel İp Uçları  Veri Bilimi Okulu   \n",
       "15                      Uygulamalarla SQL Öğreniyorum  Veri Bilimi Okulu   \n",
       "4   (2020) Python ile Makine Öğrenmesi (Machine Le...  Veri Bilimi Okulu   \n",
       "11                                           Course_3       Instructor_4   \n",
       "3     R ile Veri Bilimi ve Machine Learning (35 Saat)  Veri Bilimi Okulu   \n",
       "\n",
       "    purchase_count  rating  commment_count  5_point  4_point  3_point  \\\n",
       "1            48291     4.6            4488     2962     1122      314   \n",
       "0            17380     4.8            4621     3466      924      185   \n",
       "20           12946     4.5            3371     2191      877      203   \n",
       "14           12893     4.7            2425     1722      510      145   \n",
       "2            18693     4.4            2362     1582      567      165   \n",
       "10            9554     4.8            2266     1654      499       91   \n",
       "15           11397     4.5            2353     1435      705      165   \n",
       "4            11314     4.6             969      717      194       38   \n",
       "11           24809     4.3             250       95       87       51   \n",
       "3             6626     4.6            1027      688      257       51   \n",
       "\n",
       "    2_point  1_point  purchase_count_scaled  comment_count_scaled  \\\n",
       "1        45       45               5.000000              4.884699   \n",
       "0        46        6               2.438014              5.000000   \n",
       "20       33       67               2.070512              3.916342   \n",
       "14       24       24               2.066120              3.096229   \n",
       "2        24       24               2.546839              3.041612   \n",
       "10       22        0               1.789374              2.958388   \n",
       "15       24       24               1.942127              3.033810   \n",
       "4        10       10               1.935248              1.833984   \n",
       "11       12        5               3.053749              1.210663   \n",
       "3        10       21               1.546694              1.884265   \n",
       "\n",
       "    weighted_sorting_score  \n",
       "1                 4.795104  \n",
       "0                 4.249884  \n",
       "20                3.681563  \n",
       "14                3.501984  \n",
       "2                 3.483494  \n",
       "10                3.427921  \n",
       "15                3.365772  \n",
       "4                 3.022039  \n",
       "11                2.987387  \n",
       "3                 2.937105  "
      ]
     },
     "execution_count": 47,
     "metadata": {},
     "output_type": "execute_result"
    }
   ],
   "source": [
    "df.sort_values(\"weighted_sorting_score\", ascending=False).head(10)"
   ]
  },
  {
   "cell_type": "markdown",
   "id": "b8b52c45",
   "metadata": {
    "papermill": {
     "duration": 0.035818,
     "end_time": "2023-11-13T13:58:51.923171",
     "exception": false,
     "start_time": "2023-11-13T13:58:51.887353",
     "status": "completed"
    },
    "tags": []
   },
   "source": [
    "<div style=\"border-radius:10px; border:#65647C solid; padding: 15px; background-color: #F8EDE3; font-size:100%; text-align:left\">\n",
    "\n",
    "<h3 align=\"left\"><font color='#7D6E83'><b>🗨️ Comment: </b></font></h3>\n",
    "\n",
    "* Considering the influence of the three factors, there has been a change in the ranking based on their weights. We can now have more confidence in this data compared to its previous state."
   ]
  },
  {
   "cell_type": "code",
   "execution_count": 48,
   "id": "66da775f",
   "metadata": {
    "execution": {
     "iopub.execute_input": "2023-11-13T13:58:51.998398Z",
     "iopub.status.busy": "2023-11-13T13:58:51.997914Z",
     "iopub.status.idle": "2023-11-13T13:58:52.015800Z",
     "shell.execute_reply": "2023-11-13T13:58:52.014691Z"
    },
    "papermill": {
     "duration": 0.058481,
     "end_time": "2023-11-13T13:58:52.018097",
     "exception": false,
     "start_time": "2023-11-13T13:58:51.959616",
     "status": "completed"
    },
    "tags": []
   },
   "outputs": [
    {
     "data": {
      "text/html": [
       "<div>\n",
       "<style scoped>\n",
       "    .dataframe tbody tr th:only-of-type {\n",
       "        vertical-align: middle;\n",
       "    }\n",
       "\n",
       "    .dataframe tbody tr th {\n",
       "        vertical-align: top;\n",
       "    }\n",
       "\n",
       "    .dataframe thead th {\n",
       "        text-align: right;\n",
       "    }\n",
       "</style>\n",
       "<table border=\"1\" class=\"dataframe\">\n",
       "  <thead>\n",
       "    <tr style=\"text-align: right;\">\n",
       "      <th></th>\n",
       "      <th>course_name</th>\n",
       "      <th>instructor_name</th>\n",
       "      <th>purchase_count</th>\n",
       "      <th>rating</th>\n",
       "      <th>commment_count</th>\n",
       "      <th>5_point</th>\n",
       "      <th>4_point</th>\n",
       "      <th>3_point</th>\n",
       "      <th>2_point</th>\n",
       "      <th>1_point</th>\n",
       "      <th>purchase_count_scaled</th>\n",
       "      <th>comment_count_scaled</th>\n",
       "      <th>weighted_sorting_score</th>\n",
       "    </tr>\n",
       "  </thead>\n",
       "  <tbody>\n",
       "    <tr>\n",
       "      <th>1</th>\n",
       "      <td>Python: Yapay Zeka ve Veri Bilimi için Python ...</td>\n",
       "      <td>Veri Bilimi Okulu</td>\n",
       "      <td>48291</td>\n",
       "      <td>4.6</td>\n",
       "      <td>4488</td>\n",
       "      <td>2962</td>\n",
       "      <td>1122</td>\n",
       "      <td>314</td>\n",
       "      <td>45</td>\n",
       "      <td>45</td>\n",
       "      <td>5.000000</td>\n",
       "      <td>4.884699</td>\n",
       "      <td>4.795104</td>\n",
       "    </tr>\n",
       "    <tr>\n",
       "      <th>0</th>\n",
       "      <td>(50+ Saat) Python A-Z™: Veri Bilimi ve Machine...</td>\n",
       "      <td>Veri Bilimi Okulu</td>\n",
       "      <td>17380</td>\n",
       "      <td>4.8</td>\n",
       "      <td>4621</td>\n",
       "      <td>3466</td>\n",
       "      <td>924</td>\n",
       "      <td>185</td>\n",
       "      <td>46</td>\n",
       "      <td>6</td>\n",
       "      <td>2.438014</td>\n",
       "      <td>5.000000</td>\n",
       "      <td>4.249884</td>\n",
       "    </tr>\n",
       "    <tr>\n",
       "      <th>3</th>\n",
       "      <td>R ile Veri Bilimi ve Machine Learning (35 Saat)</td>\n",
       "      <td>Veri Bilimi Okulu</td>\n",
       "      <td>6626</td>\n",
       "      <td>4.6</td>\n",
       "      <td>1027</td>\n",
       "      <td>688</td>\n",
       "      <td>257</td>\n",
       "      <td>51</td>\n",
       "      <td>10</td>\n",
       "      <td>21</td>\n",
       "      <td>1.546694</td>\n",
       "      <td>1.884265</td>\n",
       "      <td>2.937105</td>\n",
       "    </tr>\n",
       "    <tr>\n",
       "      <th>7</th>\n",
       "      <td>Veri Bilimi için İstatistik: Python ile İstati...</td>\n",
       "      <td>Veri Bilimi Okulu</td>\n",
       "      <td>929</td>\n",
       "      <td>4.5</td>\n",
       "      <td>126</td>\n",
       "      <td>88</td>\n",
       "      <td>26</td>\n",
       "      <td>9</td>\n",
       "      <td>0</td>\n",
       "      <td>3</td>\n",
       "      <td>1.074512</td>\n",
       "      <td>1.103164</td>\n",
       "      <td>2.522386</td>\n",
       "    </tr>\n",
       "  </tbody>\n",
       "</table>\n",
       "</div>"
      ],
      "text/plain": [
       "                                         course_name    instructor_name  \\\n",
       "1  Python: Yapay Zeka ve Veri Bilimi için Python ...  Veri Bilimi Okulu   \n",
       "0  (50+ Saat) Python A-Z™: Veri Bilimi ve Machine...  Veri Bilimi Okulu   \n",
       "3    R ile Veri Bilimi ve Machine Learning (35 Saat)  Veri Bilimi Okulu   \n",
       "7  Veri Bilimi için İstatistik: Python ile İstati...  Veri Bilimi Okulu   \n",
       "\n",
       "   purchase_count  rating  commment_count  5_point  4_point  3_point  2_point  \\\n",
       "1           48291     4.6            4488     2962     1122      314       45   \n",
       "0           17380     4.8            4621     3466      924      185       46   \n",
       "3            6626     4.6            1027      688      257       51       10   \n",
       "7             929     4.5             126       88       26        9        0   \n",
       "\n",
       "   1_point  purchase_count_scaled  comment_count_scaled  \\\n",
       "1       45               5.000000              4.884699   \n",
       "0        6               2.438014              5.000000   \n",
       "3       21               1.546694              1.884265   \n",
       "7        3               1.074512              1.103164   \n",
       "\n",
       "   weighted_sorting_score  \n",
       "1                4.795104  \n",
       "0                4.249884  \n",
       "3                2.937105  \n",
       "7                2.522386  "
      ]
     },
     "execution_count": 48,
     "metadata": {},
     "output_type": "execute_result"
    }
   ],
   "source": [
    "df[df[\"course_name\"].str.contains(\"Veri Bilimi\")].sort_values(\"weighted_sorting_score\", ascending=False)"
   ]
  },
  {
   "cell_type": "markdown",
   "id": "1477cfe5",
   "metadata": {
    "papermill": {
     "duration": 0.036988,
     "end_time": "2023-11-13T13:58:52.094589",
     "exception": false,
     "start_time": "2023-11-13T13:58:52.057601",
     "status": "completed"
    },
    "tags": []
   },
   "source": [
    "<a id = \"10\"></a><br>\n",
    "<p style=\"font-family: 'Pacifico', cursive; font-weight: bold; letter-spacing: 2px; color: #556B2F; font-size: 160%; text-align: left; padding: 0px; border-bottom: 3px solid\">✨Bayesian Average Rating Score✨</p>"
   ]
  },
  {
   "cell_type": "markdown",
   "id": "ece66a93",
   "metadata": {
    "papermill": {
     "duration": 0.036088,
     "end_time": "2023-11-13T13:58:52.166601",
     "exception": false,
     "start_time": "2023-11-13T13:58:52.130513",
     "status": "completed"
    },
    "tags": []
   },
   "source": [
    "Bayesian Average Rating Score, especially employed for analyzing user reviews and ratings, is a method that utilizes Bayesian statistics to more accurately evaluate and analyze user feedback.\n",
    "\n",
    "Traditional average rating calculations simply take the simple average of the scores given by users. However, this approach can lead to adverse effects on the data, especially when dealing with users who rarely give ratings or provide extreme scores. The Bayesian Average Rating Score aims to minimize such effects.\n",
    "\n",
    "The Bayesian approach combines the user's ratings with a prior distribution. The prior distribution signifies that the data is assumed to follow a predetermined or known distribution. This prior distribution is taken into account when calculating the contributions of users to the dataset. Consequently, the impacts of users who rarely give ratings or provide extreme scores are balanced, resulting in more reliable outcomes."
   ]
  },
  {
   "cell_type": "markdown",
   "id": "1c5179cc",
   "metadata": {
    "papermill": {
     "duration": 0.036355,
     "end_time": "2023-11-13T13:58:52.239281",
     "exception": false,
     "start_time": "2023-11-13T13:58:52.202926",
     "status": "completed"
    },
    "tags": []
   },
   "source": [
    "<div style=\"border-radius:10px; border:#D0C2F0 solid; padding: 15px; background-color: #F8E8EE; font-size:100%; text-align:left\">\n",
    "\n",
    "<h3 align=\"left\"><font color='#5E5273'>📄 Notes: </font></h3>\n",
    "\n",
    "* Another names about this topic;\n",
    "    * Sorting Products with 5 Star Rated\n",
    "    * Sorting Products According to Distribution of 5 Star Rating"
   ]
  },
  {
   "cell_type": "code",
   "execution_count": 49,
   "id": "e74a6a5d",
   "metadata": {
    "execution": {
     "iopub.execute_input": "2023-11-13T13:58:52.313483Z",
     "iopub.status.busy": "2023-11-13T13:58:52.313028Z",
     "iopub.status.idle": "2023-11-13T13:58:52.320451Z",
     "shell.execute_reply": "2023-11-13T13:58:52.319306Z"
    },
    "papermill": {
     "duration": 0.047124,
     "end_time": "2023-11-13T13:58:52.322485",
     "exception": false,
     "start_time": "2023-11-13T13:58:52.275361",
     "status": "completed"
    },
    "tags": []
   },
   "outputs": [],
   "source": [
    "def bayesian_average_rating(n, confidence=0.95):\n",
    "    \n",
    "    if sum(n) == 0:\n",
    "        \n",
    "        return 0\n",
    "    \n",
    "    K = len(n)\n",
    "    z = st.norm.ppf(1 - (1 - confidence) / 2)\n",
    "    N = sum(n)\n",
    "    \n",
    "    first_part = sum((k + 1) * (n_k + 1) / (N + K) for k, n_k in enumerate(n))\n",
    "    second_part = sum((k + 1) * (k + 1) * (n_k + 1) / (N + K) for k, n_k in enumerate(n))\n",
    "    \n",
    "    score = first_part - z * math.sqrt((second_part - first_part * first_part) / (N + K + 1))\n",
    "    \n",
    "    return score"
   ]
  },
  {
   "cell_type": "markdown",
   "id": "b5f67bce",
   "metadata": {
    "papermill": {
     "duration": 0.036089,
     "end_time": "2023-11-13T13:58:52.394537",
     "exception": false,
     "start_time": "2023-11-13T13:58:52.358448",
     "status": "completed"
    },
    "tags": []
   },
   "source": [
    "<div style=\"border-radius:10px; border:#65647C solid; padding: 15px; background-color: #F8EDE3; font-size:100%; text-align:left\">\n",
    "\n",
    "<h3 align=\"left\"><font color='#7D6E83'><b>🗨️ Comment: </b></font></h3>\n",
    "    \n",
    "The Bayesian Average Rating is a probabilistic method that calculates a weighted average based on the distribution of ratings.\n",
    "\n",
    "This method uses the distribution information of ratings from 1 to 5 in the dataset to compute an average rating.\n",
    "\n",
    "- `n`: Represents the number of stars to be entered and the observed frequency of these stars.\n",
    "- `confidence`: This is a value entered to obtain a Z-table value for the purpose of calculating a value."
   ]
  },
  {
   "cell_type": "code",
   "execution_count": 50,
   "id": "9faf9dfd",
   "metadata": {
    "execution": {
     "iopub.execute_input": "2023-11-13T13:58:52.468942Z",
     "iopub.status.busy": "2023-11-13T13:58:52.468189Z",
     "iopub.status.idle": "2023-11-13T13:58:52.484728Z",
     "shell.execute_reply": "2023-11-13T13:58:52.483605Z"
    },
    "papermill": {
     "duration": 0.056418,
     "end_time": "2023-11-13T13:58:52.486890",
     "exception": false,
     "start_time": "2023-11-13T13:58:52.430472",
     "status": "completed"
    },
    "tags": []
   },
   "outputs": [
    {
     "data": {
      "text/html": [
       "<div>\n",
       "<style scoped>\n",
       "    .dataframe tbody tr th:only-of-type {\n",
       "        vertical-align: middle;\n",
       "    }\n",
       "\n",
       "    .dataframe tbody tr th {\n",
       "        vertical-align: top;\n",
       "    }\n",
       "\n",
       "    .dataframe thead th {\n",
       "        text-align: right;\n",
       "    }\n",
       "</style>\n",
       "<table border=\"1\" class=\"dataframe\">\n",
       "  <thead>\n",
       "    <tr style=\"text-align: right;\">\n",
       "      <th></th>\n",
       "      <th>course_name</th>\n",
       "      <th>instructor_name</th>\n",
       "      <th>purchase_count</th>\n",
       "      <th>rating</th>\n",
       "      <th>commment_count</th>\n",
       "      <th>5_point</th>\n",
       "      <th>4_point</th>\n",
       "      <th>3_point</th>\n",
       "      <th>2_point</th>\n",
       "      <th>1_point</th>\n",
       "      <th>purchase_count_scaled</th>\n",
       "      <th>comment_count_scaled</th>\n",
       "      <th>weighted_sorting_score</th>\n",
       "    </tr>\n",
       "  </thead>\n",
       "  <tbody>\n",
       "    <tr>\n",
       "      <th>0</th>\n",
       "      <td>(50+ Saat) Python A-Z™: Veri Bilimi ve Machine...</td>\n",
       "      <td>Veri Bilimi Okulu</td>\n",
       "      <td>17380</td>\n",
       "      <td>4.8</td>\n",
       "      <td>4621</td>\n",
       "      <td>3466</td>\n",
       "      <td>924</td>\n",
       "      <td>185</td>\n",
       "      <td>46</td>\n",
       "      <td>6</td>\n",
       "      <td>2.438014</td>\n",
       "      <td>5.000000</td>\n",
       "      <td>4.249884</td>\n",
       "    </tr>\n",
       "    <tr>\n",
       "      <th>1</th>\n",
       "      <td>Python: Yapay Zeka ve Veri Bilimi için Python ...</td>\n",
       "      <td>Veri Bilimi Okulu</td>\n",
       "      <td>48291</td>\n",
       "      <td>4.6</td>\n",
       "      <td>4488</td>\n",
       "      <td>2962</td>\n",
       "      <td>1122</td>\n",
       "      <td>314</td>\n",
       "      <td>45</td>\n",
       "      <td>45</td>\n",
       "      <td>5.000000</td>\n",
       "      <td>4.884699</td>\n",
       "      <td>4.795104</td>\n",
       "    </tr>\n",
       "    <tr>\n",
       "      <th>2</th>\n",
       "      <td>5 Saatte Veri Bilimci Olun (Valla Billa)</td>\n",
       "      <td>Instructor_1</td>\n",
       "      <td>18693</td>\n",
       "      <td>4.4</td>\n",
       "      <td>2362</td>\n",
       "      <td>1582</td>\n",
       "      <td>567</td>\n",
       "      <td>165</td>\n",
       "      <td>24</td>\n",
       "      <td>24</td>\n",
       "      <td>2.546839</td>\n",
       "      <td>3.041612</td>\n",
       "      <td>3.483494</td>\n",
       "    </tr>\n",
       "    <tr>\n",
       "      <th>3</th>\n",
       "      <td>R ile Veri Bilimi ve Machine Learning (35 Saat)</td>\n",
       "      <td>Veri Bilimi Okulu</td>\n",
       "      <td>6626</td>\n",
       "      <td>4.6</td>\n",
       "      <td>1027</td>\n",
       "      <td>688</td>\n",
       "      <td>257</td>\n",
       "      <td>51</td>\n",
       "      <td>10</td>\n",
       "      <td>21</td>\n",
       "      <td>1.546694</td>\n",
       "      <td>1.884265</td>\n",
       "      <td>2.937105</td>\n",
       "    </tr>\n",
       "    <tr>\n",
       "      <th>4</th>\n",
       "      <td>(2020) Python ile Makine Öğrenmesi (Machine Le...</td>\n",
       "      <td>Veri Bilimi Okulu</td>\n",
       "      <td>11314</td>\n",
       "      <td>4.6</td>\n",
       "      <td>969</td>\n",
       "      <td>717</td>\n",
       "      <td>194</td>\n",
       "      <td>38</td>\n",
       "      <td>10</td>\n",
       "      <td>10</td>\n",
       "      <td>1.935248</td>\n",
       "      <td>1.833984</td>\n",
       "      <td>3.022039</td>\n",
       "    </tr>\n",
       "  </tbody>\n",
       "</table>\n",
       "</div>"
      ],
      "text/plain": [
       "                                         course_name    instructor_name  \\\n",
       "0  (50+ Saat) Python A-Z™: Veri Bilimi ve Machine...  Veri Bilimi Okulu   \n",
       "1  Python: Yapay Zeka ve Veri Bilimi için Python ...  Veri Bilimi Okulu   \n",
       "2           5 Saatte Veri Bilimci Olun (Valla Billa)       Instructor_1   \n",
       "3    R ile Veri Bilimi ve Machine Learning (35 Saat)  Veri Bilimi Okulu   \n",
       "4  (2020) Python ile Makine Öğrenmesi (Machine Le...  Veri Bilimi Okulu   \n",
       "\n",
       "   purchase_count  rating  commment_count  5_point  4_point  3_point  2_point  \\\n",
       "0           17380     4.8            4621     3466      924      185       46   \n",
       "1           48291     4.6            4488     2962     1122      314       45   \n",
       "2           18693     4.4            2362     1582      567      165       24   \n",
       "3            6626     4.6            1027      688      257       51       10   \n",
       "4           11314     4.6             969      717      194       38       10   \n",
       "\n",
       "   1_point  purchase_count_scaled  comment_count_scaled  \\\n",
       "0        6               2.438014              5.000000   \n",
       "1       45               5.000000              4.884699   \n",
       "2       24               2.546839              3.041612   \n",
       "3       21               1.546694              1.884265   \n",
       "4       10               1.935248              1.833984   \n",
       "\n",
       "   weighted_sorting_score  \n",
       "0                4.249884  \n",
       "1                4.795104  \n",
       "2                3.483494  \n",
       "3                2.937105  \n",
       "4                3.022039  "
      ]
     },
     "execution_count": 50,
     "metadata": {},
     "output_type": "execute_result"
    }
   ],
   "source": [
    "df.head()"
   ]
  },
  {
   "cell_type": "code",
   "execution_count": 51,
   "id": "70ea4adf",
   "metadata": {
    "execution": {
     "iopub.execute_input": "2023-11-13T13:58:52.562439Z",
     "iopub.status.busy": "2023-11-13T13:58:52.561724Z",
     "iopub.status.idle": "2023-11-13T13:58:52.594777Z",
     "shell.execute_reply": "2023-11-13T13:58:52.593826Z"
    },
    "papermill": {
     "duration": 0.073935,
     "end_time": "2023-11-13T13:58:52.597423",
     "exception": false,
     "start_time": "2023-11-13T13:58:52.523488",
     "status": "completed"
    },
    "tags": []
   },
   "outputs": [],
   "source": [
    "df[\"bar_score\"] = df.apply(lambda x: bayesian_average_rating(x[[\"1_point\",\n",
    "                                                                \"2_point\",\n",
    "                                                                \"3_point\",\n",
    "                                                                \"4_point\",\n",
    "                                                                \"5_point\"]]), axis=1)\n",
    "\n",
    "# It can also be named as \"bar_sorting_score,\" \"bar_rating,\" and \"bar_average_rating.\""
   ]
  },
  {
   "cell_type": "code",
   "execution_count": 52,
   "id": "1ba58092",
   "metadata": {
    "execution": {
     "iopub.execute_input": "2023-11-13T13:58:52.672908Z",
     "iopub.status.busy": "2023-11-13T13:58:52.672188Z",
     "iopub.status.idle": "2023-11-13T13:58:52.690599Z",
     "shell.execute_reply": "2023-11-13T13:58:52.689808Z"
    },
    "papermill": {
     "duration": 0.058633,
     "end_time": "2023-11-13T13:58:52.692731",
     "exception": false,
     "start_time": "2023-11-13T13:58:52.634098",
     "status": "completed"
    },
    "tags": []
   },
   "outputs": [
    {
     "data": {
      "text/html": [
       "<div>\n",
       "<style scoped>\n",
       "    .dataframe tbody tr th:only-of-type {\n",
       "        vertical-align: middle;\n",
       "    }\n",
       "\n",
       "    .dataframe tbody tr th {\n",
       "        vertical-align: top;\n",
       "    }\n",
       "\n",
       "    .dataframe thead th {\n",
       "        text-align: right;\n",
       "    }\n",
       "</style>\n",
       "<table border=\"1\" class=\"dataframe\">\n",
       "  <thead>\n",
       "    <tr style=\"text-align: right;\">\n",
       "      <th></th>\n",
       "      <th>course_name</th>\n",
       "      <th>instructor_name</th>\n",
       "      <th>purchase_count</th>\n",
       "      <th>rating</th>\n",
       "      <th>commment_count</th>\n",
       "      <th>5_point</th>\n",
       "      <th>4_point</th>\n",
       "      <th>3_point</th>\n",
       "      <th>2_point</th>\n",
       "      <th>1_point</th>\n",
       "      <th>purchase_count_scaled</th>\n",
       "      <th>comment_count_scaled</th>\n",
       "      <th>weighted_sorting_score</th>\n",
       "      <th>bar_score</th>\n",
       "    </tr>\n",
       "  </thead>\n",
       "  <tbody>\n",
       "    <tr>\n",
       "      <th>1</th>\n",
       "      <td>Python: Yapay Zeka ve Veri Bilimi için Python ...</td>\n",
       "      <td>Veri Bilimi Okulu</td>\n",
       "      <td>48291</td>\n",
       "      <td>4.6</td>\n",
       "      <td>4488</td>\n",
       "      <td>2962</td>\n",
       "      <td>1122</td>\n",
       "      <td>314</td>\n",
       "      <td>45</td>\n",
       "      <td>45</td>\n",
       "      <td>5.000000</td>\n",
       "      <td>4.884699</td>\n",
       "      <td>4.795104</td>\n",
       "      <td>4.516038</td>\n",
       "    </tr>\n",
       "    <tr>\n",
       "      <th>0</th>\n",
       "      <td>(50+ Saat) Python A-Z™: Veri Bilimi ve Machine...</td>\n",
       "      <td>Veri Bilimi Okulu</td>\n",
       "      <td>17380</td>\n",
       "      <td>4.8</td>\n",
       "      <td>4621</td>\n",
       "      <td>3466</td>\n",
       "      <td>924</td>\n",
       "      <td>185</td>\n",
       "      <td>46</td>\n",
       "      <td>6</td>\n",
       "      <td>2.438014</td>\n",
       "      <td>5.000000</td>\n",
       "      <td>4.249884</td>\n",
       "      <td>4.665857</td>\n",
       "    </tr>\n",
       "    <tr>\n",
       "      <th>20</th>\n",
       "      <td>Course_9</td>\n",
       "      <td>Instructor_3</td>\n",
       "      <td>12946</td>\n",
       "      <td>4.5</td>\n",
       "      <td>3371</td>\n",
       "      <td>2191</td>\n",
       "      <td>877</td>\n",
       "      <td>203</td>\n",
       "      <td>33</td>\n",
       "      <td>67</td>\n",
       "      <td>2.070512</td>\n",
       "      <td>3.916342</td>\n",
       "      <td>3.681563</td>\n",
       "      <td>4.480627</td>\n",
       "    </tr>\n",
       "    <tr>\n",
       "      <th>14</th>\n",
       "      <td>Uçtan Uca SQL Server Eğitimi</td>\n",
       "      <td>Veri Bilimi Okulu</td>\n",
       "      <td>12893</td>\n",
       "      <td>4.7</td>\n",
       "      <td>2425</td>\n",
       "      <td>1722</td>\n",
       "      <td>510</td>\n",
       "      <td>145</td>\n",
       "      <td>24</td>\n",
       "      <td>24</td>\n",
       "      <td>2.066120</td>\n",
       "      <td>3.096229</td>\n",
       "      <td>3.501984</td>\n",
       "      <td>4.568162</td>\n",
       "    </tr>\n",
       "    <tr>\n",
       "      <th>2</th>\n",
       "      <td>5 Saatte Veri Bilimci Olun (Valla Billa)</td>\n",
       "      <td>Instructor_1</td>\n",
       "      <td>18693</td>\n",
       "      <td>4.4</td>\n",
       "      <td>2362</td>\n",
       "      <td>1582</td>\n",
       "      <td>567</td>\n",
       "      <td>165</td>\n",
       "      <td>24</td>\n",
       "      <td>24</td>\n",
       "      <td>2.546839</td>\n",
       "      <td>3.041612</td>\n",
       "      <td>3.483494</td>\n",
       "      <td>4.515210</td>\n",
       "    </tr>\n",
       "    <tr>\n",
       "      <th>10</th>\n",
       "      <td>İleri Düzey Excel|Dashboard|Excel İp Uçları</td>\n",
       "      <td>Veri Bilimi Okulu</td>\n",
       "      <td>9554</td>\n",
       "      <td>4.8</td>\n",
       "      <td>2266</td>\n",
       "      <td>1654</td>\n",
       "      <td>499</td>\n",
       "      <td>91</td>\n",
       "      <td>22</td>\n",
       "      <td>0</td>\n",
       "      <td>1.789374</td>\n",
       "      <td>2.958388</td>\n",
       "      <td>3.427921</td>\n",
       "      <td>4.641679</td>\n",
       "    </tr>\n",
       "    <tr>\n",
       "      <th>15</th>\n",
       "      <td>Uygulamalarla SQL Öğreniyorum</td>\n",
       "      <td>Veri Bilimi Okulu</td>\n",
       "      <td>11397</td>\n",
       "      <td>4.5</td>\n",
       "      <td>2353</td>\n",
       "      <td>1435</td>\n",
       "      <td>705</td>\n",
       "      <td>165</td>\n",
       "      <td>24</td>\n",
       "      <td>24</td>\n",
       "      <td>1.942127</td>\n",
       "      <td>3.033810</td>\n",
       "      <td>3.365772</td>\n",
       "      <td>4.454811</td>\n",
       "    </tr>\n",
       "    <tr>\n",
       "      <th>4</th>\n",
       "      <td>(2020) Python ile Makine Öğrenmesi (Machine Le...</td>\n",
       "      <td>Veri Bilimi Okulu</td>\n",
       "      <td>11314</td>\n",
       "      <td>4.6</td>\n",
       "      <td>969</td>\n",
       "      <td>717</td>\n",
       "      <td>194</td>\n",
       "      <td>38</td>\n",
       "      <td>10</td>\n",
       "      <td>10</td>\n",
       "      <td>1.935248</td>\n",
       "      <td>1.833984</td>\n",
       "      <td>3.022039</td>\n",
       "      <td>4.595674</td>\n",
       "    </tr>\n",
       "    <tr>\n",
       "      <th>11</th>\n",
       "      <td>Course_3</td>\n",
       "      <td>Instructor_4</td>\n",
       "      <td>24809</td>\n",
       "      <td>4.3</td>\n",
       "      <td>250</td>\n",
       "      <td>95</td>\n",
       "      <td>87</td>\n",
       "      <td>51</td>\n",
       "      <td>12</td>\n",
       "      <td>5</td>\n",
       "      <td>3.053749</td>\n",
       "      <td>1.210663</td>\n",
       "      <td>2.987387</td>\n",
       "      <td>3.877743</td>\n",
       "    </tr>\n",
       "    <tr>\n",
       "      <th>3</th>\n",
       "      <td>R ile Veri Bilimi ve Machine Learning (35 Saat)</td>\n",
       "      <td>Veri Bilimi Okulu</td>\n",
       "      <td>6626</td>\n",
       "      <td>4.6</td>\n",
       "      <td>1027</td>\n",
       "      <td>688</td>\n",
       "      <td>257</td>\n",
       "      <td>51</td>\n",
       "      <td>10</td>\n",
       "      <td>21</td>\n",
       "      <td>1.546694</td>\n",
       "      <td>1.884265</td>\n",
       "      <td>2.937105</td>\n",
       "      <td>4.482079</td>\n",
       "    </tr>\n",
       "  </tbody>\n",
       "</table>\n",
       "</div>"
      ],
      "text/plain": [
       "                                          course_name    instructor_name  \\\n",
       "1   Python: Yapay Zeka ve Veri Bilimi için Python ...  Veri Bilimi Okulu   \n",
       "0   (50+ Saat) Python A-Z™: Veri Bilimi ve Machine...  Veri Bilimi Okulu   \n",
       "20                                           Course_9       Instructor_3   \n",
       "14                       Uçtan Uca SQL Server Eğitimi  Veri Bilimi Okulu   \n",
       "2            5 Saatte Veri Bilimci Olun (Valla Billa)       Instructor_1   \n",
       "10        İleri Düzey Excel|Dashboard|Excel İp Uçları  Veri Bilimi Okulu   \n",
       "15                      Uygulamalarla SQL Öğreniyorum  Veri Bilimi Okulu   \n",
       "4   (2020) Python ile Makine Öğrenmesi (Machine Le...  Veri Bilimi Okulu   \n",
       "11                                           Course_3       Instructor_4   \n",
       "3     R ile Veri Bilimi ve Machine Learning (35 Saat)  Veri Bilimi Okulu   \n",
       "\n",
       "    purchase_count  rating  commment_count  5_point  4_point  3_point  \\\n",
       "1            48291     4.6            4488     2962     1122      314   \n",
       "0            17380     4.8            4621     3466      924      185   \n",
       "20           12946     4.5            3371     2191      877      203   \n",
       "14           12893     4.7            2425     1722      510      145   \n",
       "2            18693     4.4            2362     1582      567      165   \n",
       "10            9554     4.8            2266     1654      499       91   \n",
       "15           11397     4.5            2353     1435      705      165   \n",
       "4            11314     4.6             969      717      194       38   \n",
       "11           24809     4.3             250       95       87       51   \n",
       "3             6626     4.6            1027      688      257       51   \n",
       "\n",
       "    2_point  1_point  purchase_count_scaled  comment_count_scaled  \\\n",
       "1        45       45               5.000000              4.884699   \n",
       "0        46        6               2.438014              5.000000   \n",
       "20       33       67               2.070512              3.916342   \n",
       "14       24       24               2.066120              3.096229   \n",
       "2        24       24               2.546839              3.041612   \n",
       "10       22        0               1.789374              2.958388   \n",
       "15       24       24               1.942127              3.033810   \n",
       "4        10       10               1.935248              1.833984   \n",
       "11       12        5               3.053749              1.210663   \n",
       "3        10       21               1.546694              1.884265   \n",
       "\n",
       "    weighted_sorting_score  bar_score  \n",
       "1                 4.795104   4.516038  \n",
       "0                 4.249884   4.665857  \n",
       "20                3.681563   4.480627  \n",
       "14                3.501984   4.568162  \n",
       "2                 3.483494   4.515210  \n",
       "10                3.427921   4.641679  \n",
       "15                3.365772   4.454811  \n",
       "4                 3.022039   4.595674  \n",
       "11                2.987387   3.877743  \n",
       "3                 2.937105   4.482079  "
      ]
     },
     "execution_count": 52,
     "metadata": {},
     "output_type": "execute_result"
    }
   ],
   "source": [
    "df.sort_values(\"weighted_sorting_score\", ascending=False).head(10)"
   ]
  },
  {
   "cell_type": "code",
   "execution_count": 53,
   "id": "f7f124e6",
   "metadata": {
    "execution": {
     "iopub.execute_input": "2023-11-13T13:58:52.768576Z",
     "iopub.status.busy": "2023-11-13T13:58:52.767837Z",
     "iopub.status.idle": "2023-11-13T13:58:52.786877Z",
     "shell.execute_reply": "2023-11-13T13:58:52.785797Z"
    },
    "papermill": {
     "duration": 0.059434,
     "end_time": "2023-11-13T13:58:52.789087",
     "exception": false,
     "start_time": "2023-11-13T13:58:52.729653",
     "status": "completed"
    },
    "tags": []
   },
   "outputs": [
    {
     "data": {
      "text/html": [
       "<div>\n",
       "<style scoped>\n",
       "    .dataframe tbody tr th:only-of-type {\n",
       "        vertical-align: middle;\n",
       "    }\n",
       "\n",
       "    .dataframe tbody tr th {\n",
       "        vertical-align: top;\n",
       "    }\n",
       "\n",
       "    .dataframe thead th {\n",
       "        text-align: right;\n",
       "    }\n",
       "</style>\n",
       "<table border=\"1\" class=\"dataframe\">\n",
       "  <thead>\n",
       "    <tr style=\"text-align: right;\">\n",
       "      <th></th>\n",
       "      <th>course_name</th>\n",
       "      <th>instructor_name</th>\n",
       "      <th>purchase_count</th>\n",
       "      <th>rating</th>\n",
       "      <th>commment_count</th>\n",
       "      <th>5_point</th>\n",
       "      <th>4_point</th>\n",
       "      <th>3_point</th>\n",
       "      <th>2_point</th>\n",
       "      <th>1_point</th>\n",
       "      <th>purchase_count_scaled</th>\n",
       "      <th>comment_count_scaled</th>\n",
       "      <th>weighted_sorting_score</th>\n",
       "      <th>bar_score</th>\n",
       "    </tr>\n",
       "  </thead>\n",
       "  <tbody>\n",
       "    <tr>\n",
       "      <th>19</th>\n",
       "      <td>Alıştırmalarla SQL Öğreniyorum</td>\n",
       "      <td>Veri Bilimi Okulu</td>\n",
       "      <td>3155</td>\n",
       "      <td>4.8</td>\n",
       "      <td>235</td>\n",
       "      <td>200</td>\n",
       "      <td>31</td>\n",
       "      <td>4</td>\n",
       "      <td>0</td>\n",
       "      <td>0</td>\n",
       "      <td>1.259008</td>\n",
       "      <td>1.197659</td>\n",
       "      <td>2.726593</td>\n",
       "      <td>4.729128</td>\n",
       "    </tr>\n",
       "    <tr>\n",
       "      <th>0</th>\n",
       "      <td>(50+ Saat) Python A-Z™: Veri Bilimi ve Machine...</td>\n",
       "      <td>Veri Bilimi Okulu</td>\n",
       "      <td>17380</td>\n",
       "      <td>4.8</td>\n",
       "      <td>4621</td>\n",
       "      <td>3466</td>\n",
       "      <td>924</td>\n",
       "      <td>185</td>\n",
       "      <td>46</td>\n",
       "      <td>6</td>\n",
       "      <td>2.438014</td>\n",
       "      <td>5.000000</td>\n",
       "      <td>4.249884</td>\n",
       "      <td>4.665857</td>\n",
       "    </tr>\n",
       "    <tr>\n",
       "      <th>10</th>\n",
       "      <td>İleri Düzey Excel|Dashboard|Excel İp Uçları</td>\n",
       "      <td>Veri Bilimi Okulu</td>\n",
       "      <td>9554</td>\n",
       "      <td>4.8</td>\n",
       "      <td>2266</td>\n",
       "      <td>1654</td>\n",
       "      <td>499</td>\n",
       "      <td>91</td>\n",
       "      <td>22</td>\n",
       "      <td>0</td>\n",
       "      <td>1.789374</td>\n",
       "      <td>2.958388</td>\n",
       "      <td>3.427921</td>\n",
       "      <td>4.641679</td>\n",
       "    </tr>\n",
       "    <tr>\n",
       "      <th>5</th>\n",
       "      <td>Course_1</td>\n",
       "      <td>Instructor_2</td>\n",
       "      <td>4601</td>\n",
       "      <td>4.8</td>\n",
       "      <td>213</td>\n",
       "      <td>164</td>\n",
       "      <td>45</td>\n",
       "      <td>4</td>\n",
       "      <td>0</td>\n",
       "      <td>0</td>\n",
       "      <td>1.378857</td>\n",
       "      <td>1.178587</td>\n",
       "      <td>2.751651</td>\n",
       "      <td>4.634477</td>\n",
       "    </tr>\n",
       "    <tr>\n",
       "      <th>4</th>\n",
       "      <td>(2020) Python ile Makine Öğrenmesi (Machine Le...</td>\n",
       "      <td>Veri Bilimi Okulu</td>\n",
       "      <td>11314</td>\n",
       "      <td>4.6</td>\n",
       "      <td>969</td>\n",
       "      <td>717</td>\n",
       "      <td>194</td>\n",
       "      <td>38</td>\n",
       "      <td>10</td>\n",
       "      <td>10</td>\n",
       "      <td>1.935248</td>\n",
       "      <td>1.833984</td>\n",
       "      <td>3.022039</td>\n",
       "      <td>4.595674</td>\n",
       "    </tr>\n",
       "    <tr>\n",
       "      <th>14</th>\n",
       "      <td>Uçtan Uca SQL Server Eğitimi</td>\n",
       "      <td>Veri Bilimi Okulu</td>\n",
       "      <td>12893</td>\n",
       "      <td>4.7</td>\n",
       "      <td>2425</td>\n",
       "      <td>1722</td>\n",
       "      <td>510</td>\n",
       "      <td>145</td>\n",
       "      <td>24</td>\n",
       "      <td>24</td>\n",
       "      <td>2.066120</td>\n",
       "      <td>3.096229</td>\n",
       "      <td>3.501984</td>\n",
       "      <td>4.568162</td>\n",
       "    </tr>\n",
       "    <tr>\n",
       "      <th>1</th>\n",
       "      <td>Python: Yapay Zeka ve Veri Bilimi için Python ...</td>\n",
       "      <td>Veri Bilimi Okulu</td>\n",
       "      <td>48291</td>\n",
       "      <td>4.6</td>\n",
       "      <td>4488</td>\n",
       "      <td>2962</td>\n",
       "      <td>1122</td>\n",
       "      <td>314</td>\n",
       "      <td>45</td>\n",
       "      <td>45</td>\n",
       "      <td>5.000000</td>\n",
       "      <td>4.884699</td>\n",
       "      <td>4.795104</td>\n",
       "      <td>4.516038</td>\n",
       "    </tr>\n",
       "    <tr>\n",
       "      <th>2</th>\n",
       "      <td>5 Saatte Veri Bilimci Olun (Valla Billa)</td>\n",
       "      <td>Instructor_1</td>\n",
       "      <td>18693</td>\n",
       "      <td>4.4</td>\n",
       "      <td>2362</td>\n",
       "      <td>1582</td>\n",
       "      <td>567</td>\n",
       "      <td>165</td>\n",
       "      <td>24</td>\n",
       "      <td>24</td>\n",
       "      <td>2.546839</td>\n",
       "      <td>3.041612</td>\n",
       "      <td>3.483494</td>\n",
       "      <td>4.515210</td>\n",
       "    </tr>\n",
       "    <tr>\n",
       "      <th>6</th>\n",
       "      <td>Course_2</td>\n",
       "      <td>Instructor_3</td>\n",
       "      <td>3171</td>\n",
       "      <td>4.7</td>\n",
       "      <td>856</td>\n",
       "      <td>582</td>\n",
       "      <td>205</td>\n",
       "      <td>51</td>\n",
       "      <td>9</td>\n",
       "      <td>9</td>\n",
       "      <td>1.260334</td>\n",
       "      <td>1.736021</td>\n",
       "      <td>2.857214</td>\n",
       "      <td>4.507970</td>\n",
       "    </tr>\n",
       "    <tr>\n",
       "      <th>3</th>\n",
       "      <td>R ile Veri Bilimi ve Machine Learning (35 Saat)</td>\n",
       "      <td>Veri Bilimi Okulu</td>\n",
       "      <td>6626</td>\n",
       "      <td>4.6</td>\n",
       "      <td>1027</td>\n",
       "      <td>688</td>\n",
       "      <td>257</td>\n",
       "      <td>51</td>\n",
       "      <td>10</td>\n",
       "      <td>21</td>\n",
       "      <td>1.546694</td>\n",
       "      <td>1.884265</td>\n",
       "      <td>2.937105</td>\n",
       "      <td>4.482079</td>\n",
       "    </tr>\n",
       "  </tbody>\n",
       "</table>\n",
       "</div>"
      ],
      "text/plain": [
       "                                          course_name    instructor_name  \\\n",
       "19                     Alıştırmalarla SQL Öğreniyorum  Veri Bilimi Okulu   \n",
       "0   (50+ Saat) Python A-Z™: Veri Bilimi ve Machine...  Veri Bilimi Okulu   \n",
       "10        İleri Düzey Excel|Dashboard|Excel İp Uçları  Veri Bilimi Okulu   \n",
       "5                                            Course_1       Instructor_2   \n",
       "4   (2020) Python ile Makine Öğrenmesi (Machine Le...  Veri Bilimi Okulu   \n",
       "14                       Uçtan Uca SQL Server Eğitimi  Veri Bilimi Okulu   \n",
       "1   Python: Yapay Zeka ve Veri Bilimi için Python ...  Veri Bilimi Okulu   \n",
       "2            5 Saatte Veri Bilimci Olun (Valla Billa)       Instructor_1   \n",
       "6                                            Course_2       Instructor_3   \n",
       "3     R ile Veri Bilimi ve Machine Learning (35 Saat)  Veri Bilimi Okulu   \n",
       "\n",
       "    purchase_count  rating  commment_count  5_point  4_point  3_point  \\\n",
       "19            3155     4.8             235      200       31        4   \n",
       "0            17380     4.8            4621     3466      924      185   \n",
       "10            9554     4.8            2266     1654      499       91   \n",
       "5             4601     4.8             213      164       45        4   \n",
       "4            11314     4.6             969      717      194       38   \n",
       "14           12893     4.7            2425     1722      510      145   \n",
       "1            48291     4.6            4488     2962     1122      314   \n",
       "2            18693     4.4            2362     1582      567      165   \n",
       "6             3171     4.7             856      582      205       51   \n",
       "3             6626     4.6            1027      688      257       51   \n",
       "\n",
       "    2_point  1_point  purchase_count_scaled  comment_count_scaled  \\\n",
       "19        0        0               1.259008              1.197659   \n",
       "0        46        6               2.438014              5.000000   \n",
       "10       22        0               1.789374              2.958388   \n",
       "5         0        0               1.378857              1.178587   \n",
       "4        10       10               1.935248              1.833984   \n",
       "14       24       24               2.066120              3.096229   \n",
       "1        45       45               5.000000              4.884699   \n",
       "2        24       24               2.546839              3.041612   \n",
       "6         9        9               1.260334              1.736021   \n",
       "3        10       21               1.546694              1.884265   \n",
       "\n",
       "    weighted_sorting_score  bar_score  \n",
       "19                2.726593   4.729128  \n",
       "0                 4.249884   4.665857  \n",
       "10                3.427921   4.641679  \n",
       "5                 2.751651   4.634477  \n",
       "4                 3.022039   4.595674  \n",
       "14                3.501984   4.568162  \n",
       "1                 4.795104   4.516038  \n",
       "2                 3.483494   4.515210  \n",
       "6                 2.857214   4.507970  \n",
       "3                 2.937105   4.482079  "
      ]
     },
     "execution_count": 53,
     "metadata": {},
     "output_type": "execute_result"
    }
   ],
   "source": [
    "df.sort_values(\"bar_score\", ascending=False).head(10)"
   ]
  },
  {
   "cell_type": "markdown",
   "id": "12896b62",
   "metadata": {
    "papermill": {
     "duration": 0.037626,
     "end_time": "2023-11-13T13:58:52.864386",
     "exception": false,
     "start_time": "2023-11-13T13:58:52.826760",
     "status": "completed"
    },
    "tags": []
   },
   "source": [
    "<div style=\"border-radius:10px; border:#65647C solid; padding: 15px; background-color: #F8EDE3; font-size:100%; text-align:left\">\n",
    "\n",
    "<h3 align=\"left\"><font color='#7D6E83'><b>🗨️ Comment: </b></font></h3>\n",
    "    \n",
    "The \"bar_score\" provides a ranking solely based on ratings. Therefore, this score, which is created based on the distribution of ratings, can be considered a scientifically calculated score within the rating calculation.\n",
    "\n",
    "Looking at the above ranking, courses with still low comment and purchase counts remain at the top. The main reason for this is that **\"bar_score\"** is created solely based on ratings.\n",
    "\n",
    "Examining the 1st and 5th indices below, we can understand that the reason for this is the zero values in **\"1_point\"** and **\"2_point\"**. This is why they have a high score despite low percentages."
   ]
  },
  {
   "cell_type": "code",
   "execution_count": 54,
   "id": "90caed20",
   "metadata": {
    "execution": {
     "iopub.execute_input": "2023-11-13T13:58:52.942556Z",
     "iopub.status.busy": "2023-11-13T13:58:52.941498Z",
     "iopub.status.idle": "2023-11-13T13:58:52.958191Z",
     "shell.execute_reply": "2023-11-13T13:58:52.957428Z"
    },
    "papermill": {
     "duration": 0.058002,
     "end_time": "2023-11-13T13:58:52.960198",
     "exception": false,
     "start_time": "2023-11-13T13:58:52.902196",
     "status": "completed"
    },
    "tags": []
   },
   "outputs": [
    {
     "data": {
      "text/html": [
       "<div>\n",
       "<style scoped>\n",
       "    .dataframe tbody tr th:only-of-type {\n",
       "        vertical-align: middle;\n",
       "    }\n",
       "\n",
       "    .dataframe tbody tr th {\n",
       "        vertical-align: top;\n",
       "    }\n",
       "\n",
       "    .dataframe thead th {\n",
       "        text-align: right;\n",
       "    }\n",
       "</style>\n",
       "<table border=\"1\" class=\"dataframe\">\n",
       "  <thead>\n",
       "    <tr style=\"text-align: right;\">\n",
       "      <th></th>\n",
       "      <th>course_name</th>\n",
       "      <th>instructor_name</th>\n",
       "      <th>purchase_count</th>\n",
       "      <th>rating</th>\n",
       "      <th>commment_count</th>\n",
       "      <th>5_point</th>\n",
       "      <th>4_point</th>\n",
       "      <th>3_point</th>\n",
       "      <th>2_point</th>\n",
       "      <th>1_point</th>\n",
       "      <th>purchase_count_scaled</th>\n",
       "      <th>comment_count_scaled</th>\n",
       "      <th>weighted_sorting_score</th>\n",
       "      <th>bar_score</th>\n",
       "    </tr>\n",
       "  </thead>\n",
       "  <tbody>\n",
       "    <tr>\n",
       "      <th>5</th>\n",
       "      <td>Course_1</td>\n",
       "      <td>Instructor_2</td>\n",
       "      <td>4601</td>\n",
       "      <td>4.8</td>\n",
       "      <td>213</td>\n",
       "      <td>164</td>\n",
       "      <td>45</td>\n",
       "      <td>4</td>\n",
       "      <td>0</td>\n",
       "      <td>0</td>\n",
       "      <td>1.378857</td>\n",
       "      <td>1.178587</td>\n",
       "      <td>2.751651</td>\n",
       "      <td>4.634477</td>\n",
       "    </tr>\n",
       "    <tr>\n",
       "      <th>1</th>\n",
       "      <td>Python: Yapay Zeka ve Veri Bilimi için Python ...</td>\n",
       "      <td>Veri Bilimi Okulu</td>\n",
       "      <td>48291</td>\n",
       "      <td>4.6</td>\n",
       "      <td>4488</td>\n",
       "      <td>2962</td>\n",
       "      <td>1122</td>\n",
       "      <td>314</td>\n",
       "      <td>45</td>\n",
       "      <td>45</td>\n",
       "      <td>5.000000</td>\n",
       "      <td>4.884699</td>\n",
       "      <td>4.795104</td>\n",
       "      <td>4.516038</td>\n",
       "    </tr>\n",
       "  </tbody>\n",
       "</table>\n",
       "</div>"
      ],
      "text/plain": [
       "                                         course_name    instructor_name  \\\n",
       "5                                           Course_1       Instructor_2   \n",
       "1  Python: Yapay Zeka ve Veri Bilimi için Python ...  Veri Bilimi Okulu   \n",
       "\n",
       "   purchase_count  rating  commment_count  5_point  4_point  3_point  2_point  \\\n",
       "5            4601     4.8             213      164       45        4        0   \n",
       "1           48291     4.6            4488     2962     1122      314       45   \n",
       "\n",
       "   1_point  purchase_count_scaled  comment_count_scaled  \\\n",
       "5        0               1.378857              1.178587   \n",
       "1       45               5.000000              4.884699   \n",
       "\n",
       "   weighted_sorting_score  bar_score  \n",
       "5                2.751651   4.634477  \n",
       "1                4.795104   4.516038  "
      ]
     },
     "execution_count": 54,
     "metadata": {},
     "output_type": "execute_result"
    }
   ],
   "source": [
    "df[df[\"course_name\"].index.isin([5, 1])].sort_values(\"bar_score\", ascending=False)"
   ]
  },
  {
   "cell_type": "markdown",
   "id": "c7808034",
   "metadata": {
    "papermill": {
     "duration": 0.037802,
     "end_time": "2023-11-13T13:58:53.036198",
     "exception": false,
     "start_time": "2023-11-13T13:58:52.998396",
     "status": "completed"
    },
    "tags": []
   },
   "source": [
    "<a id = \"11\"></a><br>\n",
    "<p style=\"font-family: 'Pacifico', cursive; font-weight: bold; letter-spacing: 2px; color: #556B2F; font-size: 160%; text-align: left; padding: 0px; border-bottom: 3px solid\">✨Hybrid Sorting✨</p>"
   ]
  },
  {
   "cell_type": "markdown",
   "id": "364ed652",
   "metadata": {
    "papermill": {
     "duration": 0.038523,
     "end_time": "2023-11-13T13:58:53.114467",
     "exception": false,
     "start_time": "2023-11-13T13:58:53.075944",
     "status": "completed"
    },
    "tags": []
   },
   "source": [
    "<div style=\"border-radius:10px; border:#65647C solid; padding: 15px; background-color: #F8EDE3; font-size:100%; text-align:left\">\n",
    "\n",
    "<h3 align=\"left\"><font color='#7D6E83'><b>🗨️ Comment: </b></font></h3>\n",
    "    \n",
    "* The steps we've taken so far are as follows:\n",
    "\n",
    "    - First, we calculated the averages for Average, Time-Based Weighted Average, and User-Based Weighted Average.\n",
    "    - After calculating these, we looked at the weighted averages of these three values.\n",
    "    - As observed, we can use the Bayesian Average Rating Score for scoring. When we calculate ratings solely based on Bayesian calculations, it may slightly reduce the existing scores, making its usage debatable.\n",
    "    - Another method is to add the Bayesian value as a weight to the calculated scores.\n",
    "    - Additionally, we noticed that we couldn't sort products using only Rating, Comment, or Purchase (WSS). We created a scoring system using these three factors, which can be a solution to many of our problems.\n",
    "    - Taking it a step further, we calculated the Bayesian Average Rating Score, which is a new scoring system based on the distribution of ratings.\n",
    "    - Now, we are going to combine the Bar Score with the factors of Rating, Comment, or Purchase.\n",
    "    - Although the Bar Score is scientifically reliable, a hybrid calculation can be done to account for the factors that may have been overlooked."
   ]
  },
  {
   "cell_type": "code",
   "execution_count": 55,
   "id": "66aa9744",
   "metadata": {
    "execution": {
     "iopub.execute_input": "2023-11-13T13:58:53.193332Z",
     "iopub.status.busy": "2023-11-13T13:58:53.192585Z",
     "iopub.status.idle": "2023-11-13T13:58:53.197987Z",
     "shell.execute_reply": "2023-11-13T13:58:53.197232Z"
    },
    "papermill": {
     "duration": 0.047267,
     "end_time": "2023-11-13T13:58:53.199928",
     "exception": false,
     "start_time": "2023-11-13T13:58:53.152661",
     "status": "completed"
    },
    "tags": []
   },
   "outputs": [],
   "source": [
    "def hybrid_sorting_score(dataframe, bar_w=60, wss_w=40):\n",
    "    \n",
    "    bar_score = dataframe.apply(lambda x: bayesian_average_rating(x[[\"1_point\",\n",
    "                                                                     \"2_point\",\n",
    "                                                                     \"3_point\",\n",
    "                                                                     \"4_point\",\n",
    "                                                                     \"5_point\"]]), axis=1)\n",
    "    wss_score = weighted_sorting_score(dataframe)\n",
    "\n",
    "    return bar_score*bar_w/100 + wss_score*wss_w/100"
   ]
  },
  {
   "cell_type": "code",
   "execution_count": 56,
   "id": "394cb849",
   "metadata": {
    "execution": {
     "iopub.execute_input": "2023-11-13T13:58:53.279450Z",
     "iopub.status.busy": "2023-11-13T13:58:53.278724Z",
     "iopub.status.idle": "2023-11-13T13:58:53.310713Z",
     "shell.execute_reply": "2023-11-13T13:58:53.309530Z"
    },
    "papermill": {
     "duration": 0.074452,
     "end_time": "2023-11-13T13:58:53.313549",
     "exception": false,
     "start_time": "2023-11-13T13:58:53.239097",
     "status": "completed"
    },
    "tags": []
   },
   "outputs": [],
   "source": [
    "df[\"hybrid_sorting_score\"] = hybrid_sorting_score(df)"
   ]
  },
  {
   "cell_type": "code",
   "execution_count": 57,
   "id": "e509870b",
   "metadata": {
    "execution": {
     "iopub.execute_input": "2023-11-13T13:58:53.391418Z",
     "iopub.status.busy": "2023-11-13T13:58:53.390936Z",
     "iopub.status.idle": "2023-11-13T13:58:53.412345Z",
     "shell.execute_reply": "2023-11-13T13:58:53.411238Z"
    },
    "papermill": {
     "duration": 0.063051,
     "end_time": "2023-11-13T13:58:53.414628",
     "exception": false,
     "start_time": "2023-11-13T13:58:53.351577",
     "status": "completed"
    },
    "tags": []
   },
   "outputs": [
    {
     "data": {
      "text/html": [
       "<div>\n",
       "<style scoped>\n",
       "    .dataframe tbody tr th:only-of-type {\n",
       "        vertical-align: middle;\n",
       "    }\n",
       "\n",
       "    .dataframe tbody tr th {\n",
       "        vertical-align: top;\n",
       "    }\n",
       "\n",
       "    .dataframe thead th {\n",
       "        text-align: right;\n",
       "    }\n",
       "</style>\n",
       "<table border=\"1\" class=\"dataframe\">\n",
       "  <thead>\n",
       "    <tr style=\"text-align: right;\">\n",
       "      <th></th>\n",
       "      <th>course_name</th>\n",
       "      <th>instructor_name</th>\n",
       "      <th>purchase_count</th>\n",
       "      <th>rating</th>\n",
       "      <th>commment_count</th>\n",
       "      <th>5_point</th>\n",
       "      <th>4_point</th>\n",
       "      <th>3_point</th>\n",
       "      <th>2_point</th>\n",
       "      <th>1_point</th>\n",
       "      <th>purchase_count_scaled</th>\n",
       "      <th>comment_count_scaled</th>\n",
       "      <th>weighted_sorting_score</th>\n",
       "      <th>bar_score</th>\n",
       "      <th>hybrid_sorting_score</th>\n",
       "    </tr>\n",
       "  </thead>\n",
       "  <tbody>\n",
       "    <tr>\n",
       "      <th>1</th>\n",
       "      <td>Python: Yapay Zeka ve Veri Bilimi için Python ...</td>\n",
       "      <td>Veri Bilimi Okulu</td>\n",
       "      <td>48291</td>\n",
       "      <td>4.6</td>\n",
       "      <td>4488</td>\n",
       "      <td>2962</td>\n",
       "      <td>1122</td>\n",
       "      <td>314</td>\n",
       "      <td>45</td>\n",
       "      <td>45</td>\n",
       "      <td>5.000000</td>\n",
       "      <td>4.884699</td>\n",
       "      <td>4.795104</td>\n",
       "      <td>4.516038</td>\n",
       "      <td>4.627664</td>\n",
       "    </tr>\n",
       "    <tr>\n",
       "      <th>0</th>\n",
       "      <td>(50+ Saat) Python A-Z™: Veri Bilimi ve Machine...</td>\n",
       "      <td>Veri Bilimi Okulu</td>\n",
       "      <td>17380</td>\n",
       "      <td>4.8</td>\n",
       "      <td>4621</td>\n",
       "      <td>3466</td>\n",
       "      <td>924</td>\n",
       "      <td>185</td>\n",
       "      <td>46</td>\n",
       "      <td>6</td>\n",
       "      <td>2.438014</td>\n",
       "      <td>5.000000</td>\n",
       "      <td>4.249884</td>\n",
       "      <td>4.665857</td>\n",
       "      <td>4.499468</td>\n",
       "    </tr>\n",
       "    <tr>\n",
       "      <th>20</th>\n",
       "      <td>Course_9</td>\n",
       "      <td>Instructor_3</td>\n",
       "      <td>12946</td>\n",
       "      <td>4.5</td>\n",
       "      <td>3371</td>\n",
       "      <td>2191</td>\n",
       "      <td>877</td>\n",
       "      <td>203</td>\n",
       "      <td>33</td>\n",
       "      <td>67</td>\n",
       "      <td>2.070512</td>\n",
       "      <td>3.916342</td>\n",
       "      <td>3.681563</td>\n",
       "      <td>4.480627</td>\n",
       "      <td>4.161001</td>\n",
       "    </tr>\n",
       "    <tr>\n",
       "      <th>10</th>\n",
       "      <td>İleri Düzey Excel|Dashboard|Excel İp Uçları</td>\n",
       "      <td>Veri Bilimi Okulu</td>\n",
       "      <td>9554</td>\n",
       "      <td>4.8</td>\n",
       "      <td>2266</td>\n",
       "      <td>1654</td>\n",
       "      <td>499</td>\n",
       "      <td>91</td>\n",
       "      <td>22</td>\n",
       "      <td>0</td>\n",
       "      <td>1.789374</td>\n",
       "      <td>2.958388</td>\n",
       "      <td>3.427921</td>\n",
       "      <td>4.641679</td>\n",
       "      <td>4.156176</td>\n",
       "    </tr>\n",
       "    <tr>\n",
       "      <th>14</th>\n",
       "      <td>Uçtan Uca SQL Server Eğitimi</td>\n",
       "      <td>Veri Bilimi Okulu</td>\n",
       "      <td>12893</td>\n",
       "      <td>4.7</td>\n",
       "      <td>2425</td>\n",
       "      <td>1722</td>\n",
       "      <td>510</td>\n",
       "      <td>145</td>\n",
       "      <td>24</td>\n",
       "      <td>24</td>\n",
       "      <td>2.066120</td>\n",
       "      <td>3.096229</td>\n",
       "      <td>3.501984</td>\n",
       "      <td>4.568162</td>\n",
       "      <td>4.141691</td>\n",
       "    </tr>\n",
       "    <tr>\n",
       "      <th>2</th>\n",
       "      <td>5 Saatte Veri Bilimci Olun (Valla Billa)</td>\n",
       "      <td>Instructor_1</td>\n",
       "      <td>18693</td>\n",
       "      <td>4.4</td>\n",
       "      <td>2362</td>\n",
       "      <td>1582</td>\n",
       "      <td>567</td>\n",
       "      <td>165</td>\n",
       "      <td>24</td>\n",
       "      <td>24</td>\n",
       "      <td>2.546839</td>\n",
       "      <td>3.041612</td>\n",
       "      <td>3.483494</td>\n",
       "      <td>4.515210</td>\n",
       "      <td>4.102524</td>\n",
       "    </tr>\n",
       "    <tr>\n",
       "      <th>15</th>\n",
       "      <td>Uygulamalarla SQL Öğreniyorum</td>\n",
       "      <td>Veri Bilimi Okulu</td>\n",
       "      <td>11397</td>\n",
       "      <td>4.5</td>\n",
       "      <td>2353</td>\n",
       "      <td>1435</td>\n",
       "      <td>705</td>\n",
       "      <td>165</td>\n",
       "      <td>24</td>\n",
       "      <td>24</td>\n",
       "      <td>1.942127</td>\n",
       "      <td>3.033810</td>\n",
       "      <td>3.365772</td>\n",
       "      <td>4.454811</td>\n",
       "      <td>4.019195</td>\n",
       "    </tr>\n",
       "    <tr>\n",
       "      <th>4</th>\n",
       "      <td>(2020) Python ile Makine Öğrenmesi (Machine Le...</td>\n",
       "      <td>Veri Bilimi Okulu</td>\n",
       "      <td>11314</td>\n",
       "      <td>4.6</td>\n",
       "      <td>969</td>\n",
       "      <td>717</td>\n",
       "      <td>194</td>\n",
       "      <td>38</td>\n",
       "      <td>10</td>\n",
       "      <td>10</td>\n",
       "      <td>1.935248</td>\n",
       "      <td>1.833984</td>\n",
       "      <td>3.022039</td>\n",
       "      <td>4.595674</td>\n",
       "      <td>3.966220</td>\n",
       "    </tr>\n",
       "    <tr>\n",
       "      <th>19</th>\n",
       "      <td>Alıştırmalarla SQL Öğreniyorum</td>\n",
       "      <td>Veri Bilimi Okulu</td>\n",
       "      <td>3155</td>\n",
       "      <td>4.8</td>\n",
       "      <td>235</td>\n",
       "      <td>200</td>\n",
       "      <td>31</td>\n",
       "      <td>4</td>\n",
       "      <td>0</td>\n",
       "      <td>0</td>\n",
       "      <td>1.259008</td>\n",
       "      <td>1.197659</td>\n",
       "      <td>2.726593</td>\n",
       "      <td>4.729128</td>\n",
       "      <td>3.928114</td>\n",
       "    </tr>\n",
       "    <tr>\n",
       "      <th>5</th>\n",
       "      <td>Course_1</td>\n",
       "      <td>Instructor_2</td>\n",
       "      <td>4601</td>\n",
       "      <td>4.8</td>\n",
       "      <td>213</td>\n",
       "      <td>164</td>\n",
       "      <td>45</td>\n",
       "      <td>4</td>\n",
       "      <td>0</td>\n",
       "      <td>0</td>\n",
       "      <td>1.378857</td>\n",
       "      <td>1.178587</td>\n",
       "      <td>2.751651</td>\n",
       "      <td>4.634477</td>\n",
       "      <td>3.881346</td>\n",
       "    </tr>\n",
       "  </tbody>\n",
       "</table>\n",
       "</div>"
      ],
      "text/plain": [
       "                                          course_name    instructor_name  \\\n",
       "1   Python: Yapay Zeka ve Veri Bilimi için Python ...  Veri Bilimi Okulu   \n",
       "0   (50+ Saat) Python A-Z™: Veri Bilimi ve Machine...  Veri Bilimi Okulu   \n",
       "20                                           Course_9       Instructor_3   \n",
       "10        İleri Düzey Excel|Dashboard|Excel İp Uçları  Veri Bilimi Okulu   \n",
       "14                       Uçtan Uca SQL Server Eğitimi  Veri Bilimi Okulu   \n",
       "2            5 Saatte Veri Bilimci Olun (Valla Billa)       Instructor_1   \n",
       "15                      Uygulamalarla SQL Öğreniyorum  Veri Bilimi Okulu   \n",
       "4   (2020) Python ile Makine Öğrenmesi (Machine Le...  Veri Bilimi Okulu   \n",
       "19                     Alıştırmalarla SQL Öğreniyorum  Veri Bilimi Okulu   \n",
       "5                                            Course_1       Instructor_2   \n",
       "\n",
       "    purchase_count  rating  commment_count  5_point  4_point  3_point  \\\n",
       "1            48291     4.6            4488     2962     1122      314   \n",
       "0            17380     4.8            4621     3466      924      185   \n",
       "20           12946     4.5            3371     2191      877      203   \n",
       "10            9554     4.8            2266     1654      499       91   \n",
       "14           12893     4.7            2425     1722      510      145   \n",
       "2            18693     4.4            2362     1582      567      165   \n",
       "15           11397     4.5            2353     1435      705      165   \n",
       "4            11314     4.6             969      717      194       38   \n",
       "19            3155     4.8             235      200       31        4   \n",
       "5             4601     4.8             213      164       45        4   \n",
       "\n",
       "    2_point  1_point  purchase_count_scaled  comment_count_scaled  \\\n",
       "1        45       45               5.000000              4.884699   \n",
       "0        46        6               2.438014              5.000000   \n",
       "20       33       67               2.070512              3.916342   \n",
       "10       22        0               1.789374              2.958388   \n",
       "14       24       24               2.066120              3.096229   \n",
       "2        24       24               2.546839              3.041612   \n",
       "15       24       24               1.942127              3.033810   \n",
       "4        10       10               1.935248              1.833984   \n",
       "19        0        0               1.259008              1.197659   \n",
       "5         0        0               1.378857              1.178587   \n",
       "\n",
       "    weighted_sorting_score  bar_score  hybrid_sorting_score  \n",
       "1                 4.795104   4.516038              4.627664  \n",
       "0                 4.249884   4.665857              4.499468  \n",
       "20                3.681563   4.480627              4.161001  \n",
       "10                3.427921   4.641679              4.156176  \n",
       "14                3.501984   4.568162              4.141691  \n",
       "2                 3.483494   4.515210              4.102524  \n",
       "15                3.365772   4.454811              4.019195  \n",
       "4                 3.022039   4.595674              3.966220  \n",
       "19                2.726593   4.729128              3.928114  \n",
       "5                 2.751651   4.634477              3.881346  "
      ]
     },
     "execution_count": 57,
     "metadata": {},
     "output_type": "execute_result"
    }
   ],
   "source": [
    "df.sort_values(\"hybrid_sorting_score\", ascending=False).head(10)"
   ]
  },
  {
   "cell_type": "markdown",
   "id": "3cdcbc7a",
   "metadata": {
    "papermill": {
     "duration": 0.038476,
     "end_time": "2023-11-13T13:58:53.491966",
     "exception": false,
     "start_time": "2023-11-13T13:58:53.453490",
     "status": "completed"
    },
    "tags": []
   },
   "source": [
    "<div style=\"border-radius:10px; border:#65647C solid; padding: 15px; background-color: #F8EDE3; font-size:100%; text-align:left\">\n",
    "\n",
    "<h3 align=\"left\"><font color='#7D6E83'><b>🗨️ Comment: </b></font></h3>\n",
    "    \n",
    "The importance of the position where **Course_9** is located becomes apparent. With our new calculation, we obtained a more realistic ranking. Additionally, the significance of Course_1 catching up to the 10th position is that we have information that this course is new. Therefore, we consider it as a promising course for the future and give it the necessary importance. The element that enables this is that 60% weight is given to the bar_score. This way, we also elevate potential promising courses."
   ]
  },
  {
   "cell_type": "code",
   "execution_count": 58,
   "id": "3d27720e",
   "metadata": {
    "execution": {
     "iopub.execute_input": "2023-11-13T13:58:53.572043Z",
     "iopub.status.busy": "2023-11-13T13:58:53.570919Z",
     "iopub.status.idle": "2023-11-13T13:58:53.590921Z",
     "shell.execute_reply": "2023-11-13T13:58:53.589833Z"
    },
    "papermill": {
     "duration": 0.062411,
     "end_time": "2023-11-13T13:58:53.593042",
     "exception": false,
     "start_time": "2023-11-13T13:58:53.530631",
     "status": "completed"
    },
    "tags": []
   },
   "outputs": [
    {
     "data": {
      "text/html": [
       "<div>\n",
       "<style scoped>\n",
       "    .dataframe tbody tr th:only-of-type {\n",
       "        vertical-align: middle;\n",
       "    }\n",
       "\n",
       "    .dataframe tbody tr th {\n",
       "        vertical-align: top;\n",
       "    }\n",
       "\n",
       "    .dataframe thead th {\n",
       "        text-align: right;\n",
       "    }\n",
       "</style>\n",
       "<table border=\"1\" class=\"dataframe\">\n",
       "  <thead>\n",
       "    <tr style=\"text-align: right;\">\n",
       "      <th></th>\n",
       "      <th>course_name</th>\n",
       "      <th>instructor_name</th>\n",
       "      <th>purchase_count</th>\n",
       "      <th>rating</th>\n",
       "      <th>commment_count</th>\n",
       "      <th>5_point</th>\n",
       "      <th>4_point</th>\n",
       "      <th>3_point</th>\n",
       "      <th>2_point</th>\n",
       "      <th>1_point</th>\n",
       "      <th>purchase_count_scaled</th>\n",
       "      <th>comment_count_scaled</th>\n",
       "      <th>weighted_sorting_score</th>\n",
       "      <th>bar_score</th>\n",
       "      <th>hybrid_sorting_score</th>\n",
       "    </tr>\n",
       "  </thead>\n",
       "  <tbody>\n",
       "    <tr>\n",
       "      <th>1</th>\n",
       "      <td>Python: Yapay Zeka ve Veri Bilimi için Python ...</td>\n",
       "      <td>Veri Bilimi Okulu</td>\n",
       "      <td>48291</td>\n",
       "      <td>4.6</td>\n",
       "      <td>4488</td>\n",
       "      <td>2962</td>\n",
       "      <td>1122</td>\n",
       "      <td>314</td>\n",
       "      <td>45</td>\n",
       "      <td>45</td>\n",
       "      <td>5.000000</td>\n",
       "      <td>4.884699</td>\n",
       "      <td>4.795104</td>\n",
       "      <td>4.516038</td>\n",
       "      <td>4.627664</td>\n",
       "    </tr>\n",
       "    <tr>\n",
       "      <th>0</th>\n",
       "      <td>(50+ Saat) Python A-Z™: Veri Bilimi ve Machine...</td>\n",
       "      <td>Veri Bilimi Okulu</td>\n",
       "      <td>17380</td>\n",
       "      <td>4.8</td>\n",
       "      <td>4621</td>\n",
       "      <td>3466</td>\n",
       "      <td>924</td>\n",
       "      <td>185</td>\n",
       "      <td>46</td>\n",
       "      <td>6</td>\n",
       "      <td>2.438014</td>\n",
       "      <td>5.000000</td>\n",
       "      <td>4.249884</td>\n",
       "      <td>4.665857</td>\n",
       "      <td>4.499468</td>\n",
       "    </tr>\n",
       "    <tr>\n",
       "      <th>3</th>\n",
       "      <td>R ile Veri Bilimi ve Machine Learning (35 Saat)</td>\n",
       "      <td>Veri Bilimi Okulu</td>\n",
       "      <td>6626</td>\n",
       "      <td>4.6</td>\n",
       "      <td>1027</td>\n",
       "      <td>688</td>\n",
       "      <td>257</td>\n",
       "      <td>51</td>\n",
       "      <td>10</td>\n",
       "      <td>21</td>\n",
       "      <td>1.546694</td>\n",
       "      <td>1.884265</td>\n",
       "      <td>2.937105</td>\n",
       "      <td>4.482079</td>\n",
       "      <td>3.864090</td>\n",
       "    </tr>\n",
       "    <tr>\n",
       "      <th>7</th>\n",
       "      <td>Veri Bilimi için İstatistik: Python ile İstati...</td>\n",
       "      <td>Veri Bilimi Okulu</td>\n",
       "      <td>929</td>\n",
       "      <td>4.5</td>\n",
       "      <td>126</td>\n",
       "      <td>88</td>\n",
       "      <td>26</td>\n",
       "      <td>9</td>\n",
       "      <td>0</td>\n",
       "      <td>3</td>\n",
       "      <td>1.074512</td>\n",
       "      <td>1.103164</td>\n",
       "      <td>2.522386</td>\n",
       "      <td>4.342189</td>\n",
       "      <td>3.614267</td>\n",
       "    </tr>\n",
       "  </tbody>\n",
       "</table>\n",
       "</div>"
      ],
      "text/plain": [
       "                                         course_name    instructor_name  \\\n",
       "1  Python: Yapay Zeka ve Veri Bilimi için Python ...  Veri Bilimi Okulu   \n",
       "0  (50+ Saat) Python A-Z™: Veri Bilimi ve Machine...  Veri Bilimi Okulu   \n",
       "3    R ile Veri Bilimi ve Machine Learning (35 Saat)  Veri Bilimi Okulu   \n",
       "7  Veri Bilimi için İstatistik: Python ile İstati...  Veri Bilimi Okulu   \n",
       "\n",
       "   purchase_count  rating  commment_count  5_point  4_point  3_point  2_point  \\\n",
       "1           48291     4.6            4488     2962     1122      314       45   \n",
       "0           17380     4.8            4621     3466      924      185       46   \n",
       "3            6626     4.6            1027      688      257       51       10   \n",
       "7             929     4.5             126       88       26        9        0   \n",
       "\n",
       "   1_point  purchase_count_scaled  comment_count_scaled  \\\n",
       "1       45               5.000000              4.884699   \n",
       "0        6               2.438014              5.000000   \n",
       "3       21               1.546694              1.884265   \n",
       "7        3               1.074512              1.103164   \n",
       "\n",
       "   weighted_sorting_score  bar_score  hybrid_sorting_score  \n",
       "1                4.795104   4.516038              4.627664  \n",
       "0                4.249884   4.665857              4.499468  \n",
       "3                2.937105   4.482079              3.864090  \n",
       "7                2.522386   4.342189              3.614267  "
      ]
     },
     "execution_count": 58,
     "metadata": {},
     "output_type": "execute_result"
    }
   ],
   "source": [
    "df[df[\"course_name\"].str.contains(\"Veri Bilimi\")].sort_values(\"hybrid_sorting_score\", ascending=False).head()"
   ]
  },
  {
   "cell_type": "markdown",
   "id": "07580b31",
   "metadata": {
    "papermill": {
     "duration": 0.038841,
     "end_time": "2023-11-13T13:58:53.671306",
     "exception": false,
     "start_time": "2023-11-13T13:58:53.632465",
     "status": "completed"
    },
    "tags": []
   },
   "source": [
    "<a id = \"12\"></a><br>\n",
    "<p style=\"font-family: 'Pacifico', cursive; font-weight: bold; letter-spacing: 2px; color: #556B2F; font-size: 160%; text-align: left; padding: 0px; border-bottom: 3px solid\">✨IMDB Movie Scoring and Sorting✨</p>"
   ]
  },
  {
   "cell_type": "markdown",
   "id": "21da4247",
   "metadata": {
    "papermill": {
     "duration": 0.038476,
     "end_time": "2023-11-13T13:58:53.748351",
     "exception": false,
     "start_time": "2023-11-13T13:58:53.709875",
     "status": "completed"
    },
    "tags": []
   },
   "source": [
    "<a id = \"13\"></a><br>\n",
    "<div style=\"font-family:JetBrains Mono; font-weight:bold; letter-spacing: 2px; color:#E5788F; font-size:150%; text-align:left; padding: 0px;\">Importing Libraries & First Look</div>"
   ]
  },
  {
   "cell_type": "code",
   "execution_count": 59,
   "id": "ef28c1e3",
   "metadata": {
    "execution": {
     "iopub.execute_input": "2023-11-13T13:58:53.828286Z",
     "iopub.status.busy": "2023-11-13T13:58:53.827820Z",
     "iopub.status.idle": "2023-11-13T13:58:53.832839Z",
     "shell.execute_reply": "2023-11-13T13:58:53.831812Z"
    },
    "papermill": {
     "duration": 0.04778,
     "end_time": "2023-11-13T13:58:53.835286",
     "exception": false,
     "start_time": "2023-11-13T13:58:53.787506",
     "status": "completed"
    },
    "tags": []
   },
   "outputs": [],
   "source": [
    "import pandas as pd\n",
    "import math\n",
    "import scipy.stats as st\n",
    "from sklearn.preprocessing import MinMaxScaler\n",
    "\n",
    "# pd.set_option('display.max_columns', None)\n",
    "# pd.set_option('display.expand_frame_repr', False)\n",
    "# pd.set_option('display.float_format', lambda x: '%.5f' % x)"
   ]
  },
  {
   "cell_type": "code",
   "execution_count": 60,
   "id": "d9216599",
   "metadata": {
    "execution": {
     "iopub.execute_input": "2023-11-13T13:58:53.915571Z",
     "iopub.status.busy": "2023-11-13T13:58:53.914774Z",
     "iopub.status.idle": "2023-11-13T13:58:54.673285Z",
     "shell.execute_reply": "2023-11-13T13:58:54.672283Z"
    },
    "papermill": {
     "duration": 0.801404,
     "end_time": "2023-11-13T13:58:54.675963",
     "exception": false,
     "start_time": "2023-11-13T13:58:53.874559",
     "status": "completed"
    },
    "tags": []
   },
   "outputs": [],
   "source": [
    "df = pd.read_csv(\"/kaggle/input/imdb-movies/movies_metadata.csv\",\n",
    "                 usecols=[\"title\", \"vote_average\", \"vote_count\"])"
   ]
  },
  {
   "cell_type": "code",
   "execution_count": 61,
   "id": "f3efbd6e",
   "metadata": {
    "execution": {
     "iopub.execute_input": "2023-11-13T13:58:54.761471Z",
     "iopub.status.busy": "2023-11-13T13:58:54.760706Z",
     "iopub.status.idle": "2023-11-13T13:58:54.773473Z",
     "shell.execute_reply": "2023-11-13T13:58:54.772483Z"
    },
    "papermill": {
     "duration": 0.059492,
     "end_time": "2023-11-13T13:58:54.775547",
     "exception": false,
     "start_time": "2023-11-13T13:58:54.716055",
     "status": "completed"
    },
    "tags": []
   },
   "outputs": [
    {
     "data": {
      "text/html": [
       "<div>\n",
       "<style scoped>\n",
       "    .dataframe tbody tr th:only-of-type {\n",
       "        vertical-align: middle;\n",
       "    }\n",
       "\n",
       "    .dataframe tbody tr th {\n",
       "        vertical-align: top;\n",
       "    }\n",
       "\n",
       "    .dataframe thead th {\n",
       "        text-align: right;\n",
       "    }\n",
       "</style>\n",
       "<table border=\"1\" class=\"dataframe\">\n",
       "  <thead>\n",
       "    <tr style=\"text-align: right;\">\n",
       "      <th></th>\n",
       "      <th>title</th>\n",
       "      <th>vote_average</th>\n",
       "      <th>vote_count</th>\n",
       "    </tr>\n",
       "  </thead>\n",
       "  <tbody>\n",
       "    <tr>\n",
       "      <th>0</th>\n",
       "      <td>Toy Story</td>\n",
       "      <td>7.7</td>\n",
       "      <td>5415.0</td>\n",
       "    </tr>\n",
       "    <tr>\n",
       "      <th>1</th>\n",
       "      <td>Jumanji</td>\n",
       "      <td>6.9</td>\n",
       "      <td>2413.0</td>\n",
       "    </tr>\n",
       "    <tr>\n",
       "      <th>2</th>\n",
       "      <td>Grumpier Old Men</td>\n",
       "      <td>6.5</td>\n",
       "      <td>92.0</td>\n",
       "    </tr>\n",
       "    <tr>\n",
       "      <th>3</th>\n",
       "      <td>Waiting to Exhale</td>\n",
       "      <td>6.1</td>\n",
       "      <td>34.0</td>\n",
       "    </tr>\n",
       "    <tr>\n",
       "      <th>4</th>\n",
       "      <td>Father of the Bride Part II</td>\n",
       "      <td>5.7</td>\n",
       "      <td>173.0</td>\n",
       "    </tr>\n",
       "  </tbody>\n",
       "</table>\n",
       "</div>"
      ],
      "text/plain": [
       "                         title  vote_average  vote_count\n",
       "0                    Toy Story           7.7      5415.0\n",
       "1                      Jumanji           6.9      2413.0\n",
       "2             Grumpier Old Men           6.5        92.0\n",
       "3            Waiting to Exhale           6.1        34.0\n",
       "4  Father of the Bride Part II           5.7       173.0"
      ]
     },
     "execution_count": 61,
     "metadata": {},
     "output_type": "execute_result"
    }
   ],
   "source": [
    "df.head()"
   ]
  },
  {
   "cell_type": "code",
   "execution_count": 62,
   "id": "b015d73e",
   "metadata": {
    "execution": {
     "iopub.execute_input": "2023-11-13T13:58:54.856120Z",
     "iopub.status.busy": "2023-11-13T13:58:54.855296Z",
     "iopub.status.idle": "2023-11-13T13:58:54.862522Z",
     "shell.execute_reply": "2023-11-13T13:58:54.861412Z"
    },
    "papermill": {
     "duration": 0.049836,
     "end_time": "2023-11-13T13:58:54.864590",
     "exception": false,
     "start_time": "2023-11-13T13:58:54.814754",
     "status": "completed"
    },
    "tags": []
   },
   "outputs": [
    {
     "data": {
      "text/plain": [
       "(45466, 3)"
      ]
     },
     "execution_count": 62,
     "metadata": {},
     "output_type": "execute_result"
    }
   ],
   "source": [
    "df.shape # 45466 movies."
   ]
  },
  {
   "cell_type": "markdown",
   "id": "46da0aa1",
   "metadata": {
    "papermill": {
     "duration": 0.039644,
     "end_time": "2023-11-13T13:58:54.943666",
     "exception": false,
     "start_time": "2023-11-13T13:58:54.904022",
     "status": "completed"
    },
    "tags": []
   },
   "source": [
    "<a id = \"14\"></a><br>\n",
    "<div style=\"font-family:JetBrains Mono; font-weight:bold; letter-spacing: 2px; color:#E5788F; font-size:150%; text-align:left; padding: 0px;\">Sorting by Vote Average</div>"
   ]
  },
  {
   "cell_type": "code",
   "execution_count": 63,
   "id": "0ca73ca2",
   "metadata": {
    "execution": {
     "iopub.execute_input": "2023-11-13T13:58:55.025839Z",
     "iopub.status.busy": "2023-11-13T13:58:55.025325Z",
     "iopub.status.idle": "2023-11-13T13:58:55.046835Z",
     "shell.execute_reply": "2023-11-13T13:58:55.045680Z"
    },
    "papermill": {
     "duration": 0.065257,
     "end_time": "2023-11-13T13:58:55.049262",
     "exception": false,
     "start_time": "2023-11-13T13:58:54.984005",
     "status": "completed"
    },
    "tags": []
   },
   "outputs": [
    {
     "data": {
      "text/html": [
       "<div>\n",
       "<style scoped>\n",
       "    .dataframe tbody tr th:only-of-type {\n",
       "        vertical-align: middle;\n",
       "    }\n",
       "\n",
       "    .dataframe tbody tr th {\n",
       "        vertical-align: top;\n",
       "    }\n",
       "\n",
       "    .dataframe thead th {\n",
       "        text-align: right;\n",
       "    }\n",
       "</style>\n",
       "<table border=\"1\" class=\"dataframe\">\n",
       "  <thead>\n",
       "    <tr style=\"text-align: right;\">\n",
       "      <th></th>\n",
       "      <th>title</th>\n",
       "      <th>vote_average</th>\n",
       "      <th>vote_count</th>\n",
       "    </tr>\n",
       "  </thead>\n",
       "  <tbody>\n",
       "    <tr>\n",
       "      <th>21642</th>\n",
       "      <td>Ice Age Columbus: Who Were the First Americans?</td>\n",
       "      <td>10.0</td>\n",
       "      <td>1.0</td>\n",
       "    </tr>\n",
       "    <tr>\n",
       "      <th>15710</th>\n",
       "      <td>If God Is Willing and da Creek Don't Rise</td>\n",
       "      <td>10.0</td>\n",
       "      <td>1.0</td>\n",
       "    </tr>\n",
       "    <tr>\n",
       "      <th>22396</th>\n",
       "      <td>Meat the Truth</td>\n",
       "      <td>10.0</td>\n",
       "      <td>1.0</td>\n",
       "    </tr>\n",
       "    <tr>\n",
       "      <th>22395</th>\n",
       "      <td>Marvin Hamlisch: What He Did For Love</td>\n",
       "      <td>10.0</td>\n",
       "      <td>1.0</td>\n",
       "    </tr>\n",
       "    <tr>\n",
       "      <th>35343</th>\n",
       "      <td>Elaine Stritch: At Liberty</td>\n",
       "      <td>10.0</td>\n",
       "      <td>1.0</td>\n",
       "    </tr>\n",
       "    <tr>\n",
       "      <th>186</th>\n",
       "      <td>Reckless</td>\n",
       "      <td>10.0</td>\n",
       "      <td>1.0</td>\n",
       "    </tr>\n",
       "    <tr>\n",
       "      <th>45047</th>\n",
       "      <td>The Human Surge</td>\n",
       "      <td>10.0</td>\n",
       "      <td>1.0</td>\n",
       "    </tr>\n",
       "    <tr>\n",
       "      <th>22377</th>\n",
       "      <td>The Guide</td>\n",
       "      <td>10.0</td>\n",
       "      <td>1.0</td>\n",
       "    </tr>\n",
       "    <tr>\n",
       "      <th>22346</th>\n",
       "      <td>هیچ کجا هیچ کس</td>\n",
       "      <td>10.0</td>\n",
       "      <td>1.0</td>\n",
       "    </tr>\n",
       "    <tr>\n",
       "      <th>1634</th>\n",
       "      <td>Other Voices Other Rooms</td>\n",
       "      <td>10.0</td>\n",
       "      <td>1.0</td>\n",
       "    </tr>\n",
       "  </tbody>\n",
       "</table>\n",
       "</div>"
      ],
      "text/plain": [
       "                                                 title  vote_average  \\\n",
       "21642  Ice Age Columbus: Who Were the First Americans?          10.0   \n",
       "15710        If God Is Willing and da Creek Don't Rise          10.0   \n",
       "22396                                   Meat the Truth          10.0   \n",
       "22395            Marvin Hamlisch: What He Did For Love          10.0   \n",
       "35343                       Elaine Stritch: At Liberty          10.0   \n",
       "186                                           Reckless          10.0   \n",
       "45047                                  The Human Surge          10.0   \n",
       "22377                                        The Guide          10.0   \n",
       "22346                                   هیچ کجا هیچ کس          10.0   \n",
       "1634                          Other Voices Other Rooms          10.0   \n",
       "\n",
       "       vote_count  \n",
       "21642         1.0  \n",
       "15710         1.0  \n",
       "22396         1.0  \n",
       "22395         1.0  \n",
       "35343         1.0  \n",
       "186           1.0  \n",
       "45047         1.0  \n",
       "22377         1.0  \n",
       "22346         1.0  \n",
       "1634          1.0  "
      ]
     },
     "execution_count": 63,
     "metadata": {},
     "output_type": "execute_result"
    }
   ],
   "source": [
    "df.sort_values(\"vote_average\", ascending=False).head(10)"
   ]
  },
  {
   "cell_type": "code",
   "execution_count": 64,
   "id": "ea8e33a4",
   "metadata": {
    "execution": {
     "iopub.execute_input": "2023-11-13T13:58:55.133903Z",
     "iopub.status.busy": "2023-11-13T13:58:55.132845Z",
     "iopub.status.idle": "2023-11-13T13:58:55.150827Z",
     "shell.execute_reply": "2023-11-13T13:58:55.149731Z"
    },
    "papermill": {
     "duration": 0.061984,
     "end_time": "2023-11-13T13:58:55.152960",
     "exception": false,
     "start_time": "2023-11-13T13:58:55.090976",
     "status": "completed"
    },
    "tags": []
   },
   "outputs": [
    {
     "data": {
      "text/plain": [
       "count    45460.000000\n",
       "mean       109.897338\n",
       "std        491.310374\n",
       "min          0.000000\n",
       "10%          1.000000\n",
       "25%          3.000000\n",
       "50%         10.000000\n",
       "70%         25.000000\n",
       "80%         50.000000\n",
       "90%        160.000000\n",
       "95%        434.000000\n",
       "99%       2183.820000\n",
       "max      14075.000000\n",
       "Name: vote_count, dtype: float64"
      ]
     },
     "execution_count": 64,
     "metadata": {},
     "output_type": "execute_result"
    }
   ],
   "source": [
    "df[\"vote_count\"].describe([0.10, 0.25, 0.50, 0.70, 0.80, 0.90, 0.95, 0.99]).T"
   ]
  },
  {
   "cell_type": "markdown",
   "id": "bbb78e10",
   "metadata": {
    "papermill": {
     "duration": 0.039624,
     "end_time": "2023-11-13T13:58:55.232321",
     "exception": false,
     "start_time": "2023-11-13T13:58:55.192697",
     "status": "completed"
    },
    "tags": []
   },
   "source": [
    "<div style=\"border-radius:10px; border:#65647C solid; padding: 15px; background-color: #F8EDE3; font-size:100%; text-align:left\">\n",
    "\n",
    "<h3 align=\"left\"><font color='#7D6E83'><b>🗨️ Comment: </b></font></h3>\n",
    "    \n",
    "* We don't want the ones with few votes. To set a filter, we are looking at the distributions in the description.\n",
    "    \n",
    "* The median value of these votes is 10. Their averages are around 109, and when we look at the 95th percentile, there are movies with around 400 votes. Let's try using this value as a filter."
   ]
  },
  {
   "cell_type": "code",
   "execution_count": 65,
   "id": "f9d0bf0c",
   "metadata": {
    "execution": {
     "iopub.execute_input": "2023-11-13T13:58:55.315009Z",
     "iopub.status.busy": "2023-11-13T13:58:55.313908Z",
     "iopub.status.idle": "2023-11-13T13:58:55.329130Z",
     "shell.execute_reply": "2023-11-13T13:58:55.327991Z"
    },
    "papermill": {
     "duration": 0.058682,
     "end_time": "2023-11-13T13:58:55.331165",
     "exception": false,
     "start_time": "2023-11-13T13:58:55.272483",
     "status": "completed"
    },
    "tags": []
   },
   "outputs": [
    {
     "data": {
      "text/html": [
       "<div>\n",
       "<style scoped>\n",
       "    .dataframe tbody tr th:only-of-type {\n",
       "        vertical-align: middle;\n",
       "    }\n",
       "\n",
       "    .dataframe tbody tr th {\n",
       "        vertical-align: top;\n",
       "    }\n",
       "\n",
       "    .dataframe thead th {\n",
       "        text-align: right;\n",
       "    }\n",
       "</style>\n",
       "<table border=\"1\" class=\"dataframe\">\n",
       "  <thead>\n",
       "    <tr style=\"text-align: right;\">\n",
       "      <th></th>\n",
       "      <th>title</th>\n",
       "      <th>vote_average</th>\n",
       "      <th>vote_count</th>\n",
       "    </tr>\n",
       "  </thead>\n",
       "  <tbody>\n",
       "    <tr>\n",
       "      <th>10309</th>\n",
       "      <td>Dilwale Dulhania Le Jayenge</td>\n",
       "      <td>9.1</td>\n",
       "      <td>661.0</td>\n",
       "    </tr>\n",
       "    <tr>\n",
       "      <th>40251</th>\n",
       "      <td>Your Name.</td>\n",
       "      <td>8.5</td>\n",
       "      <td>1030.0</td>\n",
       "    </tr>\n",
       "    <tr>\n",
       "      <th>834</th>\n",
       "      <td>The Godfather</td>\n",
       "      <td>8.5</td>\n",
       "      <td>6024.0</td>\n",
       "    </tr>\n",
       "    <tr>\n",
       "      <th>314</th>\n",
       "      <td>The Shawshank Redemption</td>\n",
       "      <td>8.5</td>\n",
       "      <td>8358.0</td>\n",
       "    </tr>\n",
       "    <tr>\n",
       "      <th>1152</th>\n",
       "      <td>One Flew Over the Cuckoo's Nest</td>\n",
       "      <td>8.3</td>\n",
       "      <td>3001.0</td>\n",
       "    </tr>\n",
       "    <tr>\n",
       "      <th>1176</th>\n",
       "      <td>Psycho</td>\n",
       "      <td>8.3</td>\n",
       "      <td>2405.0</td>\n",
       "    </tr>\n",
       "    <tr>\n",
       "      <th>1178</th>\n",
       "      <td>The Godfather: Part II</td>\n",
       "      <td>8.3</td>\n",
       "      <td>3418.0</td>\n",
       "    </tr>\n",
       "    <tr>\n",
       "      <th>292</th>\n",
       "      <td>Pulp Fiction</td>\n",
       "      <td>8.3</td>\n",
       "      <td>8670.0</td>\n",
       "    </tr>\n",
       "    <tr>\n",
       "      <th>1184</th>\n",
       "      <td>Once Upon a Time in America</td>\n",
       "      <td>8.3</td>\n",
       "      <td>1104.0</td>\n",
       "    </tr>\n",
       "    <tr>\n",
       "      <th>5481</th>\n",
       "      <td>Spirited Away</td>\n",
       "      <td>8.3</td>\n",
       "      <td>3968.0</td>\n",
       "    </tr>\n",
       "  </tbody>\n",
       "</table>\n",
       "</div>"
      ],
      "text/plain": [
       "                                 title  vote_average  vote_count\n",
       "10309      Dilwale Dulhania Le Jayenge           9.1       661.0\n",
       "40251                       Your Name.           8.5      1030.0\n",
       "834                      The Godfather           8.5      6024.0\n",
       "314           The Shawshank Redemption           8.5      8358.0\n",
       "1152   One Flew Over the Cuckoo's Nest           8.3      3001.0\n",
       "1176                            Psycho           8.3      2405.0\n",
       "1178            The Godfather: Part II           8.3      3418.0\n",
       "292                       Pulp Fiction           8.3      8670.0\n",
       "1184       Once Upon a Time in America           8.3      1104.0\n",
       "5481                     Spirited Away           8.3      3968.0"
      ]
     },
     "execution_count": 65,
     "metadata": {},
     "output_type": "execute_result"
    }
   ],
   "source": [
    "df[df[\"vote_count\"] > 400].sort_values(\"vote_average\", ascending=False).head(10)"
   ]
  },
  {
   "cell_type": "markdown",
   "id": "e10d8187",
   "metadata": {
    "papermill": {
     "duration": 0.039722,
     "end_time": "2023-11-13T13:58:55.411058",
     "exception": false,
     "start_time": "2023-11-13T13:58:55.371336",
     "status": "completed"
    },
    "tags": []
   },
   "source": [
    "<div style=\"border-radius:10px; border:#65647C solid; padding: 15px; background-color: #F8EDE3; font-size:100%; text-align:left\">\n",
    "\n",
    "<h3 align=\"left\"><font color='#7D6E83'><b>🗨️ Comment: </b></font></h3>\n",
    "\n",
    "Here, \"**vote_average**\" and \"**vote_count**\" seem to not convey much on their own. Therefore, let's scale the \"**vote_count**\" values to a more interpretable scale of 1-10."
   ]
  },
  {
   "cell_type": "code",
   "execution_count": 66,
   "id": "de620284",
   "metadata": {
    "execution": {
     "iopub.execute_input": "2023-11-13T13:58:55.493341Z",
     "iopub.status.busy": "2023-11-13T13:58:55.492882Z",
     "iopub.status.idle": "2023-11-13T13:58:55.504995Z",
     "shell.execute_reply": "2023-11-13T13:58:55.504116Z"
    },
    "papermill": {
     "duration": 0.055919,
     "end_time": "2023-11-13T13:58:55.507075",
     "exception": false,
     "start_time": "2023-11-13T13:58:55.451156",
     "status": "completed"
    },
    "tags": []
   },
   "outputs": [],
   "source": [
    "df[\"vote_count_score\"] = MinMaxScaler(feature_range=(1, 10)). \\\n",
    "    fit(df[[\"vote_count\"]]). \\\n",
    "    transform(df[[\"vote_count\"]])"
   ]
  },
  {
   "cell_type": "code",
   "execution_count": 67,
   "id": "e191bdf4",
   "metadata": {
    "execution": {
     "iopub.execute_input": "2023-11-13T13:58:55.590520Z",
     "iopub.status.busy": "2023-11-13T13:58:55.590015Z",
     "iopub.status.idle": "2023-11-13T13:58:55.602556Z",
     "shell.execute_reply": "2023-11-13T13:58:55.601520Z"
    },
    "papermill": {
     "duration": 0.056918,
     "end_time": "2023-11-13T13:58:55.604746",
     "exception": false,
     "start_time": "2023-11-13T13:58:55.547828",
     "status": "completed"
    },
    "tags": []
   },
   "outputs": [
    {
     "data": {
      "text/html": [
       "<div>\n",
       "<style scoped>\n",
       "    .dataframe tbody tr th:only-of-type {\n",
       "        vertical-align: middle;\n",
       "    }\n",
       "\n",
       "    .dataframe tbody tr th {\n",
       "        vertical-align: top;\n",
       "    }\n",
       "\n",
       "    .dataframe thead th {\n",
       "        text-align: right;\n",
       "    }\n",
       "</style>\n",
       "<table border=\"1\" class=\"dataframe\">\n",
       "  <thead>\n",
       "    <tr style=\"text-align: right;\">\n",
       "      <th></th>\n",
       "      <th>title</th>\n",
       "      <th>vote_average</th>\n",
       "      <th>vote_count</th>\n",
       "      <th>vote_count_score</th>\n",
       "    </tr>\n",
       "  </thead>\n",
       "  <tbody>\n",
       "    <tr>\n",
       "      <th>0</th>\n",
       "      <td>Toy Story</td>\n",
       "      <td>7.7</td>\n",
       "      <td>5415.0</td>\n",
       "      <td>4.462522</td>\n",
       "    </tr>\n",
       "    <tr>\n",
       "      <th>1</th>\n",
       "      <td>Jumanji</td>\n",
       "      <td>6.9</td>\n",
       "      <td>2413.0</td>\n",
       "      <td>2.542948</td>\n",
       "    </tr>\n",
       "    <tr>\n",
       "      <th>2</th>\n",
       "      <td>Grumpier Old Men</td>\n",
       "      <td>6.5</td>\n",
       "      <td>92.0</td>\n",
       "      <td>1.058828</td>\n",
       "    </tr>\n",
       "    <tr>\n",
       "      <th>3</th>\n",
       "      <td>Waiting to Exhale</td>\n",
       "      <td>6.1</td>\n",
       "      <td>34.0</td>\n",
       "      <td>1.021741</td>\n",
       "    </tr>\n",
       "    <tr>\n",
       "      <th>4</th>\n",
       "      <td>Father of the Bride Part II</td>\n",
       "      <td>5.7</td>\n",
       "      <td>173.0</td>\n",
       "      <td>1.110622</td>\n",
       "    </tr>\n",
       "  </tbody>\n",
       "</table>\n",
       "</div>"
      ],
      "text/plain": [
       "                         title  vote_average  vote_count  vote_count_score\n",
       "0                    Toy Story           7.7      5415.0          4.462522\n",
       "1                      Jumanji           6.9      2413.0          2.542948\n",
       "2             Grumpier Old Men           6.5        92.0          1.058828\n",
       "3            Waiting to Exhale           6.1        34.0          1.021741\n",
       "4  Father of the Bride Part II           5.7       173.0          1.110622"
      ]
     },
     "execution_count": 67,
     "metadata": {},
     "output_type": "execute_result"
    }
   ],
   "source": [
    "df.head()"
   ]
  },
  {
   "cell_type": "code",
   "execution_count": 68,
   "id": "76256f3a",
   "metadata": {
    "execution": {
     "iopub.execute_input": "2023-11-13T13:58:55.688401Z",
     "iopub.status.busy": "2023-11-13T13:58:55.687681Z",
     "iopub.status.idle": "2023-11-13T13:58:55.693615Z",
     "shell.execute_reply": "2023-11-13T13:58:55.692658Z"
    },
    "papermill": {
     "duration": 0.050389,
     "end_time": "2023-11-13T13:58:55.695897",
     "exception": false,
     "start_time": "2023-11-13T13:58:55.645508",
     "status": "completed"
    },
    "tags": []
   },
   "outputs": [],
   "source": [
    "df[\"average_count_score\"] = df[\"vote_average\"] * df[\"vote_count_score\"]"
   ]
  },
  {
   "cell_type": "code",
   "execution_count": 69,
   "id": "9a1c4c82",
   "metadata": {
    "execution": {
     "iopub.execute_input": "2023-11-13T13:58:55.778467Z",
     "iopub.status.busy": "2023-11-13T13:58:55.778022Z",
     "iopub.status.idle": "2023-11-13T13:58:55.804096Z",
     "shell.execute_reply": "2023-11-13T13:58:55.803010Z"
    },
    "papermill": {
     "duration": 0.06999,
     "end_time": "2023-11-13T13:58:55.806324",
     "exception": false,
     "start_time": "2023-11-13T13:58:55.736334",
     "status": "completed"
    },
    "tags": []
   },
   "outputs": [
    {
     "data": {
      "text/html": [
       "<div>\n",
       "<style scoped>\n",
       "    .dataframe tbody tr th:only-of-type {\n",
       "        vertical-align: middle;\n",
       "    }\n",
       "\n",
       "    .dataframe tbody tr th {\n",
       "        vertical-align: top;\n",
       "    }\n",
       "\n",
       "    .dataframe thead th {\n",
       "        text-align: right;\n",
       "    }\n",
       "</style>\n",
       "<table border=\"1\" class=\"dataframe\">\n",
       "  <thead>\n",
       "    <tr style=\"text-align: right;\">\n",
       "      <th></th>\n",
       "      <th>title</th>\n",
       "      <th>vote_average</th>\n",
       "      <th>vote_count</th>\n",
       "      <th>vote_count_score</th>\n",
       "      <th>average_count_score</th>\n",
       "    </tr>\n",
       "  </thead>\n",
       "  <tbody>\n",
       "    <tr>\n",
       "      <th>15480</th>\n",
       "      <td>Inception</td>\n",
       "      <td>8.1</td>\n",
       "      <td>14075.0</td>\n",
       "      <td>10.000000</td>\n",
       "      <td>81.000000</td>\n",
       "    </tr>\n",
       "    <tr>\n",
       "      <th>12481</th>\n",
       "      <td>The Dark Knight</td>\n",
       "      <td>8.3</td>\n",
       "      <td>12269.0</td>\n",
       "      <td>8.845187</td>\n",
       "      <td>73.415048</td>\n",
       "    </tr>\n",
       "    <tr>\n",
       "      <th>22879</th>\n",
       "      <td>Interstellar</td>\n",
       "      <td>8.1</td>\n",
       "      <td>11187.0</td>\n",
       "      <td>8.153321</td>\n",
       "      <td>66.041904</td>\n",
       "    </tr>\n",
       "    <tr>\n",
       "      <th>17818</th>\n",
       "      <td>The Avengers</td>\n",
       "      <td>7.4</td>\n",
       "      <td>12000.0</td>\n",
       "      <td>8.673179</td>\n",
       "      <td>64.181528</td>\n",
       "    </tr>\n",
       "    <tr>\n",
       "      <th>14551</th>\n",
       "      <td>Avatar</td>\n",
       "      <td>7.2</td>\n",
       "      <td>12114.0</td>\n",
       "      <td>8.746075</td>\n",
       "      <td>62.971737</td>\n",
       "    </tr>\n",
       "    <tr>\n",
       "      <th>26564</th>\n",
       "      <td>Deadpool</td>\n",
       "      <td>7.4</td>\n",
       "      <td>11444.0</td>\n",
       "      <td>8.317655</td>\n",
       "      <td>61.550650</td>\n",
       "    </tr>\n",
       "    <tr>\n",
       "      <th>2843</th>\n",
       "      <td>Fight Club</td>\n",
       "      <td>8.3</td>\n",
       "      <td>9678.0</td>\n",
       "      <td>7.188419</td>\n",
       "      <td>59.663879</td>\n",
       "    </tr>\n",
       "    <tr>\n",
       "      <th>20051</th>\n",
       "      <td>Django Unchained</td>\n",
       "      <td>7.8</td>\n",
       "      <td>10297.0</td>\n",
       "      <td>7.584227</td>\n",
       "      <td>59.156973</td>\n",
       "    </tr>\n",
       "    <tr>\n",
       "      <th>23753</th>\n",
       "      <td>Guardians of the Galaxy</td>\n",
       "      <td>7.9</td>\n",
       "      <td>10014.0</td>\n",
       "      <td>7.403268</td>\n",
       "      <td>58.485819</td>\n",
       "    </tr>\n",
       "    <tr>\n",
       "      <th>292</th>\n",
       "      <td>Pulp Fiction</td>\n",
       "      <td>8.3</td>\n",
       "      <td>8670.0</td>\n",
       "      <td>6.543872</td>\n",
       "      <td>54.314139</td>\n",
       "    </tr>\n",
       "  </tbody>\n",
       "</table>\n",
       "</div>"
      ],
      "text/plain": [
       "                         title  vote_average  vote_count  vote_count_score  \\\n",
       "15480                Inception           8.1     14075.0         10.000000   \n",
       "12481          The Dark Knight           8.3     12269.0          8.845187   \n",
       "22879             Interstellar           8.1     11187.0          8.153321   \n",
       "17818             The Avengers           7.4     12000.0          8.673179   \n",
       "14551                   Avatar           7.2     12114.0          8.746075   \n",
       "26564                 Deadpool           7.4     11444.0          8.317655   \n",
       "2843                Fight Club           8.3      9678.0          7.188419   \n",
       "20051         Django Unchained           7.8     10297.0          7.584227   \n",
       "23753  Guardians of the Galaxy           7.9     10014.0          7.403268   \n",
       "292               Pulp Fiction           8.3      8670.0          6.543872   \n",
       "\n",
       "       average_count_score  \n",
       "15480            81.000000  \n",
       "12481            73.415048  \n",
       "22879            66.041904  \n",
       "17818            64.181528  \n",
       "14551            62.971737  \n",
       "26564            61.550650  \n",
       "2843             59.663879  \n",
       "20051            59.156973  \n",
       "23753            58.485819  \n",
       "292              54.314139  "
      ]
     },
     "execution_count": 69,
     "metadata": {},
     "output_type": "execute_result"
    }
   ],
   "source": [
    "df.sort_values(\"average_count_score\", ascending=False).head(10)"
   ]
  },
  {
   "cell_type": "markdown",
   "id": "45989c74",
   "metadata": {
    "papermill": {
     "duration": 0.040479,
     "end_time": "2023-11-13T13:58:55.887520",
     "exception": false,
     "start_time": "2023-11-13T13:58:55.847041",
     "status": "completed"
    },
    "tags": []
   },
   "source": [
    "<a id = \"15\"></a><br>\n",
    "<p style=\"font-family: 'Pacifico', cursive; font-weight: bold; letter-spacing: 2px; color: #556B2F; font-size: 160%; text-align: left; padding: 0px; border-bottom: 3px solid\">✨IMDB Weighted Rating✨</p>"
   ]
  },
  {
   "cell_type": "markdown",
   "id": "54f7f1af",
   "metadata": {
    "papermill": {
     "duration": 0.042069,
     "end_time": "2023-11-13T13:58:55.971266",
     "exception": false,
     "start_time": "2023-11-13T13:58:55.929197",
     "status": "completed"
    },
    "tags": []
   },
   "source": [
    "<div style=\"border-radius:10px; border:#D0C2F0 solid; padding: 15px; background-color: #F8E8EE; font-size:100%; text-align:left\">\n",
    "\n",
    "<h3 align=\"left\"><font color='#5E5273'>📄 Notes: </font></h3>\n",
    "\n",
    "weighted_rating = (v/(v+M) * r) + (M/(v+M) * C)\n",
    "\n",
    "* r : vote average, the rating of the movie\n",
    "* v : vote count\n",
    "* M : minimum votes required to be listed in the Top 250\n",
    "* C : the mean vote across the whole report (currently 7.0)\n",
    "\n",
    "When calculating the IMDB weighted rating, two factors come to the forefront:\n",
    "\n",
    "* The \"C\" value, which is the overall average of all movies\n",
    "* The minimum \"M\" value required to be listed in the rankings\n",
    "\n",
    "Taking a general look at the formula:\n",
    "\n",
    "* v: the number of votes for the movie\n",
    "* (v+M): the required number of votes\n",
    "* A correction will be made to the rating based on the relationship between \"v\" and \"v+M.\""
   ]
  },
  {
   "cell_type": "markdown",
   "id": "ec8fc3e8",
   "metadata": {
    "papermill": {
     "duration": 0.040584,
     "end_time": "2023-11-13T13:58:56.052880",
     "exception": false,
     "start_time": "2023-11-13T13:58:56.012296",
     "status": "completed"
    },
    "tags": []
   },
   "source": [
    "<div style=\"border-radius:10px; border:#632626 solid; padding: 15px; background-color: #FDF6EC; font-size:100%; text-align:left\">\n",
    "\n",
    "<h3 align=\"left\"><font color='#11324D'>💡 An Example: </font></h3>\n",
    "    \n",
    "* First Part: (v/(v+M) * r)\n",
    "* Second Part: (M/(v+M) * C)\n",
    "\n",
    "Let's consider two movies:\n",
    "\n",
    "* Movie-1: A movie with 1,000 votes.\n",
    "\n",
    "    * r = 8\n",
    "    * M = 500\n",
    "    * v = 1,000\n",
    "    * C = 7\n",
    "\n",
    "(1,000 / (1,000 + 500)) * 8 = 5.33\n",
    "\n",
    "(500 / (1,000+500)) * 7 = 2.33\n",
    "\n",
    "Total Score = 5.33 + 2.33 = 7.66\n",
    "\n",
    "* Movie-2: A movie with more votes than Movie-1.\n",
    "\n",
    "    * r = 8\n",
    "    * M = 500\n",
    "    * v = 3,000\n",
    "    * C = 7\n",
    "\n",
    "(3,000 / (3,000 + 500)) * 8 = 6.85\n",
    "\n",
    "(500 / (3,000 + 500)) * 7 = 1\n",
    "\n",
    "Total Score = 6.85 + 1 = 7.85\n",
    "\n",
    "We can see how the score adjustment changes as the number of votes increases. If more points are obtained than the required number of votes, this situation has been captured. This way, we also see that a point is obtained from the general average of the audience.\n",
    "\n",
    "One of the conclusions that can be drawn from this is that a business can create its own scoring method and use it.\n",
    "\n",
    "Let's continue with the coding part."
   ]
  },
  {
   "cell_type": "code",
   "execution_count": 70,
   "id": "3ea99335",
   "metadata": {
    "execution": {
     "iopub.execute_input": "2023-11-13T13:58:56.222774Z",
     "iopub.status.busy": "2023-11-13T13:58:56.222330Z",
     "iopub.status.idle": "2023-11-13T13:58:56.228590Z",
     "shell.execute_reply": "2023-11-13T13:58:56.227532Z"
    },
    "papermill": {
     "duration": 0.136689,
     "end_time": "2023-11-13T13:58:56.230793",
     "exception": false,
     "start_time": "2023-11-13T13:58:56.094104",
     "status": "completed"
    },
    "tags": []
   },
   "outputs": [],
   "source": [
    "# Let's assign values to M and C;\n",
    "\n",
    "M = 2500\n",
    "C = df['vote_average'].mean()"
   ]
  },
  {
   "cell_type": "code",
   "execution_count": 71,
   "id": "ac5a04c4",
   "metadata": {
    "execution": {
     "iopub.execute_input": "2023-11-13T13:58:56.316301Z",
     "iopub.status.busy": "2023-11-13T13:58:56.315501Z",
     "iopub.status.idle": "2023-11-13T13:58:56.320868Z",
     "shell.execute_reply": "2023-11-13T13:58:56.319818Z"
    },
    "papermill": {
     "duration": 0.050355,
     "end_time": "2023-11-13T13:58:56.323052",
     "exception": false,
     "start_time": "2023-11-13T13:58:56.272697",
     "status": "completed"
    },
    "tags": []
   },
   "outputs": [],
   "source": [
    "def weighted_rating(r, v, M, C):\n",
    "    return (v / (v + M) * r) + (M / (v + M) * C)"
   ]
  },
  {
   "cell_type": "code",
   "execution_count": 72,
   "id": "b13c1d98",
   "metadata": {
    "execution": {
     "iopub.execute_input": "2023-11-13T13:58:56.407538Z",
     "iopub.status.busy": "2023-11-13T13:58:56.406750Z",
     "iopub.status.idle": "2023-11-13T13:58:56.434922Z",
     "shell.execute_reply": "2023-11-13T13:58:56.433806Z"
    },
    "papermill": {
     "duration": 0.073344,
     "end_time": "2023-11-13T13:58:56.437312",
     "exception": false,
     "start_time": "2023-11-13T13:58:56.363968",
     "status": "completed"
    },
    "tags": []
   },
   "outputs": [
    {
     "data": {
      "text/html": [
       "<div>\n",
       "<style scoped>\n",
       "    .dataframe tbody tr th:only-of-type {\n",
       "        vertical-align: middle;\n",
       "    }\n",
       "\n",
       "    .dataframe tbody tr th {\n",
       "        vertical-align: top;\n",
       "    }\n",
       "\n",
       "    .dataframe thead th {\n",
       "        text-align: right;\n",
       "    }\n",
       "</style>\n",
       "<table border=\"1\" class=\"dataframe\">\n",
       "  <thead>\n",
       "    <tr style=\"text-align: right;\">\n",
       "      <th></th>\n",
       "      <th>title</th>\n",
       "      <th>vote_average</th>\n",
       "      <th>vote_count</th>\n",
       "      <th>vote_count_score</th>\n",
       "      <th>average_count_score</th>\n",
       "    </tr>\n",
       "  </thead>\n",
       "  <tbody>\n",
       "    <tr>\n",
       "      <th>15480</th>\n",
       "      <td>Inception</td>\n",
       "      <td>8.1</td>\n",
       "      <td>14075.0</td>\n",
       "      <td>10.000000</td>\n",
       "      <td>81.000000</td>\n",
       "    </tr>\n",
       "    <tr>\n",
       "      <th>12481</th>\n",
       "      <td>The Dark Knight</td>\n",
       "      <td>8.3</td>\n",
       "      <td>12269.0</td>\n",
       "      <td>8.845187</td>\n",
       "      <td>73.415048</td>\n",
       "    </tr>\n",
       "    <tr>\n",
       "      <th>22879</th>\n",
       "      <td>Interstellar</td>\n",
       "      <td>8.1</td>\n",
       "      <td>11187.0</td>\n",
       "      <td>8.153321</td>\n",
       "      <td>66.041904</td>\n",
       "    </tr>\n",
       "    <tr>\n",
       "      <th>17818</th>\n",
       "      <td>The Avengers</td>\n",
       "      <td>7.4</td>\n",
       "      <td>12000.0</td>\n",
       "      <td>8.673179</td>\n",
       "      <td>64.181528</td>\n",
       "    </tr>\n",
       "    <tr>\n",
       "      <th>14551</th>\n",
       "      <td>Avatar</td>\n",
       "      <td>7.2</td>\n",
       "      <td>12114.0</td>\n",
       "      <td>8.746075</td>\n",
       "      <td>62.971737</td>\n",
       "    </tr>\n",
       "    <tr>\n",
       "      <th>26564</th>\n",
       "      <td>Deadpool</td>\n",
       "      <td>7.4</td>\n",
       "      <td>11444.0</td>\n",
       "      <td>8.317655</td>\n",
       "      <td>61.550650</td>\n",
       "    </tr>\n",
       "    <tr>\n",
       "      <th>2843</th>\n",
       "      <td>Fight Club</td>\n",
       "      <td>8.3</td>\n",
       "      <td>9678.0</td>\n",
       "      <td>7.188419</td>\n",
       "      <td>59.663879</td>\n",
       "    </tr>\n",
       "    <tr>\n",
       "      <th>20051</th>\n",
       "      <td>Django Unchained</td>\n",
       "      <td>7.8</td>\n",
       "      <td>10297.0</td>\n",
       "      <td>7.584227</td>\n",
       "      <td>59.156973</td>\n",
       "    </tr>\n",
       "    <tr>\n",
       "      <th>23753</th>\n",
       "      <td>Guardians of the Galaxy</td>\n",
       "      <td>7.9</td>\n",
       "      <td>10014.0</td>\n",
       "      <td>7.403268</td>\n",
       "      <td>58.485819</td>\n",
       "    </tr>\n",
       "    <tr>\n",
       "      <th>292</th>\n",
       "      <td>Pulp Fiction</td>\n",
       "      <td>8.3</td>\n",
       "      <td>8670.0</td>\n",
       "      <td>6.543872</td>\n",
       "      <td>54.314139</td>\n",
       "    </tr>\n",
       "    <tr>\n",
       "      <th>314</th>\n",
       "      <td>The Shawshank Redemption</td>\n",
       "      <td>8.5</td>\n",
       "      <td>8358.0</td>\n",
       "      <td>6.344369</td>\n",
       "      <td>53.927140</td>\n",
       "    </tr>\n",
       "    <tr>\n",
       "      <th>2458</th>\n",
       "      <td>The Matrix</td>\n",
       "      <td>7.9</td>\n",
       "      <td>9079.0</td>\n",
       "      <td>6.805400</td>\n",
       "      <td>53.762657</td>\n",
       "    </tr>\n",
       "    <tr>\n",
       "      <th>4863</th>\n",
       "      <td>The Lord of the Rings: The Fellowship of the Ring</td>\n",
       "      <td>8.0</td>\n",
       "      <td>8892.0</td>\n",
       "      <td>6.685826</td>\n",
       "      <td>53.486607</td>\n",
       "    </tr>\n",
       "    <tr>\n",
       "      <th>18252</th>\n",
       "      <td>The Dark Knight Rises</td>\n",
       "      <td>7.6</td>\n",
       "      <td>9263.0</td>\n",
       "      <td>6.923055</td>\n",
       "      <td>52.615218</td>\n",
       "    </tr>\n",
       "    <tr>\n",
       "      <th>26553</th>\n",
       "      <td>Mad Max: Fury Road</td>\n",
       "      <td>7.3</td>\n",
       "      <td>9629.0</td>\n",
       "      <td>7.157087</td>\n",
       "      <td>52.246735</td>\n",
       "    </tr>\n",
       "  </tbody>\n",
       "</table>\n",
       "</div>"
      ],
      "text/plain": [
       "                                                   title  vote_average  \\\n",
       "15480                                          Inception           8.1   \n",
       "12481                                    The Dark Knight           8.3   \n",
       "22879                                       Interstellar           8.1   \n",
       "17818                                       The Avengers           7.4   \n",
       "14551                                             Avatar           7.2   \n",
       "26564                                           Deadpool           7.4   \n",
       "2843                                          Fight Club           8.3   \n",
       "20051                                   Django Unchained           7.8   \n",
       "23753                            Guardians of the Galaxy           7.9   \n",
       "292                                         Pulp Fiction           8.3   \n",
       "314                             The Shawshank Redemption           8.5   \n",
       "2458                                          The Matrix           7.9   \n",
       "4863   The Lord of the Rings: The Fellowship of the Ring           8.0   \n",
       "18252                              The Dark Knight Rises           7.6   \n",
       "26553                                 Mad Max: Fury Road           7.3   \n",
       "\n",
       "       vote_count  vote_count_score  average_count_score  \n",
       "15480     14075.0         10.000000            81.000000  \n",
       "12481     12269.0          8.845187            73.415048  \n",
       "22879     11187.0          8.153321            66.041904  \n",
       "17818     12000.0          8.673179            64.181528  \n",
       "14551     12114.0          8.746075            62.971737  \n",
       "26564     11444.0          8.317655            61.550650  \n",
       "2843       9678.0          7.188419            59.663879  \n",
       "20051     10297.0          7.584227            59.156973  \n",
       "23753     10014.0          7.403268            58.485819  \n",
       "292        8670.0          6.543872            54.314139  \n",
       "314        8358.0          6.344369            53.927140  \n",
       "2458       9079.0          6.805400            53.762657  \n",
       "4863       8892.0          6.685826            53.486607  \n",
       "18252      9263.0          6.923055            52.615218  \n",
       "26553      9629.0          7.157087            52.246735  "
      ]
     },
     "execution_count": 72,
     "metadata": {},
     "output_type": "execute_result"
    }
   ],
   "source": [
    "df.sort_values(\"average_count_score\", ascending=False).head(15)"
   ]
  },
  {
   "cell_type": "markdown",
   "id": "1456a73f",
   "metadata": {
    "papermill": {
     "duration": 0.040752,
     "end_time": "2023-11-13T13:58:56.519719",
     "exception": false,
     "start_time": "2023-11-13T13:58:56.478967",
     "status": "completed"
    },
    "tags": []
   },
   "source": [
    "<div style=\"border-radius:10px; border:#65647C solid; padding: 15px; background-color: #F8EDE3; font-size:100%; text-align:left\">\n",
    "\n",
    "<h3 align=\"left\"><font color='#7D6E83'><b>🗨️ Comment: </b></font></h3>\n",
    "    \n",
    "There are some doubts in this ranking, for example, the position of the Deadpool movie. Let's examine these now."
   ]
  },
  {
   "cell_type": "code",
   "execution_count": 73,
   "id": "769be3d9",
   "metadata": {
    "execution": {
     "iopub.execute_input": "2023-11-13T13:58:56.603966Z",
     "iopub.status.busy": "2023-11-13T13:58:56.603541Z",
     "iopub.status.idle": "2023-11-13T13:58:56.610536Z",
     "shell.execute_reply": "2023-11-13T13:58:56.609531Z"
    },
    "papermill": {
     "duration": 0.052007,
     "end_time": "2023-11-13T13:58:56.612737",
     "exception": false,
     "start_time": "2023-11-13T13:58:56.560730",
     "status": "completed"
    },
    "tags": []
   },
   "outputs": [
    {
     "data": {
      "text/plain": [
       "7.080544896574546"
      ]
     },
     "execution_count": 73,
     "metadata": {},
     "output_type": "execute_result"
    }
   ],
   "source": [
    "weighted_rating(7.40000, 11444.00000, M, C) # Deadpool"
   ]
  },
  {
   "cell_type": "code",
   "execution_count": 74,
   "id": "21a57ade",
   "metadata": {
    "execution": {
     "iopub.execute_input": "2023-11-13T13:58:56.698163Z",
     "iopub.status.busy": "2023-11-13T13:58:56.697721Z",
     "iopub.status.idle": "2023-11-13T13:58:56.705080Z",
     "shell.execute_reply": "2023-11-13T13:58:56.704003Z"
    },
    "papermill": {
     "duration": 0.052644,
     "end_time": "2023-11-13T13:58:56.707169",
     "exception": false,
     "start_time": "2023-11-13T13:58:56.654525",
     "status": "completed"
    },
    "tags": []
   },
   "outputs": [
    {
     "data": {
      "text/plain": [
       "7.725672279809078"
      ]
     },
     "execution_count": 74,
     "metadata": {},
     "output_type": "execute_result"
    }
   ],
   "source": [
    "weighted_rating(8.10000, 14075.00000, M, C) # Inception"
   ]
  },
  {
   "cell_type": "code",
   "execution_count": 75,
   "id": "0c84671c",
   "metadata": {
    "execution": {
     "iopub.execute_input": "2023-11-13T13:58:56.792572Z",
     "iopub.status.busy": "2023-11-13T13:58:56.791804Z",
     "iopub.status.idle": "2023-11-13T13:58:56.797980Z",
     "shell.execute_reply": "2023-11-13T13:58:56.797241Z"
    },
    "papermill": {
     "duration": 0.051323,
     "end_time": "2023-11-13T13:58:56.800026",
     "exception": false,
     "start_time": "2023-11-13T13:58:56.748703",
     "status": "completed"
    },
    "tags": []
   },
   "outputs": [
    {
     "data": {
      "text/plain": [
       "7.83648167598411"
      ]
     },
     "execution_count": 75,
     "metadata": {},
     "output_type": "execute_result"
    }
   ],
   "source": [
    "weighted_rating(8.50000, 8358.00000, M, C) # The Shawshank Redemption"
   ]
  },
  {
   "cell_type": "code",
   "execution_count": 76,
   "id": "7dcab308",
   "metadata": {
    "execution": {
     "iopub.execute_input": "2023-11-13T13:58:56.885825Z",
     "iopub.status.busy": "2023-11-13T13:58:56.885395Z",
     "iopub.status.idle": "2023-11-13T13:58:56.893267Z",
     "shell.execute_reply": "2023-11-13T13:58:56.892391Z"
    },
    "papermill": {
     "duration": 0.053308,
     "end_time": "2023-11-13T13:58:56.895357",
     "exception": false,
     "start_time": "2023-11-13T13:58:56.842049",
     "status": "completed"
    },
    "tags": []
   },
   "outputs": [],
   "source": [
    "df[\"weighted_rating\"] = weighted_rating(df[\"vote_average\"],\n",
    "                                        df[\"vote_count\"], M, C)"
   ]
  },
  {
   "cell_type": "code",
   "execution_count": 77,
   "id": "fe8c3062",
   "metadata": {
    "execution": {
     "iopub.execute_input": "2023-11-13T13:58:56.981163Z",
     "iopub.status.busy": "2023-11-13T13:58:56.980763Z",
     "iopub.status.idle": "2023-11-13T13:58:57.008858Z",
     "shell.execute_reply": "2023-11-13T13:58:57.007809Z"
    },
    "papermill": {
     "duration": 0.074067,
     "end_time": "2023-11-13T13:58:57.011335",
     "exception": false,
     "start_time": "2023-11-13T13:58:56.937268",
     "status": "completed"
    },
    "tags": []
   },
   "outputs": [
    {
     "data": {
      "text/html": [
       "<div>\n",
       "<style scoped>\n",
       "    .dataframe tbody tr th:only-of-type {\n",
       "        vertical-align: middle;\n",
       "    }\n",
       "\n",
       "    .dataframe tbody tr th {\n",
       "        vertical-align: top;\n",
       "    }\n",
       "\n",
       "    .dataframe thead th {\n",
       "        text-align: right;\n",
       "    }\n",
       "</style>\n",
       "<table border=\"1\" class=\"dataframe\">\n",
       "  <thead>\n",
       "    <tr style=\"text-align: right;\">\n",
       "      <th></th>\n",
       "      <th>title</th>\n",
       "      <th>vote_average</th>\n",
       "      <th>vote_count</th>\n",
       "      <th>vote_count_score</th>\n",
       "      <th>average_count_score</th>\n",
       "      <th>weighted_rating</th>\n",
       "    </tr>\n",
       "  </thead>\n",
       "  <tbody>\n",
       "    <tr>\n",
       "      <th>12481</th>\n",
       "      <td>The Dark Knight</td>\n",
       "      <td>8.3</td>\n",
       "      <td>12269.0</td>\n",
       "      <td>8.845187</td>\n",
       "      <td>73.415048</td>\n",
       "      <td>7.846044</td>\n",
       "    </tr>\n",
       "    <tr>\n",
       "      <th>314</th>\n",
       "      <td>The Shawshank Redemption</td>\n",
       "      <td>8.5</td>\n",
       "      <td>8358.0</td>\n",
       "      <td>6.344369</td>\n",
       "      <td>53.927140</td>\n",
       "      <td>7.836482</td>\n",
       "    </tr>\n",
       "    <tr>\n",
       "      <th>2843</th>\n",
       "      <td>Fight Club</td>\n",
       "      <td>8.3</td>\n",
       "      <td>9678.0</td>\n",
       "      <td>7.188419</td>\n",
       "      <td>59.663879</td>\n",
       "      <td>7.749460</td>\n",
       "    </tr>\n",
       "    <tr>\n",
       "      <th>15480</th>\n",
       "      <td>Inception</td>\n",
       "      <td>8.1</td>\n",
       "      <td>14075.0</td>\n",
       "      <td>10.000000</td>\n",
       "      <td>81.000000</td>\n",
       "      <td>7.725672</td>\n",
       "    </tr>\n",
       "    <tr>\n",
       "      <th>292</th>\n",
       "      <td>Pulp Fiction</td>\n",
       "      <td>8.3</td>\n",
       "      <td>8670.0</td>\n",
       "      <td>6.543872</td>\n",
       "      <td>54.314139</td>\n",
       "      <td>7.699778</td>\n",
       "    </tr>\n",
       "    <tr>\n",
       "      <th>834</th>\n",
       "      <td>The Godfather</td>\n",
       "      <td>8.5</td>\n",
       "      <td>6024.0</td>\n",
       "      <td>4.851936</td>\n",
       "      <td>41.241456</td>\n",
       "      <td>7.654800</td>\n",
       "    </tr>\n",
       "    <tr>\n",
       "      <th>22879</th>\n",
       "      <td>Interstellar</td>\n",
       "      <td>8.1</td>\n",
       "      <td>11187.0</td>\n",
       "      <td>8.153321</td>\n",
       "      <td>66.041904</td>\n",
       "      <td>7.646688</td>\n",
       "    </tr>\n",
       "    <tr>\n",
       "      <th>351</th>\n",
       "      <td>Forrest Gump</td>\n",
       "      <td>8.2</td>\n",
       "      <td>8147.0</td>\n",
       "      <td>6.209449</td>\n",
       "      <td>50.917485</td>\n",
       "      <td>7.593775</td>\n",
       "    </tr>\n",
       "    <tr>\n",
       "      <th>7000</th>\n",
       "      <td>The Lord of the Rings: The Return of the King</td>\n",
       "      <td>8.1</td>\n",
       "      <td>8226.0</td>\n",
       "      <td>6.259964</td>\n",
       "      <td>50.705712</td>\n",
       "      <td>7.521547</td>\n",
       "    </tr>\n",
       "    <tr>\n",
       "      <th>4863</th>\n",
       "      <td>The Lord of the Rings: The Fellowship of the Ring</td>\n",
       "      <td>8.0</td>\n",
       "      <td>8892.0</td>\n",
       "      <td>6.685826</td>\n",
       "      <td>53.486607</td>\n",
       "      <td>7.477310</td>\n",
       "    </tr>\n",
       "  </tbody>\n",
       "</table>\n",
       "</div>"
      ],
      "text/plain": [
       "                                                   title  vote_average  \\\n",
       "12481                                    The Dark Knight           8.3   \n",
       "314                             The Shawshank Redemption           8.5   \n",
       "2843                                          Fight Club           8.3   \n",
       "15480                                          Inception           8.1   \n",
       "292                                         Pulp Fiction           8.3   \n",
       "834                                        The Godfather           8.5   \n",
       "22879                                       Interstellar           8.1   \n",
       "351                                         Forrest Gump           8.2   \n",
       "7000       The Lord of the Rings: The Return of the King           8.1   \n",
       "4863   The Lord of the Rings: The Fellowship of the Ring           8.0   \n",
       "\n",
       "       vote_count  vote_count_score  average_count_score  weighted_rating  \n",
       "12481     12269.0          8.845187            73.415048         7.846044  \n",
       "314        8358.0          6.344369            53.927140         7.836482  \n",
       "2843       9678.0          7.188419            59.663879         7.749460  \n",
       "15480     14075.0         10.000000            81.000000         7.725672  \n",
       "292        8670.0          6.543872            54.314139         7.699778  \n",
       "834        6024.0          4.851936            41.241456         7.654800  \n",
       "22879     11187.0          8.153321            66.041904         7.646688  \n",
       "351        8147.0          6.209449            50.917485         7.593775  \n",
       "7000       8226.0          6.259964            50.705712         7.521547  \n",
       "4863       8892.0          6.685826            53.486607         7.477310  "
      ]
     },
     "execution_count": 77,
     "metadata": {},
     "output_type": "execute_result"
    }
   ],
   "source": [
    "df.sort_values(\"weighted_rating\", ascending=False).head(10)"
   ]
  },
  {
   "cell_type": "markdown",
   "id": "889eaa64",
   "metadata": {
    "papermill": {
     "duration": 0.042466,
     "end_time": "2023-11-13T13:58:57.095801",
     "exception": false,
     "start_time": "2023-11-13T13:58:57.053335",
     "status": "completed"
    },
    "tags": []
   },
   "source": [
    "<div style=\"border-radius:10px; border:#65647C solid; padding: 15px; background-color: #F8EDE3; font-size:100%; text-align:left\">\n",
    "\n",
    "<h3 align=\"left\"><font color='#7D6E83'><b>🗨️ Comment: </b></font></h3>\n",
    "    \n",
    "* This way, we have obtained a more reliable ranking."
   ]
  },
  {
   "cell_type": "markdown",
   "id": "6a58c2ed",
   "metadata": {
    "papermill": {
     "duration": 0.042448,
     "end_time": "2023-11-13T13:58:57.181495",
     "exception": false,
     "start_time": "2023-11-13T13:58:57.139047",
     "status": "completed"
    },
    "tags": []
   },
   "source": [
    "<a id = \"16\"></a><br>\n",
    "<p style=\"font-family: 'Pacifico', cursive; font-weight: bold; letter-spacing: 2px; color: #556B2F; font-size: 160%; text-align: left; padding: 0px; border-bottom: 3px solid\">✨BAR Score✨</p>"
   ]
  },
  {
   "cell_type": "markdown",
   "id": "47ccb841",
   "metadata": {
    "papermill": {
     "duration": 0.043178,
     "end_time": "2023-11-13T13:58:57.267101",
     "exception": false,
     "start_time": "2023-11-13T13:58:57.223923",
     "status": "completed"
    },
    "tags": []
   },
   "source": [
    "<div style=\"border-radius:10px; border:#65647C solid; padding: 15px; background-color: #F8EDE3; font-size:100%; text-align:left\">\n",
    "\n",
    "<h3 align=\"left\"><font color='#7D6E83'><b>🗨️ Comment: </b></font></h3>\n",
    "\n",
    "* Up to this point, the top 5 films we obtained with the IMDb's rating system used until 2015 were as follows:\n",
    "\n",
    "     * 12481 - The Dark Knight\n",
    "     * 314 - The Shawshank Redemption\n",
    "     * 2843 - Fight Club\n",
    "     * 15480 - Inception\n",
    "     * 292 - Pulp Fiction"
   ]
  },
  {
   "cell_type": "code",
   "execution_count": 78,
   "id": "1188bb47",
   "metadata": {
    "execution": {
     "iopub.execute_input": "2023-11-13T13:58:57.359179Z",
     "iopub.status.busy": "2023-11-13T13:58:57.358069Z",
     "iopub.status.idle": "2023-11-13T13:58:57.365114Z",
     "shell.execute_reply": "2023-11-13T13:58:57.364358Z"
    },
    "papermill": {
     "duration": 0.052595,
     "end_time": "2023-11-13T13:58:57.367110",
     "exception": false,
     "start_time": "2023-11-13T13:58:57.314515",
     "status": "completed"
    },
    "tags": []
   },
   "outputs": [],
   "source": [
    "def bayesian_average_rating(n, confidence=0.95):\n",
    "    \n",
    "    if sum(n) == 0:\n",
    "        \n",
    "        return 0\n",
    "    \n",
    "    K = len(n)\n",
    "    z = st.norm.ppf(1 - (1 - confidence) / 2)\n",
    "    N = sum(n)\n",
    "    first_part = 0.0\n",
    "    second_part = 0.0\n",
    "    \n",
    "    for k, n_k in enumerate(n):\n",
    "        \n",
    "        first_part += (k + 1) * (n[k] + 1) / (N + K)\n",
    "        second_part += (k + 1) * (k + 1) * (n[k] + 1) / (N + K)\n",
    "        \n",
    "    score = first_part - z * math.sqrt((second_part - first_part * first_part) / (N + K + 1))\n",
    "    \n",
    "    return score"
   ]
  },
  {
   "cell_type": "code",
   "execution_count": 79,
   "id": "67f3b339",
   "metadata": {
    "execution": {
     "iopub.execute_input": "2023-11-13T13:58:57.455145Z",
     "iopub.status.busy": "2023-11-13T13:58:57.454357Z",
     "iopub.status.idle": "2023-11-13T13:58:57.461064Z",
     "shell.execute_reply": "2023-11-13T13:58:57.460300Z"
    },
    "papermill": {
     "duration": 0.052923,
     "end_time": "2023-11-13T13:58:57.463111",
     "exception": false,
     "start_time": "2023-11-13T13:58:57.410188",
     "status": "completed"
    },
    "tags": []
   },
   "outputs": [
    {
     "data": {
      "text/plain": [
       "9.14538444560111"
      ]
     },
     "execution_count": 79,
     "metadata": {},
     "output_type": "execute_result"
    }
   ],
   "source": [
    "bayesian_average_rating([34733, 4355, 4704, 6561, 13515, 26183, 87368, 273082, 600260, 1295351])\n",
    "\n",
    "# We entered the rating numbers from 1 to 10 stars for The Shawshank Redemption."
   ]
  },
  {
   "cell_type": "code",
   "execution_count": 80,
   "id": "1621a7d7",
   "metadata": {
    "execution": {
     "iopub.execute_input": "2023-11-13T13:58:57.550486Z",
     "iopub.status.busy": "2023-11-13T13:58:57.549707Z",
     "iopub.status.idle": "2023-11-13T13:58:57.556863Z",
     "shell.execute_reply": "2023-11-13T13:58:57.556109Z"
    },
    "papermill": {
     "duration": 0.053268,
     "end_time": "2023-11-13T13:58:57.559069",
     "exception": false,
     "start_time": "2023-11-13T13:58:57.505801",
     "status": "completed"
    },
    "tags": []
   },
   "outputs": [
    {
     "data": {
      "text/plain": [
       "8.940007324860396"
      ]
     },
     "execution_count": 80,
     "metadata": {},
     "output_type": "execute_result"
    }
   ],
   "source": [
    "bayesian_average_rating([37128, 5879, 6268, 8419, 16603, 30016, 78538, 199430, 402518, 837905])\n",
    "\n",
    "# We entered the rating numbers from 1 to 10 stars for The God Father."
   ]
  },
  {
   "cell_type": "markdown",
   "id": "0c50012e",
   "metadata": {
    "papermill": {
     "duration": 0.042276,
     "end_time": "2023-11-13T13:58:57.644361",
     "exception": false,
     "start_time": "2023-11-13T13:58:57.602085",
     "status": "completed"
    },
    "tags": []
   },
   "source": [
    "<div style=\"border-radius:10px; border:#65647C solid; padding: 15px; background-color: #F8EDE3; font-size:100%; text-align:left\">\n",
    "\n",
    "<h3 align=\"left\"><font color='#7D6E83'><b>🗨️ Comment: </b></font></h3>\n",
    "    \n",
    "* With our recent weighted calculation using Bayesian, we seem to be approaching the current IMDb ratings. The reason for the slight difference between our calculation and the current IMDb ratings can be corrected by introducing the user quality factor.\n",
    "\n",
    "* User Quality is a metric determined based on the user's comment count and their influence on the platform.\n",
    "\n",
    "* In the \"movies_metadata.csv\" dataset, we have the total number of votes, but we don't have the distribution of votes. Let's continue with the \"imdb_ratings.csv\" dataset, which contains these distributions, and perform a general calculation to rank the movies."
   ]
  },
  {
   "cell_type": "code",
   "execution_count": 81,
   "id": "e8fcfb1f",
   "metadata": {
    "execution": {
     "iopub.execute_input": "2023-11-13T13:58:57.737042Z",
     "iopub.status.busy": "2023-11-13T13:58:57.736570Z",
     "iopub.status.idle": "2023-11-13T13:58:57.748196Z",
     "shell.execute_reply": "2023-11-13T13:58:57.747343Z"
    },
    "papermill": {
     "duration": 0.061355,
     "end_time": "2023-11-13T13:58:57.750480",
     "exception": false,
     "start_time": "2023-11-13T13:58:57.689125",
     "status": "completed"
    },
    "tags": []
   },
   "outputs": [],
   "source": [
    "df = pd.read_csv(\"/kaggle/input/imdb-rating/imdb_ratings.csv\")"
   ]
  },
  {
   "cell_type": "code",
   "execution_count": 82,
   "id": "e0e9ab0d",
   "metadata": {
    "execution": {
     "iopub.execute_input": "2023-11-13T13:58:57.837931Z",
     "iopub.status.busy": "2023-11-13T13:58:57.837491Z",
     "iopub.status.idle": "2023-11-13T13:58:57.843081Z",
     "shell.execute_reply": "2023-11-13T13:58:57.842066Z"
    },
    "papermill": {
     "duration": 0.051474,
     "end_time": "2023-11-13T13:58:57.845115",
     "exception": false,
     "start_time": "2023-11-13T13:58:57.793641",
     "status": "completed"
    },
    "tags": []
   },
   "outputs": [],
   "source": [
    "df = df.iloc[0:, 1:]"
   ]
  },
  {
   "cell_type": "code",
   "execution_count": 83,
   "id": "325cf115",
   "metadata": {
    "execution": {
     "iopub.execute_input": "2023-11-13T13:58:57.933602Z",
     "iopub.status.busy": "2023-11-13T13:58:57.932458Z",
     "iopub.status.idle": "2023-11-13T13:58:57.946572Z",
     "shell.execute_reply": "2023-11-13T13:58:57.945737Z"
    },
    "papermill": {
     "duration": 0.060412,
     "end_time": "2023-11-13T13:58:57.948545",
     "exception": false,
     "start_time": "2023-11-13T13:58:57.888133",
     "status": "completed"
    },
    "tags": []
   },
   "outputs": [
    {
     "data": {
      "text/html": [
       "<div>\n",
       "<style scoped>\n",
       "    .dataframe tbody tr th:only-of-type {\n",
       "        vertical-align: middle;\n",
       "    }\n",
       "\n",
       "    .dataframe tbody tr th {\n",
       "        vertical-align: top;\n",
       "    }\n",
       "\n",
       "    .dataframe thead th {\n",
       "        text-align: right;\n",
       "    }\n",
       "</style>\n",
       "<table border=\"1\" class=\"dataframe\">\n",
       "  <thead>\n",
       "    <tr style=\"text-align: right;\">\n",
       "      <th></th>\n",
       "      <th>id</th>\n",
       "      <th>movieName</th>\n",
       "      <th>rating</th>\n",
       "      <th>ten</th>\n",
       "      <th>nine</th>\n",
       "      <th>eight</th>\n",
       "      <th>seven</th>\n",
       "      <th>six</th>\n",
       "      <th>five</th>\n",
       "      <th>four</th>\n",
       "      <th>three</th>\n",
       "      <th>two</th>\n",
       "      <th>one</th>\n",
       "    </tr>\n",
       "  </thead>\n",
       "  <tbody>\n",
       "    <tr>\n",
       "      <th>0</th>\n",
       "      <td>111161</td>\n",
       "      <td>1.       The Shawshank Redemption (1994)</td>\n",
       "      <td>9.2</td>\n",
       "      <td>1295382</td>\n",
       "      <td>600284</td>\n",
       "      <td>273091</td>\n",
       "      <td>87368</td>\n",
       "      <td>26184</td>\n",
       "      <td>13515</td>\n",
       "      <td>6561</td>\n",
       "      <td>4704</td>\n",
       "      <td>4355</td>\n",
       "      <td>34733</td>\n",
       "    </tr>\n",
       "    <tr>\n",
       "      <th>1</th>\n",
       "      <td>68646</td>\n",
       "      <td>2.       The Godfather (1972)</td>\n",
       "      <td>9.1</td>\n",
       "      <td>837932</td>\n",
       "      <td>402527</td>\n",
       "      <td>199440</td>\n",
       "      <td>78541</td>\n",
       "      <td>30016</td>\n",
       "      <td>16603</td>\n",
       "      <td>8419</td>\n",
       "      <td>6268</td>\n",
       "      <td>5879</td>\n",
       "      <td>37128</td>\n",
       "    </tr>\n",
       "    <tr>\n",
       "      <th>2</th>\n",
       "      <td>71562</td>\n",
       "      <td>3.       The Godfather: Part II (1974)</td>\n",
       "      <td>9.0</td>\n",
       "      <td>486356</td>\n",
       "      <td>324905</td>\n",
       "      <td>175507</td>\n",
       "      <td>70847</td>\n",
       "      <td>26349</td>\n",
       "      <td>12657</td>\n",
       "      <td>6210</td>\n",
       "      <td>4347</td>\n",
       "      <td>3892</td>\n",
       "      <td>20469</td>\n",
       "    </tr>\n",
       "    <tr>\n",
       "      <th>3</th>\n",
       "      <td>468569</td>\n",
       "      <td>4.       The Dark Knight (2008)</td>\n",
       "      <td>9.0</td>\n",
       "      <td>1034863</td>\n",
       "      <td>649123</td>\n",
       "      <td>354610</td>\n",
       "      <td>137748</td>\n",
       "      <td>49483</td>\n",
       "      <td>23237</td>\n",
       "      <td>11429</td>\n",
       "      <td>8082</td>\n",
       "      <td>7173</td>\n",
       "      <td>30345</td>\n",
       "    </tr>\n",
       "    <tr>\n",
       "      <th>4</th>\n",
       "      <td>50083</td>\n",
       "      <td>5.       12 Angry Men (1957)</td>\n",
       "      <td>8.9</td>\n",
       "      <td>246765</td>\n",
       "      <td>225437</td>\n",
       "      <td>133998</td>\n",
       "      <td>48341</td>\n",
       "      <td>15773</td>\n",
       "      <td>6278</td>\n",
       "      <td>2866</td>\n",
       "      <td>1723</td>\n",
       "      <td>1478</td>\n",
       "      <td>8318</td>\n",
       "    </tr>\n",
       "  </tbody>\n",
       "</table>\n",
       "</div>"
      ],
      "text/plain": [
       "       id                                 movieName  rating      ten    nine  \\\n",
       "0  111161  1.       The Shawshank Redemption (1994)     9.2  1295382  600284   \n",
       "1   68646             2.       The Godfather (1972)     9.1   837932  402527   \n",
       "2   71562    3.       The Godfather: Part II (1974)     9.0   486356  324905   \n",
       "3  468569           4.       The Dark Knight (2008)     9.0  1034863  649123   \n",
       "4   50083              5.       12 Angry Men (1957)     8.9   246765  225437   \n",
       "\n",
       "    eight   seven    six   five   four  three   two    one  \n",
       "0  273091   87368  26184  13515   6561   4704  4355  34733  \n",
       "1  199440   78541  30016  16603   8419   6268  5879  37128  \n",
       "2  175507   70847  26349  12657   6210   4347  3892  20469  \n",
       "3  354610  137748  49483  23237  11429   8082  7173  30345  \n",
       "4  133998   48341  15773   6278   2866   1723  1478   8318  "
      ]
     },
     "execution_count": 83,
     "metadata": {},
     "output_type": "execute_result"
    }
   ],
   "source": [
    "df.head()"
   ]
  },
  {
   "cell_type": "code",
   "execution_count": 84,
   "id": "721bb78d",
   "metadata": {
    "execution": {
     "iopub.execute_input": "2023-11-13T13:58:58.042993Z",
     "iopub.status.busy": "2023-11-13T13:58:58.041994Z",
     "iopub.status.idle": "2023-11-13T13:58:58.273199Z",
     "shell.execute_reply": "2023-11-13T13:58:58.271945Z"
    },
    "papermill": {
     "duration": 0.280758,
     "end_time": "2023-11-13T13:58:58.275803",
     "exception": false,
     "start_time": "2023-11-13T13:58:57.995045",
     "status": "completed"
    },
    "tags": []
   },
   "outputs": [],
   "source": [
    "df[\"bar_score\"] = df.apply(lambda x: bayesian_average_rating(x[[\"one\", \"two\", \"three\", \"four\", \"five\",\n",
    "                                                                \"six\", \"seven\", \"eight\", \"nine\", \"ten\"]]), axis=1)"
   ]
  },
  {
   "cell_type": "code",
   "execution_count": 85,
   "id": "4045a058",
   "metadata": {
    "execution": {
     "iopub.execute_input": "2023-11-13T13:58:58.365110Z",
     "iopub.status.busy": "2023-11-13T13:58:58.364686Z",
     "iopub.status.idle": "2023-11-13T13:58:58.384659Z",
     "shell.execute_reply": "2023-11-13T13:58:58.383532Z"
    },
    "papermill": {
     "duration": 0.06765,
     "end_time": "2023-11-13T13:58:58.386715",
     "exception": false,
     "start_time": "2023-11-13T13:58:58.319065",
     "status": "completed"
    },
    "tags": []
   },
   "outputs": [
    {
     "data": {
      "text/html": [
       "<div>\n",
       "<style scoped>\n",
       "    .dataframe tbody tr th:only-of-type {\n",
       "        vertical-align: middle;\n",
       "    }\n",
       "\n",
       "    .dataframe tbody tr th {\n",
       "        vertical-align: top;\n",
       "    }\n",
       "\n",
       "    .dataframe thead th {\n",
       "        text-align: right;\n",
       "    }\n",
       "</style>\n",
       "<table border=\"1\" class=\"dataframe\">\n",
       "  <thead>\n",
       "    <tr style=\"text-align: right;\">\n",
       "      <th></th>\n",
       "      <th>id</th>\n",
       "      <th>movieName</th>\n",
       "      <th>rating</th>\n",
       "      <th>ten</th>\n",
       "      <th>nine</th>\n",
       "      <th>eight</th>\n",
       "      <th>seven</th>\n",
       "      <th>six</th>\n",
       "      <th>five</th>\n",
       "      <th>four</th>\n",
       "      <th>three</th>\n",
       "      <th>two</th>\n",
       "      <th>one</th>\n",
       "      <th>bar_score</th>\n",
       "    </tr>\n",
       "  </thead>\n",
       "  <tbody>\n",
       "    <tr>\n",
       "      <th>0</th>\n",
       "      <td>111161</td>\n",
       "      <td>1.       The Shawshank Redemption (1994)</td>\n",
       "      <td>9.2</td>\n",
       "      <td>1295382</td>\n",
       "      <td>600284</td>\n",
       "      <td>273091</td>\n",
       "      <td>87368</td>\n",
       "      <td>26184</td>\n",
       "      <td>13515</td>\n",
       "      <td>6561</td>\n",
       "      <td>4704</td>\n",
       "      <td>4355</td>\n",
       "      <td>34733</td>\n",
       "      <td>9.145389</td>\n",
       "    </tr>\n",
       "    <tr>\n",
       "      <th>1</th>\n",
       "      <td>68646</td>\n",
       "      <td>2.       The Godfather (1972)</td>\n",
       "      <td>9.1</td>\n",
       "      <td>837932</td>\n",
       "      <td>402527</td>\n",
       "      <td>199440</td>\n",
       "      <td>78541</td>\n",
       "      <td>30016</td>\n",
       "      <td>16603</td>\n",
       "      <td>8419</td>\n",
       "      <td>6268</td>\n",
       "      <td>5879</td>\n",
       "      <td>37128</td>\n",
       "      <td>8.940016</td>\n",
       "    </tr>\n",
       "    <tr>\n",
       "      <th>3</th>\n",
       "      <td>468569</td>\n",
       "      <td>4.       The Dark Knight (2008)</td>\n",
       "      <td>9.0</td>\n",
       "      <td>1034863</td>\n",
       "      <td>649123</td>\n",
       "      <td>354610</td>\n",
       "      <td>137748</td>\n",
       "      <td>49483</td>\n",
       "      <td>23237</td>\n",
       "      <td>11429</td>\n",
       "      <td>8082</td>\n",
       "      <td>7173</td>\n",
       "      <td>30345</td>\n",
       "      <td>8.895962</td>\n",
       "    </tr>\n",
       "    <tr>\n",
       "      <th>2</th>\n",
       "      <td>71562</td>\n",
       "      <td>3.       The Godfather: Part II (1974)</td>\n",
       "      <td>9.0</td>\n",
       "      <td>486356</td>\n",
       "      <td>324905</td>\n",
       "      <td>175507</td>\n",
       "      <td>70847</td>\n",
       "      <td>26349</td>\n",
       "      <td>12657</td>\n",
       "      <td>6210</td>\n",
       "      <td>4347</td>\n",
       "      <td>3892</td>\n",
       "      <td>20469</td>\n",
       "      <td>8.812499</td>\n",
       "    </tr>\n",
       "    <tr>\n",
       "      <th>4</th>\n",
       "      <td>50083</td>\n",
       "      <td>5.       12 Angry Men (1957)</td>\n",
       "      <td>8.9</td>\n",
       "      <td>246765</td>\n",
       "      <td>225437</td>\n",
       "      <td>133998</td>\n",
       "      <td>48341</td>\n",
       "      <td>15773</td>\n",
       "      <td>6278</td>\n",
       "      <td>2866</td>\n",
       "      <td>1723</td>\n",
       "      <td>1478</td>\n",
       "      <td>8318</td>\n",
       "      <td>8.767934</td>\n",
       "    </tr>\n",
       "    <tr>\n",
       "      <th>6</th>\n",
       "      <td>167260</td>\n",
       "      <td>7.       The Lord of the Rings: The Return of ...</td>\n",
       "      <td>8.9</td>\n",
       "      <td>703093</td>\n",
       "      <td>433087</td>\n",
       "      <td>270113</td>\n",
       "      <td>117411</td>\n",
       "      <td>44760</td>\n",
       "      <td>21818</td>\n",
       "      <td>10873</td>\n",
       "      <td>7987</td>\n",
       "      <td>6554</td>\n",
       "      <td>28990</td>\n",
       "      <td>8.752038</td>\n",
       "    </tr>\n",
       "    <tr>\n",
       "      <th>5</th>\n",
       "      <td>108052</td>\n",
       "      <td>6.       Schindler's List (1993)</td>\n",
       "      <td>8.9</td>\n",
       "      <td>453906</td>\n",
       "      <td>383584</td>\n",
       "      <td>220586</td>\n",
       "      <td>82367</td>\n",
       "      <td>27219</td>\n",
       "      <td>12922</td>\n",
       "      <td>6234</td>\n",
       "      <td>4572</td>\n",
       "      <td>4289</td>\n",
       "      <td>19328</td>\n",
       "      <td>8.743609</td>\n",
       "    </tr>\n",
       "    <tr>\n",
       "      <th>11</th>\n",
       "      <td>109830</td>\n",
       "      <td>12.       Forrest Gump (1994)</td>\n",
       "      <td>8.8</td>\n",
       "      <td>622104</td>\n",
       "      <td>553654</td>\n",
       "      <td>373644</td>\n",
       "      <td>151284</td>\n",
       "      <td>51140</td>\n",
       "      <td>22720</td>\n",
       "      <td>11692</td>\n",
       "      <td>7647</td>\n",
       "      <td>5941</td>\n",
       "      <td>12110</td>\n",
       "      <td>8.699152</td>\n",
       "    </tr>\n",
       "    <tr>\n",
       "      <th>12</th>\n",
       "      <td>1375666</td>\n",
       "      <td>13.       Inception (2010)</td>\n",
       "      <td>8.7</td>\n",
       "      <td>724798</td>\n",
       "      <td>627987</td>\n",
       "      <td>408686</td>\n",
       "      <td>174229</td>\n",
       "      <td>60668</td>\n",
       "      <td>26910</td>\n",
       "      <td>13436</td>\n",
       "      <td>8703</td>\n",
       "      <td>6932</td>\n",
       "      <td>17621</td>\n",
       "      <td>8.693148</td>\n",
       "    </tr>\n",
       "    <tr>\n",
       "      <th>10</th>\n",
       "      <td>137523</td>\n",
       "      <td>11.       Fight Club (1999)</td>\n",
       "      <td>8.8</td>\n",
       "      <td>637087</td>\n",
       "      <td>572654</td>\n",
       "      <td>371752</td>\n",
       "      <td>152295</td>\n",
       "      <td>53059</td>\n",
       "      <td>24755</td>\n",
       "      <td>12648</td>\n",
       "      <td>8606</td>\n",
       "      <td>6948</td>\n",
       "      <td>17435</td>\n",
       "      <td>8.674475</td>\n",
       "    </tr>\n",
       "    <tr>\n",
       "      <th>7</th>\n",
       "      <td>110912</td>\n",
       "      <td>8.       Pulp Fiction (1994)</td>\n",
       "      <td>8.8</td>\n",
       "      <td>674884</td>\n",
       "      <td>541946</td>\n",
       "      <td>332876</td>\n",
       "      <td>140886</td>\n",
       "      <td>52091</td>\n",
       "      <td>26828</td>\n",
       "      <td>14203</td>\n",
       "      <td>10425</td>\n",
       "      <td>8912</td>\n",
       "      <td>25610</td>\n",
       "      <td>8.667174</td>\n",
       "    </tr>\n",
       "    <tr>\n",
       "      <th>9</th>\n",
       "      <td>120737</td>\n",
       "      <td>10.       The Lord of the Rings: The Fellowshi...</td>\n",
       "      <td>8.8</td>\n",
       "      <td>631020</td>\n",
       "      <td>460809</td>\n",
       "      <td>316221</td>\n",
       "      <td>132929</td>\n",
       "      <td>46699</td>\n",
       "      <td>22658</td>\n",
       "      <td>11002</td>\n",
       "      <td>8295</td>\n",
       "      <td>6911</td>\n",
       "      <td>27013</td>\n",
       "      <td>8.666174</td>\n",
       "    </tr>\n",
       "    <tr>\n",
       "      <th>8</th>\n",
       "      <td>60196</td>\n",
       "      <td>9.       Il buono, il brutto, il cattivo (1966)</td>\n",
       "      <td>8.8</td>\n",
       "      <td>246549</td>\n",
       "      <td>199725</td>\n",
       "      <td>138309</td>\n",
       "      <td>58595</td>\n",
       "      <td>18777</td>\n",
       "      <td>8607</td>\n",
       "      <td>3903</td>\n",
       "      <td>2451</td>\n",
       "      <td>2032</td>\n",
       "      <td>10319</td>\n",
       "      <td>8.661433</td>\n",
       "    </tr>\n",
       "    <tr>\n",
       "      <th>28</th>\n",
       "      <td>816692</td>\n",
       "      <td>29.       Interstellar (2014)</td>\n",
       "      <td>8.5</td>\n",
       "      <td>541682</td>\n",
       "      <td>412079</td>\n",
       "      <td>292240</td>\n",
       "      <td>149125</td>\n",
       "      <td>57253</td>\n",
       "      <td>24501</td>\n",
       "      <td>12271</td>\n",
       "      <td>7595</td>\n",
       "      <td>5618</td>\n",
       "      <td>12841</td>\n",
       "      <td>8.622887</td>\n",
       "    </tr>\n",
       "    <tr>\n",
       "      <th>13</th>\n",
       "      <td>167261</td>\n",
       "      <td>14.       The Lord of the Rings: The Two Tower...</td>\n",
       "      <td>8.7</td>\n",
       "      <td>517453</td>\n",
       "      <td>420229</td>\n",
       "      <td>310443</td>\n",
       "      <td>130399</td>\n",
       "      <td>44743</td>\n",
       "      <td>20787</td>\n",
       "      <td>9690</td>\n",
       "      <td>6815</td>\n",
       "      <td>5851</td>\n",
       "      <td>20950</td>\n",
       "      <td>8.614751</td>\n",
       "    </tr>\n",
       "  </tbody>\n",
       "</table>\n",
       "</div>"
      ],
      "text/plain": [
       "         id                                          movieName  rating  \\\n",
       "0    111161           1.       The Shawshank Redemption (1994)     9.2   \n",
       "1     68646                      2.       The Godfather (1972)     9.1   \n",
       "3    468569                    4.       The Dark Knight (2008)     9.0   \n",
       "2     71562             3.       The Godfather: Part II (1974)     9.0   \n",
       "4     50083                       5.       12 Angry Men (1957)     8.9   \n",
       "6    167260  7.       The Lord of the Rings: The Return of ...     8.9   \n",
       "5    108052                   6.       Schindler's List (1993)     8.9   \n",
       "11   109830                      12.       Forrest Gump (1994)     8.8   \n",
       "12  1375666                         13.       Inception (2010)     8.7   \n",
       "10   137523                        11.       Fight Club (1999)     8.8   \n",
       "7    110912                       8.       Pulp Fiction (1994)     8.8   \n",
       "9    120737  10.       The Lord of the Rings: The Fellowshi...     8.8   \n",
       "8     60196    9.       Il buono, il brutto, il cattivo (1966)     8.8   \n",
       "28   816692                      29.       Interstellar (2014)     8.5   \n",
       "13   167261  14.       The Lord of the Rings: The Two Tower...     8.7   \n",
       "\n",
       "        ten    nine   eight   seven    six   five   four  three   two    one  \\\n",
       "0   1295382  600284  273091   87368  26184  13515   6561   4704  4355  34733   \n",
       "1    837932  402527  199440   78541  30016  16603   8419   6268  5879  37128   \n",
       "3   1034863  649123  354610  137748  49483  23237  11429   8082  7173  30345   \n",
       "2    486356  324905  175507   70847  26349  12657   6210   4347  3892  20469   \n",
       "4    246765  225437  133998   48341  15773   6278   2866   1723  1478   8318   \n",
       "6    703093  433087  270113  117411  44760  21818  10873   7987  6554  28990   \n",
       "5    453906  383584  220586   82367  27219  12922   6234   4572  4289  19328   \n",
       "11   622104  553654  373644  151284  51140  22720  11692   7647  5941  12110   \n",
       "12   724798  627987  408686  174229  60668  26910  13436   8703  6932  17621   \n",
       "10   637087  572654  371752  152295  53059  24755  12648   8606  6948  17435   \n",
       "7    674884  541946  332876  140886  52091  26828  14203  10425  8912  25610   \n",
       "9    631020  460809  316221  132929  46699  22658  11002   8295  6911  27013   \n",
       "8    246549  199725  138309   58595  18777   8607   3903   2451  2032  10319   \n",
       "28   541682  412079  292240  149125  57253  24501  12271   7595  5618  12841   \n",
       "13   517453  420229  310443  130399  44743  20787   9690   6815  5851  20950   \n",
       "\n",
       "    bar_score  \n",
       "0    9.145389  \n",
       "1    8.940016  \n",
       "3    8.895962  \n",
       "2    8.812499  \n",
       "4    8.767934  \n",
       "6    8.752038  \n",
       "5    8.743609  \n",
       "11   8.699152  \n",
       "12   8.693148  \n",
       "10   8.674475  \n",
       "7    8.667174  \n",
       "9    8.666174  \n",
       "8    8.661433  \n",
       "28   8.622887  \n",
       "13   8.614751  "
      ]
     },
     "execution_count": 85,
     "metadata": {},
     "output_type": "execute_result"
    }
   ],
   "source": [
    "df.sort_values(\"bar_score\", ascending=False).head(15)"
   ]
  },
  {
   "cell_type": "markdown",
   "id": "692651ef",
   "metadata": {
    "papermill": {
     "duration": 0.043939,
     "end_time": "2023-11-13T13:58:58.474799",
     "exception": false,
     "start_time": "2023-11-13T13:58:58.430860",
     "status": "completed"
    },
    "tags": []
   },
   "source": [
    "<div style=\"border-radius:10px; border:#65647C solid; padding: 15px; background-color: #F8EDE3; font-size:100%; text-align:left\">\n",
    "\n",
    "<h3 align=\"left\"><font color='#7D6E83'><b>🗨️ Comment: </b></font></h3>\n",
    "    \n",
    "* This way, we have brought it into alignment with the current ranking. By incorporating various factors and conducting weighted scientific calculations, we are approaching the most accurate results.\n",
    "    \n",
    "* Up to this point, we have focused on ranking products. Regarding product ranking, we have reached the following awareness:\n",
    "\n",
    "    - Important factors from a business perspective should be taken into account.\n",
    "    - If there are multiple factors, these factors should first be standardized to consider their effects simultaneously, and then the effects, if different, should be expressed with their respective weights.\n",
    "    - While some statistical methods may seem reliable on their own according to the literature, it is necessary to use these methods in combination with domain knowledge rather than using them alone."
   ]
  },
  {
   "cell_type": "markdown",
   "id": "dafb74c9",
   "metadata": {
    "papermill": {
     "duration": 0.044053,
     "end_time": "2023-11-13T13:58:58.562851",
     "exception": false,
     "start_time": "2023-11-13T13:58:58.518798",
     "status": "completed"
    },
    "tags": []
   },
   "source": [
    "<a id=\"17\"></a>\n",
    "<h1 style=\"border-radius: 10px; border: 2px solid #6B8E23; background-color: #F5F5DC; font-family: 'Pacifico', cursive; font-size: 200%; text-align: center; border-radius: 15px 50px; padding: 15px; box-shadow: 5px 5px 5px #556B2F; color: #556B2F;\">🙏 Sorting Reviews 🙏</h1>"
   ]
  },
  {
   "cell_type": "markdown",
   "id": "0a2b50fe",
   "metadata": {
    "papermill": {
     "duration": 0.044863,
     "end_time": "2023-11-13T13:58:58.652608",
     "exception": false,
     "start_time": "2023-11-13T13:58:58.607745",
     "status": "completed"
    },
    "tags": []
   },
   "source": [
    "\"Sorting Reviews\" term generally refers to arranging customer reviews or evaluations in a specific order or categories. It is used to make sense of a large number of user reviews related to a product, service, or another subject, making them more meaningful and accessible. Reviews can often be grouped around specific criteria, ratings, or topics, and presented to users in an organized manner to help them better understand the information.\n",
    "\n",
    "For example, when reviewing user comments on a product on an e-commerce site, users often have the option to sort reviews based on criteria such as \"most helpful,\" \"most recent,\" \"highest rated,\" or \"lowest rated.\"\n",
    "\n",
    "Additionally, in this context, we are not concerned with whether the reviews have high or low scores. As a marketplace, we aim to deliver the most accurate social proof to users. Therefore, even a negative review can be highlighted if it reflects a consensus or is found useful by the community.\n",
    "\n",
    "Here, factors like \"User Quality Score\" also play a crucial role. It is an important factor in determining the internal ranking of reviews, even if they have an equal level of usefulness."
   ]
  },
  {
   "cell_type": "markdown",
   "id": "1149426e",
   "metadata": {
    "papermill": {
     "duration": 0.043417,
     "end_time": "2023-11-13T13:58:58.740587",
     "exception": false,
     "start_time": "2023-11-13T13:58:58.697170",
     "status": "completed"
    },
    "tags": []
   },
   "source": [
    "<a id = \"18\"></a><br>\n",
    "<p style=\"font-family: 'Pacifico', cursive; font-weight: bold; letter-spacing: 2px; color: #556B2F; font-size: 160%; text-align: left; padding: 0px; border-bottom: 3px solid\">✨Up-Down Difference Score✨</p>"
   ]
  },
  {
   "cell_type": "markdown",
   "id": "c4f27050",
   "metadata": {
    "papermill": {
     "duration": 0.043615,
     "end_time": "2023-11-13T13:58:58.828244",
     "exception": false,
     "start_time": "2023-11-13T13:58:58.784629",
     "status": "completed"
    },
    "tags": []
   },
   "source": [
    "<div style=\"border-radius:10px; border:#D0C2F0 solid; padding: 15px; background-color: #F8E8EE; font-size:100%; text-align:left\">\n",
    "\n",
    "<h3 align=\"left\"><font color='#5E5273'>📄 Notes: </font></h3>\n",
    "\n",
    "* Review 1: 600 up 400 down total 1000\n",
    "* Review 2: 5500 up 4500 down total 10000"
   ]
  },
  {
   "cell_type": "code",
   "execution_count": 86,
   "id": "c844bb99",
   "metadata": {
    "execution": {
     "iopub.execute_input": "2023-11-13T13:58:58.919523Z",
     "iopub.status.busy": "2023-11-13T13:58:58.918791Z",
     "iopub.status.idle": "2023-11-13T13:58:58.922970Z",
     "shell.execute_reply": "2023-11-13T13:58:58.922257Z"
    },
    "papermill": {
     "duration": 0.052424,
     "end_time": "2023-11-13T13:58:58.924811",
     "exception": false,
     "start_time": "2023-11-13T13:58:58.872387",
     "status": "completed"
    },
    "tags": []
   },
   "outputs": [],
   "source": [
    "def score_up_down_diff(up, down):\n",
    "    \n",
    "    return up - down"
   ]
  },
  {
   "cell_type": "code",
   "execution_count": 87,
   "id": "3b568f18",
   "metadata": {
    "execution": {
     "iopub.execute_input": "2023-11-13T13:58:59.014153Z",
     "iopub.status.busy": "2023-11-13T13:58:59.013722Z",
     "iopub.status.idle": "2023-11-13T13:58:59.019757Z",
     "shell.execute_reply": "2023-11-13T13:58:59.019040Z"
    },
    "papermill": {
     "duration": 0.053068,
     "end_time": "2023-11-13T13:58:59.021702",
     "exception": false,
     "start_time": "2023-11-13T13:58:58.968634",
     "status": "completed"
    },
    "tags": []
   },
   "outputs": [
    {
     "data": {
      "text/plain": [
       "200"
      ]
     },
     "execution_count": 87,
     "metadata": {},
     "output_type": "execute_result"
    }
   ],
   "source": [
    "# Review 1 Score:\n",
    "\n",
    "score_up_down_diff(600, 400)"
   ]
  },
  {
   "cell_type": "code",
   "execution_count": 88,
   "id": "b1542213",
   "metadata": {
    "execution": {
     "iopub.execute_input": "2023-11-13T13:58:59.117041Z",
     "iopub.status.busy": "2023-11-13T13:58:59.114916Z",
     "iopub.status.idle": "2023-11-13T13:58:59.123101Z",
     "shell.execute_reply": "2023-11-13T13:58:59.122264Z"
    },
    "papermill": {
     "duration": 0.059077,
     "end_time": "2023-11-13T13:58:59.125251",
     "exception": false,
     "start_time": "2023-11-13T13:58:59.066174",
     "status": "completed"
    },
    "tags": []
   },
   "outputs": [
    {
     "data": {
      "text/plain": [
       "1000"
      ]
     },
     "execution_count": 88,
     "metadata": {},
     "output_type": "execute_result"
    }
   ],
   "source": [
    "# Review 2 Score:\n",
    "\n",
    "score_up_down_diff(5500, 4500)"
   ]
  },
  {
   "cell_type": "markdown",
   "id": "e2782dda",
   "metadata": {
    "papermill": {
     "duration": 0.043422,
     "end_time": "2023-11-13T13:58:59.213154",
     "exception": false,
     "start_time": "2023-11-13T13:58:59.169732",
     "status": "completed"
    },
    "tags": []
   },
   "source": [
    "<div style=\"border-radius:10px; border:#65647C solid; padding: 15px; background-color: #F8EDE3; font-size:100%; text-align:left\">\n",
    "\n",
    "<h3 align=\"left\"><font color='#7D6E83'><b>🗨️ Comment: </b></font></h3>\n",
    "\n",
    "* Based on these results, Review 2 appears to be ranked higher. However, despite the difference, Review 1 has an up percentage of 60%, while Review 2 has an up percentage of 55% in the percentile ranges. Therefore, we should approach the question of whether Review 1 should be higher with some skepticism. This method falls short of providing a reliable conclusion."
   ]
  },
  {
   "cell_type": "markdown",
   "id": "552de505",
   "metadata": {
    "papermill": {
     "duration": 0.044392,
     "end_time": "2023-11-13T13:58:59.301678",
     "exception": false,
     "start_time": "2023-11-13T13:58:59.257286",
     "status": "completed"
    },
    "tags": []
   },
   "source": [
    "<a id = \"19\"></a><br>\n",
    "<p style=\"font-family: 'Pacifico', cursive; font-weight: bold; letter-spacing: 2px; color: #556B2F; font-size: 160%; text-align: left; padding: 0px; border-bottom: 3px solid\">✨Average Rating (Up Ratio)✨</p>"
   ]
  },
  {
   "cell_type": "code",
   "execution_count": 89,
   "id": "b844d95a",
   "metadata": {
    "execution": {
     "iopub.execute_input": "2023-11-13T13:58:59.391411Z",
     "iopub.status.busy": "2023-11-13T13:58:59.390950Z",
     "iopub.status.idle": "2023-11-13T13:58:59.396116Z",
     "shell.execute_reply": "2023-11-13T13:58:59.395047Z"
    },
    "papermill": {
     "duration": 0.05282,
     "end_time": "2023-11-13T13:58:59.398410",
     "exception": false,
     "start_time": "2023-11-13T13:58:59.345590",
     "status": "completed"
    },
    "tags": []
   },
   "outputs": [],
   "source": [
    "def score_average_rating(up, down):\n",
    "    \n",
    "    if up + down == 0:\n",
    "        \n",
    "        return 0\n",
    "    \n",
    "    return up / (up + down)"
   ]
  },
  {
   "cell_type": "code",
   "execution_count": 90,
   "id": "3730e388",
   "metadata": {
    "execution": {
     "iopub.execute_input": "2023-11-13T13:58:59.489715Z",
     "iopub.status.busy": "2023-11-13T13:58:59.489273Z",
     "iopub.status.idle": "2023-11-13T13:58:59.495646Z",
     "shell.execute_reply": "2023-11-13T13:58:59.494700Z"
    },
    "papermill": {
     "duration": 0.054387,
     "end_time": "2023-11-13T13:58:59.497618",
     "exception": false,
     "start_time": "2023-11-13T13:58:59.443231",
     "status": "completed"
    },
    "tags": []
   },
   "outputs": [
    {
     "data": {
      "text/plain": [
       "0.6"
      ]
     },
     "execution_count": 90,
     "metadata": {},
     "output_type": "execute_result"
    }
   ],
   "source": [
    "score_average_rating(600, 400)"
   ]
  },
  {
   "cell_type": "code",
   "execution_count": 91,
   "id": "b2abf39d",
   "metadata": {
    "execution": {
     "iopub.execute_input": "2023-11-13T13:58:59.588935Z",
     "iopub.status.busy": "2023-11-13T13:58:59.587708Z",
     "iopub.status.idle": "2023-11-13T13:58:59.593956Z",
     "shell.execute_reply": "2023-11-13T13:58:59.593249Z"
    },
    "papermill": {
     "duration": 0.053544,
     "end_time": "2023-11-13T13:58:59.595755",
     "exception": false,
     "start_time": "2023-11-13T13:58:59.542211",
     "status": "completed"
    },
    "tags": []
   },
   "outputs": [
    {
     "data": {
      "text/plain": [
       "0.55"
      ]
     },
     "execution_count": 91,
     "metadata": {},
     "output_type": "execute_result"
    }
   ],
   "source": [
    "score_average_rating(5500, 4500)"
   ]
  },
  {
   "cell_type": "markdown",
   "id": "553502b1",
   "metadata": {
    "papermill": {
     "duration": 0.045841,
     "end_time": "2023-11-13T13:58:59.686259",
     "exception": false,
     "start_time": "2023-11-13T13:58:59.640418",
     "status": "completed"
    },
    "tags": []
   },
   "source": [
    "<div style=\"border-radius:10px; border:#D0C2F0 solid; padding: 15px; background-color: #F8E8EE; font-size:100%; text-align:left\">\n",
    "\n",
    "<h3 align=\"left\"><font color='#5E5273'>📄 Notes: </font></h3>\n",
    "\n",
    "Other scenario;\n",
    "\n",
    "* Review 1: 2 up 0 down total 2\n",
    "* Review 2: 100 up 1 down total 101"
   ]
  },
  {
   "cell_type": "code",
   "execution_count": 92,
   "id": "06bcfd21",
   "metadata": {
    "execution": {
     "iopub.execute_input": "2023-11-13T13:58:59.779664Z",
     "iopub.status.busy": "2023-11-13T13:58:59.778608Z",
     "iopub.status.idle": "2023-11-13T13:58:59.784625Z",
     "shell.execute_reply": "2023-11-13T13:58:59.783844Z"
    },
    "papermill": {
     "duration": 0.054302,
     "end_time": "2023-11-13T13:58:59.786405",
     "exception": false,
     "start_time": "2023-11-13T13:58:59.732103",
     "status": "completed"
    },
    "tags": []
   },
   "outputs": [
    {
     "data": {
      "text/plain": [
       "1.0"
      ]
     },
     "execution_count": 92,
     "metadata": {},
     "output_type": "execute_result"
    }
   ],
   "source": [
    "score_average_rating(2, 0)"
   ]
  },
  {
   "cell_type": "code",
   "execution_count": 93,
   "id": "239f654f",
   "metadata": {
    "execution": {
     "iopub.execute_input": "2023-11-13T13:58:59.876533Z",
     "iopub.status.busy": "2023-11-13T13:58:59.875749Z",
     "iopub.status.idle": "2023-11-13T13:58:59.881431Z",
     "shell.execute_reply": "2023-11-13T13:58:59.880704Z"
    },
    "papermill": {
     "duration": 0.053059,
     "end_time": "2023-11-13T13:58:59.883234",
     "exception": false,
     "start_time": "2023-11-13T13:58:59.830175",
     "status": "completed"
    },
    "tags": []
   },
   "outputs": [
    {
     "data": {
      "text/plain": [
       "0.9900990099009901"
      ]
     },
     "execution_count": 93,
     "metadata": {},
     "output_type": "execute_result"
    }
   ],
   "source": [
    "score_average_rating(100, 1)"
   ]
  },
  {
   "cell_type": "markdown",
   "id": "d490fd64",
   "metadata": {
    "papermill": {
     "duration": 0.045399,
     "end_time": "2023-11-13T13:58:59.973495",
     "exception": false,
     "start_time": "2023-11-13T13:58:59.928096",
     "status": "completed"
    },
    "tags": []
   },
   "source": [
    "<div style=\"border-radius:10px; border:#65647C solid; padding: 15px; background-color: #F8EDE3; font-size:100%; text-align:left\">\n",
    "\n",
    "<h3 align=\"left\"><font color='#7D6E83'><b>🗨️ Comment: </b></font></h3>\n",
    "\n",
    "* In the second scenario, it seems like Review 1 has won. However, we can see that it doesn't make sense for a comment with only 2 upvotes to be ranked higher than one with 100 upvotes. This method falls short because it missed the frequency information while considering the ratio."
   ]
  },
  {
   "cell_type": "markdown",
   "id": "f72c1c38",
   "metadata": {
    "papermill": {
     "duration": 0.044005,
     "end_time": "2023-11-13T13:59:00.062468",
     "exception": false,
     "start_time": "2023-11-13T13:59:00.018463",
     "status": "completed"
    },
    "tags": []
   },
   "source": [
    "<a id = \"20\"></a><br>\n",
    "<p style=\"font-family: 'Pacifico', cursive; font-weight: bold; letter-spacing: 2px; color: #556B2F; font-size: 160%; text-align: left; padding: 0px; border-bottom: 3px solid\">✨Wilson Lower Bound Score✨</p>"
   ]
  },
  {
   "cell_type": "code",
   "execution_count": 94,
   "id": "c68670b3",
   "metadata": {
    "execution": {
     "iopub.execute_input": "2023-11-13T13:59:00.154939Z",
     "iopub.status.busy": "2023-11-13T13:59:00.154167Z",
     "iopub.status.idle": "2023-11-13T13:59:00.160778Z",
     "shell.execute_reply": "2023-11-13T13:59:00.160018Z"
    },
    "papermill": {
     "duration": 0.055285,
     "end_time": "2023-11-13T13:59:00.162844",
     "exception": false,
     "start_time": "2023-11-13T13:59:00.107559",
     "status": "completed"
    },
    "tags": []
   },
   "outputs": [],
   "source": [
    "def wilson_lower_bound(up, down, confidence=0.95): # The confidence level is typically set to 0.95.\n",
    "    \n",
    "    \"\"\"\n",
    "    Calculate the Wilson Lower Bound Score\n",
    "\n",
    "    - The lower limit of the confidence interval to be calculated for the Bernoulli parameter p is considered as the WLB score.\n",
    "    - The calculated score is used for product ranking.\n",
    "    - Note:\n",
    "    If the scores are in the range of 1-5, they are marked as 1-3 negative and 4-5 positive, making them suitable for Bernoulli distribution.\n",
    "    However, this introduces some problems. Therefore, Bayesian average rating should be used.\n",
    "\n",
    "    Parameters\n",
    "    ----------\n",
    "    up: int\n",
    "        up count\n",
    "    down: int\n",
    "        down count\n",
    "    confidence: float\n",
    "        confidence\n",
    "\n",
    "    Returns\n",
    "    -------\n",
    "    wilson score: float\n",
    "\n",
    "    \"\"\"\n",
    "    n = up + down\n",
    "    \n",
    "    if n == 0:\n",
    "        \n",
    "        return 0\n",
    "    \n",
    "    z = st.norm.ppf(1 - (1 - confidence) / 2)\n",
    "    phat = 1.0 * up / n\n",
    "    \n",
    "    return (phat + z * z / (2 * n) - z * math.sqrt((phat * (1 - phat) + z * z / (4 * n)) / n)) / (1 + z * z / n)"
   ]
  },
  {
   "cell_type": "markdown",
   "id": "0e012151",
   "metadata": {
    "papermill": {
     "duration": 0.043727,
     "end_time": "2023-11-13T13:59:00.251159",
     "exception": false,
     "start_time": "2023-11-13T13:59:00.207432",
     "status": "completed"
    },
    "tags": []
   },
   "source": [
    "<div style=\"border-radius:10px; border:#D0C2F0 solid; padding: 15px; background-color: #F8E8EE; font-size:100%; text-align:left\">\n",
    "\n",
    "<h3 align=\"left\"><font color='#5E5273'>📄 Notes: </font></h3>\n",
    "\n",
    "The `wilson_lower_bound` function calculates the Wilson Lower Bound Score for use in ranking items based on user reviews. The score is a lower limit of the confidence interval for the Bernoulli parameter \"p,\" which represents the probability of success in a binary outcome (e.g., upvotes and downvotes on a product).\n",
    "\n",
    "A breakdown of the function:\n",
    "\n",
    "- It takes three parameters:\n",
    "  - `up`: The number of \"positive\" outcomes (e.g., upvotes or positive reviews).\n",
    "  - `down`: The number of \"negative\" outcomes (e.g., downvotes or negative reviews).\n",
    "  - `confidence`: The desired confidence level for the lower bound score (default is 0.95 for 95% confidence).\n",
    "\n",
    "- The function first calculates the total number of trials (reviews) as `n = up + down`.\n",
    "\n",
    "- If there are no reviews (i.e., `n == 0`), the function returns a score of 0, indicating that there is no data to calculate a score.\n",
    "\n",
    "- The function then calculates a critical value `z` based on the desired confidence level using the inverse cumulative distribution function (PPF) of the standard normal distribution.\n",
    "\n",
    "- It computes the estimated probability of success `phat` as the ratio of upvotes to the total number of reviews.\n",
    "\n",
    "- Finally, it calculates the Wilson Lower Bound Score using the Wilson Score interval formula, incorporating the critical value `z`, the estimated success probability `phat`, and the total number of reviews `n`.\n",
    "\n",
    "The Wilson Lower Bound Score is a useful metric for ranking items based on user feedback while accounting for the uncertainty associated with a small number of reviews. Items with a higher Wilson Lower Bound Score are ranked higher, indicating a higher level of user confidence in the product. This method is particularly valuable when dealing with binary rating systems (e.g., thumbs up or thumbs down) and can help prevent items with a few positive ratings from being ranked higher than they should be."
   ]
  },
  {
   "cell_type": "markdown",
   "id": "caab8103",
   "metadata": {
    "papermill": {
     "duration": 0.04454,
     "end_time": "2023-11-13T13:59:00.340851",
     "exception": false,
     "start_time": "2023-11-13T13:59:00.296311",
     "status": "completed"
    },
    "tags": []
   },
   "source": [
    "<div style=\"border-radius:10px; border:#D0C2F0 solid; padding: 15px; background-color: #F8E8EE; font-size:100%; text-align:left\">\n",
    "\n",
    "<h3 align=\"left\"><font color='#5E5273'>📄 Notes: </font></h3>\n",
    "\n",
    "The Bernoulli parameter \"p\" is the probability parameter of a Bernoulli distribution. The Bernoulli distribution models random experiments with only two possible outcomes, typically referred to as \"success\" and \"failure.\"\n",
    "\n",
    "The parameter \"p\" represents the probability of success during any given trial. For example, in a coin toss, the probability of a \"successful\" outcome (e.g., getting heads) is expressed as \"p.\" Typically, the \"p\" value ranges between 0 and 1 because the probability of a successful outcome falls within that range.\n",
    "\n",
    "The Bernoulli distribution is commonly used to model binary random experiments. For instance, it can be used to model whether an advertisement is clicked or not, whether a product is defective or not, or whether a student passes an exam. The \"p\" parameter represents the probability of success in such experiments."
   ]
  },
  {
   "cell_type": "markdown",
   "id": "4fa52576",
   "metadata": {
    "papermill": {
     "duration": 0.044718,
     "end_time": "2023-11-13T13:59:00.431106",
     "exception": false,
     "start_time": "2023-11-13T13:59:00.386388",
     "status": "completed"
    },
    "tags": []
   },
   "source": [
    "<div style=\"border-radius:10px; border:#D0C2F0 solid; padding: 15px; background-color: #F8E8EE; font-size:100%; text-align:left\">\n",
    "\n",
    "<h3 align=\"left\"><font color='#5E5273'>📄 Notes: </font></h3>\n",
    "    \n",
    "The inverse cumulative distribution function of the standard normal distribution, often referred to as the Percent Point Function (PPF), is used to calculate values that correspond to a specific probability level (typically denoted as alpha). The standard normal distribution is a probability distribution with a mean of 0 and a standard deviation of 1.\n",
    "\n",
    "The PPF provides a threshold value for a given probability level (alpha), which is the value of a random variable that has that probability or less. In other words, it is the inverse of the cumulative distribution function (CDF) of the standard normal distribution. The CDF calculates the probability of a value being less than or equal to a certain value, while the PPF calculates the value that corresponds to a given probability level.\n",
    "\n",
    "It is commonly used in statistical analyses and hypothesis testing. For example, when calculating a p-value, the PPF may be used. A p-value represents the probability of a test statistic being less than or equal to a certain probability level. If the test statistic meets a specific alpha level, the test result is considered significant.\n",
    "\n",
    "In summary, the PPF is employed to calculate critical values for a given probability level by inverting the probability values associated with the standard normal distribution. It is a widely used tool in statistical analyses, hypothesis testing, and the computation of confidence intervals."
   ]
  },
  {
   "cell_type": "markdown",
   "id": "7dc47cd6",
   "metadata": {
    "papermill": {
     "duration": 0.044499,
     "end_time": "2023-11-13T13:59:00.520917",
     "exception": false,
     "start_time": "2023-11-13T13:59:00.476418",
     "status": "completed"
    },
    "tags": []
   },
   "source": [
    "**Scenario - 1**"
   ]
  },
  {
   "cell_type": "code",
   "execution_count": 95,
   "id": "64196608",
   "metadata": {
    "execution": {
     "iopub.execute_input": "2023-11-13T13:59:00.612420Z",
     "iopub.status.busy": "2023-11-13T13:59:00.611932Z",
     "iopub.status.idle": "2023-11-13T13:59:00.618941Z",
     "shell.execute_reply": "2023-11-13T13:59:00.617876Z"
    },
    "papermill": {
     "duration": 0.055342,
     "end_time": "2023-11-13T13:59:00.621112",
     "exception": false,
     "start_time": "2023-11-13T13:59:00.565770",
     "status": "completed"
    },
    "tags": []
   },
   "outputs": [
    {
     "data": {
      "text/plain": [
       "0.5693094295142663"
      ]
     },
     "execution_count": 95,
     "metadata": {},
     "output_type": "execute_result"
    }
   ],
   "source": [
    "wilson_lower_bound(600, 400)"
   ]
  },
  {
   "cell_type": "code",
   "execution_count": 96,
   "id": "9fd82136",
   "metadata": {
    "execution": {
     "iopub.execute_input": "2023-11-13T13:59:00.713582Z",
     "iopub.status.busy": "2023-11-13T13:59:00.712357Z",
     "iopub.status.idle": "2023-11-13T13:59:00.719853Z",
     "shell.execute_reply": "2023-11-13T13:59:00.719111Z"
    },
    "papermill": {
     "duration": 0.055634,
     "end_time": "2023-11-13T13:59:00.721661",
     "exception": false,
     "start_time": "2023-11-13T13:59:00.666027",
     "status": "completed"
    },
    "tags": []
   },
   "outputs": [
    {
     "data": {
      "text/plain": [
       "0.5402319557715324"
      ]
     },
     "execution_count": 96,
     "metadata": {},
     "output_type": "execute_result"
    }
   ],
   "source": [
    "wilson_lower_bound(5500, 4500)"
   ]
  },
  {
   "cell_type": "markdown",
   "id": "c63eda9c",
   "metadata": {
    "papermill": {
     "duration": 0.044905,
     "end_time": "2023-11-13T13:59:00.811600",
     "exception": false,
     "start_time": "2023-11-13T13:59:00.766695",
     "status": "completed"
    },
    "tags": []
   },
   "source": [
    "**Scenario - 2**"
   ]
  },
  {
   "cell_type": "code",
   "execution_count": 97,
   "id": "0789c990",
   "metadata": {
    "execution": {
     "iopub.execute_input": "2023-11-13T13:59:00.904920Z",
     "iopub.status.busy": "2023-11-13T13:59:00.904139Z",
     "iopub.status.idle": "2023-11-13T13:59:00.910287Z",
     "shell.execute_reply": "2023-11-13T13:59:00.909551Z"
    },
    "papermill": {
     "duration": 0.055068,
     "end_time": "2023-11-13T13:59:00.912135",
     "exception": false,
     "start_time": "2023-11-13T13:59:00.857067",
     "status": "completed"
    },
    "tags": []
   },
   "outputs": [
    {
     "data": {
      "text/plain": [
       "0.3423802275066531"
      ]
     },
     "execution_count": 97,
     "metadata": {},
     "output_type": "execute_result"
    }
   ],
   "source": [
    "wilson_lower_bound(2, 0)"
   ]
  },
  {
   "cell_type": "code",
   "execution_count": 98,
   "id": "50fac542",
   "metadata": {
    "execution": {
     "iopub.execute_input": "2023-11-13T13:59:01.006119Z",
     "iopub.status.busy": "2023-11-13T13:59:01.005013Z",
     "iopub.status.idle": "2023-11-13T13:59:01.011974Z",
     "shell.execute_reply": "2023-11-13T13:59:01.011145Z"
    },
    "papermill": {
     "duration": 0.05579,
     "end_time": "2023-11-13T13:59:01.013923",
     "exception": false,
     "start_time": "2023-11-13T13:59:00.958133",
     "status": "completed"
    },
    "tags": []
   },
   "outputs": [
    {
     "data": {
      "text/plain": [
       "0.9460328420055449"
      ]
     },
     "execution_count": 98,
     "metadata": {},
     "output_type": "execute_result"
    }
   ],
   "source": [
    "wilson_lower_bound(100, 1)"
   ]
  },
  {
   "cell_type": "markdown",
   "id": "8a1b5248",
   "metadata": {
    "papermill": {
     "duration": 0.048025,
     "end_time": "2023-11-13T13:59:01.108665",
     "exception": false,
     "start_time": "2023-11-13T13:59:01.060640",
     "status": "completed"
    },
    "tags": []
   },
   "source": [
    "<div style=\"border-radius:10px; border:#65647C solid; padding: 15px; background-color: #F8EDE3; font-size:100%; text-align:left\">\n",
    "\n",
    "<h3 align=\"left\"><font color='#7D6E83'><b>🗨️ Comment: </b></font></h3>\n",
    "\n",
    "* With these results, we have obtained more reliable outputs."
   ]
  },
  {
   "cell_type": "markdown",
   "id": "513f7b9c",
   "metadata": {
    "papermill": {
     "duration": 0.045597,
     "end_time": "2023-11-13T13:59:01.201865",
     "exception": false,
     "start_time": "2023-11-13T13:59:01.156268",
     "status": "completed"
    },
    "tags": []
   },
   "source": [
    "<a id = \"21\"></a><br>\n",
    "<p style=\"font-family: 'Pacifico', cursive; font-weight: bold; letter-spacing: 2px; color: #556B2F; font-size: 160%; text-align: left; padding: 0px; border-bottom: 3px solid\">✨Case Study✨</p>"
   ]
  },
  {
   "cell_type": "code",
   "execution_count": 99,
   "id": "85213bf2",
   "metadata": {
    "execution": {
     "iopub.execute_input": "2023-11-13T13:59:01.298350Z",
     "iopub.status.busy": "2023-11-13T13:59:01.297116Z",
     "iopub.status.idle": "2023-11-13T13:59:01.303838Z",
     "shell.execute_reply": "2023-11-13T13:59:01.302840Z"
    },
    "papermill": {
     "duration": 0.056882,
     "end_time": "2023-11-13T13:59:01.305913",
     "exception": false,
     "start_time": "2023-11-13T13:59:01.249031",
     "status": "completed"
    },
    "tags": []
   },
   "outputs": [],
   "source": [
    "up = [15, 70, 14, 4, 2, 5, 8, 37, 21, 52, 28, 147, 61, 30, 23, 40, 37, 61, 54, 18, 12, 68]\n",
    "\n",
    "down = [0, 2, 2, 2, 15, 2, 6, 5, 23, 8, 12, 2, 1, 1, 5, 1, 2, 6, 2, 0, 2, 2]"
   ]
  },
  {
   "cell_type": "code",
   "execution_count": 100,
   "id": "0688e780",
   "metadata": {
    "execution": {
     "iopub.execute_input": "2023-11-13T13:59:01.399853Z",
     "iopub.status.busy": "2023-11-13T13:59:01.399159Z",
     "iopub.status.idle": "2023-11-13T13:59:01.403997Z",
     "shell.execute_reply": "2023-11-13T13:59:01.403191Z"
    },
    "papermill": {
     "duration": 0.053891,
     "end_time": "2023-11-13T13:59:01.405986",
     "exception": false,
     "start_time": "2023-11-13T13:59:01.352095",
     "status": "completed"
    },
    "tags": []
   },
   "outputs": [],
   "source": [
    "comments = pd.DataFrame({\"up\": up, \"down\": down})"
   ]
  },
  {
   "cell_type": "code",
   "execution_count": 101,
   "id": "65675202",
   "metadata": {
    "execution": {
     "iopub.execute_input": "2023-11-13T13:59:01.499854Z",
     "iopub.status.busy": "2023-11-13T13:59:01.499084Z",
     "iopub.status.idle": "2023-11-13T13:59:01.507734Z",
     "shell.execute_reply": "2023-11-13T13:59:01.506990Z"
    },
    "papermill": {
     "duration": 0.057931,
     "end_time": "2023-11-13T13:59:01.509691",
     "exception": false,
     "start_time": "2023-11-13T13:59:01.451760",
     "status": "completed"
    },
    "tags": []
   },
   "outputs": [
    {
     "data": {
      "text/html": [
       "<div>\n",
       "<style scoped>\n",
       "    .dataframe tbody tr th:only-of-type {\n",
       "        vertical-align: middle;\n",
       "    }\n",
       "\n",
       "    .dataframe tbody tr th {\n",
       "        vertical-align: top;\n",
       "    }\n",
       "\n",
       "    .dataframe thead th {\n",
       "        text-align: right;\n",
       "    }\n",
       "</style>\n",
       "<table border=\"1\" class=\"dataframe\">\n",
       "  <thead>\n",
       "    <tr style=\"text-align: right;\">\n",
       "      <th></th>\n",
       "      <th>up</th>\n",
       "      <th>down</th>\n",
       "    </tr>\n",
       "  </thead>\n",
       "  <tbody>\n",
       "    <tr>\n",
       "      <th>0</th>\n",
       "      <td>15</td>\n",
       "      <td>0</td>\n",
       "    </tr>\n",
       "    <tr>\n",
       "      <th>1</th>\n",
       "      <td>70</td>\n",
       "      <td>2</td>\n",
       "    </tr>\n",
       "    <tr>\n",
       "      <th>2</th>\n",
       "      <td>14</td>\n",
       "      <td>2</td>\n",
       "    </tr>\n",
       "    <tr>\n",
       "      <th>3</th>\n",
       "      <td>4</td>\n",
       "      <td>2</td>\n",
       "    </tr>\n",
       "    <tr>\n",
       "      <th>4</th>\n",
       "      <td>2</td>\n",
       "      <td>15</td>\n",
       "    </tr>\n",
       "  </tbody>\n",
       "</table>\n",
       "</div>"
      ],
      "text/plain": [
       "   up  down\n",
       "0  15     0\n",
       "1  70     2\n",
       "2  14     2\n",
       "3   4     2\n",
       "4   2    15"
      ]
     },
     "execution_count": 101,
     "metadata": {},
     "output_type": "execute_result"
    }
   ],
   "source": [
    "comments.head()\n",
    "\n",
    "# Each row corresponds to a comment, and we can see the up-down values received by that comment."
   ]
  },
  {
   "cell_type": "code",
   "execution_count": 102,
   "id": "2eb5782f",
   "metadata": {
    "execution": {
     "iopub.execute_input": "2023-11-13T13:59:01.603257Z",
     "iopub.status.busy": "2023-11-13T13:59:01.602493Z",
     "iopub.status.idle": "2023-11-13T13:59:01.608635Z",
     "shell.execute_reply": "2023-11-13T13:59:01.607864Z"
    },
    "papermill": {
     "duration": 0.05511,
     "end_time": "2023-11-13T13:59:01.610583",
     "exception": false,
     "start_time": "2023-11-13T13:59:01.555473",
     "status": "completed"
    },
    "tags": []
   },
   "outputs": [],
   "source": [
    "# score_pos_neg_diff\n",
    "\n",
    "comments[\"score_pos_neg_diff\"] = comments.apply(lambda x: score_up_down_diff(x[\"up\"],\n",
    "                                                                             x[\"down\"]), axis=1)"
   ]
  },
  {
   "cell_type": "code",
   "execution_count": 103,
   "id": "13e22fc6",
   "metadata": {
    "execution": {
     "iopub.execute_input": "2023-11-13T13:59:01.705103Z",
     "iopub.status.busy": "2023-11-13T13:59:01.704358Z",
     "iopub.status.idle": "2023-11-13T13:59:01.710457Z",
     "shell.execute_reply": "2023-11-13T13:59:01.709703Z"
    },
    "papermill": {
     "duration": 0.055332,
     "end_time": "2023-11-13T13:59:01.712414",
     "exception": false,
     "start_time": "2023-11-13T13:59:01.657082",
     "status": "completed"
    },
    "tags": []
   },
   "outputs": [],
   "source": [
    "# score_average_rating\n",
    "\n",
    "comments[\"score_average_rating\"] = comments.apply(lambda x: score_average_rating(x[\"up\"], x[\"down\"]), axis=1)"
   ]
  },
  {
   "cell_type": "code",
   "execution_count": 104,
   "id": "ff963aea",
   "metadata": {
    "execution": {
     "iopub.execute_input": "2023-11-13T13:59:01.806018Z",
     "iopub.status.busy": "2023-11-13T13:59:01.804875Z",
     "iopub.status.idle": "2023-11-13T13:59:01.815577Z",
     "shell.execute_reply": "2023-11-13T13:59:01.814707Z"
    },
    "papermill": {
     "duration": 0.059688,
     "end_time": "2023-11-13T13:59:01.817651",
     "exception": false,
     "start_time": "2023-11-13T13:59:01.757963",
     "status": "completed"
    },
    "tags": []
   },
   "outputs": [],
   "source": [
    "# Wilson Lower Bound\n",
    "\n",
    "comments[\"wilson_lower_bound\"] = comments.apply(lambda x: wilson_lower_bound(x[\"up\"], x[\"down\"]), axis=1)"
   ]
  },
  {
   "cell_type": "code",
   "execution_count": 105,
   "id": "e0ff4838",
   "metadata": {
    "execution": {
     "iopub.execute_input": "2023-11-13T13:59:01.912046Z",
     "iopub.status.busy": "2023-11-13T13:59:01.910814Z",
     "iopub.status.idle": "2023-11-13T13:59:01.924928Z",
     "shell.execute_reply": "2023-11-13T13:59:01.923832Z"
    },
    "papermill": {
     "duration": 0.063937,
     "end_time": "2023-11-13T13:59:01.927144",
     "exception": false,
     "start_time": "2023-11-13T13:59:01.863207",
     "status": "completed"
    },
    "tags": []
   },
   "outputs": [
    {
     "data": {
      "text/html": [
       "<div>\n",
       "<style scoped>\n",
       "    .dataframe tbody tr th:only-of-type {\n",
       "        vertical-align: middle;\n",
       "    }\n",
       "\n",
       "    .dataframe tbody tr th {\n",
       "        vertical-align: top;\n",
       "    }\n",
       "\n",
       "    .dataframe thead th {\n",
       "        text-align: right;\n",
       "    }\n",
       "</style>\n",
       "<table border=\"1\" class=\"dataframe\">\n",
       "  <thead>\n",
       "    <tr style=\"text-align: right;\">\n",
       "      <th></th>\n",
       "      <th>up</th>\n",
       "      <th>down</th>\n",
       "      <th>score_pos_neg_diff</th>\n",
       "      <th>score_average_rating</th>\n",
       "      <th>wilson_lower_bound</th>\n",
       "    </tr>\n",
       "  </thead>\n",
       "  <tbody>\n",
       "    <tr>\n",
       "      <th>11</th>\n",
       "      <td>147</td>\n",
       "      <td>2</td>\n",
       "      <td>145</td>\n",
       "      <td>0.986577</td>\n",
       "      <td>0.952384</td>\n",
       "    </tr>\n",
       "    <tr>\n",
       "      <th>12</th>\n",
       "      <td>61</td>\n",
       "      <td>1</td>\n",
       "      <td>60</td>\n",
       "      <td>0.983871</td>\n",
       "      <td>0.914133</td>\n",
       "    </tr>\n",
       "    <tr>\n",
       "      <th>1</th>\n",
       "      <td>70</td>\n",
       "      <td>2</td>\n",
       "      <td>68</td>\n",
       "      <td>0.972222</td>\n",
       "      <td>0.904258</td>\n",
       "    </tr>\n",
       "    <tr>\n",
       "      <th>21</th>\n",
       "      <td>68</td>\n",
       "      <td>2</td>\n",
       "      <td>66</td>\n",
       "      <td>0.971429</td>\n",
       "      <td>0.901677</td>\n",
       "    </tr>\n",
       "    <tr>\n",
       "      <th>18</th>\n",
       "      <td>54</td>\n",
       "      <td>2</td>\n",
       "      <td>52</td>\n",
       "      <td>0.964286</td>\n",
       "      <td>0.878812</td>\n",
       "    </tr>\n",
       "    <tr>\n",
       "      <th>15</th>\n",
       "      <td>40</td>\n",
       "      <td>1</td>\n",
       "      <td>39</td>\n",
       "      <td>0.975610</td>\n",
       "      <td>0.874049</td>\n",
       "    </tr>\n",
       "    <tr>\n",
       "      <th>13</th>\n",
       "      <td>30</td>\n",
       "      <td>1</td>\n",
       "      <td>29</td>\n",
       "      <td>0.967742</td>\n",
       "      <td>0.838059</td>\n",
       "    </tr>\n",
       "    <tr>\n",
       "      <th>16</th>\n",
       "      <td>37</td>\n",
       "      <td>2</td>\n",
       "      <td>35</td>\n",
       "      <td>0.948718</td>\n",
       "      <td>0.831144</td>\n",
       "    </tr>\n",
       "    <tr>\n",
       "      <th>19</th>\n",
       "      <td>18</td>\n",
       "      <td>0</td>\n",
       "      <td>18</td>\n",
       "      <td>1.000000</td>\n",
       "      <td>0.824121</td>\n",
       "    </tr>\n",
       "    <tr>\n",
       "      <th>17</th>\n",
       "      <td>61</td>\n",
       "      <td>6</td>\n",
       "      <td>55</td>\n",
       "      <td>0.910448</td>\n",
       "      <td>0.818072</td>\n",
       "    </tr>\n",
       "  </tbody>\n",
       "</table>\n",
       "</div>"
      ],
      "text/plain": [
       "     up  down  score_pos_neg_diff  score_average_rating  wilson_lower_bound\n",
       "11  147     2                 145              0.986577            0.952384\n",
       "12   61     1                  60              0.983871            0.914133\n",
       "1    70     2                  68              0.972222            0.904258\n",
       "21   68     2                  66              0.971429            0.901677\n",
       "18   54     2                  52              0.964286            0.878812\n",
       "15   40     1                  39              0.975610            0.874049\n",
       "13   30     1                  29              0.967742            0.838059\n",
       "16   37     2                  35              0.948718            0.831144\n",
       "19   18     0                  18              1.000000            0.824121\n",
       "17   61     6                  55              0.910448            0.818072"
      ]
     },
     "execution_count": 105,
     "metadata": {},
     "output_type": "execute_result"
    }
   ],
   "source": [
    "comments.sort_values(\"wilson_lower_bound\", ascending=False).head(10)"
   ]
  },
  {
   "cell_type": "markdown",
   "id": "7b23c95f",
   "metadata": {
    "papermill": {
     "duration": 0.045615,
     "end_time": "2023-11-13T13:59:02.018561",
     "exception": false,
     "start_time": "2023-11-13T13:59:01.972946",
     "status": "completed"
    },
    "tags": []
   },
   "source": [
    "<div style=\"border-radius:10px; border:#D0C2F0 solid; padding: 15px; background-color: #F8E8EE; font-size:100%; text-align:left\">\n",
    "\n",
    "<h3 align=\"left\"><font color='#5E5273'>👻 Analysis Results: </font></h3>\n",
    "    \n",
    "In this comprehensive Kaggle notebook, we delved into various methodologies for evaluating and sorting content, particularly focusing on rating products and the intricacies of average ratings. We explored advanced techniques such as Time-Based Weighted Average, User-Based Weighted Average, Weighted Rating, and Bayesian Average Rating Score, highlighting their significance in providing more nuanced and accurate evaluations. The discussion expanded to the practical aspects of sorting products, considering factors like rating, comment count, and purchase count. Additionally, we delved into hybrid sorting methods and drew insights from the well-known IMDB Movie Scoring and Sorting, emphasizing the importance of sophisticated approaches for content evaluation.\n",
    "\n",
    "The latter part of the notebook explored practical implementations, including importing libraries, examining data, and presenting case studies. Specifically, we scrutinized sorting by Vote Average, IMDB Weighted Rating, Bayesian Average Rating Score (BAR Score), and various sorting strategies based on reviews and user interactions. We introduced unique scoring methods like Up-Down Difference Score, Average Rating (Up Ratio), and Wilson Lower Bound Score, each contributing to a more comprehensive understanding of content evaluation.\n",
    "\n",
    "In conclusion, this Kaggle notebook serves as a valuable resource for data enthusiasts and analysts seeking a deep dive into advanced content evaluation techniques. By combining theoretical discussions with practical case studies, it equips readers with a diverse set of tools to enhance their ability to assess and rank content effectively."
   ]
  }
 ],
 "metadata": {
  "kernelspec": {
   "display_name": "Python 3",
   "language": "python",
   "name": "python3"
  },
  "language_info": {
   "codemirror_mode": {
    "name": "ipython",
    "version": 3
   },
   "file_extension": ".py",
   "mimetype": "text/x-python",
   "name": "python",
   "nbconvert_exporter": "python",
   "pygments_lexer": "ipython3",
   "version": "3.10.12"
  },
  "papermill": {
   "default_parameters": {},
   "duration": 22.421449,
   "end_time": "2023-11-13T13:59:02.787139",
   "environment_variables": {},
   "exception": null,
   "input_path": "__notebook__.ipynb",
   "output_path": "__notebook__.ipynb",
   "parameters": {},
   "start_time": "2023-11-13T13:58:40.365690",
   "version": "2.4.0"
  }
 },
 "nbformat": 4,
 "nbformat_minor": 5
}
