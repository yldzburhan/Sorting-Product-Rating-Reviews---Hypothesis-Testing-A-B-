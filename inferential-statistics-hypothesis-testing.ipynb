{
 "cells": [
  {
   "cell_type": "markdown",
   "id": "33d49e81",
   "metadata": {
    "papermill": {
     "duration": 0.023227,
     "end_time": "2023-11-13T14:31:51.202505",
     "exception": false,
     "start_time": "2023-11-13T14:31:51.179278",
     "status": "completed"
    },
    "tags": []
   },
   "source": [
    "<div style=\"border-radius: 10px; border: #6B8E23 solid; padding: 15px; background-color: #F5F5DC; font-size: 100%; text-align: left\">\n",
    "\n",
    "<h3 align=\"left\"><font color='#556B2F'>📜 Introduction : </font></h3>\n",
    "\n",
    "Curiosity has always been a part of human nature. Since the formation of the first civilizations, we have supported this curiosity with our ability to ask questions and seek answers to those questions. However, at some point, we realized that questions we ask need to be proven and their results confirmed through scientific methods. Otherwise, making decisions based on assumptions in the face of uncertain results becomes impossible.\n",
    "\n",
    "Hypotheses are statements about untested, unverified questions and expressions. Hypotheses are divided into two categories:\n",
    "\n",
    "1. **Null Hypothesis (H0):** It is a person's default argument about a subject, typically stating that there is no effect, relationship, or difference.\n",
    "2. **Alternative Hypothesis (H1):** It is presented to reject the null hypothesis, usually stating that there is an effect, relationship, or difference.\n",
    "\n",
    "Example: According to the null hypothesis, there is no relationship between a student's study time and exam success. According to the alternative hypothesis, as a student's study time increases, exam success also increases.\n",
    "\n",
    "**What is Hypothesis Testing?**\n",
    "\n",
    "Hypothesis Testing is a statistical method used to make statistical decisions using experimental data. Hypothesis testing is essentially an assumption we make about a population parameter.\n",
    "\n",
    "Example: Assuming an average student in a class is 30 years old or that a man is taller than a girl. All of these are assumed hypotheses, and we need a statistical method to prove them. Everything we assume to be true needs a mathematical result.\n",
    "\n",
    "There are two types of errors in hypothesis testing: Type I and Type II.\n",
    "\n",
    "1. **Type I Error (α Error or False Positive):**\n",
    "   - **Definition:** Type I error is rejecting the null hypothesis when it is true. In other words, concluding that there is an effect when there is none.\n",
    "   - **Example:** If the null hypothesis is \"There is no difference between two drugs,\" concluding that there is a difference based on the statistical test and mistakenly rejecting the null hypothesis would be a Type I error.\n",
    "   - **Alpha (α):** It is the probability of making a Type I error and is usually specified at a significance level like 0.05 or 0.01.\n",
    "\n",
    "2. **Type II Error (β Error or False Negative):**\n",
    "   - **Definition:** Type II error is accepting the null hypothesis when it is false. In other words, concluding that there is no effect when there is one.\n",
    "   - **Example:** If the null hypothesis is \"There is a difference between two drugs,\" concluding that there is no difference based on the statistical test and mistakenly accepting the null hypothesis would be a Type II error.\n",
    "   - **Beta (β):** It is the probability of making a Type II error.\n",
    "\n",
    "However, there is an inverse relationship between Type I and Type II errors; reducing one may increase the other. Therefore, careful consideration is necessary when interpreting the results of statistical tests and making decisions based on them."
   ]
  },
  {
   "cell_type": "markdown",
   "id": "b73bccf2",
   "metadata": {
    "papermill": {
     "duration": 0.021048,
     "end_time": "2023-11-13T14:31:51.245049",
     "exception": false,
     "start_time": "2023-11-13T14:31:51.224001",
     "status": "completed"
    },
    "tags": []
   },
   "source": [
    "<center><img src=\"https://i.imgur.com/cVGtB4s.png\" width=\"500\" height=\"500\"></center>"
   ]
  },
  {
   "cell_type": "markdown",
   "id": "4cb4e2c8",
   "metadata": {
    "papermill": {
     "duration": 0.020564,
     "end_time": "2023-11-13T14:31:51.287912",
     "exception": false,
     "start_time": "2023-11-13T14:31:51.267348",
     "status": "completed"
    },
    "tags": []
   },
   "source": [
    "<div style=\"border-radius:10px; border:#632626 solid; padding: 15px; background-color: #FDF6EC; font-size:100%; text-align:left\">\n",
    "\n",
    "<h3 align=\"left\"><font color='#11324D'>💡 An Example: </font></h3>\n",
    "    \n",
    "**Question:** Did the daily average time users spent on the mobile app increase after the user interface change in the mobile application?\n",
    "    \n",
    "**Null Hypothesis (H0):** The user interface change in the mobile app has not altered the daily average time users spend on the app. Mathematically expressed as:\n",
    "\n",
    "H0: μ1 ≤ μ0\n",
    "\n",
    "Here, μ1 represents the post-interface change average time, and μ0 represents the pre-change average time.\n",
    "\n",
    "**Alternative Hypothesis (H1):** The user interface change in the mobile app has increased the daily average time users spend on the app. Mathematically expressed as:\n",
    "\n",
    "H1: μ1 > μ0\n",
    "\n",
    "This alternative hypothesis claims that the average time users spend on the app has increased."
   ]
  },
  {
   "cell_type": "markdown",
   "id": "9e86be19",
   "metadata": {
    "papermill": {
     "duration": 0.02072,
     "end_time": "2023-11-13T14:31:51.329696",
     "exception": false,
     "start_time": "2023-11-13T14:31:51.308976",
     "status": "completed"
    },
    "tags": []
   },
   "source": [
    "# Content\n",
    "\n",
    "1. [💠Sampling💠](#1)\n",
    "1. [💠Descriptive Statistics💠](#2)\n",
    "1. [💠Confidence Intervals💠](#3)\n",
    "1. [💠Correlation💠](#4)\n",
    "1. [💠The Independent Two-Sample t-Test💠](#5)\n",
    "    * [A/B Testing Implementation 1](#6)\n",
    "    * [A/B Testing Implementation 2](#7)\n",
    "    * [A/B Testing Implementation 3](#8)\n",
    "    * [A/B Testing Implementation 4](#9)\n",
    "1. [💠Two-Sample Proportion Test💠](#10)\n",
    "1. [💠ANOVA - Analysis of Variance💠](#11)"
   ]
  },
  {
   "cell_type": "markdown",
   "id": "50d0ce76",
   "metadata": {
    "papermill": {
     "duration": 0.020859,
     "end_time": "2023-11-13T14:31:51.371902",
     "exception": false,
     "start_time": "2023-11-13T14:31:51.351043",
     "status": "completed"
    },
    "tags": []
   },
   "source": [
    "<a id=\"1\"></a>\n",
    "<h1 style=\"border-radius: 10px; border: 2px solid #6B8E23; background-color: #F5F5DC; font-family: 'Pacifico', cursive; font-size: 200%; text-align: center; border-radius: 15px 50px; padding: 15px; box-shadow: 5px 5px 5px #556B2F; color: #556B2F;\">💠Sampling💠</h1>"
   ]
  },
  {
   "cell_type": "markdown",
   "id": "e3c0245b",
   "metadata": {
    "papermill": {
     "duration": 0.021265,
     "end_time": "2023-11-13T14:31:51.503161",
     "exception": false,
     "start_time": "2023-11-13T14:31:51.481896",
     "status": "completed"
    },
    "tags": []
   },
   "source": [
    "In statistics, a sample is typically a subset that represents a population. While the population refers to the general population being studied, a sample is a smaller and more manageable subset that represents a portion of this population.\n",
    "\n",
    "A sample consists of data collected by a researcher or statistician with the aim of making inferences or predictions about the larger population. Since examining the entire population is often impractical, the sample is selected to adequately represent important characteristics of the population.\n",
    "\n",
    "Samples can be chosen randomly or through specific methods, and the size of the sample is determined based on the size of the population and the objectives of the study. The sample is usually selected to accurately reflect the statistical characteristics of the population, allowing for inferences to be made about the population.\n",
    "\n",
    "In statistics, a sample enables making generalizations and inferences about the population using inferential statistics (such as estimation and hypothesis testing). A well-selected and representative sample ensures that statistical analyses accurately reflect the characteristics of the population, leading to more reliable results."
   ]
  },
  {
   "cell_type": "code",
   "execution_count": 1,
   "id": "dfe4417b",
   "metadata": {
    "execution": {
     "iopub.execute_input": "2023-11-13T14:31:51.547485Z",
     "iopub.status.busy": "2023-11-13T14:31:51.547043Z",
     "iopub.status.idle": "2023-11-13T14:31:53.677754Z",
     "shell.execute_reply": "2023-11-13T14:31:53.676522Z"
    },
    "papermill": {
     "duration": 2.156325,
     "end_time": "2023-11-13T14:31:53.680699",
     "exception": false,
     "start_time": "2023-11-13T14:31:51.524374",
     "status": "completed"
    },
    "tags": []
   },
   "outputs": [],
   "source": [
    "import itertools\n",
    "import numpy as np\n",
    "import pandas as pd\n",
    "import matplotlib.pyplot as plt\n",
    "import seaborn as sns\n",
    "\n",
    "# !pip install statsmodels\n",
    "import statsmodels.stats.api as sms\n",
    "\n",
    "from scipy.stats import ttest_1samp, shapiro, levene, ttest_ind, mannwhitneyu, \\\n",
    "    pearsonr, spearmanr, kendalltau, f_oneway, kruskal\n",
    "\n",
    "from statsmodels.stats.proportion import proportions_ztest\n",
    "\n",
    "import warnings\n",
    "warnings.filterwarnings(\"ignore\")\n",
    "\n",
    "# pd.set_option('display.max_columns', None)\n",
    "# pd.set_option('display.max_rows', 10)\n",
    "# pd.set_option('display.float_format', lambda x: '%.5f' % x)"
   ]
  },
  {
   "cell_type": "code",
   "execution_count": 2,
   "id": "1a85feec",
   "metadata": {
    "execution": {
     "iopub.execute_input": "2023-11-13T14:31:53.726313Z",
     "iopub.status.busy": "2023-11-13T14:31:53.725671Z",
     "iopub.status.idle": "2023-11-13T14:31:53.733242Z",
     "shell.execute_reply": "2023-11-13T14:31:53.732076Z"
    },
    "papermill": {
     "duration": 0.034037,
     "end_time": "2023-11-13T14:31:53.736396",
     "exception": false,
     "start_time": "2023-11-13T14:31:53.702359",
     "status": "completed"
    },
    "tags": []
   },
   "outputs": [],
   "source": [
    "populasyon = np.random.randint(0, 80, 10000) # we are generating 10,000 numbers between 0 and 80"
   ]
  },
  {
   "cell_type": "code",
   "execution_count": 3,
   "id": "2a89c59a",
   "metadata": {
    "execution": {
     "iopub.execute_input": "2023-11-13T14:31:53.781848Z",
     "iopub.status.busy": "2023-11-13T14:31:53.781420Z",
     "iopub.status.idle": "2023-11-13T14:31:53.789993Z",
     "shell.execute_reply": "2023-11-13T14:31:53.788878Z"
    },
    "papermill": {
     "duration": 0.033527,
     "end_time": "2023-11-13T14:31:53.792288",
     "exception": false,
     "start_time": "2023-11-13T14:31:53.758761",
     "status": "completed"
    },
    "tags": []
   },
   "outputs": [
    {
     "data": {
      "text/plain": [
       "39.554"
      ]
     },
     "execution_count": 3,
     "metadata": {},
     "output_type": "execute_result"
    }
   ],
   "source": [
    "populasyon.mean()"
   ]
  },
  {
   "cell_type": "code",
   "execution_count": 4,
   "id": "c0e0b7a5",
   "metadata": {
    "execution": {
     "iopub.execute_input": "2023-11-13T14:31:53.838367Z",
     "iopub.status.busy": "2023-11-13T14:31:53.837101Z",
     "iopub.status.idle": "2023-11-13T14:31:53.843042Z",
     "shell.execute_reply": "2023-11-13T14:31:53.841852Z"
    },
    "papermill": {
     "duration": 0.031566,
     "end_time": "2023-11-13T14:31:53.845411",
     "exception": false,
     "start_time": "2023-11-13T14:31:53.813845",
     "status": "completed"
    },
    "tags": []
   },
   "outputs": [],
   "source": [
    "np.random.seed(115) # we can generate the same sequence of random numbers using a seed"
   ]
  },
  {
   "cell_type": "code",
   "execution_count": 5,
   "id": "18e62005",
   "metadata": {
    "execution": {
     "iopub.execute_input": "2023-11-13T14:31:53.891318Z",
     "iopub.status.busy": "2023-11-13T14:31:53.890852Z",
     "iopub.status.idle": "2023-11-13T14:31:53.897409Z",
     "shell.execute_reply": "2023-11-13T14:31:53.896213Z"
    },
    "papermill": {
     "duration": 0.032181,
     "end_time": "2023-11-13T14:31:53.899703",
     "exception": false,
     "start_time": "2023-11-13T14:31:53.867522",
     "status": "completed"
    },
    "tags": []
   },
   "outputs": [],
   "source": [
    "orneklem = np.random.choice(a=populasyon, size=100) # we are selecting 100 samples from a population"
   ]
  },
  {
   "cell_type": "code",
   "execution_count": 6,
   "id": "1aea2dd7",
   "metadata": {
    "execution": {
     "iopub.execute_input": "2023-11-13T14:31:53.946049Z",
     "iopub.status.busy": "2023-11-13T14:31:53.945024Z",
     "iopub.status.idle": "2023-11-13T14:31:53.952318Z",
     "shell.execute_reply": "2023-11-13T14:31:53.951194Z"
    },
    "papermill": {
     "duration": 0.033281,
     "end_time": "2023-11-13T14:31:53.954999",
     "exception": false,
     "start_time": "2023-11-13T14:31:53.921718",
     "status": "completed"
    },
    "tags": []
   },
   "outputs": [
    {
     "data": {
      "text/plain": [
       "37.89"
      ]
     },
     "execution_count": 6,
     "metadata": {},
     "output_type": "execute_result"
    }
   ],
   "source": [
    "orneklem.mean()"
   ]
  },
  {
   "cell_type": "code",
   "execution_count": 7,
   "id": "957cb6e3",
   "metadata": {
    "execution": {
     "iopub.execute_input": "2023-11-13T14:31:54.002343Z",
     "iopub.status.busy": "2023-11-13T14:31:54.001884Z",
     "iopub.status.idle": "2023-11-13T14:31:54.010920Z",
     "shell.execute_reply": "2023-11-13T14:31:54.009510Z"
    },
    "papermill": {
     "duration": 0.035396,
     "end_time": "2023-11-13T14:31:54.013311",
     "exception": false,
     "start_time": "2023-11-13T14:31:53.977915",
     "status": "completed"
    },
    "tags": []
   },
   "outputs": [],
   "source": [
    "np.random.seed(10)\n",
    "\n",
    "orneklem1 = np.random.choice(a=populasyon, size=100)\n",
    "orneklem2 = np.random.choice(a=populasyon, size=100)\n",
    "orneklem3 = np.random.choice(a=populasyon, size=100)\n",
    "orneklem4 = np.random.choice(a=populasyon, size=100)\n",
    "orneklem5 = np.random.choice(a=populasyon, size=100)\n",
    "orneklem6 = np.random.choice(a=populasyon, size=100)\n",
    "orneklem7 = np.random.choice(a=populasyon, size=100)\n",
    "orneklem8 = np.random.choice(a=populasyon, size=100)\n",
    "orneklem9 = np.random.choice(a=populasyon, size=100)\n",
    "orneklem10 = np.random.choice(a=populasyon, size=100)"
   ]
  },
  {
   "cell_type": "code",
   "execution_count": 8,
   "id": "0c2f0811",
   "metadata": {
    "execution": {
     "iopub.execute_input": "2023-11-13T14:31:54.059706Z",
     "iopub.status.busy": "2023-11-13T14:31:54.059307Z",
     "iopub.status.idle": "2023-11-13T14:31:54.067232Z",
     "shell.execute_reply": "2023-11-13T14:31:54.066110Z"
    },
    "papermill": {
     "duration": 0.034043,
     "end_time": "2023-11-13T14:31:54.069538",
     "exception": false,
     "start_time": "2023-11-13T14:31:54.035495",
     "status": "completed"
    },
    "tags": []
   },
   "outputs": [
    {
     "data": {
      "text/plain": [
       "38.835"
      ]
     },
     "execution_count": 8,
     "metadata": {},
     "output_type": "execute_result"
    }
   ],
   "source": [
    "# Let's calculate the average of the 10 samples we have selected;\n",
    "\n",
    "(orneklem1.mean() + orneklem2.mean() + orneklem3.mean() + orneklem4.mean() + orneklem5.mean()\n",
    " + orneklem6.mean() + orneklem7.mean() + orneklem8.mean() + orneklem9.mean() + orneklem10.mean()) / 10"
   ]
  },
  {
   "cell_type": "markdown",
   "id": "20088e6e",
   "metadata": {
    "papermill": {
     "duration": 0.021853,
     "end_time": "2023-11-13T14:31:54.113519",
     "exception": false,
     "start_time": "2023-11-13T14:31:54.091666",
     "status": "completed"
    },
    "tags": []
   },
   "source": [
    "<a id=\"2\"></a>\n",
    "<h1 style=\"border-radius: 10px; border: 2px solid #6B8E23; background-color: #F5F5DC; font-family: 'Pacifico', cursive; font-size: 200%; text-align: center; border-radius: 15px 50px; padding: 15px; box-shadow: 5px 5px 5px #556B2F; color: #556B2F;\">💠Descriptive Statistics💠</h1>"
   ]
  },
  {
   "cell_type": "markdown",
   "id": "486f4c69",
   "metadata": {
    "papermill": {
     "duration": 0.022572,
     "end_time": "2023-11-13T14:31:54.159289",
     "exception": false,
     "start_time": "2023-11-13T14:31:54.136717",
     "status": "completed"
    },
    "tags": []
   },
   "source": [
    "Descriptive statistics summarize and organize characteristics of a data set. A data set is a collection of responses or observations from a sample or entire population.\n",
    "\n",
    "In quantitative research, after collecting data, the first step of statistical analysis is to describe characteristics of the responses, such as the average of one variable (e.g., age), or the relation between two variables (e.g., age and creativity).\n",
    "\n",
    "The next step is inferential statistics, which help you decide whether your data confirms or refutes your hypothesis and whether it is generalizable to a larger population.\n",
    "\n",
    "There are 3 main types of descriptive statistics:\n",
    "\n",
    "* The distribution concerns the frequency of each value.\n",
    "* The central tendency concerns the averages of the values.\n",
    "* The variability or dispersion concerns how spread out the values are."
   ]
  },
  {
   "cell_type": "markdown",
   "id": "c476e0d7",
   "metadata": {
    "papermill": {
     "duration": 0.021346,
     "end_time": "2023-11-13T14:31:54.202617",
     "exception": false,
     "start_time": "2023-11-13T14:31:54.181271",
     "status": "completed"
    },
    "tags": []
   },
   "source": [
    "<center><img src=\"https://i.imgur.com/Ec1Wd4r.png\" width=\"800\" height=\"800\"></center>"
   ]
  },
  {
   "cell_type": "markdown",
   "id": "1140fcf8",
   "metadata": {
    "papermill": {
     "duration": 0.021213,
     "end_time": "2023-11-13T14:31:54.245484",
     "exception": false,
     "start_time": "2023-11-13T14:31:54.224271",
     "status": "completed"
    },
    "tags": []
   },
   "source": [
    "**Frequency Distribution**\n",
    "\n",
    "Frequency distribution is a table or graph that summarizes the frequency of values or scores in a dataset.\n",
    "\n",
    "**Measures of Central Tendency**\n",
    "\n",
    "Measures of central tendency are statistical measures that help estimate the center of a dataset. Mean, median, and mode represent different ways of finding the average.\n",
    "\n",
    "- **Mean (M):** Add up all values in a dataset and divide the sum by the total number of values.\n",
    "- **Median:** Represents the middle value when the dataset is arranged in order.\n",
    "- **Mode:** Represents the most frequently occurring value in a dataset.\n",
    "\n",
    "**Measures of Variability**\n",
    "\n",
    "Measures of variability indicate how spread out the values in a dataset are.\n",
    "\n",
    "- **Range:** Obtained by subtracting the lowest value from the highest value.\n",
    "- **Standard Deviation (s or SD):** Reflects the average amount of variability in a dataset. A larger standard deviation indicates more variability.\n",
    "- **Variance (s²):** The square of the standard deviation, representing the degree of spread in the dataset.\n",
    "\n",
    "**Interquartile Range (IQR)**\n",
    "\n",
    "The Interquartile Range is a measure of statistical spread, specifically the range containing the central half of the data. It is calculated by finding the difference between the first quartile (Q1) and the third quartile (Q3) in a dataset."
   ]
  },
  {
   "cell_type": "code",
   "execution_count": 9,
   "id": "ab8ff726",
   "metadata": {
    "execution": {
     "iopub.execute_input": "2023-11-13T14:31:54.292002Z",
     "iopub.status.busy": "2023-11-13T14:31:54.291134Z",
     "iopub.status.idle": "2023-11-13T14:31:54.315598Z",
     "shell.execute_reply": "2023-11-13T14:31:54.314482Z"
    },
    "papermill": {
     "duration": 0.050715,
     "end_time": "2023-11-13T14:31:54.318226",
     "exception": false,
     "start_time": "2023-11-13T14:31:54.267511",
     "status": "completed"
    },
    "tags": []
   },
   "outputs": [],
   "source": [
    "df = pd.read_csv(\"/kaggle/input/tips-dataset/tips.csv\")"
   ]
  },
  {
   "cell_type": "code",
   "execution_count": 10,
   "id": "2491c28d",
   "metadata": {
    "execution": {
     "iopub.execute_input": "2023-11-13T14:31:54.365020Z",
     "iopub.status.busy": "2023-11-13T14:31:54.363864Z",
     "iopub.status.idle": "2023-11-13T14:31:54.398742Z",
     "shell.execute_reply": "2023-11-13T14:31:54.397620Z"
    },
    "papermill": {
     "duration": 0.060444,
     "end_time": "2023-11-13T14:31:54.400935",
     "exception": false,
     "start_time": "2023-11-13T14:31:54.340491",
     "status": "completed"
    },
    "tags": []
   },
   "outputs": [
    {
     "data": {
      "text/html": [
       "<div>\n",
       "<style scoped>\n",
       "    .dataframe tbody tr th:only-of-type {\n",
       "        vertical-align: middle;\n",
       "    }\n",
       "\n",
       "    .dataframe tbody tr th {\n",
       "        vertical-align: top;\n",
       "    }\n",
       "\n",
       "    .dataframe thead th {\n",
       "        text-align: right;\n",
       "    }\n",
       "</style>\n",
       "<table border=\"1\" class=\"dataframe\">\n",
       "  <thead>\n",
       "    <tr style=\"text-align: right;\">\n",
       "      <th></th>\n",
       "      <th>count</th>\n",
       "      <th>mean</th>\n",
       "      <th>std</th>\n",
       "      <th>min</th>\n",
       "      <th>25%</th>\n",
       "      <th>50%</th>\n",
       "      <th>75%</th>\n",
       "      <th>max</th>\n",
       "    </tr>\n",
       "  </thead>\n",
       "  <tbody>\n",
       "    <tr>\n",
       "      <th>Total_bill</th>\n",
       "      <td>244.0</td>\n",
       "      <td>19.785943</td>\n",
       "      <td>8.902412</td>\n",
       "      <td>3.07</td>\n",
       "      <td>13.3475</td>\n",
       "      <td>17.795</td>\n",
       "      <td>24.1275</td>\n",
       "      <td>50.81</td>\n",
       "    </tr>\n",
       "    <tr>\n",
       "      <th>Tip</th>\n",
       "      <td>244.0</td>\n",
       "      <td>2.998279</td>\n",
       "      <td>1.383638</td>\n",
       "      <td>1.00</td>\n",
       "      <td>2.0000</td>\n",
       "      <td>2.900</td>\n",
       "      <td>3.5625</td>\n",
       "      <td>10.00</td>\n",
       "    </tr>\n",
       "    <tr>\n",
       "      <th>Size</th>\n",
       "      <td>244.0</td>\n",
       "      <td>2.569672</td>\n",
       "      <td>0.951100</td>\n",
       "      <td>1.00</td>\n",
       "      <td>2.0000</td>\n",
       "      <td>2.000</td>\n",
       "      <td>3.0000</td>\n",
       "      <td>6.00</td>\n",
       "    </tr>\n",
       "  </tbody>\n",
       "</table>\n",
       "</div>"
      ],
      "text/plain": [
       "            count       mean       std   min      25%     50%      75%    max\n",
       "Total_bill  244.0  19.785943  8.902412  3.07  13.3475  17.795  24.1275  50.81\n",
       "Tip         244.0   2.998279  1.383638  1.00   2.0000   2.900   3.5625  10.00\n",
       "Size        244.0   2.569672  0.951100  1.00   2.0000   2.000   3.0000   6.00"
      ]
     },
     "execution_count": 10,
     "metadata": {},
     "output_type": "execute_result"
    }
   ],
   "source": [
    "df.describe().T"
   ]
  },
  {
   "cell_type": "markdown",
   "id": "e7737405",
   "metadata": {
    "papermill": {
     "duration": 0.021453,
     "end_time": "2023-11-13T14:31:54.444749",
     "exception": false,
     "start_time": "2023-11-13T14:31:54.423296",
     "status": "completed"
    },
    "tags": []
   },
   "source": [
    "<a id=\"3\"></a>\n",
    "<h1 style=\"border-radius: 10px; border: 2px solid #6B8E23; background-color: #F5F5DC; font-family: 'Pacifico', cursive; font-size: 200%; text-align: center; border-radius: 15px 50px; padding: 15px; box-shadow: 5px 5px 5px #556B2F; color: #556B2F;\">💠Confidence Intervals💠</h1>"
   ]
  },
  {
   "cell_type": "markdown",
   "id": "0ef337c6",
   "metadata": {
    "papermill": {
     "duration": 0.021337,
     "end_time": "2023-11-13T14:31:54.487998",
     "exception": false,
     "start_time": "2023-11-13T14:31:54.466661",
     "status": "completed"
    },
    "tags": []
   },
   "source": [
    "A confidence interval (CI) represents the range within which a statistical measurement or estimate is expected to fall with a certain level of confidence. It includes two values that surround a statistic obtained from a sample or dataset. For example, a 95% confidence interval indicates the likelihood of a parameter (such as the average value of a population) falling within this interval. This means that, based on repeated samples or datasets, it is expected that 95% of the confidence intervals will contain the true value of the statistic.\n",
    "\n",
    "Confidence intervals are commonly used to assess the uncertainties and variations in statistical estimates. Particularly in parameter estimates or hypothesis testing, specifying the probability of a statistic being within a certain interval rather than providing a precise numerical value can better reflect the reliability of the results.\n",
    "\n",
    "For instance, if you want to determine the level of support for a political candidate based on the results of a survey, specifying that this support rate is within a confidence interval allows you to consider uncertainties in your dataset and determine your level of statistical confidence."
   ]
  },
  {
   "cell_type": "markdown",
   "id": "2fe9be3e",
   "metadata": {
    "papermill": {
     "duration": 0.021406,
     "end_time": "2023-11-13T14:31:54.531403",
     "exception": false,
     "start_time": "2023-11-13T14:31:54.509997",
     "status": "completed"
    },
    "tags": []
   },
   "source": [
    "<div style=\"border-radius:10px; border:#632626 solid; padding: 15px; background-color: #FDF6EC; font-size:100%; text-align:left\">\n",
    "\n",
    "<h3 align=\"left\"><font color='#11324D'>💡 An Example: </font></h3>\n",
    "    \n",
    "Let's say you are conducting a survey to estimate the average income of households in a city. You collect a random sample of 100 households and calculate the sample mean income, which is $50,000.\n",
    "\n",
    "To provide a confidence interval for the true average income of all households in the city, you might use a 95% confidence level. You know from statistical tables that the critical value for a 95% confidence interval is approximately 1.96 (assuming a normal distribution).\n",
    "\n",
    "Next, you need to calculate the standard error of the mean based on your sample data. Let's say the standard error is $5,000.\n",
    "\n",
    "Now, you can construct the confidence interval:\n",
    "\n",
    "* CI = Sample Mean ± (Critical Value) * (Standard Error)\n",
    "* CI = $50,000 ± (1.96) * $5,000\n",
    "* CI = $50,000 ± $9,800\n",
    "\n",
    "So, your 95% confidence interval for the average income of households in the city is $40,200 to $59,800. This means that you are 95% confident that the true average income falls within this range. If you were to repeat the survey multiple times and calculate confidence intervals, approximately 95% of those intervals would contain the true average income of all households in the city.\n",
    "\n",
    "This confidence interval provides a measure of the uncertainty associated with your point estimate ($50,000) and allows you to make statistical inferences about the population parameter (average income) based on your sample data."
   ]
  },
  {
   "cell_type": "markdown",
   "id": "e0e9e37f",
   "metadata": {
    "papermill": {
     "duration": 0.021366,
     "end_time": "2023-11-13T14:31:54.574556",
     "exception": false,
     "start_time": "2023-11-13T14:31:54.553190",
     "status": "completed"
    },
    "tags": []
   },
   "source": [
    "> **Calculating confidence intervals for numerical variables in the \"Tips\" dataset;**"
   ]
  },
  {
   "cell_type": "code",
   "execution_count": 11,
   "id": "f01dc345",
   "metadata": {
    "execution": {
     "iopub.execute_input": "2023-11-13T14:31:54.621452Z",
     "iopub.status.busy": "2023-11-13T14:31:54.620527Z",
     "iopub.status.idle": "2023-11-13T14:31:54.631438Z",
     "shell.execute_reply": "2023-11-13T14:31:54.630211Z"
    },
    "papermill": {
     "duration": 0.038809,
     "end_time": "2023-11-13T14:31:54.635139",
     "exception": false,
     "start_time": "2023-11-13T14:31:54.596330",
     "status": "completed"
    },
    "tags": []
   },
   "outputs": [],
   "source": [
    "df = pd.read_csv(\"/kaggle/input/tips-dataset/tips.csv\")"
   ]
  },
  {
   "cell_type": "code",
   "execution_count": 12,
   "id": "d26f8acd",
   "metadata": {
    "execution": {
     "iopub.execute_input": "2023-11-13T14:31:54.692781Z",
     "iopub.status.busy": "2023-11-13T14:31:54.691736Z",
     "iopub.status.idle": "2023-11-13T14:31:54.719705Z",
     "shell.execute_reply": "2023-11-13T14:31:54.718900Z"
    },
    "papermill": {
     "duration": 0.056703,
     "end_time": "2023-11-13T14:31:54.722773",
     "exception": false,
     "start_time": "2023-11-13T14:31:54.666070",
     "status": "completed"
    },
    "tags": []
   },
   "outputs": [
    {
     "data": {
      "text/html": [
       "<div>\n",
       "<style scoped>\n",
       "    .dataframe tbody tr th:only-of-type {\n",
       "        vertical-align: middle;\n",
       "    }\n",
       "\n",
       "    .dataframe tbody tr th {\n",
       "        vertical-align: top;\n",
       "    }\n",
       "\n",
       "    .dataframe thead th {\n",
       "        text-align: right;\n",
       "    }\n",
       "</style>\n",
       "<table border=\"1\" class=\"dataframe\">\n",
       "  <thead>\n",
       "    <tr style=\"text-align: right;\">\n",
       "      <th></th>\n",
       "      <th>count</th>\n",
       "      <th>mean</th>\n",
       "      <th>std</th>\n",
       "      <th>min</th>\n",
       "      <th>25%</th>\n",
       "      <th>50%</th>\n",
       "      <th>75%</th>\n",
       "      <th>max</th>\n",
       "    </tr>\n",
       "  </thead>\n",
       "  <tbody>\n",
       "    <tr>\n",
       "      <th>Total_bill</th>\n",
       "      <td>244.0</td>\n",
       "      <td>19.785943</td>\n",
       "      <td>8.902412</td>\n",
       "      <td>3.07</td>\n",
       "      <td>13.3475</td>\n",
       "      <td>17.795</td>\n",
       "      <td>24.1275</td>\n",
       "      <td>50.81</td>\n",
       "    </tr>\n",
       "    <tr>\n",
       "      <th>Tip</th>\n",
       "      <td>244.0</td>\n",
       "      <td>2.998279</td>\n",
       "      <td>1.383638</td>\n",
       "      <td>1.00</td>\n",
       "      <td>2.0000</td>\n",
       "      <td>2.900</td>\n",
       "      <td>3.5625</td>\n",
       "      <td>10.00</td>\n",
       "    </tr>\n",
       "    <tr>\n",
       "      <th>Size</th>\n",
       "      <td>244.0</td>\n",
       "      <td>2.569672</td>\n",
       "      <td>0.951100</td>\n",
       "      <td>1.00</td>\n",
       "      <td>2.0000</td>\n",
       "      <td>2.000</td>\n",
       "      <td>3.0000</td>\n",
       "      <td>6.00</td>\n",
       "    </tr>\n",
       "  </tbody>\n",
       "</table>\n",
       "</div>"
      ],
      "text/plain": [
       "            count       mean       std   min      25%     50%      75%    max\n",
       "Total_bill  244.0  19.785943  8.902412  3.07  13.3475  17.795  24.1275  50.81\n",
       "Tip         244.0   2.998279  1.383638  1.00   2.0000   2.900   3.5625  10.00\n",
       "Size        244.0   2.569672  0.951100  1.00   2.0000   2.000   3.0000   6.00"
      ]
     },
     "execution_count": 12,
     "metadata": {},
     "output_type": "execute_result"
    }
   ],
   "source": [
    "df.describe().T"
   ]
  },
  {
   "cell_type": "code",
   "execution_count": 13,
   "id": "be6a6b10",
   "metadata": {
    "execution": {
     "iopub.execute_input": "2023-11-13T14:31:54.780919Z",
     "iopub.status.busy": "2023-11-13T14:31:54.779935Z",
     "iopub.status.idle": "2023-11-13T14:31:54.797173Z",
     "shell.execute_reply": "2023-11-13T14:31:54.796043Z"
    },
    "papermill": {
     "duration": 0.049981,
     "end_time": "2023-11-13T14:31:54.799604",
     "exception": false,
     "start_time": "2023-11-13T14:31:54.749623",
     "status": "completed"
    },
    "tags": []
   },
   "outputs": [
    {
     "data": {
      "text/html": [
       "<div>\n",
       "<style scoped>\n",
       "    .dataframe tbody tr th:only-of-type {\n",
       "        vertical-align: middle;\n",
       "    }\n",
       "\n",
       "    .dataframe tbody tr th {\n",
       "        vertical-align: top;\n",
       "    }\n",
       "\n",
       "    .dataframe thead th {\n",
       "        text-align: right;\n",
       "    }\n",
       "</style>\n",
       "<table border=\"1\" class=\"dataframe\">\n",
       "  <thead>\n",
       "    <tr style=\"text-align: right;\">\n",
       "      <th></th>\n",
       "      <th>Total_bill</th>\n",
       "      <th>Tip</th>\n",
       "      <th>Sex</th>\n",
       "      <th>Smoker</th>\n",
       "      <th>Day</th>\n",
       "      <th>Time</th>\n",
       "      <th>Size</th>\n",
       "    </tr>\n",
       "  </thead>\n",
       "  <tbody>\n",
       "    <tr>\n",
       "      <th>0</th>\n",
       "      <td>16.99</td>\n",
       "      <td>1.01</td>\n",
       "      <td>Female</td>\n",
       "      <td>No</td>\n",
       "      <td>Sun</td>\n",
       "      <td>Dinner</td>\n",
       "      <td>2</td>\n",
       "    </tr>\n",
       "    <tr>\n",
       "      <th>1</th>\n",
       "      <td>10.34</td>\n",
       "      <td>1.66</td>\n",
       "      <td>Male</td>\n",
       "      <td>No</td>\n",
       "      <td>Sun</td>\n",
       "      <td>Dinner</td>\n",
       "      <td>3</td>\n",
       "    </tr>\n",
       "    <tr>\n",
       "      <th>2</th>\n",
       "      <td>21.01</td>\n",
       "      <td>3.50</td>\n",
       "      <td>Male</td>\n",
       "      <td>No</td>\n",
       "      <td>Sun</td>\n",
       "      <td>Dinner</td>\n",
       "      <td>3</td>\n",
       "    </tr>\n",
       "    <tr>\n",
       "      <th>3</th>\n",
       "      <td>23.68</td>\n",
       "      <td>3.31</td>\n",
       "      <td>Male</td>\n",
       "      <td>No</td>\n",
       "      <td>Sun</td>\n",
       "      <td>Dinner</td>\n",
       "      <td>2</td>\n",
       "    </tr>\n",
       "    <tr>\n",
       "      <th>4</th>\n",
       "      <td>24.59</td>\n",
       "      <td>3.61</td>\n",
       "      <td>Female</td>\n",
       "      <td>No</td>\n",
       "      <td>Sun</td>\n",
       "      <td>Dinner</td>\n",
       "      <td>4</td>\n",
       "    </tr>\n",
       "  </tbody>\n",
       "</table>\n",
       "</div>"
      ],
      "text/plain": [
       "   Total_bill   Tip     Sex Smoker  Day    Time  Size\n",
       "0       16.99  1.01  Female     No  Sun  Dinner     2\n",
       "1       10.34  1.66    Male     No  Sun  Dinner     3\n",
       "2       21.01  3.50    Male     No  Sun  Dinner     3\n",
       "3       23.68  3.31    Male     No  Sun  Dinner     2\n",
       "4       24.59  3.61  Female     No  Sun  Dinner     4"
      ]
     },
     "execution_count": 13,
     "metadata": {},
     "output_type": "execute_result"
    }
   ],
   "source": [
    "df.head()"
   ]
  },
  {
   "cell_type": "code",
   "execution_count": 14,
   "id": "d98ea70b",
   "metadata": {
    "execution": {
     "iopub.execute_input": "2023-11-13T14:31:54.850436Z",
     "iopub.status.busy": "2023-11-13T14:31:54.849360Z",
     "iopub.status.idle": "2023-11-13T14:31:54.860331Z",
     "shell.execute_reply": "2023-11-13T14:31:54.859220Z"
    },
    "papermill": {
     "duration": 0.039206,
     "end_time": "2023-11-13T14:31:54.862687",
     "exception": false,
     "start_time": "2023-11-13T14:31:54.823481",
     "status": "completed"
    },
    "tags": []
   },
   "outputs": [
    {
     "data": {
      "text/plain": [
       "(18.66333170435847, 20.908553541543164)"
      ]
     },
     "execution_count": 14,
     "metadata": {},
     "output_type": "execute_result"
    }
   ],
   "source": [
    "sms.DescrStatsW(df[\"Total_bill\"]).tconfint_mean()"
   ]
  },
  {
   "cell_type": "markdown",
   "id": "e9835520",
   "metadata": {
    "papermill": {
     "duration": 0.023205,
     "end_time": "2023-11-13T14:31:54.910237",
     "exception": false,
     "start_time": "2023-11-13T14:31:54.887032",
     "status": "completed"
    },
    "tags": []
   },
   "source": [
    "<div style=\"border-radius:10px; border:#65647C solid; padding: 15px; background-color: #F8EDE3; font-size:100%; text-align:left\">\n",
    "\n",
    "<h3 align=\"left\"><font color='#7D6E83'><b>🗨️ Comment: </b></font></h3>\n",
    "    \n",
    "* The bill paid by restaurant patrons is statistically within the range of (18.66, 20.90) with 95% confidence and a 5% margin of error."
   ]
  },
  {
   "cell_type": "code",
   "execution_count": 15,
   "id": "c4311e70",
   "metadata": {
    "execution": {
     "iopub.execute_input": "2023-11-13T14:31:54.969338Z",
     "iopub.status.busy": "2023-11-13T14:31:54.968761Z",
     "iopub.status.idle": "2023-11-13T14:31:54.978226Z",
     "shell.execute_reply": "2023-11-13T14:31:54.976959Z"
    },
    "papermill": {
     "duration": 0.036757,
     "end_time": "2023-11-13T14:31:54.980568",
     "exception": false,
     "start_time": "2023-11-13T14:31:54.943811",
     "status": "completed"
    },
    "tags": []
   },
   "outputs": [
    {
     "data": {
      "text/plain": [
       "(2.823799306281821, 3.1727580707673595)"
      ]
     },
     "execution_count": 15,
     "metadata": {},
     "output_type": "execute_result"
    }
   ],
   "source": [
    "sms.DescrStatsW(df[\"Tip\"]).tconfint_mean()"
   ]
  },
  {
   "cell_type": "markdown",
   "id": "4724910a",
   "metadata": {
    "papermill": {
     "duration": 0.023726,
     "end_time": "2023-11-13T14:31:55.027686",
     "exception": false,
     "start_time": "2023-11-13T14:31:55.003960",
     "status": "completed"
    },
    "tags": []
   },
   "source": [
    "> **Calculating confidence intervals for numerical variables in the \"Titanic\" dataset;**"
   ]
  },
  {
   "cell_type": "code",
   "execution_count": 16,
   "id": "5cbad76b",
   "metadata": {
    "execution": {
     "iopub.execute_input": "2023-11-13T14:31:55.084345Z",
     "iopub.status.busy": "2023-11-13T14:31:55.083475Z",
     "iopub.status.idle": "2023-11-13T14:31:55.104639Z",
     "shell.execute_reply": "2023-11-13T14:31:55.103782Z"
    },
    "papermill": {
     "duration": 0.053864,
     "end_time": "2023-11-13T14:31:55.107308",
     "exception": false,
     "start_time": "2023-11-13T14:31:55.053444",
     "status": "completed"
    },
    "tags": []
   },
   "outputs": [],
   "source": [
    "df = pd.read_csv(\"/kaggle/input/titanic/train.csv\")"
   ]
  },
  {
   "cell_type": "code",
   "execution_count": 17,
   "id": "cebdbfca",
   "metadata": {
    "execution": {
     "iopub.execute_input": "2023-11-13T14:31:55.155422Z",
     "iopub.status.busy": "2023-11-13T14:31:55.154561Z",
     "iopub.status.idle": "2023-11-13T14:31:55.188101Z",
     "shell.execute_reply": "2023-11-13T14:31:55.186877Z"
    },
    "papermill": {
     "duration": 0.060597,
     "end_time": "2023-11-13T14:31:55.190750",
     "exception": false,
     "start_time": "2023-11-13T14:31:55.130153",
     "status": "completed"
    },
    "tags": []
   },
   "outputs": [
    {
     "data": {
      "text/html": [
       "<div>\n",
       "<style scoped>\n",
       "    .dataframe tbody tr th:only-of-type {\n",
       "        vertical-align: middle;\n",
       "    }\n",
       "\n",
       "    .dataframe tbody tr th {\n",
       "        vertical-align: top;\n",
       "    }\n",
       "\n",
       "    .dataframe thead th {\n",
       "        text-align: right;\n",
       "    }\n",
       "</style>\n",
       "<table border=\"1\" class=\"dataframe\">\n",
       "  <thead>\n",
       "    <tr style=\"text-align: right;\">\n",
       "      <th></th>\n",
       "      <th>count</th>\n",
       "      <th>mean</th>\n",
       "      <th>std</th>\n",
       "      <th>min</th>\n",
       "      <th>25%</th>\n",
       "      <th>50%</th>\n",
       "      <th>75%</th>\n",
       "      <th>max</th>\n",
       "    </tr>\n",
       "  </thead>\n",
       "  <tbody>\n",
       "    <tr>\n",
       "      <th>PassengerId</th>\n",
       "      <td>891.0</td>\n",
       "      <td>446.000000</td>\n",
       "      <td>257.353842</td>\n",
       "      <td>1.00</td>\n",
       "      <td>223.5000</td>\n",
       "      <td>446.0000</td>\n",
       "      <td>668.5</td>\n",
       "      <td>891.0000</td>\n",
       "    </tr>\n",
       "    <tr>\n",
       "      <th>Survived</th>\n",
       "      <td>891.0</td>\n",
       "      <td>0.383838</td>\n",
       "      <td>0.486592</td>\n",
       "      <td>0.00</td>\n",
       "      <td>0.0000</td>\n",
       "      <td>0.0000</td>\n",
       "      <td>1.0</td>\n",
       "      <td>1.0000</td>\n",
       "    </tr>\n",
       "    <tr>\n",
       "      <th>Pclass</th>\n",
       "      <td>891.0</td>\n",
       "      <td>2.308642</td>\n",
       "      <td>0.836071</td>\n",
       "      <td>1.00</td>\n",
       "      <td>2.0000</td>\n",
       "      <td>3.0000</td>\n",
       "      <td>3.0</td>\n",
       "      <td>3.0000</td>\n",
       "    </tr>\n",
       "    <tr>\n",
       "      <th>Age</th>\n",
       "      <td>714.0</td>\n",
       "      <td>29.699118</td>\n",
       "      <td>14.526497</td>\n",
       "      <td>0.42</td>\n",
       "      <td>20.1250</td>\n",
       "      <td>28.0000</td>\n",
       "      <td>38.0</td>\n",
       "      <td>80.0000</td>\n",
       "    </tr>\n",
       "    <tr>\n",
       "      <th>SibSp</th>\n",
       "      <td>891.0</td>\n",
       "      <td>0.523008</td>\n",
       "      <td>1.102743</td>\n",
       "      <td>0.00</td>\n",
       "      <td>0.0000</td>\n",
       "      <td>0.0000</td>\n",
       "      <td>1.0</td>\n",
       "      <td>8.0000</td>\n",
       "    </tr>\n",
       "    <tr>\n",
       "      <th>Parch</th>\n",
       "      <td>891.0</td>\n",
       "      <td>0.381594</td>\n",
       "      <td>0.806057</td>\n",
       "      <td>0.00</td>\n",
       "      <td>0.0000</td>\n",
       "      <td>0.0000</td>\n",
       "      <td>0.0</td>\n",
       "      <td>6.0000</td>\n",
       "    </tr>\n",
       "    <tr>\n",
       "      <th>Fare</th>\n",
       "      <td>891.0</td>\n",
       "      <td>32.204208</td>\n",
       "      <td>49.693429</td>\n",
       "      <td>0.00</td>\n",
       "      <td>7.9104</td>\n",
       "      <td>14.4542</td>\n",
       "      <td>31.0</td>\n",
       "      <td>512.3292</td>\n",
       "    </tr>\n",
       "  </tbody>\n",
       "</table>\n",
       "</div>"
      ],
      "text/plain": [
       "             count        mean         std   min       25%       50%    75%  \\\n",
       "PassengerId  891.0  446.000000  257.353842  1.00  223.5000  446.0000  668.5   \n",
       "Survived     891.0    0.383838    0.486592  0.00    0.0000    0.0000    1.0   \n",
       "Pclass       891.0    2.308642    0.836071  1.00    2.0000    3.0000    3.0   \n",
       "Age          714.0   29.699118   14.526497  0.42   20.1250   28.0000   38.0   \n",
       "SibSp        891.0    0.523008    1.102743  0.00    0.0000    0.0000    1.0   \n",
       "Parch        891.0    0.381594    0.806057  0.00    0.0000    0.0000    0.0   \n",
       "Fare         891.0   32.204208   49.693429  0.00    7.9104   14.4542   31.0   \n",
       "\n",
       "                  max  \n",
       "PassengerId  891.0000  \n",
       "Survived       1.0000  \n",
       "Pclass         3.0000  \n",
       "Age           80.0000  \n",
       "SibSp          8.0000  \n",
       "Parch          6.0000  \n",
       "Fare         512.3292  "
      ]
     },
     "execution_count": 17,
     "metadata": {},
     "output_type": "execute_result"
    }
   ],
   "source": [
    "df.describe().T"
   ]
  },
  {
   "cell_type": "code",
   "execution_count": 18,
   "id": "f9c3c80f",
   "metadata": {
    "execution": {
     "iopub.execute_input": "2023-11-13T14:31:55.239473Z",
     "iopub.status.busy": "2023-11-13T14:31:55.238667Z",
     "iopub.status.idle": "2023-11-13T14:31:55.247217Z",
     "shell.execute_reply": "2023-11-13T14:31:55.246198Z"
    },
    "papermill": {
     "duration": 0.035459,
     "end_time": "2023-11-13T14:31:55.249405",
     "exception": false,
     "start_time": "2023-11-13T14:31:55.213946",
     "status": "completed"
    },
    "tags": []
   },
   "outputs": [
    {
     "data": {
      "text/plain": [
       "(28.631790041821507, 30.766445252296133)"
      ]
     },
     "execution_count": 18,
     "metadata": {},
     "output_type": "execute_result"
    }
   ],
   "source": [
    "sms.DescrStatsW(df[\"Age\"].dropna()).tconfint_mean()"
   ]
  },
  {
   "cell_type": "code",
   "execution_count": 19,
   "id": "1bdf2e42",
   "metadata": {
    "execution": {
     "iopub.execute_input": "2023-11-13T14:31:55.299182Z",
     "iopub.status.busy": "2023-11-13T14:31:55.298336Z",
     "iopub.status.idle": "2023-11-13T14:31:55.306458Z",
     "shell.execute_reply": "2023-11-13T14:31:55.305514Z"
    },
    "papermill": {
     "duration": 0.035368,
     "end_time": "2023-11-13T14:31:55.308567",
     "exception": false,
     "start_time": "2023-11-13T14:31:55.273199",
     "status": "completed"
    },
    "tags": []
   },
   "outputs": [
    {
     "data": {
      "text/plain": [
       "(28.936831234567325, 35.471584702581936)"
      ]
     },
     "execution_count": 19,
     "metadata": {},
     "output_type": "execute_result"
    }
   ],
   "source": [
    "sms.DescrStatsW(df[\"Fare\"].dropna()).tconfint_mean()"
   ]
  },
  {
   "cell_type": "markdown",
   "id": "4d416eea",
   "metadata": {
    "papermill": {
     "duration": 0.02301,
     "end_time": "2023-11-13T14:31:55.355003",
     "exception": false,
     "start_time": "2023-11-13T14:31:55.331993",
     "status": "completed"
    },
    "tags": []
   },
   "source": [
    "<a id=\"4\"></a>\n",
    "<h1 style=\"border-radius: 10px; border: 2px solid #6B8E23; background-color: #F5F5DC; font-family: 'Pacifico', cursive; font-size: 200%; text-align: center; border-radius: 15px 50px; padding: 15px; box-shadow: 5px 5px 5px #556B2F; color: #556B2F;\">💠Correlation💠</h1>"
   ]
  },
  {
   "cell_type": "markdown",
   "id": "51c83016",
   "metadata": {
    "papermill": {
     "duration": 0.024841,
     "end_time": "2023-11-13T14:31:55.403081",
     "exception": false,
     "start_time": "2023-11-13T14:31:55.378240",
     "status": "completed"
    },
    "tags": []
   },
   "source": [
    "Correlation is a statistical concept that measures the relationship between two variables. It provides information about the association between the values of two variables and typically takes a value between -1 and 1.\n",
    "\n",
    "- A positive correlation approaching 1 indicates a strong positive relationship between the two variables, meaning that as one variable increases, the other variable also increases.\n",
    "\n",
    "- A negative correlation approaching -1 indicates a strong negative relationship, implying that as one variable increases, the other variable decreases.\n",
    "\n",
    "- A correlation close to 0 suggests a very weak or no relationship between the two variables.\n",
    "\n",
    "Correlation is widely used in data analysis and statistical investigations. It helps understand the relationship between two variables, assess how much one variable influences the other, or evaluate the dependence between them. It's important to note that correlation does not imply causation; a high correlation between two variables does not necessarily mean that one variable causes the other."
   ]
  },
  {
   "cell_type": "code",
   "execution_count": 20,
   "id": "75bfb92c",
   "metadata": {
    "execution": {
     "iopub.execute_input": "2023-11-13T14:31:55.451719Z",
     "iopub.status.busy": "2023-11-13T14:31:55.451314Z",
     "iopub.status.idle": "2023-11-13T14:31:55.461304Z",
     "shell.execute_reply": "2023-11-13T14:31:55.460421Z"
    },
    "papermill": {
     "duration": 0.037246,
     "end_time": "2023-11-13T14:31:55.463817",
     "exception": false,
     "start_time": "2023-11-13T14:31:55.426571",
     "status": "completed"
    },
    "tags": []
   },
   "outputs": [],
   "source": [
    "df = pd.read_csv(\"/kaggle/input/tips-dataset/tips.csv\")"
   ]
  },
  {
   "cell_type": "code",
   "execution_count": 21,
   "id": "add0ca93",
   "metadata": {
    "execution": {
     "iopub.execute_input": "2023-11-13T14:31:55.514216Z",
     "iopub.status.busy": "2023-11-13T14:31:55.513273Z",
     "iopub.status.idle": "2023-11-13T14:31:55.528500Z",
     "shell.execute_reply": "2023-11-13T14:31:55.527286Z"
    },
    "papermill": {
     "duration": 0.043156,
     "end_time": "2023-11-13T14:31:55.530967",
     "exception": false,
     "start_time": "2023-11-13T14:31:55.487811",
     "status": "completed"
    },
    "tags": []
   },
   "outputs": [
    {
     "data": {
      "text/html": [
       "<div>\n",
       "<style scoped>\n",
       "    .dataframe tbody tr th:only-of-type {\n",
       "        vertical-align: middle;\n",
       "    }\n",
       "\n",
       "    .dataframe tbody tr th {\n",
       "        vertical-align: top;\n",
       "    }\n",
       "\n",
       "    .dataframe thead th {\n",
       "        text-align: right;\n",
       "    }\n",
       "</style>\n",
       "<table border=\"1\" class=\"dataframe\">\n",
       "  <thead>\n",
       "    <tr style=\"text-align: right;\">\n",
       "      <th></th>\n",
       "      <th>Total_bill</th>\n",
       "      <th>Tip</th>\n",
       "      <th>Sex</th>\n",
       "      <th>Smoker</th>\n",
       "      <th>Day</th>\n",
       "      <th>Time</th>\n",
       "      <th>Size</th>\n",
       "    </tr>\n",
       "  </thead>\n",
       "  <tbody>\n",
       "    <tr>\n",
       "      <th>0</th>\n",
       "      <td>16.99</td>\n",
       "      <td>1.01</td>\n",
       "      <td>Female</td>\n",
       "      <td>No</td>\n",
       "      <td>Sun</td>\n",
       "      <td>Dinner</td>\n",
       "      <td>2</td>\n",
       "    </tr>\n",
       "    <tr>\n",
       "      <th>1</th>\n",
       "      <td>10.34</td>\n",
       "      <td>1.66</td>\n",
       "      <td>Male</td>\n",
       "      <td>No</td>\n",
       "      <td>Sun</td>\n",
       "      <td>Dinner</td>\n",
       "      <td>3</td>\n",
       "    </tr>\n",
       "    <tr>\n",
       "      <th>2</th>\n",
       "      <td>21.01</td>\n",
       "      <td>3.50</td>\n",
       "      <td>Male</td>\n",
       "      <td>No</td>\n",
       "      <td>Sun</td>\n",
       "      <td>Dinner</td>\n",
       "      <td>3</td>\n",
       "    </tr>\n",
       "    <tr>\n",
       "      <th>3</th>\n",
       "      <td>23.68</td>\n",
       "      <td>3.31</td>\n",
       "      <td>Male</td>\n",
       "      <td>No</td>\n",
       "      <td>Sun</td>\n",
       "      <td>Dinner</td>\n",
       "      <td>2</td>\n",
       "    </tr>\n",
       "    <tr>\n",
       "      <th>4</th>\n",
       "      <td>24.59</td>\n",
       "      <td>3.61</td>\n",
       "      <td>Female</td>\n",
       "      <td>No</td>\n",
       "      <td>Sun</td>\n",
       "      <td>Dinner</td>\n",
       "      <td>4</td>\n",
       "    </tr>\n",
       "  </tbody>\n",
       "</table>\n",
       "</div>"
      ],
      "text/plain": [
       "   Total_bill   Tip     Sex Smoker  Day    Time  Size\n",
       "0       16.99  1.01  Female     No  Sun  Dinner     2\n",
       "1       10.34  1.66    Male     No  Sun  Dinner     3\n",
       "2       21.01  3.50    Male     No  Sun  Dinner     3\n",
       "3       23.68  3.31    Male     No  Sun  Dinner     2\n",
       "4       24.59  3.61  Female     No  Sun  Dinner     4"
      ]
     },
     "execution_count": 21,
     "metadata": {},
     "output_type": "execute_result"
    }
   ],
   "source": [
    "df.head()"
   ]
  },
  {
   "cell_type": "markdown",
   "id": "0d2a7606",
   "metadata": {
    "papermill": {
     "duration": 0.023798,
     "end_time": "2023-11-13T14:31:55.579062",
     "exception": false,
     "start_time": "2023-11-13T14:31:55.555264",
     "status": "completed"
    },
    "tags": []
   },
   "source": [
    "<div style=\"border-radius: 10px; border: #6B8E23 solid; padding: 15px; background-color: #F5F5DC; font-size: 100%; text-align: left\">\n",
    "\n",
    "<h3 align=\"left\"><font color='#556B2F'>👀 Features : </font></h3>\n",
    "\n",
    "- **total_bill:** The total cost of the meal (including tips and taxes).\n",
    "- **tip:** The gratuity left for the service.\n",
    "- **sex:** The gender of the person paying the bill (0=male, 1=female).\n",
    "- **smoker:** Does anyone in the group smoke? (0=No, 1=Yes).\n",
    "- **day:** The day of the week (3=Thur, 4=Fri, 5=Sat, 6=Sun).\n",
    "- **time:** When? (0=Day, 1=Night).\n",
    "- **size:** How many people are in the group?"
   ]
  },
  {
   "cell_type": "code",
   "execution_count": 22,
   "id": "9db9d936",
   "metadata": {
    "execution": {
     "iopub.execute_input": "2023-11-13T14:31:55.629325Z",
     "iopub.status.busy": "2023-11-13T14:31:55.628431Z",
     "iopub.status.idle": "2023-11-13T14:31:55.636397Z",
     "shell.execute_reply": "2023-11-13T14:31:55.635450Z"
    },
    "papermill": {
     "duration": 0.035772,
     "end_time": "2023-11-13T14:31:55.638884",
     "exception": false,
     "start_time": "2023-11-13T14:31:55.603112",
     "status": "completed"
    },
    "tags": []
   },
   "outputs": [],
   "source": [
    "# \"total_bill\" includes the sum of the meal, tip, and taxes, so we subtract the tip;\n",
    "\n",
    "df[\"Total_bill\"] = df[\"Total_bill\"] - df[\"Tip\"]"
   ]
  },
  {
   "cell_type": "code",
   "execution_count": 23,
   "id": "adfc853c",
   "metadata": {
    "execution": {
     "iopub.execute_input": "2023-11-13T14:31:55.691096Z",
     "iopub.status.busy": "2023-11-13T14:31:55.690269Z",
     "iopub.status.idle": "2023-11-13T14:31:55.964621Z",
     "shell.execute_reply": "2023-11-13T14:31:55.963493Z"
    },
    "papermill": {
     "duration": 0.302349,
     "end_time": "2023-11-13T14:31:55.967347",
     "exception": false,
     "start_time": "2023-11-13T14:31:55.664998",
     "status": "completed"
    },
    "tags": []
   },
   "outputs": [
    {
     "data": {
      "image/png": "[encoded data removed]",
      "text/plain": [
       "<Figure size 640x480 with 1 Axes>"
      ]
     },
     "metadata": {},
     "output_type": "display_data"
    }
   ],
   "source": [
    "df.plot.scatter(\"Tip\", \"Total_bill\")\n",
    "plt.show()"
   ]
  },
  {
   "cell_type": "code",
   "execution_count": 24,
   "id": "8f878faa",
   "metadata": {
    "execution": {
     "iopub.execute_input": "2023-11-13T14:31:56.018268Z",
     "iopub.status.busy": "2023-11-13T14:31:56.017101Z",
     "iopub.status.idle": "2023-11-13T14:31:56.025809Z",
     "shell.execute_reply": "2023-11-13T14:31:56.024835Z"
    },
    "papermill": {
     "duration": 0.03621,
     "end_time": "2023-11-13T14:31:56.027701",
     "exception": false,
     "start_time": "2023-11-13T14:31:55.991491",
     "status": "completed"
    },
    "tags": []
   },
   "outputs": [
    {
     "data": {
      "text/plain": [
       "0.5766634471096374"
      ]
     },
     "execution_count": 24,
     "metadata": {},
     "output_type": "execute_result"
    }
   ],
   "source": [
    "df[\"Tip\"].corr(df[\"Total_bill\"])"
   ]
  },
  {
   "cell_type": "markdown",
   "id": "322dfcf4",
   "metadata": {
    "papermill": {
     "duration": 0.023634,
     "end_time": "2023-11-13T14:31:56.075922",
     "exception": false,
     "start_time": "2023-11-13T14:31:56.052288",
     "status": "completed"
    },
    "tags": []
   },
   "source": [
    "<a id=\"5\"></a>\n",
    "<h1 style=\"border-radius: 10px; border: 2px solid #6B8E23; background-color: #F5F5DC; font-family: 'Pacifico', cursive; font-size: 200%; text-align: center; border-radius: 15px 50px; padding: 15px; box-shadow: 5px 5px 5px #556B2F; color: #556B2F;\">💠The Independent Two-Sample t-Test💠</h1>"
   ]
  },
  {
   "cell_type": "markdown",
   "id": "abb7b246",
   "metadata": {
    "papermill": {
     "duration": 0.023212,
     "end_time": "2023-11-13T14:31:56.123264",
     "exception": false,
     "start_time": "2023-11-13T14:31:56.100052",
     "status": "completed"
    },
    "tags": []
   },
   "source": [
    "The Independent Two-Sample t-Test is a statistical method used to compare the means of two independent groups to determine if there is a significant difference between them. It is commonly employed when researchers want to assess whether the means of two distinct populations are equal or if there is a statistically significant difference between them.\n",
    "\n",
    "The key components and steps of the Independent Two-Sample t-Test:\n",
    "\n",
    "1. **Null Hypothesis (H0):** The null hypothesis assumes that there is no significant difference between the means of the two groups. Mathematically, it is often expressed as H0: μ1 = μ2, where μ1 and μ2 are the population means of the two groups being compared.\n",
    "\n",
    "2. **Alternative Hypothesis (H1 or Ha):** The alternative hypothesis contradicts the null hypothesis and suggests that there is a significant difference between the means of the two groups. It can take various forms, such as H1: μ1 ≠ μ2 (indicating a two-sided test) or H1: μ1 > μ2 or H1: μ1 < μ2 (indicating a one-sided test).\n",
    "\n",
    "3. **Test Statistic (t):** The t-statistic is calculated based on the sample data and is used to assess whether the observed difference in means is statistically significant.\n",
    "\n",
    "4. **Degrees of Freedom:** The degrees of freedom for the t-test are calculated based on the sample sizes of the two groups. It is used to determine the critical value from the t-distribution table.\n",
    "\n",
    "5. **Significance Level (α):** The significance level, often set at 0.05, represents the probability of rejecting the null hypothesis when it is actually true. Researchers choose a significance level based on the desired level of confidence in their results.\n",
    "\n",
    "6. **Decision Rule:** Based on the calculated t-statistic and degrees of freedom, researchers compare the t-statistic to the critical value from the t-distribution table. If the absolute value of the t-statistic exceeds the critical value, the null hypothesis is rejected in favor of the alternative hypothesis.\n",
    "\n",
    "The Independent Two-Sample t-Test assumes that the populations being compared are normally distributed and that the variances within the two groups are approximately equal. If these assumptions are not met, alternative tests or adjustments to the analysis may be considered."
   ]
  },
  {
   "cell_type": "markdown",
   "id": "c01ab41e",
   "metadata": {
    "papermill": {
     "duration": 0.023676,
     "end_time": "2023-11-13T14:31:56.170988",
     "exception": false,
     "start_time": "2023-11-13T14:31:56.147312",
     "status": "completed"
    },
    "tags": []
   },
   "source": [
    "<div style=\"border-radius:10px; border:#D0C2F0 solid; padding: 15px; background-color: #F8E8EE; font-size:100%; text-align:left\">\n",
    "\n",
    "<h3 align=\"left\"><font color='#5E5273'>📄 Notes: </font></h3>\n",
    "    \n",
    "**How many different ways can hypotheses be formulated?**\n",
    "\n",
    "1. **Equality Hypothesis (Equal Means Hypothesis):**\n",
    "   - Null Hypothesis (H0): μ1 = μ2 (There is no significant difference in means between the two groups)\n",
    "   - Alternative Hypothesis (H1): μ1 ≠ μ2 (There is a significant difference in means between the two groups)\n",
    "2. **Difference Hypothesis (Difference in Means Hypothesis):**\n",
    "   - Null Hypothesis (H0): μ1 - μ2 = 0 (The mean difference between the two groups is zero, i.e., the group means are equal)\n",
    "   - Alternative Hypothesis (H1): μ1 - μ2 ≠ 0 (The mean difference between the two groups is non-zero, i.e., the group means are different)\n",
    "3. **Hypotheses Investigating if One Group is Greater or Less Than the Other:**\n",
    "   - Null Hypothesis (H0): μ1 ≤ μ2 or μ1 ≥ μ2 (One group does not have a greater or lesser mean value compared to the other group)\n",
    "   - Alternative Hypothesis (H1): μ1 > μ2 or μ1 < μ2 (One group has a greater or lesser mean value compared to the other group)"
   ]
  },
  {
   "cell_type": "markdown",
   "id": "c9ffdf4d",
   "metadata": {
    "papermill": {
     "duration": 0.024587,
     "end_time": "2023-11-13T14:31:56.219239",
     "exception": false,
     "start_time": "2023-11-13T14:31:56.194652",
     "status": "completed"
    },
    "tags": []
   },
   "source": [
    "<div style=\"border-radius:10px; border:#D0C2F0 solid; padding: 15px; background-color: #F8E8EE; font-size:100%; text-align:left\">\n",
    "\n",
    "<h3 align=\"left\"><font color='#5E5273'>📄 Notes: </font></h3>\n",
    "    \n",
    "**The assumptions and concepts for the Independent Two-Sample t-Test are as follows:**\n",
    "\n",
    "1. **Normality:** This assumption states that both sets of data from the two groups follow a normal distribution, meaning the data is distributed in a bell-shaped curve. This is crucial for parametric statistical tests to provide reliable results. The assumption of normality can be visually inspected by examining histograms or normal probability plots of the data. Additionally, normality tests such as the Shapiro-Wilk or Kolmogorov-Smirnov tests can be used.\n",
    "\n",
    "2. **Homogeneity of Variance:** This assumption indicates that the variances of both groups are similar. In other words, it suggests that the distributions of data for the two groups are similar in terms of the spread of the data. Homogeneity of variance implies that the variances of the groups are comparable. Homogeneity of variance can be checked using statistical tests like Levene's test or Bartlett's test.\n",
    "\n",
    "3. **p-Value (Probability Value):** The p-value is a measure of the significance of a statistical test result. It is used to determine whether to reject the null hypothesis. If the p-value is smaller than a pre-defined significance level (alpha level), often set at 0.05, it indicates that the null hypothesis should be rejected, and the results are considered statistically significant. If the p-value is greater than the alpha level, it may be necessary to accept the null hypothesis, and the results are considered statistically non-significant.\n",
    "\n",
    "These concepts and assumptions are essential when working with the Independent Two-Sample t-Test because the outcomes and reliability of this test depend on these factors."
   ]
  },
  {
   "cell_type": "markdown",
   "id": "8b35f548",
   "metadata": {
    "papermill": {
     "duration": 0.02334,
     "end_time": "2023-11-13T14:31:56.267314",
     "exception": false,
     "start_time": "2023-11-13T14:31:56.243974",
     "status": "completed"
    },
    "tags": []
   },
   "source": [
    "<a id = \"6\"></a><br>\n",
    "<p style=\"font-family: 'Pacifico', cursive; font-weight: bold; letter-spacing: 2px; color: #556B2F; font-size: 160%; text-align: left; padding: 0px; border-bottom: 3px solid\">✨A/B Testing Implementation 1✨</p>"
   ]
  },
  {
   "cell_type": "markdown",
   "id": "b976c01f",
   "metadata": {
    "papermill": {
     "duration": 0.023396,
     "end_time": "2023-11-13T14:31:56.314603",
     "exception": false,
     "start_time": "2023-11-13T14:31:56.291207",
     "status": "completed"
    },
    "tags": []
   },
   "source": [
    "> **Is there a statistically significant difference between the means of smokers and non-smokers? Let's make an assumption that if at least one person at the table smokes, they leave a larger tip. Is this true?**"
   ]
  },
  {
   "cell_type": "code",
   "execution_count": 25,
   "id": "0d86ae70",
   "metadata": {
    "execution": {
     "iopub.execute_input": "2023-11-13T14:31:56.364943Z",
     "iopub.status.busy": "2023-11-13T14:31:56.364150Z",
     "iopub.status.idle": "2023-11-13T14:31:56.384138Z",
     "shell.execute_reply": "2023-11-13T14:31:56.382993Z"
    },
    "papermill": {
     "duration": 0.048128,
     "end_time": "2023-11-13T14:31:56.386560",
     "exception": false,
     "start_time": "2023-11-13T14:31:56.338432",
     "status": "completed"
    },
    "tags": []
   },
   "outputs": [
    {
     "data": {
      "text/html": [
       "<div>\n",
       "<style scoped>\n",
       "    .dataframe tbody tr th:only-of-type {\n",
       "        vertical-align: middle;\n",
       "    }\n",
       "\n",
       "    .dataframe tbody tr th {\n",
       "        vertical-align: top;\n",
       "    }\n",
       "\n",
       "    .dataframe thead th {\n",
       "        text-align: right;\n",
       "    }\n",
       "</style>\n",
       "<table border=\"1\" class=\"dataframe\">\n",
       "  <thead>\n",
       "    <tr style=\"text-align: right;\">\n",
       "      <th></th>\n",
       "      <th>Total_bill</th>\n",
       "      <th>Tip</th>\n",
       "      <th>Sex</th>\n",
       "      <th>Smoker</th>\n",
       "      <th>Day</th>\n",
       "      <th>Time</th>\n",
       "      <th>Size</th>\n",
       "    </tr>\n",
       "  </thead>\n",
       "  <tbody>\n",
       "    <tr>\n",
       "      <th>0</th>\n",
       "      <td>16.99</td>\n",
       "      <td>1.01</td>\n",
       "      <td>Female</td>\n",
       "      <td>No</td>\n",
       "      <td>Sun</td>\n",
       "      <td>Dinner</td>\n",
       "      <td>2</td>\n",
       "    </tr>\n",
       "    <tr>\n",
       "      <th>1</th>\n",
       "      <td>10.34</td>\n",
       "      <td>1.66</td>\n",
       "      <td>Male</td>\n",
       "      <td>No</td>\n",
       "      <td>Sun</td>\n",
       "      <td>Dinner</td>\n",
       "      <td>3</td>\n",
       "    </tr>\n",
       "    <tr>\n",
       "      <th>2</th>\n",
       "      <td>21.01</td>\n",
       "      <td>3.50</td>\n",
       "      <td>Male</td>\n",
       "      <td>No</td>\n",
       "      <td>Sun</td>\n",
       "      <td>Dinner</td>\n",
       "      <td>3</td>\n",
       "    </tr>\n",
       "    <tr>\n",
       "      <th>3</th>\n",
       "      <td>23.68</td>\n",
       "      <td>3.31</td>\n",
       "      <td>Male</td>\n",
       "      <td>No</td>\n",
       "      <td>Sun</td>\n",
       "      <td>Dinner</td>\n",
       "      <td>2</td>\n",
       "    </tr>\n",
       "    <tr>\n",
       "      <th>4</th>\n",
       "      <td>24.59</td>\n",
       "      <td>3.61</td>\n",
       "      <td>Female</td>\n",
       "      <td>No</td>\n",
       "      <td>Sun</td>\n",
       "      <td>Dinner</td>\n",
       "      <td>4</td>\n",
       "    </tr>\n",
       "  </tbody>\n",
       "</table>\n",
       "</div>"
      ],
      "text/plain": [
       "   Total_bill   Tip     Sex Smoker  Day    Time  Size\n",
       "0       16.99  1.01  Female     No  Sun  Dinner     2\n",
       "1       10.34  1.66    Male     No  Sun  Dinner     3\n",
       "2       21.01  3.50    Male     No  Sun  Dinner     3\n",
       "3       23.68  3.31    Male     No  Sun  Dinner     2\n",
       "4       24.59  3.61  Female     No  Sun  Dinner     4"
      ]
     },
     "execution_count": 25,
     "metadata": {},
     "output_type": "execute_result"
    }
   ],
   "source": [
    "df = pd.read_csv(\"/kaggle/input/tips-dataset/tips.csv\")\n",
    "df.head()"
   ]
  },
  {
   "cell_type": "code",
   "execution_count": 26,
   "id": "e5bb40fd",
   "metadata": {
    "execution": {
     "iopub.execute_input": "2023-11-13T14:31:56.437804Z",
     "iopub.status.busy": "2023-11-13T14:31:56.437335Z",
     "iopub.status.idle": "2023-11-13T14:31:56.458477Z",
     "shell.execute_reply": "2023-11-13T14:31:56.457569Z"
    },
    "papermill": {
     "duration": 0.048788,
     "end_time": "2023-11-13T14:31:56.460422",
     "exception": false,
     "start_time": "2023-11-13T14:31:56.411634",
     "status": "completed"
    },
    "tags": []
   },
   "outputs": [
    {
     "data": {
      "text/html": [
       "<div>\n",
       "<style scoped>\n",
       "    .dataframe tbody tr th:only-of-type {\n",
       "        vertical-align: middle;\n",
       "    }\n",
       "\n",
       "    .dataframe tbody tr th {\n",
       "        vertical-align: top;\n",
       "    }\n",
       "\n",
       "    .dataframe thead th {\n",
       "        text-align: right;\n",
       "    }\n",
       "</style>\n",
       "<table border=\"1\" class=\"dataframe\">\n",
       "  <thead>\n",
       "    <tr style=\"text-align: right;\">\n",
       "      <th></th>\n",
       "      <th>Total_bill</th>\n",
       "    </tr>\n",
       "    <tr>\n",
       "      <th>Smoker</th>\n",
       "      <th></th>\n",
       "    </tr>\n",
       "  </thead>\n",
       "  <tbody>\n",
       "    <tr>\n",
       "      <th>No</th>\n",
       "      <td>19.188278</td>\n",
       "    </tr>\n",
       "    <tr>\n",
       "      <th>Yes</th>\n",
       "      <td>20.756344</td>\n",
       "    </tr>\n",
       "  </tbody>\n",
       "</table>\n",
       "</div>"
      ],
      "text/plain": [
       "        Total_bill\n",
       "Smoker            \n",
       "No       19.188278\n",
       "Yes      20.756344"
      ]
     },
     "execution_count": 26,
     "metadata": {},
     "output_type": "execute_result"
    }
   ],
   "source": [
    "df.groupby(\"Smoker\").agg({\"Total_bill\": \"mean\"})"
   ]
  },
  {
   "cell_type": "markdown",
   "id": "0926ef1f",
   "metadata": {
    "papermill": {
     "duration": 0.025344,
     "end_time": "2023-11-13T14:31:56.511143",
     "exception": false,
     "start_time": "2023-11-13T14:31:56.485799",
     "status": "completed"
    },
    "tags": []
   },
   "source": [
    "<div style=\"border-radius:10px; border:#D0C2F0 solid; padding: 15px; background-color: #F8E8EE; font-size:100%; text-align:left\">\n",
    "\n",
    "<h3 align=\"left\"><font color='#5E5273'>📄 Notes: </font></h3>\n",
    "    \n",
    "According to these numbers, it seems like there may be a difference in tips between the groups, but this difference could have occurred by chance and should be statistically tested.\n",
    "\n",
    "**Step 1 - Formulate Hypotheses:**\n",
    "   - Null Hypothesis (H0): μ1 = μ2 (There is no significant difference in means between the two groups)\n",
    "   - Alternative Hypothesis (H1): μ1 ≠ μ2 (There is a significant difference in means between the two groups)\n",
    "\n",
    "**Step 2 - Assumption Checks:**\n",
    "   - Normality Assumption\n",
    "   - Homogeneity of Variance\n",
    "\n",
    "**Step 3 - Normality Assumption Hypothesis:**\n",
    "   - H0: The normal distribution assumption is met.\n",
    "   - H1: The normal distribution assumption is not met.\n",
    "    \n",
    "**Step 4 - Assumption of Homogeneity of Variance:**\n",
    "   - H0: Variances are homogenous.\n",
    "   - H1: Variances are not homogenous.\n",
    "    \n",
    "**Note:** Prior to normality assessment, it may be beneficial to examine and correct outliers.\n",
    "    \n",
    "---\n",
    "\n",
    "The Shapiro-Wilk test is used to evaluate whether a dataset follows a normal distribution. This test follows these steps:\n",
    "\n",
    "1. **Null Hypothesis (H0):** The data follows a normal distribution.\n",
    "2. **Alternative Hypothesis (H1):** The data does not follow a normal distribution.\n",
    "\n",
    "The Shapiro-Wilk test calculates a statistical test statistic to assess the similarity between the observations of the dataset and a theoretical normal distribution. It results in a p-value, which assesses the conformity of the data to a normal distribution. If the p-value is less than a predetermined significance level (often set at 0.05), the null hypothesis (H0) is rejected, indicating that the data does not follow a normal distribution. If the p-value is greater than the significance level, the null hypothesis is accepted, implying that the data follows a normal distribution.\n",
    "    \n",
    "---\n",
    "    \n",
    "The Levene test is a statistical test used to assess the homogeneity of variance between two or more groups. This test helps determine whether the variances of data distributions in different groups are similar. Homogeneity of variance is an important assumption to consider before evaluating the significance of differences between groups. The Levene test is used to test this assumption.\n",
    "\n",
    "The Levene test follows the following steps:\n",
    "\n",
    "1. **Null Hypothesis (H0):** Variances are homogeneous among the groups (i.e., group variances are similar).\n",
    "2. **Alternative Hypothesis (H1):** Variances are not homogeneous among the groups (i.e., group variances are different).\n",
    "\n",
    "The Levene test calculates the variance of data for each group and compares whether these variances are similar. The test statistic is a measure of the variance difference between the groups. A larger Levene test statistic indicates a larger variance difference between the groups. The p-value obtained from the test determines whether the null hypothesis (H0) will be rejected. If the p-value is less than a specific significance level (usually 0.05), the null hypothesis is rejected, indicating that the variances between groups are not homogeneous. If the p-value is greater than the significance level, the null hypothesis is accepted, suggesting that the variances between groups are homogeneous.\n",
    "\n",
    "The Levene test is an important tool for assessing the homogeneity of variances between groups and for selecting appropriate statistical analysis methods. It is particularly relevant in tests such as Analysis of Variance (ANOVA) where the assumption of homogeneity of variances is crucial."
   ]
  },
  {
   "cell_type": "code",
   "execution_count": 27,
   "id": "61fd3fc7",
   "metadata": {
    "execution": {
     "iopub.execute_input": "2023-11-13T14:31:56.563630Z",
     "iopub.status.busy": "2023-11-13T14:31:56.563148Z",
     "iopub.status.idle": "2023-11-13T14:31:56.571157Z",
     "shell.execute_reply": "2023-11-13T14:31:56.570006Z"
    },
    "papermill": {
     "duration": 0.036411,
     "end_time": "2023-11-13T14:31:56.573311",
     "exception": false,
     "start_time": "2023-11-13T14:31:56.536900",
     "status": "completed"
    },
    "tags": []
   },
   "outputs": [
    {
     "name": "stdout",
     "output_type": "stream",
     "text": [
      "Test Stat = 0.9367, p-value = 0.0002\n"
     ]
    }
   ],
   "source": [
    "test_stat, pvalue = shapiro(df.loc[df[\"Smoker\"] == \"Yes\", \"Total_bill\"])\n",
    "\n",
    "print('Test Stat = %.4f, p-value = %.4f' % (test_stat, pvalue))\n",
    "\n",
    "# The normality assumption within the first group is not met. H0 has been rejected."
   ]
  },
  {
   "cell_type": "code",
   "execution_count": 28,
   "id": "ff0d8aa4",
   "metadata": {
    "execution": {
     "iopub.execute_input": "2023-11-13T14:31:56.630723Z",
     "iopub.status.busy": "2023-11-13T14:31:56.629468Z",
     "iopub.status.idle": "2023-11-13T14:31:56.642854Z",
     "shell.execute_reply": "2023-11-13T14:31:56.638564Z"
    },
    "papermill": {
     "duration": 0.047151,
     "end_time": "2023-11-13T14:31:56.645202",
     "exception": false,
     "start_time": "2023-11-13T14:31:56.598051",
     "status": "completed"
    },
    "tags": []
   },
   "outputs": [
    {
     "name": "stdout",
     "output_type": "stream",
     "text": [
      "Test Stat = 0.9045, p-value = 0.0000\n"
     ]
    }
   ],
   "source": [
    "test_stat, pvalue = shapiro(df.loc[df[\"Smoker\"] == \"No\", \"Total_bill\"])\n",
    "\n",
    "print('Test Stat = %.4f, p-value = %.4f' % (test_stat, pvalue))\n",
    "\n",
    "# The normality assumption within the second group is not met. H0 has been rejected. \n",
    "# Therefore, the normal distribution assumption is not met for this problem.\n",
    "# We should use a non-parametric test."
   ]
  },
  {
   "cell_type": "code",
   "execution_count": 29,
   "id": "dfb94817",
   "metadata": {
    "execution": {
     "iopub.execute_input": "2023-11-13T14:31:56.708533Z",
     "iopub.status.busy": "2023-11-13T14:31:56.708085Z",
     "iopub.status.idle": "2023-11-13T14:31:56.716880Z",
     "shell.execute_reply": "2023-11-13T14:31:56.715787Z"
    },
    "papermill": {
     "duration": 0.040251,
     "end_time": "2023-11-13T14:31:56.719078",
     "exception": false,
     "start_time": "2023-11-13T14:31:56.678827",
     "status": "completed"
    },
    "tags": []
   },
   "outputs": [
    {
     "name": "stdout",
     "output_type": "stream",
     "text": [
      "Test Stat = 4.0537, p-value = 0.0452\n"
     ]
    }
   ],
   "source": [
    "test_stat, pvalue = levene(df.loc[df[\"Smoker\"] == \"Yes\", \"Total_bill\"],\n",
    "                           df.loc[df[\"Smoker\"] == \"No\", \"Total_bill\"])\n",
    "\n",
    "print('Test Stat = %.4f, p-value = %.4f' % (test_stat, pvalue))\n",
    "\n",
    "# H0 has been rejected. Variances are not homogeneous. Both assumptions are not met."
   ]
  },
  {
   "cell_type": "markdown",
   "id": "a33bdb64",
   "metadata": {
    "papermill": {
     "duration": 0.033163,
     "end_time": "2023-11-13T14:31:56.783053",
     "exception": false,
     "start_time": "2023-11-13T14:31:56.749890",
     "status": "completed"
    },
    "tags": []
   },
   "source": [
    "<div style=\"border-radius:10px; border:#D0C2F0 solid; padding: 15px; background-color: #F8E8EE; font-size:100%; text-align:left\">\n",
    "\n",
    "<h3 align=\"left\"><font color='#5E5273'>📄 Notes: </font></h3>\n",
    "   \n",
    "We can use the t-Test method under the following conditions:\n",
    "\n",
    "- If the normality assumption is met.\n",
    "- If both normality and homogeneity of variances are met.\n",
    "- If the normality assumption is met, but homogeneity of variances is not met.\n",
    "- If only homogeneity of variances is not met, you should set **\"equal_var=False\"** to apply **Welch's t-test** in the background.    \n",
    "    \n",
    "---\n",
    "\n",
    "Welch's t-test is a statistical test used to assess whether the difference in means between two independent samples is statistically significant. It is preferred when variances are not equal between the two groups or when sample sizes are different. This test has been adapted for situations where variances are not equal or sample sizes are different.\n",
    "\n",
    "Welch's t-test follows the following steps:\n",
    "\n",
    "1. **Null Hypothesis (H0):** There is no difference in means between the two groups. In other words, there is no statistically significant difference in average values between the groups.\n",
    "2. **Alternative Hypothesis (H1):** There is a statistically significant difference between the two groups. The average values of the groups are different.\n",
    "\n",
    "Welch's t-test compares the average values of the two groups using the data from both groups. This test calculates a test statistic to assess whether the difference in means between the groups is statistically significant.\n",
    "\n",
    "The test statistic is calculated based on the sample sizes, variances, and data values of the groups. The p-value obtained from Welch's t-test determines whether the null hypothesis (H0) will be rejected. If the p-value is less than a specific significance level (typically 0.05), the null hypothesis is rejected, indicating that there is a statistically significant difference in means between the groups. If the p-value is greater than the significance level, the null hypothesis is accepted, suggesting that there is no statistically significant difference in means between the groups.\n",
    "\n",
    "Welch's t-test is a parametric method for evaluating differences in means between groups and is suitable for situations with heteroscedasticity (unequal variances) or different sample sizes."
   ]
  },
  {
   "cell_type": "code",
   "execution_count": 30,
   "id": "863f6805",
   "metadata": {
    "execution": {
     "iopub.execute_input": "2023-11-13T14:31:56.850600Z",
     "iopub.status.busy": "2023-11-13T14:31:56.849987Z",
     "iopub.status.idle": "2023-11-13T14:31:56.861738Z",
     "shell.execute_reply": "2023-11-13T14:31:56.860921Z"
    },
    "papermill": {
     "duration": 0.047969,
     "end_time": "2023-11-13T14:31:56.864982",
     "exception": false,
     "start_time": "2023-11-13T14:31:56.817013",
     "status": "completed"
    },
    "tags": []
   },
   "outputs": [
    {
     "name": "stdout",
     "output_type": "stream",
     "text": [
      "Test Stat = 7531.5000, p-value = 0.3413\n"
     ]
    }
   ],
   "source": [
    "test_stat, pvalue = mannwhitneyu(df.loc[df[\"Smoker\"] == \"Yes\", \"Total_bill\"],\n",
    "                                 df.loc[df[\"Smoker\"] == \"No\", \"Total_bill\"])\n",
    "\n",
    "print('Test Stat = %.4f, p-value = %.4f' % (test_stat, pvalue))\n",
    "\n",
    "# According to the Mann-Whitney U test, H0 has been accepted. There is no significant difference between the means of the two groups."
   ]
  },
  {
   "cell_type": "markdown",
   "id": "0688ab8f",
   "metadata": {
    "papermill": {
     "duration": 0.026887,
     "end_time": "2023-11-13T14:31:56.919984",
     "exception": false,
     "start_time": "2023-11-13T14:31:56.893097",
     "status": "completed"
    },
    "tags": []
   },
   "source": [
    "<a id = \"7\"></a><br>\n",
    "<p style=\"font-family: 'Pacifico', cursive; font-weight: bold; letter-spacing: 2px; color: #556B2F; font-size: 160%; text-align: left; padding: 0px; border-bottom: 3px solid\">✨A/B Testing Implementation 2✨</p>"
   ]
  },
  {
   "cell_type": "markdown",
   "id": "be9582c0",
   "metadata": {
    "papermill": {
     "duration": 0.024274,
     "end_time": "2023-11-13T14:31:56.968986",
     "exception": false,
     "start_time": "2023-11-13T14:31:56.944712",
     "status": "completed"
    },
    "tags": []
   },
   "source": [
    "> **Is there a statistically significant difference in the age averages between female and male passengers in the Titanic dataset?**"
   ]
  },
  {
   "cell_type": "code",
   "execution_count": 31,
   "id": "d4227266",
   "metadata": {
    "execution": {
     "iopub.execute_input": "2023-11-13T14:31:57.020636Z",
     "iopub.status.busy": "2023-11-13T14:31:57.020064Z",
     "iopub.status.idle": "2023-11-13T14:31:57.035502Z",
     "shell.execute_reply": "2023-11-13T14:31:57.034062Z"
    },
    "papermill": {
     "duration": 0.044802,
     "end_time": "2023-11-13T14:31:57.038498",
     "exception": false,
     "start_time": "2023-11-13T14:31:56.993696",
     "status": "completed"
    },
    "tags": []
   },
   "outputs": [],
   "source": [
    "df = pd.read_csv(\"/kaggle/input/titanic/train.csv\")"
   ]
  },
  {
   "cell_type": "code",
   "execution_count": 32,
   "id": "a3b4f1ac",
   "metadata": {
    "execution": {
     "iopub.execute_input": "2023-11-13T14:31:57.095561Z",
     "iopub.status.busy": "2023-11-13T14:31:57.094864Z",
     "iopub.status.idle": "2023-11-13T14:31:57.112890Z",
     "shell.execute_reply": "2023-11-13T14:31:57.112057Z"
    },
    "papermill": {
     "duration": 0.047857,
     "end_time": "2023-11-13T14:31:57.114992",
     "exception": false,
     "start_time": "2023-11-13T14:31:57.067135",
     "status": "completed"
    },
    "tags": []
   },
   "outputs": [
    {
     "data": {
      "text/html": [
       "<div>\n",
       "<style scoped>\n",
       "    .dataframe tbody tr th:only-of-type {\n",
       "        vertical-align: middle;\n",
       "    }\n",
       "\n",
       "    .dataframe tbody tr th {\n",
       "        vertical-align: top;\n",
       "    }\n",
       "\n",
       "    .dataframe thead th {\n",
       "        text-align: right;\n",
       "    }\n",
       "</style>\n",
       "<table border=\"1\" class=\"dataframe\">\n",
       "  <thead>\n",
       "    <tr style=\"text-align: right;\">\n",
       "      <th></th>\n",
       "      <th>PassengerId</th>\n",
       "      <th>Survived</th>\n",
       "      <th>Pclass</th>\n",
       "      <th>Name</th>\n",
       "      <th>Sex</th>\n",
       "      <th>Age</th>\n",
       "      <th>SibSp</th>\n",
       "      <th>Parch</th>\n",
       "      <th>Ticket</th>\n",
       "      <th>Fare</th>\n",
       "      <th>Cabin</th>\n",
       "      <th>Embarked</th>\n",
       "    </tr>\n",
       "  </thead>\n",
       "  <tbody>\n",
       "    <tr>\n",
       "      <th>0</th>\n",
       "      <td>1</td>\n",
       "      <td>0</td>\n",
       "      <td>3</td>\n",
       "      <td>Braund, Mr. Owen Harris</td>\n",
       "      <td>male</td>\n",
       "      <td>22.0</td>\n",
       "      <td>1</td>\n",
       "      <td>0</td>\n",
       "      <td>A/5 21171</td>\n",
       "      <td>7.2500</td>\n",
       "      <td>NaN</td>\n",
       "      <td>S</td>\n",
       "    </tr>\n",
       "    <tr>\n",
       "      <th>1</th>\n",
       "      <td>2</td>\n",
       "      <td>1</td>\n",
       "      <td>1</td>\n",
       "      <td>Cumings, Mrs. John Bradley (Florence Briggs Th...</td>\n",
       "      <td>female</td>\n",
       "      <td>38.0</td>\n",
       "      <td>1</td>\n",
       "      <td>0</td>\n",
       "      <td>PC 17599</td>\n",
       "      <td>71.2833</td>\n",
       "      <td>C85</td>\n",
       "      <td>C</td>\n",
       "    </tr>\n",
       "    <tr>\n",
       "      <th>2</th>\n",
       "      <td>3</td>\n",
       "      <td>1</td>\n",
       "      <td>3</td>\n",
       "      <td>Heikkinen, Miss. Laina</td>\n",
       "      <td>female</td>\n",
       "      <td>26.0</td>\n",
       "      <td>0</td>\n",
       "      <td>0</td>\n",
       "      <td>STON/O2. 3101282</td>\n",
       "      <td>7.9250</td>\n",
       "      <td>NaN</td>\n",
       "      <td>S</td>\n",
       "    </tr>\n",
       "    <tr>\n",
       "      <th>3</th>\n",
       "      <td>4</td>\n",
       "      <td>1</td>\n",
       "      <td>1</td>\n",
       "      <td>Futrelle, Mrs. Jacques Heath (Lily May Peel)</td>\n",
       "      <td>female</td>\n",
       "      <td>35.0</td>\n",
       "      <td>1</td>\n",
       "      <td>0</td>\n",
       "      <td>113803</td>\n",
       "      <td>53.1000</td>\n",
       "      <td>C123</td>\n",
       "      <td>S</td>\n",
       "    </tr>\n",
       "    <tr>\n",
       "      <th>4</th>\n",
       "      <td>5</td>\n",
       "      <td>0</td>\n",
       "      <td>3</td>\n",
       "      <td>Allen, Mr. William Henry</td>\n",
       "      <td>male</td>\n",
       "      <td>35.0</td>\n",
       "      <td>0</td>\n",
       "      <td>0</td>\n",
       "      <td>373450</td>\n",
       "      <td>8.0500</td>\n",
       "      <td>NaN</td>\n",
       "      <td>S</td>\n",
       "    </tr>\n",
       "  </tbody>\n",
       "</table>\n",
       "</div>"
      ],
      "text/plain": [
       "   PassengerId  Survived  Pclass  \\\n",
       "0            1         0       3   \n",
       "1            2         1       1   \n",
       "2            3         1       3   \n",
       "3            4         1       1   \n",
       "4            5         0       3   \n",
       "\n",
       "                                                Name     Sex   Age  SibSp  \\\n",
       "0                            Braund, Mr. Owen Harris    male  22.0      1   \n",
       "1  Cumings, Mrs. John Bradley (Florence Briggs Th...  female  38.0      1   \n",
       "2                             Heikkinen, Miss. Laina  female  26.0      0   \n",
       "3       Futrelle, Mrs. Jacques Heath (Lily May Peel)  female  35.0      1   \n",
       "4                           Allen, Mr. William Henry    male  35.0      0   \n",
       "\n",
       "   Parch            Ticket     Fare Cabin Embarked  \n",
       "0      0         A/5 21171   7.2500   NaN        S  \n",
       "1      0          PC 17599  71.2833   C85        C  \n",
       "2      0  STON/O2. 3101282   7.9250   NaN        S  \n",
       "3      0            113803  53.1000  C123        S  \n",
       "4      0            373450   8.0500   NaN        S  "
      ]
     },
     "execution_count": 32,
     "metadata": {},
     "output_type": "execute_result"
    }
   ],
   "source": [
    "df.head()"
   ]
  },
  {
   "cell_type": "code",
   "execution_count": 33,
   "id": "bca5d07e",
   "metadata": {
    "execution": {
     "iopub.execute_input": "2023-11-13T14:31:57.167807Z",
     "iopub.status.busy": "2023-11-13T14:31:57.167315Z",
     "iopub.status.idle": "2023-11-13T14:31:57.180729Z",
     "shell.execute_reply": "2023-11-13T14:31:57.179511Z"
    },
    "papermill": {
     "duration": 0.042728,
     "end_time": "2023-11-13T14:31:57.183133",
     "exception": false,
     "start_time": "2023-11-13T14:31:57.140405",
     "status": "completed"
    },
    "tags": []
   },
   "outputs": [
    {
     "data": {
      "text/html": [
       "<div>\n",
       "<style scoped>\n",
       "    .dataframe tbody tr th:only-of-type {\n",
       "        vertical-align: middle;\n",
       "    }\n",
       "\n",
       "    .dataframe tbody tr th {\n",
       "        vertical-align: top;\n",
       "    }\n",
       "\n",
       "    .dataframe thead th {\n",
       "        text-align: right;\n",
       "    }\n",
       "</style>\n",
       "<table border=\"1\" class=\"dataframe\">\n",
       "  <thead>\n",
       "    <tr style=\"text-align: right;\">\n",
       "      <th></th>\n",
       "      <th>Age</th>\n",
       "    </tr>\n",
       "    <tr>\n",
       "      <th>Sex</th>\n",
       "      <th></th>\n",
       "    </tr>\n",
       "  </thead>\n",
       "  <tbody>\n",
       "    <tr>\n",
       "      <th>female</th>\n",
       "      <td>27.915709</td>\n",
       "    </tr>\n",
       "    <tr>\n",
       "      <th>male</th>\n",
       "      <td>30.726645</td>\n",
       "    </tr>\n",
       "  </tbody>\n",
       "</table>\n",
       "</div>"
      ],
      "text/plain": [
       "              Age\n",
       "Sex              \n",
       "female  27.915709\n",
       "male    30.726645"
      ]
     },
     "execution_count": 33,
     "metadata": {},
     "output_type": "execute_result"
    }
   ],
   "source": [
    "df.groupby(\"Sex\").agg({\"Age\": \"mean\"})"
   ]
  },
  {
   "cell_type": "markdown",
   "id": "9a596700",
   "metadata": {
    "papermill": {
     "duration": 0.024858,
     "end_time": "2023-11-13T14:31:57.233362",
     "exception": false,
     "start_time": "2023-11-13T14:31:57.208504",
     "status": "completed"
    },
    "tags": []
   },
   "source": [
    "<div style=\"border-radius:10px; border:#D0C2F0 solid; padding: 15px; background-color: #F8E8EE; font-size:100%; text-align:left\">\n",
    "\n",
    "<h3 align=\"left\"><font color='#5E5273'>📄 Notes: </font></h3>\n",
    "    \n",
    "According to these numbers, it seems like there may be a difference in age averages. However, this difference could have occurred by chance and should be statistically tested.\n",
    "\n",
    "**Step 1 - Formulate Hypotheses:**\n",
    "   - Null Hypothesis (H0): μ1 = μ2 (There is no difference in the age averages between the two groups.)\n",
    "   - Alternative Hypothesis (H1): μ1 ≠ μ2 (There is a significant difference in means between the two groups)\n",
    "\n",
    "**Step 2 - Assumption Checks:**\n",
    "   - Normality Assumption\n",
    "   - Homogeneity of Variance\n",
    "\n",
    "**Step 3 - Normality Assumption Hypothesis:**\n",
    "   - H0: The normal distribution assumption is met.\n",
    "   - H1: The normal distribution assumption is not met.\n",
    "    \n",
    "**Step 4 - Assumption of Homogeneity of Variance:**\n",
    "   - H0: Variances are homogenous.\n",
    "   - H1: Variances are not homogenous.\n",
    "    \n",
    "**Note:** Prior to normality assessment, it may be beneficial to examine and correct outliers."
   ]
  },
  {
   "cell_type": "code",
   "execution_count": 34,
   "id": "b763ab86",
   "metadata": {
    "execution": {
     "iopub.execute_input": "2023-11-13T14:31:57.285745Z",
     "iopub.status.busy": "2023-11-13T14:31:57.285300Z",
     "iopub.status.idle": "2023-11-13T14:31:57.292589Z",
     "shell.execute_reply": "2023-11-13T14:31:57.291670Z"
    },
    "papermill": {
     "duration": 0.03629,
     "end_time": "2023-11-13T14:31:57.294842",
     "exception": false,
     "start_time": "2023-11-13T14:31:57.258552",
     "status": "completed"
    },
    "tags": []
   },
   "outputs": [
    {
     "name": "stdout",
     "output_type": "stream",
     "text": [
      "Test Stat = 0.9848, p-value = 0.0071\n"
     ]
    }
   ],
   "source": [
    "test_stat, pvalue = shapiro(df.loc[df[\"Sex\"] == \"female\", \"Age\"].dropna())\n",
    "\n",
    "print('Test Stat = %.4f, p-value = %.4f' % (test_stat, pvalue))\n",
    "\n",
    "# H0 has been rejected. The normality assumption is not met for the female group."
   ]
  },
  {
   "cell_type": "code",
   "execution_count": 35,
   "id": "6b6d7faf",
   "metadata": {
    "execution": {
     "iopub.execute_input": "2023-11-13T14:31:57.348263Z",
     "iopub.status.busy": "2023-11-13T14:31:57.347083Z",
     "iopub.status.idle": "2023-11-13T14:31:57.356397Z",
     "shell.execute_reply": "2023-11-13T14:31:57.355039Z"
    },
    "papermill": {
     "duration": 0.038469,
     "end_time": "2023-11-13T14:31:57.358668",
     "exception": false,
     "start_time": "2023-11-13T14:31:57.320199",
     "status": "completed"
    },
    "tags": []
   },
   "outputs": [
    {
     "name": "stdout",
     "output_type": "stream",
     "text": [
      "Test Stat = 0.9747, p-value = 0.0000\n"
     ]
    }
   ],
   "source": [
    "test_stat, pvalue = shapiro(df.loc[df[\"Sex\"] == \"male\", \"Age\"].dropna())\n",
    "\n",
    "print('Test Stat = %.4f, p-value = %.4f' % (test_stat, pvalue))\n",
    "\n",
    "# H0 has been rejected. The normality assumption is not met for the male group."
   ]
  },
  {
   "cell_type": "code",
   "execution_count": 36,
   "id": "160f5295",
   "metadata": {
    "execution": {
     "iopub.execute_input": "2023-11-13T14:31:57.411833Z",
     "iopub.status.busy": "2023-11-13T14:31:57.411391Z",
     "iopub.status.idle": "2023-11-13T14:31:57.420810Z",
     "shell.execute_reply": "2023-11-13T14:31:57.419708Z"
    },
    "papermill": {
     "duration": 0.038746,
     "end_time": "2023-11-13T14:31:57.422803",
     "exception": false,
     "start_time": "2023-11-13T14:31:57.384057",
     "status": "completed"
    },
    "tags": []
   },
   "outputs": [
    {
     "name": "stdout",
     "output_type": "stream",
     "text": [
      "Test Stat = 0.0013, p-value = 0.9712\n"
     ]
    }
   ],
   "source": [
    "test_stat, pvalue = levene(df.loc[df[\"Sex\"] == \"female\", \"Age\"].dropna(),\n",
    "                           df.loc[df[\"Sex\"] == \"male\", \"Age\"].dropna())\n",
    "\n",
    "print('Test Stat = %.4f, p-value = %.4f' % (test_stat, pvalue))\n",
    "\n",
    "# H0 cannot be rejected. Variances are homogeneous.\n",
    "# However, this hypothesis is not critical because our normality assumptions are not met.\n",
    "# We added it just to see the application."
   ]
  },
  {
   "cell_type": "code",
   "execution_count": 37,
   "id": "b0a28beb",
   "metadata": {
    "execution": {
     "iopub.execute_input": "2023-11-13T14:31:57.476912Z",
     "iopub.status.busy": "2023-11-13T14:31:57.476481Z",
     "iopub.status.idle": "2023-11-13T14:31:57.488135Z",
     "shell.execute_reply": "2023-11-13T14:31:57.486859Z"
    },
    "papermill": {
     "duration": 0.041889,
     "end_time": "2023-11-13T14:31:57.490664",
     "exception": false,
     "start_time": "2023-11-13T14:31:57.448775",
     "status": "completed"
    },
    "tags": []
   },
   "outputs": [
    {
     "name": "stdout",
     "output_type": "stream",
     "text": [
      "Test Stat = 53212.5000, p-value = 0.0261\n"
     ]
    }
   ],
   "source": [
    "test_stat, pvalue = mannwhitneyu(df.loc[df[\"Sex\"] == \"female\", \"Age\"].dropna(),\n",
    "                                 df.loc[df[\"Sex\"] == \"male\", \"Age\"].dropna())\n",
    "\n",
    "print('Test Stat = %.4f, p-value = %.4f' % (test_stat, pvalue))\n",
    "\n",
    "# H0 has been rejected. There is a statistically significant difference between the age averages of females and males."
   ]
  },
  {
   "cell_type": "markdown",
   "id": "8523f8e4",
   "metadata": {
    "papermill": {
     "duration": 0.025512,
     "end_time": "2023-11-13T14:31:57.542299",
     "exception": false,
     "start_time": "2023-11-13T14:31:57.516787",
     "status": "completed"
    },
    "tags": []
   },
   "source": [
    "<a id = \"8\"></a><br>\n",
    "<p style=\"font-family: 'Pacifico', cursive; font-weight: bold; letter-spacing: 2px; color: #556B2F; font-size: 160%; text-align: left; padding: 0px; border-bottom: 3px solid\">✨A/B Testing Implementation 3✨</p>"
   ]
  },
  {
   "cell_type": "markdown",
   "id": "95e14a7b",
   "metadata": {
    "papermill": {
     "duration": 0.025411,
     "end_time": "2023-11-13T14:31:57.594068",
     "exception": false,
     "start_time": "2023-11-13T14:31:57.568657",
     "status": "completed"
    },
    "tags": []
   },
   "source": [
    "> **Is there a statistically significant difference in the age averages between individuals with diabetes and those without diabetes?**"
   ]
  },
  {
   "cell_type": "code",
   "execution_count": 38,
   "id": "2b0f8a76",
   "metadata": {
    "execution": {
     "iopub.execute_input": "2023-11-13T14:31:57.648433Z",
     "iopub.status.busy": "2023-11-13T14:31:57.647970Z",
     "iopub.status.idle": "2023-11-13T14:31:57.675911Z",
     "shell.execute_reply": "2023-11-13T14:31:57.674911Z"
    },
    "papermill": {
     "duration": 0.058687,
     "end_time": "2023-11-13T14:31:57.678639",
     "exception": false,
     "start_time": "2023-11-13T14:31:57.619952",
     "status": "completed"
    },
    "tags": []
   },
   "outputs": [],
   "source": [
    "df = pd.read_csv(\"/kaggle/input/diabetes-dataset/diabetes.csv\")"
   ]
  },
  {
   "cell_type": "code",
   "execution_count": 39,
   "id": "b218fe14",
   "metadata": {
    "execution": {
     "iopub.execute_input": "2023-11-13T14:31:57.733451Z",
     "iopub.status.busy": "2023-11-13T14:31:57.732729Z",
     "iopub.status.idle": "2023-11-13T14:31:57.746718Z",
     "shell.execute_reply": "2023-11-13T14:31:57.745594Z"
    },
    "papermill": {
     "duration": 0.043972,
     "end_time": "2023-11-13T14:31:57.749178",
     "exception": false,
     "start_time": "2023-11-13T14:31:57.705206",
     "status": "completed"
    },
    "tags": []
   },
   "outputs": [
    {
     "data": {
      "text/html": [
       "<div>\n",
       "<style scoped>\n",
       "    .dataframe tbody tr th:only-of-type {\n",
       "        vertical-align: middle;\n",
       "    }\n",
       "\n",
       "    .dataframe tbody tr th {\n",
       "        vertical-align: top;\n",
       "    }\n",
       "\n",
       "    .dataframe thead th {\n",
       "        text-align: right;\n",
       "    }\n",
       "</style>\n",
       "<table border=\"1\" class=\"dataframe\">\n",
       "  <thead>\n",
       "    <tr style=\"text-align: right;\">\n",
       "      <th></th>\n",
       "      <th>Pregnancies</th>\n",
       "      <th>Glucose</th>\n",
       "      <th>BloodPressure</th>\n",
       "      <th>SkinThickness</th>\n",
       "      <th>Insulin</th>\n",
       "      <th>BMI</th>\n",
       "      <th>DiabetesPedigreeFunction</th>\n",
       "      <th>Age</th>\n",
       "      <th>Outcome</th>\n",
       "    </tr>\n",
       "  </thead>\n",
       "  <tbody>\n",
       "    <tr>\n",
       "      <th>0</th>\n",
       "      <td>6</td>\n",
       "      <td>148</td>\n",
       "      <td>72</td>\n",
       "      <td>35</td>\n",
       "      <td>0</td>\n",
       "      <td>33.6</td>\n",
       "      <td>0.627</td>\n",
       "      <td>50</td>\n",
       "      <td>1</td>\n",
       "    </tr>\n",
       "    <tr>\n",
       "      <th>1</th>\n",
       "      <td>1</td>\n",
       "      <td>85</td>\n",
       "      <td>66</td>\n",
       "      <td>29</td>\n",
       "      <td>0</td>\n",
       "      <td>26.6</td>\n",
       "      <td>0.351</td>\n",
       "      <td>31</td>\n",
       "      <td>0</td>\n",
       "    </tr>\n",
       "    <tr>\n",
       "      <th>2</th>\n",
       "      <td>8</td>\n",
       "      <td>183</td>\n",
       "      <td>64</td>\n",
       "      <td>0</td>\n",
       "      <td>0</td>\n",
       "      <td>23.3</td>\n",
       "      <td>0.672</td>\n",
       "      <td>32</td>\n",
       "      <td>1</td>\n",
       "    </tr>\n",
       "    <tr>\n",
       "      <th>3</th>\n",
       "      <td>1</td>\n",
       "      <td>89</td>\n",
       "      <td>66</td>\n",
       "      <td>23</td>\n",
       "      <td>94</td>\n",
       "      <td>28.1</td>\n",
       "      <td>0.167</td>\n",
       "      <td>21</td>\n",
       "      <td>0</td>\n",
       "    </tr>\n",
       "    <tr>\n",
       "      <th>4</th>\n",
       "      <td>0</td>\n",
       "      <td>137</td>\n",
       "      <td>40</td>\n",
       "      <td>35</td>\n",
       "      <td>168</td>\n",
       "      <td>43.1</td>\n",
       "      <td>2.288</td>\n",
       "      <td>33</td>\n",
       "      <td>1</td>\n",
       "    </tr>\n",
       "  </tbody>\n",
       "</table>\n",
       "</div>"
      ],
      "text/plain": [
       "   Pregnancies  Glucose  BloodPressure  SkinThickness  Insulin   BMI  \\\n",
       "0            6      148             72             35        0  33.6   \n",
       "1            1       85             66             29        0  26.6   \n",
       "2            8      183             64              0        0  23.3   \n",
       "3            1       89             66             23       94  28.1   \n",
       "4            0      137             40             35      168  43.1   \n",
       "\n",
       "   DiabetesPedigreeFunction  Age  Outcome  \n",
       "0                     0.627   50        1  \n",
       "1                     0.351   31        0  \n",
       "2                     0.672   32        1  \n",
       "3                     0.167   21        0  \n",
       "4                     2.288   33        1  "
      ]
     },
     "execution_count": 39,
     "metadata": {},
     "output_type": "execute_result"
    }
   ],
   "source": [
    "df.head()"
   ]
  },
  {
   "cell_type": "code",
   "execution_count": 40,
   "id": "3222c4f2",
   "metadata": {
    "execution": {
     "iopub.execute_input": "2023-11-13T14:31:57.803413Z",
     "iopub.status.busy": "2023-11-13T14:31:57.802660Z",
     "iopub.status.idle": "2023-11-13T14:31:57.817449Z",
     "shell.execute_reply": "2023-11-13T14:31:57.816357Z"
    },
    "papermill": {
     "duration": 0.044758,
     "end_time": "2023-11-13T14:31:57.819856",
     "exception": false,
     "start_time": "2023-11-13T14:31:57.775098",
     "status": "completed"
    },
    "tags": []
   },
   "outputs": [
    {
     "data": {
      "text/html": [
       "<div>\n",
       "<style scoped>\n",
       "    .dataframe tbody tr th:only-of-type {\n",
       "        vertical-align: middle;\n",
       "    }\n",
       "\n",
       "    .dataframe tbody tr th {\n",
       "        vertical-align: top;\n",
       "    }\n",
       "\n",
       "    .dataframe thead th {\n",
       "        text-align: right;\n",
       "    }\n",
       "</style>\n",
       "<table border=\"1\" class=\"dataframe\">\n",
       "  <thead>\n",
       "    <tr style=\"text-align: right;\">\n",
       "      <th></th>\n",
       "      <th>Age</th>\n",
       "    </tr>\n",
       "    <tr>\n",
       "      <th>Outcome</th>\n",
       "      <th></th>\n",
       "    </tr>\n",
       "  </thead>\n",
       "  <tbody>\n",
       "    <tr>\n",
       "      <th>0</th>\n",
       "      <td>31.190000</td>\n",
       "    </tr>\n",
       "    <tr>\n",
       "      <th>1</th>\n",
       "      <td>37.067164</td>\n",
       "    </tr>\n",
       "  </tbody>\n",
       "</table>\n",
       "</div>"
      ],
      "text/plain": [
       "               Age\n",
       "Outcome           \n",
       "0        31.190000\n",
       "1        37.067164"
      ]
     },
     "execution_count": 40,
     "metadata": {},
     "output_type": "execute_result"
    }
   ],
   "source": [
    "df.groupby(\"Outcome\").agg({\"Age\": \"mean\"})\n",
    "\n",
    "# 0 - without diabetes\n",
    "# 1- with diabetes"
   ]
  },
  {
   "cell_type": "markdown",
   "id": "09c54bf9",
   "metadata": {
    "papermill": {
     "duration": 0.025868,
     "end_time": "2023-11-13T14:31:57.872133",
     "exception": false,
     "start_time": "2023-11-13T14:31:57.846265",
     "status": "completed"
    },
    "tags": []
   },
   "source": [
    "<div style=\"border-radius:10px; border:#D0C2F0 solid; padding: 15px; background-color: #F8E8EE; font-size:100%; text-align:left\">\n",
    "\n",
    "<h3 align=\"left\"><font color='#5E5273'>📄 Notes: </font></h3>\n",
    "    \n",
    "According to these numbers, it seems like there may be a difference in age averages. However, this difference could have occurred by chance and should be statistically tested.\n",
    "\n",
    "**Step 1 - Formulate Hypotheses:**\n",
    "   - Null Hypothesis (H0): μ1 = μ2 (There is no difference in the age averages between the two groups.)\n",
    "   - Alternative Hypothesis (H1): μ1 ≠ μ2 (There is a significant difference in means between the two groups)\n",
    "\n",
    "**Step 2 - Assumption Checks:**\n",
    "   - Normality Assumption\n",
    "   - Homogeneity of Variance\n",
    "\n",
    "**Step 3 - Normality Assumption Hypothesis:**\n",
    "   - H0: The normal distribution assumption is met.\n",
    "   - H1: The normal distribution assumption is not met.\n",
    "    \n",
    "**Step 4 - Assumption of Homogeneity of Variance:**\n",
    "   - H0: Variances are homogenous.\n",
    "   - H1: Variances are not homogenous.\n",
    "    \n",
    "**Note:** Prior to normality assessment, it may be beneficial to examine and correct outliers."
   ]
  },
  {
   "cell_type": "code",
   "execution_count": 41,
   "id": "2f795254",
   "metadata": {
    "execution": {
     "iopub.execute_input": "2023-11-13T14:31:57.926651Z",
     "iopub.status.busy": "2023-11-13T14:31:57.925921Z",
     "iopub.status.idle": "2023-11-13T14:31:57.933510Z",
     "shell.execute_reply": "2023-11-13T14:31:57.932451Z"
    },
    "papermill": {
     "duration": 0.037697,
     "end_time": "2023-11-13T14:31:57.935907",
     "exception": false,
     "start_time": "2023-11-13T14:31:57.898210",
     "status": "completed"
    },
    "tags": []
   },
   "outputs": [
    {
     "name": "stdout",
     "output_type": "stream",
     "text": [
      "Test Stat = 0.9546, p-value = 0.0000\n"
     ]
    }
   ],
   "source": [
    "test_stat, pvalue = shapiro(df.loc[df[\"Outcome\"] == 1, \"Age\"].dropna())\n",
    "\n",
    "print('Test Stat = %.4f, p-value = %.4f' % (test_stat, pvalue))\n",
    "\n",
    "# H0 has been rejected. The normality assumption is not met."
   ]
  },
  {
   "cell_type": "code",
   "execution_count": 42,
   "id": "537732c5",
   "metadata": {
    "execution": {
     "iopub.execute_input": "2023-11-13T14:31:57.991527Z",
     "iopub.status.busy": "2023-11-13T14:31:57.991049Z",
     "iopub.status.idle": "2023-11-13T14:31:57.998913Z",
     "shell.execute_reply": "2023-11-13T14:31:57.997739Z"
    },
    "papermill": {
     "duration": 0.038129,
     "end_time": "2023-11-13T14:31:58.001021",
     "exception": false,
     "start_time": "2023-11-13T14:31:57.962892",
     "status": "completed"
    },
    "tags": []
   },
   "outputs": [
    {
     "name": "stdout",
     "output_type": "stream",
     "text": [
      "Test Stat = 0.8012, p-value = 0.0000\n"
     ]
    }
   ],
   "source": [
    "test_stat, pvalue = shapiro(df.loc[df[\"Outcome\"] == 0, \"Age\"].dropna())\n",
    "\n",
    "print('Test Stat = %.4f, p-value = %.4f' % (test_stat, pvalue))\n",
    "\n",
    "# H0 has been rejected. The normality assumption is not met.\n",
    "# Since the normality assumptions have been rejected, we should proceed to the Mann-Whitney U test without conducting an Assumption Test."
   ]
  },
  {
   "cell_type": "code",
   "execution_count": 43,
   "id": "07a3fb7f",
   "metadata": {
    "execution": {
     "iopub.execute_input": "2023-11-13T14:31:58.057957Z",
     "iopub.status.busy": "2023-11-13T14:31:58.057155Z",
     "iopub.status.idle": "2023-11-13T14:31:58.067402Z",
     "shell.execute_reply": "2023-11-13T14:31:58.066053Z"
    },
    "papermill": {
     "duration": 0.041603,
     "end_time": "2023-11-13T14:31:58.069692",
     "exception": false,
     "start_time": "2023-11-13T14:31:58.028089",
     "status": "completed"
    },
    "tags": []
   },
   "outputs": [
    {
     "name": "stdout",
     "output_type": "stream",
     "text": [
      "Test Stat = 92050.0000, p-value = 0.0000\n"
     ]
    }
   ],
   "source": [
    "test_stat, pvalue = mannwhitneyu(df.loc[df[\"Outcome\"] == 1, \"Age\"].dropna(),\n",
    "                                 df.loc[df[\"Outcome\"] == 0, \"Age\"].dropna())\n",
    "\n",
    "print('Test Stat = %.4f, p-value = %.4f' % (test_stat, pvalue))\n",
    "\n",
    "# H0 has been rejected.\n",
    "# There is a statistically significant difference in the age averages between individuals with diabetes and those without diabetes.\n",
    "# Median comparison is also applicable for non-parametric calculations."
   ]
  },
  {
   "cell_type": "markdown",
   "id": "1b150511",
   "metadata": {
    "papermill": {
     "duration": 0.025593,
     "end_time": "2023-11-13T14:31:58.122371",
     "exception": false,
     "start_time": "2023-11-13T14:31:58.096778",
     "status": "completed"
    },
    "tags": []
   },
   "source": [
    "<a id = \"9\"></a><br>\n",
    "<p style=\"font-family: 'Pacifico', cursive; font-weight: bold; letter-spacing: 2px; color: #556B2F; font-size: 160%; text-align: left; padding: 0px; border-bottom: 3px solid\">✨A/B Testing Implementation 4✨</p>"
   ]
  },
  {
   "cell_type": "markdown",
   "id": "285a2cb1",
   "metadata": {
    "papermill": {
     "duration": 0.025889,
     "end_time": "2023-11-13T14:31:58.174460",
     "exception": false,
     "start_time": "2023-11-13T14:31:58.148571",
     "status": "completed"
    },
    "tags": []
   },
   "source": [
    "> **Are the scores of those who have taken the course and those who have not taken it significantly different?**"
   ]
  },
  {
   "cell_type": "code",
   "execution_count": 44,
   "id": "a8150b7b",
   "metadata": {
    "execution": {
     "iopub.execute_input": "2023-11-13T14:31:58.230281Z",
     "iopub.status.busy": "2023-11-13T14:31:58.229544Z",
     "iopub.status.idle": "2023-11-13T14:31:58.256163Z",
     "shell.execute_reply": "2023-11-13T14:31:58.254875Z"
    },
    "papermill": {
     "duration": 0.057501,
     "end_time": "2023-11-13T14:31:58.258934",
     "exception": false,
     "start_time": "2023-11-13T14:31:58.201433",
     "status": "completed"
    },
    "tags": []
   },
   "outputs": [],
   "source": [
    "df = pd.read_csv(\"/kaggle/input/course-reviewsdataset/course_reviews.csv\")"
   ]
  },
  {
   "cell_type": "code",
   "execution_count": 45,
   "id": "5f0cd5bd",
   "metadata": {
    "execution": {
     "iopub.execute_input": "2023-11-13T14:31:58.314611Z",
     "iopub.status.busy": "2023-11-13T14:31:58.314148Z",
     "iopub.status.idle": "2023-11-13T14:31:58.329248Z",
     "shell.execute_reply": "2023-11-13T14:31:58.328305Z"
    },
    "papermill": {
     "duration": 0.044864,
     "end_time": "2023-11-13T14:31:58.331330",
     "exception": false,
     "start_time": "2023-11-13T14:31:58.286466",
     "status": "completed"
    },
    "tags": []
   },
   "outputs": [
    {
     "data": {
      "text/html": [
       "<div>\n",
       "<style scoped>\n",
       "    .dataframe tbody tr th:only-of-type {\n",
       "        vertical-align: middle;\n",
       "    }\n",
       "\n",
       "    .dataframe tbody tr th {\n",
       "        vertical-align: top;\n",
       "    }\n",
       "\n",
       "    .dataframe thead th {\n",
       "        text-align: right;\n",
       "    }\n",
       "</style>\n",
       "<table border=\"1\" class=\"dataframe\">\n",
       "  <thead>\n",
       "    <tr style=\"text-align: right;\">\n",
       "      <th></th>\n",
       "      <th>Rating</th>\n",
       "      <th>Timestamp</th>\n",
       "      <th>Enrolled</th>\n",
       "      <th>Progress</th>\n",
       "      <th>Questions Asked</th>\n",
       "      <th>Questions Answered</th>\n",
       "    </tr>\n",
       "  </thead>\n",
       "  <tbody>\n",
       "    <tr>\n",
       "      <th>0</th>\n",
       "      <td>5.0</td>\n",
       "      <td>2021-02-05 07:45:55</td>\n",
       "      <td>2021-01-25 15:12:08</td>\n",
       "      <td>5.0</td>\n",
       "      <td>0.0</td>\n",
       "      <td>0.0</td>\n",
       "    </tr>\n",
       "    <tr>\n",
       "      <th>1</th>\n",
       "      <td>5.0</td>\n",
       "      <td>2021-02-04 21:05:32</td>\n",
       "      <td>2021-02-04 20:43:40</td>\n",
       "      <td>1.0</td>\n",
       "      <td>0.0</td>\n",
       "      <td>0.0</td>\n",
       "    </tr>\n",
       "    <tr>\n",
       "      <th>2</th>\n",
       "      <td>4.5</td>\n",
       "      <td>2021-02-04 20:34:03</td>\n",
       "      <td>2019-07-04 23:23:27</td>\n",
       "      <td>1.0</td>\n",
       "      <td>0.0</td>\n",
       "      <td>0.0</td>\n",
       "    </tr>\n",
       "    <tr>\n",
       "      <th>3</th>\n",
       "      <td>5.0</td>\n",
       "      <td>2021-02-04 16:56:28</td>\n",
       "      <td>2021-02-04 14:41:29</td>\n",
       "      <td>10.0</td>\n",
       "      <td>0.0</td>\n",
       "      <td>0.0</td>\n",
       "    </tr>\n",
       "    <tr>\n",
       "      <th>4</th>\n",
       "      <td>4.0</td>\n",
       "      <td>2021-02-04 15:00:24</td>\n",
       "      <td>2020-10-13 03:10:07</td>\n",
       "      <td>10.0</td>\n",
       "      <td>0.0</td>\n",
       "      <td>0.0</td>\n",
       "    </tr>\n",
       "  </tbody>\n",
       "</table>\n",
       "</div>"
      ],
      "text/plain": [
       "   Rating            Timestamp             Enrolled  Progress  \\\n",
       "0     5.0  2021-02-05 07:45:55  2021-01-25 15:12:08       5.0   \n",
       "1     5.0  2021-02-04 21:05:32  2021-02-04 20:43:40       1.0   \n",
       "2     4.5  2021-02-04 20:34:03  2019-07-04 23:23:27       1.0   \n",
       "3     5.0  2021-02-04 16:56:28  2021-02-04 14:41:29      10.0   \n",
       "4     4.0  2021-02-04 15:00:24  2020-10-13 03:10:07      10.0   \n",
       "\n",
       "   Questions Asked  Questions Answered  \n",
       "0              0.0                 0.0  \n",
       "1              0.0                 0.0  \n",
       "2              0.0                 0.0  \n",
       "3              0.0                 0.0  \n",
       "4              0.0                 0.0  "
      ]
     },
     "execution_count": 45,
     "metadata": {},
     "output_type": "execute_result"
    }
   ],
   "source": [
    "df.head()"
   ]
  },
  {
   "cell_type": "code",
   "execution_count": 46,
   "id": "0351a95c",
   "metadata": {
    "execution": {
     "iopub.execute_input": "2023-11-13T14:31:58.386645Z",
     "iopub.status.busy": "2023-11-13T14:31:58.385823Z",
     "iopub.status.idle": "2023-11-13T14:31:58.395571Z",
     "shell.execute_reply": "2023-11-13T14:31:58.394735Z"
    },
    "papermill": {
     "duration": 0.039718,
     "end_time": "2023-11-13T14:31:58.397517",
     "exception": false,
     "start_time": "2023-11-13T14:31:58.357799",
     "status": "completed"
    },
    "tags": []
   },
   "outputs": [
    {
     "data": {
      "text/plain": [
       "4.860491071428571"
      ]
     },
     "execution_count": 46,
     "metadata": {},
     "output_type": "execute_result"
    }
   ],
   "source": [
    "df[(df[\"Progress\"] > 75)][\"Rating\"].mean()"
   ]
  },
  {
   "cell_type": "code",
   "execution_count": 47,
   "id": "ae95f547",
   "metadata": {
    "execution": {
     "iopub.execute_input": "2023-11-13T14:31:58.454400Z",
     "iopub.status.busy": "2023-11-13T14:31:58.453642Z",
     "iopub.status.idle": "2023-11-13T14:31:58.462326Z",
     "shell.execute_reply": "2023-11-13T14:31:58.461163Z"
    },
    "papermill": {
     "duration": 0.039434,
     "end_time": "2023-11-13T14:31:58.464666",
     "exception": false,
     "start_time": "2023-11-13T14:31:58.425232",
     "status": "completed"
    },
    "tags": []
   },
   "outputs": [
    {
     "data": {
      "text/plain": [
       "4.7225029148853475"
      ]
     },
     "execution_count": 47,
     "metadata": {},
     "output_type": "execute_result"
    }
   ],
   "source": [
    "df[(df[\"Progress\"] < 25)][\"Rating\"].mean()"
   ]
  },
  {
   "cell_type": "markdown",
   "id": "fbb729d7",
   "metadata": {
    "papermill": {
     "duration": 0.026945,
     "end_time": "2023-11-13T14:31:58.519425",
     "exception": false,
     "start_time": "2023-11-13T14:31:58.492480",
     "status": "completed"
    },
    "tags": []
   },
   "source": [
    "<div style=\"border-radius:10px; border:#D0C2F0 solid; padding: 15px; background-color: #F8E8EE; font-size:100%; text-align:left\">\n",
    "\n",
    "<h3 align=\"left\"><font color='#5E5273'>📄 Notes: </font></h3>\n",
    "    \n",
    "According to these numbers, it seems like there may be a difference in course ratings. However, this difference could have occurred by chance and should be statistically tested.\n",
    "\n",
    "**Step 1 - Formulate Hypotheses:**\n",
    "   - Null Hypothesis (H0): μ1 = μ2 (There is no difference in the course rating averages between the two groups.)\n",
    "   - Alternative Hypothesis (H1): μ1 ≠ μ2 (There is a significant difference in means between the two groups)\n",
    "\n",
    "**Step 2 - Assumption Checks:**\n",
    "   - Normality Assumption\n",
    "   - Homogeneity of Variance\n",
    "\n",
    "**Step 3 - Normality Assumption Hypothesis:**\n",
    "   - H0: The normal distribution assumption is met.\n",
    "   - H1: The normal distribution assumption is not met.\n",
    "    \n",
    "**Step 4 - Assumption of Homogeneity of Variance:**\n",
    "   - H0: Variances are homogenous.\n",
    "   - H1: Variances are not homogenous.\n",
    "    \n",
    "**Note:** Prior to normality assessment, it may be beneficial to examine and correct outliers."
   ]
  },
  {
   "cell_type": "code",
   "execution_count": 48,
   "id": "5eefa6e1",
   "metadata": {
    "execution": {
     "iopub.execute_input": "2023-11-13T14:31:58.575496Z",
     "iopub.status.busy": "2023-11-13T14:31:58.574091Z",
     "iopub.status.idle": "2023-11-13T14:31:58.582456Z",
     "shell.execute_reply": "2023-11-13T14:31:58.581362Z"
    },
    "papermill": {
     "duration": 0.038672,
     "end_time": "2023-11-13T14:31:58.584703",
     "exception": false,
     "start_time": "2023-11-13T14:31:58.546031",
     "status": "completed"
    },
    "tags": []
   },
   "outputs": [
    {
     "name": "stdout",
     "output_type": "stream",
     "text": [
      "Test Stat = 0.3160, p-value = 0.0000\n"
     ]
    }
   ],
   "source": [
    "test_stat, pvalue = shapiro(df[(df[\"Progress\"] > 75)][\"Rating\"])\n",
    "\n",
    "print('Test Stat = %.4f, p-value = %.4f' % (test_stat, pvalue))\n",
    "\n",
    "# H0 has been rejected. The normality assumption is not met."
   ]
  },
  {
   "cell_type": "code",
   "execution_count": 49,
   "id": "782e4d8d",
   "metadata": {
    "execution": {
     "iopub.execute_input": "2023-11-13T14:31:58.640387Z",
     "iopub.status.busy": "2023-11-13T14:31:58.639929Z",
     "iopub.status.idle": "2023-11-13T14:31:58.648539Z",
     "shell.execute_reply": "2023-11-13T14:31:58.647301Z"
    },
    "papermill": {
     "duration": 0.039392,
     "end_time": "2023-11-13T14:31:58.650823",
     "exception": false,
     "start_time": "2023-11-13T14:31:58.611431",
     "status": "completed"
    },
    "tags": []
   },
   "outputs": [
    {
     "name": "stdout",
     "output_type": "stream",
     "text": [
      "Test Stat = 0.5710, p-value = 0.0000\n"
     ]
    }
   ],
   "source": [
    "test_stat, pvalue = shapiro(df[(df[\"Progress\"] < 25)][\"Rating\"])\n",
    "\n",
    "print('Test Stat = %.4f, p-value = %.4f' % (test_stat, pvalue))\n",
    "\n",
    "# H0 has been rejected. The normality assumption is not met."
   ]
  },
  {
   "cell_type": "code",
   "execution_count": 50,
   "id": "0b7c874e",
   "metadata": {
    "execution": {
     "iopub.execute_input": "2023-11-13T14:31:58.709811Z",
     "iopub.status.busy": "2023-11-13T14:31:58.709394Z",
     "iopub.status.idle": "2023-11-13T14:31:58.722697Z",
     "shell.execute_reply": "2023-11-13T14:31:58.721215Z"
    },
    "papermill": {
     "duration": 0.044705,
     "end_time": "2023-11-13T14:31:58.725077",
     "exception": false,
     "start_time": "2023-11-13T14:31:58.680372",
     "status": "completed"
    },
    "tags": []
   },
   "outputs": [
    {
     "name": "stdout",
     "output_type": "stream",
     "text": [
      "Test Stat = 661481.5000, p-value = 0.0000\n"
     ]
    }
   ],
   "source": [
    "test_stat, pvalue = mannwhitneyu(df[(df[\"Progress\"] > 75)][\"Rating\"],\n",
    "                                 df[(df[\"Progress\"] < 25)][\"Rating\"])\n",
    "\n",
    "print('Test Stat = %.4f, p-value = %.4f' % (test_stat, pvalue))\n",
    "\n",
    "# H0 has been rejected.\n",
    "# Statistically, those who have watched the course more have given higher average ratings compared to those who have watched it less."
   ]
  },
  {
   "cell_type": "markdown",
   "id": "ec3b08a8",
   "metadata": {
    "papermill": {
     "duration": 0.026546,
     "end_time": "2023-11-13T14:31:58.779005",
     "exception": false,
     "start_time": "2023-11-13T14:31:58.752459",
     "status": "completed"
    },
    "tags": []
   },
   "source": [
    "<a id=\"10\"></a>\n",
    "<h1 style=\"border-radius: 10px; border: 2px solid #6B8E23; background-color: #F5F5DC; font-family: 'Pacifico', cursive; font-size: 200%; text-align: center; border-radius: 15px 50px; padding: 15px; box-shadow: 5px 5px 5px #556B2F; color: #556B2F;\">💠Two-Sample Proportion Test💠</h1>"
   ]
  },
  {
   "cell_type": "markdown",
   "id": "d0d6af26",
   "metadata": {
    "papermill": {
     "duration": 0.026497,
     "end_time": "2023-11-13T14:31:58.832530",
     "exception": false,
     "start_time": "2023-11-13T14:31:58.806033",
     "status": "completed"
    },
    "tags": []
   },
   "source": [
    "Two-Sample Proportion Test is a statistical test used to assess whether there is a statistically significant difference in proportions between two independent samples. This test works with categorical data and is useful for determining differences in proportions between two independent groups.\n",
    "\n",
    "The basic steps of the Two-Sample Proportion Test are as follows:\n",
    "\n",
    "1. **Null Hypothesis (H0):** There is no difference in proportions between the two groups. In other words, the two groups have the same proportions.\n",
    "2. **Alternative Hypothesis (H1):** There is a difference in proportions between the two groups. The two groups have different proportions.\n",
    "\n",
    "This test compares the proportions of both groups using their categorical data. Firstly, the proportions are calculated using the categorical data of both groups. Then, a test statistic is calculated to assess whether the difference in proportions is statistically significant. This test statistic is typically calculated using a **Z-test** or a **Chi-squared** test.\n",
    "\n",
    "As a result, the obtained p-value determines whether the null hypothesis (H0) is accepted or rejected. If the p-value is smaller than a specific significance level (usually 0.05), the null hypothesis is rejected, and it is concluded that there is a difference in proportions between the two groups. If the p-value is greater than the significance level, the null hypothesis is accepted, and it is assumed that there is no difference in proportions between the two groups."
   ]
  },
  {
   "cell_type": "markdown",
   "id": "fd64f61c",
   "metadata": {
    "papermill": {
     "duration": 0.026542,
     "end_time": "2023-11-13T14:31:58.886144",
     "exception": false,
     "start_time": "2023-11-13T14:31:58.859602",
     "status": "completed"
    },
    "tags": []
   },
   "source": [
    "<div style=\"border-radius:10px; border:#D0C2F0 solid; padding: 15px; background-color: #F8E8EE; font-size:100%; text-align:left\">\n",
    "\n",
    "<h3 align=\"left\"><font color='#5E5273'>📄 Notes: </font></h3>\n",
    "    \n",
    "**The Z-test** is a statistical test used to compare data obtained from samples with a population parameter and evaluate whether this comparison is statistically significant. The Z-test is particularly applicable when dealing with large sample sizes and when the population standard deviation is known.\n",
    "\n",
    "The primary purpose of the Z-test is to compare sample data to a population parameter (usually the population mean). The goal is to determine whether the observed difference between the sample data and the population parameter is likely due to random chance.\n",
    "\n",
    "The Z-test follows these steps:\n",
    "\n",
    "1. **Null Hypothesis (H0):** There is no significant difference between the sample data and the population parameter.\n",
    "2. **Alternative Hypothesis (H1):** There is a significant difference between the sample data and the population parameter.\n",
    "\n",
    "The Z-test initially calculates the difference between the sample data's mean value and the population parameter (usually the population mean). This calculation results in a test statistic (Z-score). Subsequently, a p-value is calculated using this test statistic. If the p-value is smaller than a specific significance level (typically 0.05), the null hypothesis (H0) is rejected, indicating that there is a significant difference between the sample data and the population parameter. If the p-value is greater than the significance level, the null hypothesis is accepted, suggesting that there is no significant difference between the sample data and the population parameter.\n",
    "    \n",
    "---\n",
    "    \n",
    "**The Chi-Square Test** is a statistical test used to assess the relationship or association between two or more categorical variables. This test is employed to determine independence or association between two categorical variables. The Chi-Square test works by comparing observed and expected frequencies, especially between two categorical variables.\n",
    "\n",
    "The primary purpose of the Chi-Square Test is to test for independence or association between two categorical variables. This test follows these basic steps:\n",
    "\n",
    "1. **Null Hypothesis (H0):** There is independence between the two categorical variables. In other words, these variables are independent of each other.\n",
    "2. **Alternative Hypothesis (H1):** There is no independence between the two categorical variables. In other words, there is an association or relationship between these variables.\n",
    "\n",
    "The Chi-Square Test begins by creating a cross-tabulation table, which includes observed frequencies of two categorical variables. Expected frequencies are then calculated. Expected frequencies show how the observed frequencies should be distributed based on random chance if the two variables are independent.\n",
    "\n",
    "The Chi-Square Test calculates a test statistic by comparing the differences between observed and expected frequencies. This test statistic is expressed as a chi-square value. Subsequently, a p-value is calculated based on the chi-square value and the degrees of freedom. If the p-value is less than a specific significance level (typically 0.05), the null hypothesis (H0) is rejected, indicating that there is no independence between the two categorical variables. If the p-value is greater than the significance level, the null hypothesis is accepted, suggesting that the variables are independent."
   ]
  },
  {
   "cell_type": "markdown",
   "id": "b4b79217",
   "metadata": {
    "papermill": {
     "duration": 0.026548,
     "end_time": "2023-11-13T14:31:58.939608",
     "exception": false,
     "start_time": "2023-11-13T14:31:58.913060",
     "status": "completed"
    },
    "tags": []
   },
   "source": [
    "> **Question: Is there a statistically significant difference in survival rates between men and women?**"
   ]
  },
  {
   "cell_type": "code",
   "execution_count": 51,
   "id": "442ac48a",
   "metadata": {
    "execution": {
     "iopub.execute_input": "2023-11-13T14:31:58.995273Z",
     "iopub.status.busy": "2023-11-13T14:31:58.994839Z",
     "iopub.status.idle": "2023-11-13T14:31:59.005508Z",
     "shell.execute_reply": "2023-11-13T14:31:59.004491Z"
    },
    "papermill": {
     "duration": 0.041579,
     "end_time": "2023-11-13T14:31:59.007939",
     "exception": false,
     "start_time": "2023-11-13T14:31:58.966360",
     "status": "completed"
    },
    "tags": []
   },
   "outputs": [],
   "source": [
    "df = pd.read_csv(\"/kaggle/input/titanic/train.csv\")"
   ]
  },
  {
   "cell_type": "code",
   "execution_count": 52,
   "id": "84476559",
   "metadata": {
    "execution": {
     "iopub.execute_input": "2023-11-13T14:31:59.064526Z",
     "iopub.status.busy": "2023-11-13T14:31:59.063254Z",
     "iopub.status.idle": "2023-11-13T14:31:59.080238Z",
     "shell.execute_reply": "2023-11-13T14:31:59.079072Z"
    },
    "papermill": {
     "duration": 0.047838,
     "end_time": "2023-11-13T14:31:59.082789",
     "exception": false,
     "start_time": "2023-11-13T14:31:59.034951",
     "status": "completed"
    },
    "tags": []
   },
   "outputs": [
    {
     "data": {
      "text/html": [
       "<div>\n",
       "<style scoped>\n",
       "    .dataframe tbody tr th:only-of-type {\n",
       "        vertical-align: middle;\n",
       "    }\n",
       "\n",
       "    .dataframe tbody tr th {\n",
       "        vertical-align: top;\n",
       "    }\n",
       "\n",
       "    .dataframe thead th {\n",
       "        text-align: right;\n",
       "    }\n",
       "</style>\n",
       "<table border=\"1\" class=\"dataframe\">\n",
       "  <thead>\n",
       "    <tr style=\"text-align: right;\">\n",
       "      <th></th>\n",
       "      <th>PassengerId</th>\n",
       "      <th>Survived</th>\n",
       "      <th>Pclass</th>\n",
       "      <th>Name</th>\n",
       "      <th>Sex</th>\n",
       "      <th>Age</th>\n",
       "      <th>SibSp</th>\n",
       "      <th>Parch</th>\n",
       "      <th>Ticket</th>\n",
       "      <th>Fare</th>\n",
       "      <th>Cabin</th>\n",
       "      <th>Embarked</th>\n",
       "    </tr>\n",
       "  </thead>\n",
       "  <tbody>\n",
       "    <tr>\n",
       "      <th>0</th>\n",
       "      <td>1</td>\n",
       "      <td>0</td>\n",
       "      <td>3</td>\n",
       "      <td>Braund, Mr. Owen Harris</td>\n",
       "      <td>male</td>\n",
       "      <td>22.0</td>\n",
       "      <td>1</td>\n",
       "      <td>0</td>\n",
       "      <td>A/5 21171</td>\n",
       "      <td>7.2500</td>\n",
       "      <td>NaN</td>\n",
       "      <td>S</td>\n",
       "    </tr>\n",
       "    <tr>\n",
       "      <th>1</th>\n",
       "      <td>2</td>\n",
       "      <td>1</td>\n",
       "      <td>1</td>\n",
       "      <td>Cumings, Mrs. John Bradley (Florence Briggs Th...</td>\n",
       "      <td>female</td>\n",
       "      <td>38.0</td>\n",
       "      <td>1</td>\n",
       "      <td>0</td>\n",
       "      <td>PC 17599</td>\n",
       "      <td>71.2833</td>\n",
       "      <td>C85</td>\n",
       "      <td>C</td>\n",
       "    </tr>\n",
       "    <tr>\n",
       "      <th>2</th>\n",
       "      <td>3</td>\n",
       "      <td>1</td>\n",
       "      <td>3</td>\n",
       "      <td>Heikkinen, Miss. Laina</td>\n",
       "      <td>female</td>\n",
       "      <td>26.0</td>\n",
       "      <td>0</td>\n",
       "      <td>0</td>\n",
       "      <td>STON/O2. 3101282</td>\n",
       "      <td>7.9250</td>\n",
       "      <td>NaN</td>\n",
       "      <td>S</td>\n",
       "    </tr>\n",
       "    <tr>\n",
       "      <th>3</th>\n",
       "      <td>4</td>\n",
       "      <td>1</td>\n",
       "      <td>1</td>\n",
       "      <td>Futrelle, Mrs. Jacques Heath (Lily May Peel)</td>\n",
       "      <td>female</td>\n",
       "      <td>35.0</td>\n",
       "      <td>1</td>\n",
       "      <td>0</td>\n",
       "      <td>113803</td>\n",
       "      <td>53.1000</td>\n",
       "      <td>C123</td>\n",
       "      <td>S</td>\n",
       "    </tr>\n",
       "    <tr>\n",
       "      <th>4</th>\n",
       "      <td>5</td>\n",
       "      <td>0</td>\n",
       "      <td>3</td>\n",
       "      <td>Allen, Mr. William Henry</td>\n",
       "      <td>male</td>\n",
       "      <td>35.0</td>\n",
       "      <td>0</td>\n",
       "      <td>0</td>\n",
       "      <td>373450</td>\n",
       "      <td>8.0500</td>\n",
       "      <td>NaN</td>\n",
       "      <td>S</td>\n",
       "    </tr>\n",
       "  </tbody>\n",
       "</table>\n",
       "</div>"
      ],
      "text/plain": [
       "   PassengerId  Survived  Pclass  \\\n",
       "0            1         0       3   \n",
       "1            2         1       1   \n",
       "2            3         1       3   \n",
       "3            4         1       1   \n",
       "4            5         0       3   \n",
       "\n",
       "                                                Name     Sex   Age  SibSp  \\\n",
       "0                            Braund, Mr. Owen Harris    male  22.0      1   \n",
       "1  Cumings, Mrs. John Bradley (Florence Briggs Th...  female  38.0      1   \n",
       "2                             Heikkinen, Miss. Laina  female  26.0      0   \n",
       "3       Futrelle, Mrs. Jacques Heath (Lily May Peel)  female  35.0      1   \n",
       "4                           Allen, Mr. William Henry    male  35.0      0   \n",
       "\n",
       "   Parch            Ticket     Fare Cabin Embarked  \n",
       "0      0         A/5 21171   7.2500   NaN        S  \n",
       "1      0          PC 17599  71.2833   C85        C  \n",
       "2      0  STON/O2. 3101282   7.9250   NaN        S  \n",
       "3      0            113803  53.1000  C123        S  \n",
       "4      0            373450   8.0500   NaN        S  "
      ]
     },
     "execution_count": 52,
     "metadata": {},
     "output_type": "execute_result"
    }
   ],
   "source": [
    "df.head()"
   ]
  },
  {
   "cell_type": "code",
   "execution_count": 53,
   "id": "6ff47500",
   "metadata": {
    "execution": {
     "iopub.execute_input": "2023-11-13T14:31:59.139840Z",
     "iopub.status.busy": "2023-11-13T14:31:59.138882Z",
     "iopub.status.idle": "2023-11-13T14:31:59.147965Z",
     "shell.execute_reply": "2023-11-13T14:31:59.146928Z"
    },
    "papermill": {
     "duration": 0.039929,
     "end_time": "2023-11-13T14:31:59.150208",
     "exception": false,
     "start_time": "2023-11-13T14:31:59.110279",
     "status": "completed"
    },
    "tags": []
   },
   "outputs": [
    {
     "data": {
      "text/plain": [
       "0.7420382165605095"
      ]
     },
     "execution_count": 53,
     "metadata": {},
     "output_type": "execute_result"
    }
   ],
   "source": [
    "df.loc[df[\"Sex\"] == \"female\", \"Survived\"].mean()"
   ]
  },
  {
   "cell_type": "code",
   "execution_count": 54,
   "id": "5720828e",
   "metadata": {
    "execution": {
     "iopub.execute_input": "2023-11-13T14:31:59.207150Z",
     "iopub.status.busy": "2023-11-13T14:31:59.206478Z",
     "iopub.status.idle": "2023-11-13T14:31:59.213540Z",
     "shell.execute_reply": "2023-11-13T14:31:59.212591Z"
    },
    "papermill": {
     "duration": 0.038205,
     "end_time": "2023-11-13T14:31:59.215868",
     "exception": false,
     "start_time": "2023-11-13T14:31:59.177663",
     "status": "completed"
    },
    "tags": []
   },
   "outputs": [
    {
     "data": {
      "text/plain": [
       "0.18890814558058924"
      ]
     },
     "execution_count": 54,
     "metadata": {},
     "output_type": "execute_result"
    }
   ],
   "source": [
    "df.loc[df[\"Sex\"] == \"male\", \"Survived\"].mean()"
   ]
  },
  {
   "cell_type": "markdown",
   "id": "ff4de764",
   "metadata": {
    "papermill": {
     "duration": 0.027143,
     "end_time": "2023-11-13T14:31:59.271237",
     "exception": false,
     "start_time": "2023-11-13T14:31:59.244094",
     "status": "completed"
    },
    "tags": []
   },
   "source": [
    "> **It can be said with certainty that there is a difference, but we can proceed for a statistical interpretation.**"
   ]
  },
  {
   "cell_type": "code",
   "execution_count": 55,
   "id": "6ae25e3e",
   "metadata": {
    "execution": {
     "iopub.execute_input": "2023-11-13T14:31:59.328933Z",
     "iopub.status.busy": "2023-11-13T14:31:59.327525Z",
     "iopub.status.idle": "2023-11-13T14:31:59.335156Z",
     "shell.execute_reply": "2023-11-13T14:31:59.334219Z"
    },
    "papermill": {
     "duration": 0.038947,
     "end_time": "2023-11-13T14:31:59.337592",
     "exception": false,
     "start_time": "2023-11-13T14:31:59.298645",
     "status": "completed"
    },
    "tags": []
   },
   "outputs": [],
   "source": [
    "female_succ_count = df.loc[df[\"Sex\"] == \"female\", \"Survived\"].sum()"
   ]
  },
  {
   "cell_type": "code",
   "execution_count": 56,
   "id": "0d12b3e9",
   "metadata": {
    "execution": {
     "iopub.execute_input": "2023-11-13T14:31:59.395388Z",
     "iopub.status.busy": "2023-11-13T14:31:59.394453Z",
     "iopub.status.idle": "2023-11-13T14:31:59.401147Z",
     "shell.execute_reply": "2023-11-13T14:31:59.400020Z"
    },
    "papermill": {
     "duration": 0.037591,
     "end_time": "2023-11-13T14:31:59.403173",
     "exception": false,
     "start_time": "2023-11-13T14:31:59.365582",
     "status": "completed"
    },
    "tags": []
   },
   "outputs": [],
   "source": [
    "male_succ_count = df.loc[df[\"Sex\"] == \"male\", \"Survived\"].sum()"
   ]
  },
  {
   "cell_type": "code",
   "execution_count": 57,
   "id": "3f04f11d",
   "metadata": {
    "execution": {
     "iopub.execute_input": "2023-11-13T14:31:59.461328Z",
     "iopub.status.busy": "2023-11-13T14:31:59.460588Z",
     "iopub.status.idle": "2023-11-13T14:31:59.469804Z",
     "shell.execute_reply": "2023-11-13T14:31:59.468499Z"
    },
    "papermill": {
     "duration": 0.040709,
     "end_time": "2023-11-13T14:31:59.472018",
     "exception": false,
     "start_time": "2023-11-13T14:31:59.431309",
     "status": "completed"
    },
    "tags": []
   },
   "outputs": [
    {
     "name": "stdout",
     "output_type": "stream",
     "text": [
      "Test Stat = 16.2188, p-value = 0.0000\n"
     ]
    }
   ],
   "source": [
    "test_stat, pvalue = proportions_ztest(count=[female_succ_count, male_succ_count],\n",
    "                                      nobs=[df.loc[df[\"Sex\"] == \"female\", \"Survived\"].shape[0],\n",
    "                                            df.loc[df[\"Sex\"] == \"male\", \"Survived\"].shape[0]])\n",
    "\n",
    "print('Test Stat = %.4f, p-value = %.4f' % (test_stat, pvalue))"
   ]
  },
  {
   "cell_type": "markdown",
   "id": "d30c50b3",
   "metadata": {
    "papermill": {
     "duration": 0.027042,
     "end_time": "2023-11-13T14:31:59.526771",
     "exception": false,
     "start_time": "2023-11-13T14:31:59.499729",
     "status": "completed"
    },
    "tags": []
   },
   "source": [
    "<a id=\"11\"></a>\n",
    "<h1 style=\"border-radius: 10px; border: 2px solid #6B8E23; background-color: #F5F5DC; font-family: 'Pacifico', cursive; font-size: 200%; text-align: center; border-radius: 15px 50px; padding: 15px; box-shadow: 5px 5px 5px #556B2F; color: #556B2F;\">💠ANOVA - Analysis of Variance💠</h1>"
   ]
  },
  {
   "cell_type": "markdown",
   "id": "6e67dd2c",
   "metadata": {
    "papermill": {
     "duration": 0.027027,
     "end_time": "2023-11-13T14:31:59.581069",
     "exception": false,
     "start_time": "2023-11-13T14:31:59.554042",
     "status": "completed"
    },
    "tags": []
   },
   "source": [
    "ANOVA (Analysis of Variance) is a statistical technique used to evaluate whether the variance between different groups is statistically significant. This analysis is commonly employed to investigate differences in group means and draw conclusions based on the variances between each group.\n",
    "\n",
    "ANOVA is used to determine differences in means among one or more groups. It generally follows these steps:\n",
    "\n",
    "1. **Null Hypothesis (H0):** All group means are equal (no group is different from the others).\n",
    "\n",
    "2. **Alternative Hypothesis (H1):** At least two groups have a significant difference in means (at least one group is different from the others).\n",
    "\n",
    "ANOVA analysis uses two different features to measure the variance: within-group variance and between-group variance. By comparing these two variances, ANOVA determines whether the differences between groups are statistically significant. If the differences between groups are large, and the within-group variance is small, ANOVA test results indicate a statistically significant difference.\n",
    "\n",
    "ANOVA is commonly used to assess the relationship between a dependent variable and one or more independent variables."
   ]
  },
  {
   "cell_type": "markdown",
   "id": "80cbbe9b",
   "metadata": {
    "papermill": {
     "duration": 0.02688,
     "end_time": "2023-11-13T14:31:59.635316",
     "exception": false,
     "start_time": "2023-11-13T14:31:59.608436",
     "status": "completed"
    },
    "tags": []
   },
   "source": [
    "> **Question: Is there a difference in the amounts paid based on the days of the week? (e.g., Monday vs. Tuesday, Tuesday vs. Wednesday...)**"
   ]
  },
  {
   "cell_type": "code",
   "execution_count": 58,
   "id": "07066503",
   "metadata": {
    "execution": {
     "iopub.execute_input": "2023-11-13T14:31:59.693752Z",
     "iopub.status.busy": "2023-11-13T14:31:59.692556Z",
     "iopub.status.idle": "2023-11-13T14:31:59.701967Z",
     "shell.execute_reply": "2023-11-13T14:31:59.701164Z"
    },
    "papermill": {
     "duration": 0.041571,
     "end_time": "2023-11-13T14:31:59.704464",
     "exception": false,
     "start_time": "2023-11-13T14:31:59.662893",
     "status": "completed"
    },
    "tags": []
   },
   "outputs": [],
   "source": [
    "df = pd.read_csv(\"/kaggle/input/tips-dataset/tips.csv\")"
   ]
  },
  {
   "cell_type": "code",
   "execution_count": 59,
   "id": "64b07e2e",
   "metadata": {
    "execution": {
     "iopub.execute_input": "2023-11-13T14:31:59.762547Z",
     "iopub.status.busy": "2023-11-13T14:31:59.762081Z",
     "iopub.status.idle": "2023-11-13T14:31:59.775792Z",
     "shell.execute_reply": "2023-11-13T14:31:59.774718Z"
    },
    "papermill": {
     "duration": 0.045048,
     "end_time": "2023-11-13T14:31:59.778030",
     "exception": false,
     "start_time": "2023-11-13T14:31:59.732982",
     "status": "completed"
    },
    "tags": []
   },
   "outputs": [
    {
     "data": {
      "text/html": [
       "<div>\n",
       "<style scoped>\n",
       "    .dataframe tbody tr th:only-of-type {\n",
       "        vertical-align: middle;\n",
       "    }\n",
       "\n",
       "    .dataframe tbody tr th {\n",
       "        vertical-align: top;\n",
       "    }\n",
       "\n",
       "    .dataframe thead th {\n",
       "        text-align: right;\n",
       "    }\n",
       "</style>\n",
       "<table border=\"1\" class=\"dataframe\">\n",
       "  <thead>\n",
       "    <tr style=\"text-align: right;\">\n",
       "      <th></th>\n",
       "      <th>Total_bill</th>\n",
       "      <th>Tip</th>\n",
       "      <th>Sex</th>\n",
       "      <th>Smoker</th>\n",
       "      <th>Day</th>\n",
       "      <th>Time</th>\n",
       "      <th>Size</th>\n",
       "    </tr>\n",
       "  </thead>\n",
       "  <tbody>\n",
       "    <tr>\n",
       "      <th>0</th>\n",
       "      <td>16.99</td>\n",
       "      <td>1.01</td>\n",
       "      <td>Female</td>\n",
       "      <td>No</td>\n",
       "      <td>Sun</td>\n",
       "      <td>Dinner</td>\n",
       "      <td>2</td>\n",
       "    </tr>\n",
       "    <tr>\n",
       "      <th>1</th>\n",
       "      <td>10.34</td>\n",
       "      <td>1.66</td>\n",
       "      <td>Male</td>\n",
       "      <td>No</td>\n",
       "      <td>Sun</td>\n",
       "      <td>Dinner</td>\n",
       "      <td>3</td>\n",
       "    </tr>\n",
       "    <tr>\n",
       "      <th>2</th>\n",
       "      <td>21.01</td>\n",
       "      <td>3.50</td>\n",
       "      <td>Male</td>\n",
       "      <td>No</td>\n",
       "      <td>Sun</td>\n",
       "      <td>Dinner</td>\n",
       "      <td>3</td>\n",
       "    </tr>\n",
       "    <tr>\n",
       "      <th>3</th>\n",
       "      <td>23.68</td>\n",
       "      <td>3.31</td>\n",
       "      <td>Male</td>\n",
       "      <td>No</td>\n",
       "      <td>Sun</td>\n",
       "      <td>Dinner</td>\n",
       "      <td>2</td>\n",
       "    </tr>\n",
       "    <tr>\n",
       "      <th>4</th>\n",
       "      <td>24.59</td>\n",
       "      <td>3.61</td>\n",
       "      <td>Female</td>\n",
       "      <td>No</td>\n",
       "      <td>Sun</td>\n",
       "      <td>Dinner</td>\n",
       "      <td>4</td>\n",
       "    </tr>\n",
       "  </tbody>\n",
       "</table>\n",
       "</div>"
      ],
      "text/plain": [
       "   Total_bill   Tip     Sex Smoker  Day    Time  Size\n",
       "0       16.99  1.01  Female     No  Sun  Dinner     2\n",
       "1       10.34  1.66    Male     No  Sun  Dinner     3\n",
       "2       21.01  3.50    Male     No  Sun  Dinner     3\n",
       "3       23.68  3.31    Male     No  Sun  Dinner     2\n",
       "4       24.59  3.61  Female     No  Sun  Dinner     4"
      ]
     },
     "execution_count": 59,
     "metadata": {},
     "output_type": "execute_result"
    }
   ],
   "source": [
    "df.head()"
   ]
  },
  {
   "cell_type": "code",
   "execution_count": 60,
   "id": "38a15f70",
   "metadata": {
    "execution": {
     "iopub.execute_input": "2023-11-13T14:31:59.835901Z",
     "iopub.status.busy": "2023-11-13T14:31:59.835466Z",
     "iopub.status.idle": "2023-11-13T14:31:59.844431Z",
     "shell.execute_reply": "2023-11-13T14:31:59.843504Z"
    },
    "papermill": {
     "duration": 0.040574,
     "end_time": "2023-11-13T14:31:59.846660",
     "exception": false,
     "start_time": "2023-11-13T14:31:59.806086",
     "status": "completed"
    },
    "tags": []
   },
   "outputs": [
    {
     "data": {
      "text/plain": [
       "Day\n",
       "Fri     17.151579\n",
       "Sat     20.441379\n",
       "Sun     21.410000\n",
       "Thur    17.682742\n",
       "Name: Total_bill, dtype: float64"
      ]
     },
     "execution_count": 60,
     "metadata": {},
     "output_type": "execute_result"
    }
   ],
   "source": [
    "df.groupby(\"Day\")[\"Total_bill\"].mean()"
   ]
  },
  {
   "cell_type": "markdown",
   "id": "95c6a885",
   "metadata": {
    "papermill": {
     "duration": 0.027753,
     "end_time": "2023-11-13T14:31:59.902826",
     "exception": false,
     "start_time": "2023-11-13T14:31:59.875073",
     "status": "completed"
    },
    "tags": []
   },
   "source": [
    "<div style=\"border-radius:10px; border:#D0C2F0 solid; padding: 15px; background-color: #F8E8EE; font-size:100%; text-align:left\">\n",
    "\n",
    "<h3 align=\"left\"><font color='#5E5273'>📄 Notes: </font></h3>\n",
    "\n",
    "* We can observe that the weekday averages are close to each other, and similarly, the weekend averages are also close. However, there is a difference between weekdays and weekends. But did this difference occur by chance? It needs to be statistically proven.\n",
    "\n",
    "1. The ANOVA hypotheses for four groups:\n",
    "\n",
    "    * H0: μ1 = μ2 = μ3 = μ4: The means of all groups are equal.\n",
    "    * H1: At least one group is different from the others.\n",
    "\n",
    "These hypotheses are used to test whether the average difference among the four groups is statistically significant. If H0 is rejected, at least one group is different from the others, and the ANOVA analysis identifies this difference.\n",
    "\n",
    "2. Assumption Checks:\n",
    "\n",
    "   - Normality Assumption\n",
    "   - Homogeneity of Variance\n",
    "   \n",
    "* If the assumption is met: **One Way Anova**\n",
    "* If the assumption is not met: **Kruskal**\n",
    "    \n",
    "---\n",
    "    \n",
    "**Kruskal-Wallis test** is a non-parametric test used for the analysis of statistical data. This test is used to evaluate whether there is a statistically significant difference among different groups. The Kruskal-Wallis test is preferred when groups are independent, and data does not meet the assumptions of normality and homogeneity.\n",
    "\n",
    "The Kruskal-Wallis test compares the medians of groups and determines whether there is a statistically significant difference in the distribution among groups. It basically involves the following steps:\n",
    "\n",
    "1. **Null Hypothesis (H0):** All group medians are equal (none are different from the others).\n",
    "\n",
    "2. **Alternative Hypothesis (H1):** At least one group is statistically different from the others (at least one group is different from the others).\n",
    "\n",
    "3. A statistical test statistic is calculated to evaluate the median differences among groups.\n",
    "\n",
    "4. If the p-value from the test is less than a specified significance level (usually 0.05), H0 is rejected, indicating that at least one group is different from the others.\n",
    "\n",
    "The Kruskal-Wallis test provides a non-parametric alternative in data analysis and is used to assess differences among groups. This test is an important tool for evaluating median differences among groups and interpreting the results."
   ]
  },
  {
   "cell_type": "code",
   "execution_count": 61,
   "id": "6ecfa298",
   "metadata": {
    "execution": {
     "iopub.execute_input": "2023-11-13T14:31:59.961837Z",
     "iopub.status.busy": "2023-11-13T14:31:59.960563Z",
     "iopub.status.idle": "2023-11-13T14:31:59.971111Z",
     "shell.execute_reply": "2023-11-13T14:31:59.969694Z"
    },
    "papermill": {
     "duration": 0.042366,
     "end_time": "2023-11-13T14:31:59.973299",
     "exception": false,
     "start_time": "2023-11-13T14:31:59.930933",
     "status": "completed"
    },
    "tags": []
   },
   "outputs": [
    {
     "name": "stdout",
     "output_type": "stream",
     "text": [
      "Sun p-value: 0.0036\n",
      "Sat p-value: 0.0000\n",
      "Thur p-value: 0.0000\n",
      "Fri p-value: 0.0409\n"
     ]
    }
   ],
   "source": [
    "for group in list(df[\"Day\"].unique()):\n",
    "    \n",
    "    pvalue = shapiro(df.loc[df[\"Day\"] == group, \"Total_bill\"])[1]\n",
    "    \n",
    "    print(group, 'p-value: %.4f' % pvalue)\n",
    "    \n",
    "# H0 is rejected for all groups. None of them satisfy the normality assumption."
   ]
  },
  {
   "cell_type": "code",
   "execution_count": 62,
   "id": "4194ae98",
   "metadata": {
    "execution": {
     "iopub.execute_input": "2023-11-13T14:32:00.031896Z",
     "iopub.status.busy": "2023-11-13T14:32:00.030814Z",
     "iopub.status.idle": "2023-11-13T14:32:00.042359Z",
     "shell.execute_reply": "2023-11-13T14:32:00.041211Z"
    },
    "papermill": {
     "duration": 0.043736,
     "end_time": "2023-11-13T14:32:00.045183",
     "exception": false,
     "start_time": "2023-11-13T14:32:00.001447",
     "status": "completed"
    },
    "tags": []
   },
   "outputs": [
    {
     "name": "stdout",
     "output_type": "stream",
     "text": [
      "Test Stat = 0.6654, p-value = 0.5741\n"
     ]
    }
   ],
   "source": [
    "test_stat, pvalue = levene(df.loc[df[\"Day\"] == \"Sun\", \"Total_bill\"],\n",
    "                           df.loc[df[\"Day\"] == \"Sat\", \"Total_bill\"],\n",
    "                           df.loc[df[\"Day\"] == \"Thur\", \"Total_bill\"],\n",
    "                           df.loc[df[\"Day\"] == \"Fri\", \"Total_bill\"])\n",
    "\n",
    "print('Test Stat = %.4f, p-value = %.4f' % (test_stat, pvalue))\n",
    "\n",
    "# H0 cannot be rejected. The assumption of homogeneity of variances is met.\n",
    "# However, since the normality assumption is not met, we will continue with non-parametric analysis."
   ]
  },
  {
   "cell_type": "code",
   "execution_count": 63,
   "id": "e9197c27",
   "metadata": {
    "execution": {
     "iopub.execute_input": "2023-11-13T14:32:00.105508Z",
     "iopub.status.busy": "2023-11-13T14:32:00.104476Z",
     "iopub.status.idle": "2023-11-13T14:32:00.123756Z",
     "shell.execute_reply": "2023-11-13T14:32:00.122707Z"
    },
    "papermill": {
     "duration": 0.051569,
     "end_time": "2023-11-13T14:32:00.126025",
     "exception": false,
     "start_time": "2023-11-13T14:32:00.074456",
     "status": "completed"
    },
    "tags": []
   },
   "outputs": [
    {
     "data": {
      "text/html": [
       "<div>\n",
       "<style scoped>\n",
       "    .dataframe tbody tr th:only-of-type {\n",
       "        vertical-align: middle;\n",
       "    }\n",
       "\n",
       "    .dataframe tbody tr th {\n",
       "        vertical-align: top;\n",
       "    }\n",
       "\n",
       "    .dataframe thead tr th {\n",
       "        text-align: left;\n",
       "    }\n",
       "\n",
       "    .dataframe thead tr:last-of-type th {\n",
       "        text-align: right;\n",
       "    }\n",
       "</style>\n",
       "<table border=\"1\" class=\"dataframe\">\n",
       "  <thead>\n",
       "    <tr>\n",
       "      <th></th>\n",
       "      <th colspan=\"2\" halign=\"left\">Total_bill</th>\n",
       "    </tr>\n",
       "    <tr>\n",
       "      <th></th>\n",
       "      <th>mean</th>\n",
       "      <th>median</th>\n",
       "    </tr>\n",
       "    <tr>\n",
       "      <th>Day</th>\n",
       "      <th></th>\n",
       "      <th></th>\n",
       "    </tr>\n",
       "  </thead>\n",
       "  <tbody>\n",
       "    <tr>\n",
       "      <th>Fri</th>\n",
       "      <td>17.151579</td>\n",
       "      <td>15.38</td>\n",
       "    </tr>\n",
       "    <tr>\n",
       "      <th>Sat</th>\n",
       "      <td>20.441379</td>\n",
       "      <td>18.24</td>\n",
       "    </tr>\n",
       "    <tr>\n",
       "      <th>Sun</th>\n",
       "      <td>21.410000</td>\n",
       "      <td>19.63</td>\n",
       "    </tr>\n",
       "    <tr>\n",
       "      <th>Thur</th>\n",
       "      <td>17.682742</td>\n",
       "      <td>16.20</td>\n",
       "    </tr>\n",
       "  </tbody>\n",
       "</table>\n",
       "</div>"
      ],
      "text/plain": [
       "     Total_bill       \n",
       "           mean median\n",
       "Day                   \n",
       "Fri   17.151579  15.38\n",
       "Sat   20.441379  18.24\n",
       "Sun   21.410000  19.63\n",
       "Thur  17.682742  16.20"
      ]
     },
     "execution_count": 63,
     "metadata": {},
     "output_type": "execute_result"
    }
   ],
   "source": [
    "df.groupby(\"Day\").agg({\"Total_bill\": [\"mean\", \"median\"]})"
   ]
  },
  {
   "cell_type": "code",
   "execution_count": 64,
   "id": "01e7071a",
   "metadata": {
    "execution": {
     "iopub.execute_input": "2023-11-13T14:32:00.185501Z",
     "iopub.status.busy": "2023-11-13T14:32:00.185018Z",
     "iopub.status.idle": "2023-11-13T14:32:00.195933Z",
     "shell.execute_reply": "2023-11-13T14:32:00.194856Z"
    },
    "papermill": {
     "duration": 0.043048,
     "end_time": "2023-11-13T14:32:00.198097",
     "exception": false,
     "start_time": "2023-11-13T14:32:00.155049",
     "status": "completed"
    },
    "tags": []
   },
   "outputs": [
    {
     "data": {
      "text/plain": [
       "F_onewayResult(statistic=2.7674794432863363, pvalue=0.04245383328952047)"
      ]
     },
     "execution_count": 64,
     "metadata": {},
     "output_type": "execute_result"
    }
   ],
   "source": [
    "# Parametric ANOVA Test: This assumption is not met for this example; we are only trying it for the sake of practicing the one-way ANOVA;\n",
    "\n",
    "f_oneway(df.loc[df[\"Day\"] == \"Thur\", \"Total_bill\"],\n",
    "         df.loc[df[\"Day\"] == \"Fri\", \"Total_bill\"],\n",
    "         df.loc[df[\"Day\"] == \"Sat\", \"Total_bill\"],\n",
    "         df.loc[df[\"Day\"] == \"Sun\", \"Total_bill\"])"
   ]
  },
  {
   "cell_type": "code",
   "execution_count": 65,
   "id": "06470cf2",
   "metadata": {
    "execution": {
     "iopub.execute_input": "2023-11-13T14:32:00.257760Z",
     "iopub.status.busy": "2023-11-13T14:32:00.256983Z",
     "iopub.status.idle": "2023-11-13T14:32:00.267500Z",
     "shell.execute_reply": "2023-11-13T14:32:00.266663Z"
    },
    "papermill": {
     "duration": 0.04279,
     "end_time": "2023-11-13T14:32:00.269642",
     "exception": false,
     "start_time": "2023-11-13T14:32:00.226852",
     "status": "completed"
    },
    "tags": []
   },
   "outputs": [
    {
     "data": {
      "text/plain": [
       "KruskalResult(statistic=10.403076391437086, pvalue=0.01543300820104127)"
      ]
     },
     "execution_count": 65,
     "metadata": {},
     "output_type": "execute_result"
    }
   ],
   "source": [
    "# Nonparametrik Anova Testi (Kruskal):\n",
    "\n",
    "kruskal(df.loc[df[\"Day\"] == \"Thur\", \"Total_bill\"],\n",
    "        df.loc[df[\"Day\"] == \"Fri\", \"Total_bill\"],\n",
    "        df.loc[df[\"Day\"] == \"Sat\", \"Total_bill\"],\n",
    "        df.loc[df[\"Day\"] == \"Sun\", \"Total_bill\"])\n",
    "\n",
    "# H0 is rejected.There is a significant difference among these groups."
   ]
  },
  {
   "cell_type": "code",
   "execution_count": 66,
   "id": "9b3c3577",
   "metadata": {
    "execution": {
     "iopub.execute_input": "2023-11-13T14:32:00.329359Z",
     "iopub.status.busy": "2023-11-13T14:32:00.328664Z",
     "iopub.status.idle": "2023-11-13T14:32:00.696892Z",
     "shell.execute_reply": "2023-11-13T14:32:00.695295Z"
    },
    "papermill": {
     "duration": 0.401116,
     "end_time": "2023-11-13T14:32:00.699671",
     "exception": false,
     "start_time": "2023-11-13T14:32:00.298555",
     "status": "completed"
    },
    "tags": []
   },
   "outputs": [
    {
     "name": "stdout",
     "output_type": "stream",
     "text": [
      "Multiple Comparison of Means - Tukey HSD, FWER=0.05 \n",
      "====================================================\n",
      "group1 group2 meandiff p-adj   lower   upper  reject\n",
      "----------------------------------------------------\n",
      "   Fri    Sat   3.2898 0.4541 -2.4799  9.0595  False\n",
      "   Fri    Sun   4.2584 0.2371 -1.5856 10.1025  False\n",
      "   Fri   Thur   0.5312 0.9957 -5.4434  6.5057  False\n",
      "   Sat    Sun   0.9686 0.8968 -2.6088   4.546  False\n",
      "   Sat   Thur  -2.7586 0.2374 -6.5455  1.0282  False\n",
      "   Sun   Thur  -3.7273 0.0668 -7.6264  0.1719  False\n",
      "----------------------------------------------------\n"
     ]
    }
   ],
   "source": [
    "# So, which group is responsible for this difference?;\n",
    "\n",
    "from statsmodels.stats.multicomp import MultiComparison\n",
    "\n",
    "comparison = MultiComparison(df['Total_bill'], df['Day'])\n",
    "tukey = comparison.tukeyhsd(0.05)\n",
    "\n",
    "print(tukey.summary())\n",
    "\n",
    "# We see that when pairwise comparisons were made, no significant difference was found.\n",
    "# From this, we can make the assumption that since no differences were found in pairwise comparisons, there is no difference overall in the groups.\n",
    "# Another approach could be to change the alpha and p-value values.\n",
    "# When we look at p-adj, the comparison closest to the p-value is the Sun-Thur comparison.\n",
    "# Therefore, we can make the inference that it is likely due to that group."
   ]
  },
  {
   "cell_type": "code",
   "execution_count": 67,
   "id": "3fa2a541",
   "metadata": {
    "execution": {
     "iopub.execute_input": "2023-11-13T14:32:00.758938Z",
     "iopub.status.busy": "2023-11-13T14:32:00.758504Z",
     "iopub.status.idle": "2023-11-13T14:32:01.077439Z",
     "shell.execute_reply": "2023-11-13T14:32:01.075923Z"
    },
    "papermill": {
     "duration": 0.351647,
     "end_time": "2023-11-13T14:32:01.080213",
     "exception": false,
     "start_time": "2023-11-13T14:32:00.728566",
     "status": "completed"
    },
    "tags": []
   },
   "outputs": [
    {
     "name": "stdout",
     "output_type": "stream",
     "text": [
      "Multiple Comparison of Means - Tukey HSD, FWER=0.10\n",
      "===================================================\n",
      "group1 group2 meandiff p-adj   lower  upper  reject\n",
      "---------------------------------------------------\n",
      "   Fri    Sat   3.2898 0.4541 -1.8481 8.4277  False\n",
      "   Fri    Sun   4.2584 0.2371 -0.9457 9.4626  False\n",
      "   Fri   Thur   0.5312 0.9957 -4.7892 5.8515  False\n",
      "   Sat    Sun   0.9686 0.8968  -2.217 4.1543  False\n",
      "   Sat   Thur  -2.7586 0.2374 -6.1308 0.6135  False\n",
      "   Sun   Thur  -3.7273 0.0668 -7.1995 -0.255   True\n",
      "---------------------------------------------------\n"
     ]
    }
   ],
   "source": [
    "from statsmodels.stats.multicomp import MultiComparison\n",
    "\n",
    "comparison = MultiComparison(df['Total_bill'], df['Day'])\n",
    "tukey = comparison.tukeyhsd(0.10)\n",
    "\n",
    "print(tukey.summary())\n",
    "\n",
    "# As observed, a difference was found between Sun and Thur. However, the commonly accepted p-value is 0.05.\n",
    "# Therefore, it should be taken as 0.05."
   ]
  }
 ],
 "metadata": {
  "kernelspec": {
   "display_name": "Python 3",
   "language": "python",
   "name": "python3"
  },
  "language_info": {
   "codemirror_mode": {
    "name": "ipython",
    "version": 3
   },
   "file_extension": ".py",
   "mimetype": "text/x-python",
   "name": "python",
   "nbconvert_exporter": "python",
   "pygments_lexer": "ipython3",
   "version": "3.10.12"
  },
  "papermill": {
   "default_parameters": {},
   "duration": 13.971832,
   "end_time": "2023-11-13T14:32:01.932823",
   "environment_variables": {},
   "exception": null,
   "input_path": "__notebook__.ipynb",
   "output_path": "__notebook__.ipynb",
   "parameters": {},
   "start_time": "2023-11-13T14:31:47.960991",
   "version": "2.4.0"
  }
 },
 "nbformat": 4,
 "nbformat_minor": 5
}
