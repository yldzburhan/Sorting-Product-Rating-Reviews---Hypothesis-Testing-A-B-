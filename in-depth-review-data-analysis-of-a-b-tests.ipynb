{
 "cells": [
  {
   "cell_type": "markdown",
   "id": "e0ea3b48",
   "metadata": {
    "papermill": {
     "duration": 0.015937,
     "end_time": "2023-11-13T14:06:46.362277",
     "exception": false,
     "start_time": "2023-11-13T14:06:46.346340",
     "status": "completed"
    },
    "tags": []
   },
   "source": [
    "# Content\n",
    "\n",
    "1. [Import Libraries](#1)\n",
    "1. [A/B Testing Implementation](#2)\n",
    "1. [Fast Food Marketing Compaign A/B Testing](#3)\n",
    "1. [Mobile Games A/B Testing](#4)"
   ]
  },
  {
   "cell_type": "markdown",
   "id": "370fdf28",
   "metadata": {
    "papermill": {
     "duration": 0.015169,
     "end_time": "2023-11-13T14:06:46.393189",
     "exception": false,
     "start_time": "2023-11-13T14:06:46.378020",
     "status": "completed"
    },
    "tags": []
   },
   "source": [
    "<a id = \"1\"></a><br>\n",
    "<p style=\"font-family: 'Pacifico', cursive; font-weight: bold; letter-spacing: 2px; color: #556B2F; font-size: 160%; text-align: left; padding: 0px; border-bottom: 3px solid\">✨Import Libraries✨</p>"
   ]
  },
  {
   "cell_type": "code",
   "execution_count": 1,
   "id": "a28543bc",
   "metadata": {
    "_cell_guid": "b1076dfc-b9ad-4769-8c92-a6c4dae69d19",
    "_uuid": "8f2839f25d086af736a60e9eeb907d3b93b6e0e5",
    "execution": {
     "iopub.execute_input": "2023-11-13T14:06:46.426641Z",
     "iopub.status.busy": "2023-11-13T14:06:46.425631Z",
     "iopub.status.idle": "2023-11-13T14:06:48.879101Z",
     "shell.execute_reply": "2023-11-13T14:06:48.878171Z"
    },
    "papermill": {
     "duration": 2.47334,
     "end_time": "2023-11-13T14:06:48.881931",
     "exception": false,
     "start_time": "2023-11-13T14:06:46.408591",
     "status": "completed"
    },
    "tags": []
   },
   "outputs": [],
   "source": [
    "import itertools\n",
    "import numpy as np\n",
    "import pandas as pd\n",
    "import matplotlib.pyplot as plt\n",
    "import seaborn as sns\n",
    "# !pip install statsmodels\n",
    "import statsmodels.stats.api as sms\n",
    "from scipy.stats import ttest_1samp, shapiro, levene, ttest_ind, mannwhitneyu, \\\n",
    "    pearsonr, spearmanr, kendalltau, f_oneway, kruskal\n",
    "from statsmodels.stats.proportion import proportions_ztest"
   ]
  },
  {
   "cell_type": "markdown",
   "id": "96fb75b5",
   "metadata": {
    "papermill": {
     "duration": 0.015396,
     "end_time": "2023-11-13T14:06:48.913379",
     "exception": false,
     "start_time": "2023-11-13T14:06:48.897983",
     "status": "completed"
    },
    "tags": []
   },
   "source": [
    "<a id = \"2\"></a><br>\n",
    "<p style=\"font-family: 'Pacifico', cursive; font-weight: bold; letter-spacing: 2px; color: #556B2F; font-size: 160%; text-align: left; padding: 0px; border-bottom: 3px solid\">✨A/B Testing Implementation✨</p>"
   ]
  },
  {
   "cell_type": "code",
   "execution_count": 2,
   "id": "c65886f9",
   "metadata": {
    "execution": {
     "iopub.execute_input": "2023-11-13T14:06:48.945773Z",
     "iopub.status.busy": "2023-11-13T14:06:48.945231Z",
     "iopub.status.idle": "2023-11-13T14:06:48.986703Z",
     "shell.execute_reply": "2023-11-13T14:06:48.985480Z"
    },
    "papermill": {
     "duration": 0.061059,
     "end_time": "2023-11-13T14:06:48.989666",
     "exception": false,
     "start_time": "2023-11-13T14:06:48.928607",
     "status": "completed"
    },
    "tags": []
   },
   "outputs": [],
   "source": [
    "df = pd.read_csv(\"/kaggle/input/ab-test-data/AB_Test_Results.csv\")"
   ]
  },
  {
   "cell_type": "code",
   "execution_count": 3,
   "id": "4aeeef30",
   "metadata": {
    "execution": {
     "iopub.execute_input": "2023-11-13T14:06:49.022748Z",
     "iopub.status.busy": "2023-11-13T14:06:49.022359Z",
     "iopub.status.idle": "2023-11-13T14:06:49.044115Z",
     "shell.execute_reply": "2023-11-13T14:06:49.043251Z"
    },
    "papermill": {
     "duration": 0.040545,
     "end_time": "2023-11-13T14:06:49.046287",
     "exception": false,
     "start_time": "2023-11-13T14:06:49.005742",
     "status": "completed"
    },
    "tags": []
   },
   "outputs": [
    {
     "data": {
      "text/html": [
       "<div>\n",
       "<style scoped>\n",
       "    .dataframe tbody tr th:only-of-type {\n",
       "        vertical-align: middle;\n",
       "    }\n",
       "\n",
       "    .dataframe tbody tr th {\n",
       "        vertical-align: top;\n",
       "    }\n",
       "\n",
       "    .dataframe thead th {\n",
       "        text-align: right;\n",
       "    }\n",
       "</style>\n",
       "<table border=\"1\" class=\"dataframe\">\n",
       "  <thead>\n",
       "    <tr style=\"text-align: right;\">\n",
       "      <th></th>\n",
       "      <th>USER_ID</th>\n",
       "      <th>VARIANT_NAME</th>\n",
       "      <th>REVENUE</th>\n",
       "    </tr>\n",
       "  </thead>\n",
       "  <tbody>\n",
       "    <tr>\n",
       "      <th>0</th>\n",
       "      <td>737</td>\n",
       "      <td>variant</td>\n",
       "      <td>0.0</td>\n",
       "    </tr>\n",
       "    <tr>\n",
       "      <th>1</th>\n",
       "      <td>2423</td>\n",
       "      <td>control</td>\n",
       "      <td>0.0</td>\n",
       "    </tr>\n",
       "    <tr>\n",
       "      <th>2</th>\n",
       "      <td>9411</td>\n",
       "      <td>control</td>\n",
       "      <td>0.0</td>\n",
       "    </tr>\n",
       "    <tr>\n",
       "      <th>3</th>\n",
       "      <td>7311</td>\n",
       "      <td>control</td>\n",
       "      <td>0.0</td>\n",
       "    </tr>\n",
       "    <tr>\n",
       "      <th>4</th>\n",
       "      <td>6174</td>\n",
       "      <td>variant</td>\n",
       "      <td>0.0</td>\n",
       "    </tr>\n",
       "  </tbody>\n",
       "</table>\n",
       "</div>"
      ],
      "text/plain": [
       "   USER_ID VARIANT_NAME  REVENUE\n",
       "0      737      variant      0.0\n",
       "1     2423      control      0.0\n",
       "2     9411      control      0.0\n",
       "3     7311      control      0.0\n",
       "4     6174      variant      0.0"
      ]
     },
     "execution_count": 3,
     "metadata": {},
     "output_type": "execute_result"
    }
   ],
   "source": [
    "df.head()"
   ]
  },
  {
   "cell_type": "markdown",
   "id": "8787b768",
   "metadata": {
    "papermill": {
     "duration": 0.01547,
     "end_time": "2023-11-13T14:06:49.077404",
     "exception": false,
     "start_time": "2023-11-13T14:06:49.061934",
     "status": "completed"
    },
    "tags": []
   },
   "source": [
    "<div style=\"border-radius:10px; border:#6B8BA0 solid; padding: 15px; background-color: #F2EADF; font-size:100%; text-align:left\">\n",
    "\n",
    "<h3 align=\"left\"><font color='#6B8BA0'>👀 Notes: </font></h3>\n",
    "  \n",
    "* **USER_ID**: Identification number\n",
    "* **VARIANT_NAME**: Group membership\n",
    "* **REVENUE**: Income"
   ]
  },
  {
   "cell_type": "code",
   "execution_count": 4,
   "id": "86f1dc77",
   "metadata": {
    "execution": {
     "iopub.execute_input": "2023-11-13T14:06:49.110841Z",
     "iopub.status.busy": "2023-11-13T14:06:49.110405Z",
     "iopub.status.idle": "2023-11-13T14:06:49.133795Z",
     "shell.execute_reply": "2023-11-13T14:06:49.133074Z"
    },
    "papermill": {
     "duration": 0.04282,
     "end_time": "2023-11-13T14:06:49.135846",
     "exception": false,
     "start_time": "2023-11-13T14:06:49.093026",
     "status": "completed"
    },
    "tags": []
   },
   "outputs": [
    {
     "data": {
      "text/html": [
       "<div>\n",
       "<style scoped>\n",
       "    .dataframe tbody tr th:only-of-type {\n",
       "        vertical-align: middle;\n",
       "    }\n",
       "\n",
       "    .dataframe tbody tr th {\n",
       "        vertical-align: top;\n",
       "    }\n",
       "\n",
       "    .dataframe thead th {\n",
       "        text-align: right;\n",
       "    }\n",
       "</style>\n",
       "<table border=\"1\" class=\"dataframe\">\n",
       "  <thead>\n",
       "    <tr style=\"text-align: right;\">\n",
       "      <th></th>\n",
       "      <th>count</th>\n",
       "      <th>mean</th>\n",
       "      <th>std</th>\n",
       "      <th>min</th>\n",
       "      <th>25%</th>\n",
       "      <th>50%</th>\n",
       "      <th>75%</th>\n",
       "      <th>max</th>\n",
       "    </tr>\n",
       "  </thead>\n",
       "  <tbody>\n",
       "    <tr>\n",
       "      <th>USER_ID</th>\n",
       "      <td>10000.0</td>\n",
       "      <td>4981.080200</td>\n",
       "      <td>2890.590115</td>\n",
       "      <td>2.0</td>\n",
       "      <td>2468.75</td>\n",
       "      <td>4962.0</td>\n",
       "      <td>7511.5</td>\n",
       "      <td>10000.00</td>\n",
       "    </tr>\n",
       "    <tr>\n",
       "      <th>REVENUE</th>\n",
       "      <td>10000.0</td>\n",
       "      <td>0.099447</td>\n",
       "      <td>2.318529</td>\n",
       "      <td>0.0</td>\n",
       "      <td>0.00</td>\n",
       "      <td>0.0</td>\n",
       "      <td>0.0</td>\n",
       "      <td>196.01</td>\n",
       "    </tr>\n",
       "  </tbody>\n",
       "</table>\n",
       "</div>"
      ],
      "text/plain": [
       "           count         mean          std  min      25%     50%     75%  \\\n",
       "USER_ID  10000.0  4981.080200  2890.590115  2.0  2468.75  4962.0  7511.5   \n",
       "REVENUE  10000.0     0.099447     2.318529  0.0     0.00     0.0     0.0   \n",
       "\n",
       "              max  \n",
       "USER_ID  10000.00  \n",
       "REVENUE    196.01  "
      ]
     },
     "execution_count": 4,
     "metadata": {},
     "output_type": "execute_result"
    }
   ],
   "source": [
    "df.describe().T"
   ]
  },
  {
   "cell_type": "code",
   "execution_count": 5,
   "id": "ee3957c2",
   "metadata": {
    "execution": {
     "iopub.execute_input": "2023-11-13T14:06:49.168906Z",
     "iopub.status.busy": "2023-11-13T14:06:49.168365Z",
     "iopub.status.idle": "2023-11-13T14:06:49.184740Z",
     "shell.execute_reply": "2023-11-13T14:06:49.183857Z"
    },
    "papermill": {
     "duration": 0.034922,
     "end_time": "2023-11-13T14:06:49.186764",
     "exception": false,
     "start_time": "2023-11-13T14:06:49.151842",
     "status": "completed"
    },
    "tags": []
   },
   "outputs": [
    {
     "data": {
      "text/html": [
       "<div>\n",
       "<style scoped>\n",
       "    .dataframe tbody tr th:only-of-type {\n",
       "        vertical-align: middle;\n",
       "    }\n",
       "\n",
       "    .dataframe tbody tr th {\n",
       "        vertical-align: top;\n",
       "    }\n",
       "\n",
       "    .dataframe thead th {\n",
       "        text-align: right;\n",
       "    }\n",
       "</style>\n",
       "<table border=\"1\" class=\"dataframe\">\n",
       "  <thead>\n",
       "    <tr style=\"text-align: right;\">\n",
       "      <th></th>\n",
       "      <th>USER_ID</th>\n",
       "      <th>VARIANT_NAME</th>\n",
       "      <th>REVENUE</th>\n",
       "    </tr>\n",
       "  </thead>\n",
       "  <tbody>\n",
       "    <tr>\n",
       "      <th>1437</th>\n",
       "      <td>3342</td>\n",
       "      <td>control</td>\n",
       "      <td>196.01</td>\n",
       "    </tr>\n",
       "    <tr>\n",
       "      <th>6447</th>\n",
       "      <td>2881</td>\n",
       "      <td>variant</td>\n",
       "      <td>58.63</td>\n",
       "    </tr>\n",
       "    <tr>\n",
       "      <th>7642</th>\n",
       "      <td>7206</td>\n",
       "      <td>variant</td>\n",
       "      <td>57.46</td>\n",
       "    </tr>\n",
       "    <tr>\n",
       "      <th>9421</th>\n",
       "      <td>6792</td>\n",
       "      <td>control</td>\n",
       "      <td>41.53</td>\n",
       "    </tr>\n",
       "    <tr>\n",
       "      <th>8168</th>\n",
       "      <td>2166</td>\n",
       "      <td>control</td>\n",
       "      <td>29.32</td>\n",
       "    </tr>\n",
       "    <tr>\n",
       "      <th>9125</th>\n",
       "      <td>831</td>\n",
       "      <td>control</td>\n",
       "      <td>25.98</td>\n",
       "    </tr>\n",
       "    <tr>\n",
       "      <th>2482</th>\n",
       "      <td>7356</td>\n",
       "      <td>variant</td>\n",
       "      <td>23.04</td>\n",
       "    </tr>\n",
       "    <tr>\n",
       "      <th>6412</th>\n",
       "      <td>1053</td>\n",
       "      <td>control</td>\n",
       "      <td>20.07</td>\n",
       "    </tr>\n",
       "    <tr>\n",
       "      <th>5217</th>\n",
       "      <td>3684</td>\n",
       "      <td>variant</td>\n",
       "      <td>19.47</td>\n",
       "    </tr>\n",
       "    <tr>\n",
       "      <th>5530</th>\n",
       "      <td>282</td>\n",
       "      <td>control</td>\n",
       "      <td>18.56</td>\n",
       "    </tr>\n",
       "    <tr>\n",
       "      <th>1388</th>\n",
       "      <td>7358</td>\n",
       "      <td>control</td>\n",
       "      <td>17.87</td>\n",
       "    </tr>\n",
       "    <tr>\n",
       "      <th>3218</th>\n",
       "      <td>701</td>\n",
       "      <td>control</td>\n",
       "      <td>17.08</td>\n",
       "    </tr>\n",
       "    <tr>\n",
       "      <th>758</th>\n",
       "      <td>4445</td>\n",
       "      <td>control</td>\n",
       "      <td>17.05</td>\n",
       "    </tr>\n",
       "    <tr>\n",
       "      <th>4031</th>\n",
       "      <td>2059</td>\n",
       "      <td>control</td>\n",
       "      <td>14.24</td>\n",
       "    </tr>\n",
       "    <tr>\n",
       "      <th>9724</th>\n",
       "      <td>5205</td>\n",
       "      <td>control</td>\n",
       "      <td>14.17</td>\n",
       "    </tr>\n",
       "  </tbody>\n",
       "</table>\n",
       "</div>"
      ],
      "text/plain": [
       "      USER_ID VARIANT_NAME  REVENUE\n",
       "1437     3342      control   196.01\n",
       "6447     2881      variant    58.63\n",
       "7642     7206      variant    57.46\n",
       "9421     6792      control    41.53\n",
       "8168     2166      control    29.32\n",
       "9125      831      control    25.98\n",
       "2482     7356      variant    23.04\n",
       "6412     1053      control    20.07\n",
       "5217     3684      variant    19.47\n",
       "5530      282      control    18.56\n",
       "1388     7358      control    17.87\n",
       "3218      701      control    17.08\n",
       "758      4445      control    17.05\n",
       "4031     2059      control    14.24\n",
       "9724     5205      control    14.17"
      ]
     },
     "execution_count": 5,
     "metadata": {},
     "output_type": "execute_result"
    }
   ],
   "source": [
    "df.sort_values(by=\"REVENUE\", ascending=False).head(15)"
   ]
  },
  {
   "cell_type": "code",
   "execution_count": 6,
   "id": "a7bf661f",
   "metadata": {
    "execution": {
     "iopub.execute_input": "2023-11-13T14:06:49.221070Z",
     "iopub.status.busy": "2023-11-13T14:06:49.220413Z",
     "iopub.status.idle": "2023-11-13T14:06:49.235219Z",
     "shell.execute_reply": "2023-11-13T14:06:49.234172Z"
    },
    "papermill": {
     "duration": 0.034998,
     "end_time": "2023-11-13T14:06:49.237825",
     "exception": false,
     "start_time": "2023-11-13T14:06:49.202827",
     "status": "completed"
    },
    "tags": []
   },
   "outputs": [
    {
     "data": {
      "text/plain": [
       "2067"
      ]
     },
     "execution_count": 6,
     "metadata": {},
     "output_type": "execute_result"
    }
   ],
   "source": [
    "df.duplicated().sum() # checked duplicated rows"
   ]
  },
  {
   "cell_type": "code",
   "execution_count": 7,
   "id": "2690d5d4",
   "metadata": {
    "execution": {
     "iopub.execute_input": "2023-11-13T14:06:49.271676Z",
     "iopub.status.busy": "2023-11-13T14:06:49.271315Z",
     "iopub.status.idle": "2023-11-13T14:06:49.278528Z",
     "shell.execute_reply": "2023-11-13T14:06:49.277667Z"
    },
    "papermill": {
     "duration": 0.026752,
     "end_time": "2023-11-13T14:06:49.280791",
     "exception": false,
     "start_time": "2023-11-13T14:06:49.254039",
     "status": "completed"
    },
    "tags": []
   },
   "outputs": [],
   "source": [
    "df.drop_duplicates(inplace=True) # dropped duplicated rows"
   ]
  },
  {
   "cell_type": "code",
   "execution_count": 8,
   "id": "2553acea",
   "metadata": {
    "execution": {
     "iopub.execute_input": "2023-11-13T14:06:49.315280Z",
     "iopub.status.busy": "2023-11-13T14:06:49.314879Z",
     "iopub.status.idle": "2023-11-13T14:06:49.778506Z",
     "shell.execute_reply": "2023-11-13T14:06:49.777342Z"
    },
    "papermill": {
     "duration": 0.483776,
     "end_time": "2023-11-13T14:06:49.780914",
     "exception": false,
     "start_time": "2023-11-13T14:06:49.297138",
     "status": "completed"
    },
    "tags": []
   },
   "outputs": [
    {
     "data": {
      "text/plain": [
       "<Axes: xlabel='REVENUE', ylabel='Density'>"
      ]
     },
     "execution_count": 8,
     "metadata": {},
     "output_type": "execute_result"
    },
    {
     "data": {
      "image/png": "[encoded data removed]",
      "text/plain": [
       "<Figure size 640x480 with 1 Axes>"
      ]
     },
     "metadata": {},
     "output_type": "display_data"
    }
   ],
   "source": [
    "sns.kdeplot(x=\"REVENUE\", data = df, hue = \"VARIANT_NAME\") # checked normall distribition"
   ]
  },
  {
   "cell_type": "code",
   "execution_count": 9,
   "id": "d033fc1d",
   "metadata": {
    "execution": {
     "iopub.execute_input": "2023-11-13T14:06:49.873385Z",
     "iopub.status.busy": "2023-11-13T14:06:49.873001Z",
     "iopub.status.idle": "2023-11-13T14:06:49.884001Z",
     "shell.execute_reply": "2023-11-13T14:06:49.882878Z"
    },
    "papermill": {
     "duration": 0.03247,
     "end_time": "2023-11-13T14:06:49.886399",
     "exception": false,
     "start_time": "2023-11-13T14:06:49.853929",
     "status": "completed"
    },
    "tags": []
   },
   "outputs": [],
   "source": [
    "control = df[df[\"VARIANT_NAME\"]==\"control\"]\n",
    "variant = df[df[\"VARIANT_NAME\"]==\"variant\"]"
   ]
  },
  {
   "cell_type": "code",
   "execution_count": 10,
   "id": "7fe4c3d6",
   "metadata": {
    "execution": {
     "iopub.execute_input": "2023-11-13T14:06:49.923466Z",
     "iopub.status.busy": "2023-11-13T14:06:49.922746Z",
     "iopub.status.idle": "2023-11-13T14:06:49.942290Z",
     "shell.execute_reply": "2023-11-13T14:06:49.941423Z"
    },
    "papermill": {
     "duration": 0.040319,
     "end_time": "2023-11-13T14:06:49.944292",
     "exception": false,
     "start_time": "2023-11-13T14:06:49.903973",
     "status": "completed"
    },
    "tags": []
   },
   "outputs": [
    {
     "data": {
      "text/html": [
       "<div>\n",
       "<style scoped>\n",
       "    .dataframe tbody tr th:only-of-type {\n",
       "        vertical-align: middle;\n",
       "    }\n",
       "\n",
       "    .dataframe tbody tr th {\n",
       "        vertical-align: top;\n",
       "    }\n",
       "\n",
       "    .dataframe thead th {\n",
       "        text-align: right;\n",
       "    }\n",
       "</style>\n",
       "<table border=\"1\" class=\"dataframe\">\n",
       "  <thead>\n",
       "    <tr style=\"text-align: right;\">\n",
       "      <th></th>\n",
       "      <th>count</th>\n",
       "      <th>mean</th>\n",
       "      <th>std</th>\n",
       "      <th>min</th>\n",
       "      <th>25%</th>\n",
       "      <th>50%</th>\n",
       "      <th>75%</th>\n",
       "      <th>max</th>\n",
       "    </tr>\n",
       "  </thead>\n",
       "  <tbody>\n",
       "    <tr>\n",
       "      <th>USER_ID</th>\n",
       "      <td>3973.0</td>\n",
       "      <td>4988.320664</td>\n",
       "      <td>2895.606855</td>\n",
       "      <td>2.0</td>\n",
       "      <td>2474.0</td>\n",
       "      <td>4971.0</td>\n",
       "      <td>7572.0</td>\n",
       "      <td>10000.00</td>\n",
       "    </tr>\n",
       "    <tr>\n",
       "      <th>REVENUE</th>\n",
       "      <td>3973.0</td>\n",
       "      <td>0.161842</td>\n",
       "      <td>3.367815</td>\n",
       "      <td>0.0</td>\n",
       "      <td>0.0</td>\n",
       "      <td>0.0</td>\n",
       "      <td>0.0</td>\n",
       "      <td>196.01</td>\n",
       "    </tr>\n",
       "  </tbody>\n",
       "</table>\n",
       "</div>"
      ],
      "text/plain": [
       "          count         mean          std  min     25%     50%     75%  \\\n",
       "USER_ID  3973.0  4988.320664  2895.606855  2.0  2474.0  4971.0  7572.0   \n",
       "REVENUE  3973.0     0.161842     3.367815  0.0     0.0     0.0     0.0   \n",
       "\n",
       "              max  \n",
       "USER_ID  10000.00  \n",
       "REVENUE    196.01  "
      ]
     },
     "execution_count": 10,
     "metadata": {},
     "output_type": "execute_result"
    }
   ],
   "source": [
    "control.describe().T"
   ]
  },
  {
   "cell_type": "code",
   "execution_count": 11,
   "id": "0f1cd238",
   "metadata": {
    "execution": {
     "iopub.execute_input": "2023-11-13T14:06:49.980950Z",
     "iopub.status.busy": "2023-11-13T14:06:49.980283Z",
     "iopub.status.idle": "2023-11-13T14:06:49.999870Z",
     "shell.execute_reply": "2023-11-13T14:06:49.999110Z"
    },
    "papermill": {
     "duration": 0.040408,
     "end_time": "2023-11-13T14:06:50.002101",
     "exception": false,
     "start_time": "2023-11-13T14:06:49.961693",
     "status": "completed"
    },
    "tags": []
   },
   "outputs": [
    {
     "data": {
      "text/html": [
       "<div>\n",
       "<style scoped>\n",
       "    .dataframe tbody tr th:only-of-type {\n",
       "        vertical-align: middle;\n",
       "    }\n",
       "\n",
       "    .dataframe tbody tr th {\n",
       "        vertical-align: top;\n",
       "    }\n",
       "\n",
       "    .dataframe thead th {\n",
       "        text-align: right;\n",
       "    }\n",
       "</style>\n",
       "<table border=\"1\" class=\"dataframe\">\n",
       "  <thead>\n",
       "    <tr style=\"text-align: right;\">\n",
       "      <th></th>\n",
       "      <th>count</th>\n",
       "      <th>mean</th>\n",
       "      <th>std</th>\n",
       "      <th>min</th>\n",
       "      <th>25%</th>\n",
       "      <th>50%</th>\n",
       "      <th>75%</th>\n",
       "      <th>max</th>\n",
       "    </tr>\n",
       "  </thead>\n",
       "  <tbody>\n",
       "    <tr>\n",
       "      <th>USER_ID</th>\n",
       "      <td>3960.0</td>\n",
       "      <td>4965.412374</td>\n",
       "      <td>2889.255440</td>\n",
       "      <td>3.0</td>\n",
       "      <td>2442.75</td>\n",
       "      <td>4958.5</td>\n",
       "      <td>7425.0</td>\n",
       "      <td>10000.00</td>\n",
       "    </tr>\n",
       "    <tr>\n",
       "      <th>REVENUE</th>\n",
       "      <td>3960.0</td>\n",
       "      <td>0.088755</td>\n",
       "      <td>1.479239</td>\n",
       "      <td>0.0</td>\n",
       "      <td>0.00</td>\n",
       "      <td>0.0</td>\n",
       "      <td>0.0</td>\n",
       "      <td>58.63</td>\n",
       "    </tr>\n",
       "  </tbody>\n",
       "</table>\n",
       "</div>"
      ],
      "text/plain": [
       "          count         mean          std  min      25%     50%     75%  \\\n",
       "USER_ID  3960.0  4965.412374  2889.255440  3.0  2442.75  4958.5  7425.0   \n",
       "REVENUE  3960.0     0.088755     1.479239  0.0     0.00     0.0     0.0   \n",
       "\n",
       "              max  \n",
       "USER_ID  10000.00  \n",
       "REVENUE     58.63  "
      ]
     },
     "execution_count": 11,
     "metadata": {},
     "output_type": "execute_result"
    }
   ],
   "source": [
    "variant.describe().T"
   ]
  },
  {
   "cell_type": "markdown",
   "id": "0d5dc287",
   "metadata": {
    "papermill": {
     "duration": 0.017237,
     "end_time": "2023-11-13T14:06:50.036611",
     "exception": false,
     "start_time": "2023-11-13T14:06:50.019374",
     "status": "completed"
    },
    "tags": []
   },
   "source": [
    "> **Hypothesis Testing**"
   ]
  },
  {
   "cell_type": "code",
   "execution_count": 12,
   "id": "fe323090",
   "metadata": {
    "execution": {
     "iopub.execute_input": "2023-11-13T14:06:50.073618Z",
     "iopub.status.busy": "2023-11-13T14:06:50.072940Z",
     "iopub.status.idle": "2023-11-13T14:06:50.084368Z",
     "shell.execute_reply": "2023-11-13T14:06:50.082982Z"
    },
    "papermill": {
     "duration": 0.033904,
     "end_time": "2023-11-13T14:06:50.088059",
     "exception": false,
     "start_time": "2023-11-13T14:06:50.054155",
     "status": "completed"
    },
    "tags": []
   },
   "outputs": [
    {
     "data": {
      "text/plain": [
       "0.16184243644601057"
      ]
     },
     "execution_count": 12,
     "metadata": {},
     "output_type": "execute_result"
    }
   ],
   "source": [
    "control[\"REVENUE\"].mean()"
   ]
  },
  {
   "cell_type": "code",
   "execution_count": 13,
   "id": "92d01d93",
   "metadata": {
    "execution": {
     "iopub.execute_input": "2023-11-13T14:06:50.134391Z",
     "iopub.status.busy": "2023-11-13T14:06:50.133350Z",
     "iopub.status.idle": "2023-11-13T14:06:50.141160Z",
     "shell.execute_reply": "2023-11-13T14:06:50.140126Z"
    },
    "papermill": {
     "duration": 0.032898,
     "end_time": "2023-11-13T14:06:50.143357",
     "exception": false,
     "start_time": "2023-11-13T14:06:50.110459",
     "status": "completed"
    },
    "tags": []
   },
   "outputs": [
    {
     "data": {
      "text/plain": [
       "0.08875505050505052"
      ]
     },
     "execution_count": 13,
     "metadata": {},
     "output_type": "execute_result"
    }
   ],
   "source": [
    "variant[\"REVENUE\"].mean()"
   ]
  },
  {
   "cell_type": "markdown",
   "id": "5c16762a",
   "metadata": {
    "papermill": {
     "duration": 0.02306,
     "end_time": "2023-11-13T14:06:50.190461",
     "exception": false,
     "start_time": "2023-11-13T14:06:50.167401",
     "status": "completed"
    },
    "tags": []
   },
   "source": [
    "<div style=\"border-radius:10px; border:#6B8BA0 solid; padding: 15px; background-color: #F2EADF; font-size:100%; text-align:left\">\n",
    "\n",
    "<h3 align=\"left\"><font color='#6B8BA0'>👀 Notes: </font></h3>\n",
    "    \n",
    "According to these numbers, it seems like there may be a difference in revenue between the groups, but this difference could have occurred by chance and should be statistically tested.\n",
    "\n",
    "**Step 1 - Formulate Hypotheses:**\n",
    "   - Null Hypothesis (H0): μ1 = μ2 (There is no statistical difference in terms of revenue between the Control and Variant Groups)\n",
    "   - Alternative Hypothesis (H1): μ1 ≠ μ2 (There is a statistical difference between the Control and Variant Groups in terms of revenue)\n",
    "\n",
    "**Step 2 - Assumption Checks:**\n",
    "   - Normality Assumption\n",
    "   - Homogeneity of Variance\n",
    "\n",
    "**Step 3 - Normality Assumption Hypothesis:**\n",
    "   - H0: The normal distribution assumption is met.\n",
    "   - H1: The normal distribution assumption is not met.\n",
    "    \n",
    "**Step 4 - Assumption of Homogeneity of Variance:**\n",
    "   - H0: Variances are homogenous.\n",
    "   - H1: Variances are not homogenous."
   ]
  },
  {
   "cell_type": "markdown",
   "id": "331160cd",
   "metadata": {
    "papermill": {
     "duration": 0.020878,
     "end_time": "2023-11-13T14:06:50.231521",
     "exception": false,
     "start_time": "2023-11-13T14:06:50.210643",
     "status": "completed"
    },
    "tags": []
   },
   "source": [
    "> **Normality Assumption**"
   ]
  },
  {
   "cell_type": "code",
   "execution_count": 14,
   "id": "259e4552",
   "metadata": {
    "execution": {
     "iopub.execute_input": "2023-11-13T14:06:50.269536Z",
     "iopub.status.busy": "2023-11-13T14:06:50.268908Z",
     "iopub.status.idle": "2023-11-13T14:06:50.275066Z",
     "shell.execute_reply": "2023-11-13T14:06:50.273953Z"
    },
    "papermill": {
     "duration": 0.027914,
     "end_time": "2023-11-13T14:06:50.277842",
     "exception": false,
     "start_time": "2023-11-13T14:06:50.249928",
     "status": "completed"
    },
    "tags": []
   },
   "outputs": [
    {
     "name": "stdout",
     "output_type": "stream",
     "text": [
      "Test Stat = 0.0220, p-value = 0.0000\n"
     ]
    }
   ],
   "source": [
    "test_stat, pvalue = shapiro(control[\"REVENUE\"])\n",
    "\n",
    "print('Test Stat = %.4f, p-value = %.4f' % (test_stat, pvalue))"
   ]
  },
  {
   "cell_type": "code",
   "execution_count": 15,
   "id": "f4395deb",
   "metadata": {
    "execution": {
     "iopub.execute_input": "2023-11-13T14:06:50.315965Z",
     "iopub.status.busy": "2023-11-13T14:06:50.315403Z",
     "iopub.status.idle": "2023-11-13T14:06:50.320927Z",
     "shell.execute_reply": "2023-11-13T14:06:50.319953Z"
    },
    "papermill": {
     "duration": 0.026814,
     "end_time": "2023-11-13T14:06:50.322929",
     "exception": false,
     "start_time": "2023-11-13T14:06:50.296115",
     "status": "completed"
    },
    "tags": []
   },
   "outputs": [
    {
     "name": "stdout",
     "output_type": "stream",
     "text": [
      "Test Stat = 0.0327, p-value = 0.0000\n"
     ]
    }
   ],
   "source": [
    "test_stat, pvalue = shapiro(variant[\"REVENUE\"])\n",
    "\n",
    "print('Test Stat = %.4f, p-value = %.4f' % (test_stat, pvalue))"
   ]
  },
  {
   "cell_type": "markdown",
   "id": "52785693",
   "metadata": {
    "papermill": {
     "duration": 0.017762,
     "end_time": "2023-11-13T14:06:50.358451",
     "exception": false,
     "start_time": "2023-11-13T14:06:50.340689",
     "status": "completed"
    },
    "tags": []
   },
   "source": [
    "<div style=\"border-radius:10px; border:#6B8BA0 solid; padding: 15px; background-color: #F2EADF; font-size:100%; text-align:left\">\n",
    "\n",
    "<h3 align=\"left\"><font color='#6B8BA0'>👀 Notes: </font></h3>\n",
    "    \n",
    "* \"H0 has been rejected. It does not exhibit a normal distribution. \n",
    "* Therefore, there is no need to check for homogeneity of variances. We can proceed directly to non-parametric statistical analysis, which is the **Mann-Whitney test.**\""
   ]
  },
  {
   "cell_type": "markdown",
   "id": "bd78e6b3",
   "metadata": {
    "papermill": {
     "duration": 0.01754,
     "end_time": "2023-11-13T14:06:50.393987",
     "exception": false,
     "start_time": "2023-11-13T14:06:50.376447",
     "status": "completed"
    },
    "tags": []
   },
   "source": [
    "> **Non-parametric Test**"
   ]
  },
  {
   "cell_type": "code",
   "execution_count": 16,
   "id": "64f88282",
   "metadata": {
    "execution": {
     "iopub.execute_input": "2023-11-13T14:06:50.437499Z",
     "iopub.status.busy": "2023-11-13T14:06:50.437139Z",
     "iopub.status.idle": "2023-11-13T14:06:50.457627Z",
     "shell.execute_reply": "2023-11-13T14:06:50.456200Z"
    },
    "papermill": {
     "duration": 0.047945,
     "end_time": "2023-11-13T14:06:50.460030",
     "exception": false,
     "start_time": "2023-11-13T14:06:50.412085",
     "status": "completed"
    },
    "tags": []
   },
   "outputs": [
    {
     "name": "stdout",
     "output_type": "stream",
     "text": [
      "Test Stat = 7882388.0000, p-value = 0.5129\n"
     ]
    }
   ],
   "source": [
    "test_stat, pvalue = mannwhitneyu(control[\"REVENUE\"],variant[\"REVENUE\"])\n",
    "\n",
    "print('Test Stat = %.4f, p-value = %.4f' % (test_stat, pvalue))\n",
    "\n",
    "# According to the Mann-Whitney U test, H0 cannot be rejected. There is no significant difference between the means of the two groups."
   ]
  },
  {
   "cell_type": "markdown",
   "id": "6b6b1ccb",
   "metadata": {
    "papermill": {
     "duration": 0.018394,
     "end_time": "2023-11-13T14:06:50.497052",
     "exception": false,
     "start_time": "2023-11-13T14:06:50.478658",
     "status": "completed"
    },
    "tags": []
   },
   "source": [
    "<a id = \"3\"></a><br>\n",
    "<p style=\"font-family: 'Pacifico', cursive; font-weight: bold; letter-spacing: 2px; color: #556B2F; font-size: 160%; text-align: left; padding: 0px; border-bottom: 3px solid\">✨Fast Food Marketing Compaign A/B Testing✨</p>"
   ]
  },
  {
   "cell_type": "code",
   "execution_count": 17,
   "id": "c379cec5",
   "metadata": {
    "execution": {
     "iopub.execute_input": "2023-11-13T14:06:50.536805Z",
     "iopub.status.busy": "2023-11-13T14:06:50.536448Z",
     "iopub.status.idle": "2023-11-13T14:06:50.545889Z",
     "shell.execute_reply": "2023-11-13T14:06:50.545104Z"
    },
    "papermill": {
     "duration": 0.031002,
     "end_time": "2023-11-13T14:06:50.548208",
     "exception": false,
     "start_time": "2023-11-13T14:06:50.517206",
     "status": "completed"
    },
    "tags": []
   },
   "outputs": [],
   "source": [
    "fast_food = pd.read_csv(\"/kaggle/input/fast-food-marketing-campaign-ab-test/WA_Marketing-Campaign.csv\")"
   ]
  },
  {
   "cell_type": "code",
   "execution_count": 18,
   "id": "c670ddc0",
   "metadata": {
    "execution": {
     "iopub.execute_input": "2023-11-13T14:06:50.586888Z",
     "iopub.status.busy": "2023-11-13T14:06:50.586494Z",
     "iopub.status.idle": "2023-11-13T14:06:50.599839Z",
     "shell.execute_reply": "2023-11-13T14:06:50.598888Z"
    },
    "papermill": {
     "duration": 0.035744,
     "end_time": "2023-11-13T14:06:50.602356",
     "exception": false,
     "start_time": "2023-11-13T14:06:50.566612",
     "status": "completed"
    },
    "tags": []
   },
   "outputs": [
    {
     "data": {
      "text/html": [
       "<div>\n",
       "<style scoped>\n",
       "    .dataframe tbody tr th:only-of-type {\n",
       "        vertical-align: middle;\n",
       "    }\n",
       "\n",
       "    .dataframe tbody tr th {\n",
       "        vertical-align: top;\n",
       "    }\n",
       "\n",
       "    .dataframe thead th {\n",
       "        text-align: right;\n",
       "    }\n",
       "</style>\n",
       "<table border=\"1\" class=\"dataframe\">\n",
       "  <thead>\n",
       "    <tr style=\"text-align: right;\">\n",
       "      <th></th>\n",
       "      <th>MarketID</th>\n",
       "      <th>MarketSize</th>\n",
       "      <th>LocationID</th>\n",
       "      <th>AgeOfStore</th>\n",
       "      <th>Promotion</th>\n",
       "      <th>week</th>\n",
       "      <th>SalesInThousands</th>\n",
       "    </tr>\n",
       "  </thead>\n",
       "  <tbody>\n",
       "    <tr>\n",
       "      <th>0</th>\n",
       "      <td>1</td>\n",
       "      <td>Medium</td>\n",
       "      <td>1</td>\n",
       "      <td>4</td>\n",
       "      <td>3</td>\n",
       "      <td>1</td>\n",
       "      <td>33.73</td>\n",
       "    </tr>\n",
       "    <tr>\n",
       "      <th>1</th>\n",
       "      <td>1</td>\n",
       "      <td>Medium</td>\n",
       "      <td>1</td>\n",
       "      <td>4</td>\n",
       "      <td>3</td>\n",
       "      <td>2</td>\n",
       "      <td>35.67</td>\n",
       "    </tr>\n",
       "    <tr>\n",
       "      <th>2</th>\n",
       "      <td>1</td>\n",
       "      <td>Medium</td>\n",
       "      <td>1</td>\n",
       "      <td>4</td>\n",
       "      <td>3</td>\n",
       "      <td>3</td>\n",
       "      <td>29.03</td>\n",
       "    </tr>\n",
       "    <tr>\n",
       "      <th>3</th>\n",
       "      <td>1</td>\n",
       "      <td>Medium</td>\n",
       "      <td>1</td>\n",
       "      <td>4</td>\n",
       "      <td>3</td>\n",
       "      <td>4</td>\n",
       "      <td>39.25</td>\n",
       "    </tr>\n",
       "    <tr>\n",
       "      <th>4</th>\n",
       "      <td>1</td>\n",
       "      <td>Medium</td>\n",
       "      <td>2</td>\n",
       "      <td>5</td>\n",
       "      <td>2</td>\n",
       "      <td>1</td>\n",
       "      <td>27.81</td>\n",
       "    </tr>\n",
       "  </tbody>\n",
       "</table>\n",
       "</div>"
      ],
      "text/plain": [
       "   MarketID MarketSize  LocationID  AgeOfStore  Promotion  week  \\\n",
       "0         1     Medium           1           4          3     1   \n",
       "1         1     Medium           1           4          3     2   \n",
       "2         1     Medium           1           4          3     3   \n",
       "3         1     Medium           1           4          3     4   \n",
       "4         1     Medium           2           5          2     1   \n",
       "\n",
       "   SalesInThousands  \n",
       "0             33.73  \n",
       "1             35.67  \n",
       "2             29.03  \n",
       "3             39.25  \n",
       "4             27.81  "
      ]
     },
     "execution_count": 18,
     "metadata": {},
     "output_type": "execute_result"
    }
   ],
   "source": [
    "fast_food.head()"
   ]
  },
  {
   "cell_type": "markdown",
   "id": "79b04029",
   "metadata": {
    "papermill": {
     "duration": 0.018372,
     "end_time": "2023-11-13T14:06:50.639677",
     "exception": false,
     "start_time": "2023-11-13T14:06:50.621305",
     "status": "completed"
    },
    "tags": []
   },
   "source": [
    "<div style=\"border-radius:10px; border:#65647C solid; padding: 15px; background-color: #F8EDE3; font-size:100%; text-align:left\">\n",
    "\n",
    "<h3 align=\"left\"><font color='#7D6E83'><b>🗨️ Comment: </b></font></h3>\n",
    "    \n",
    "* **MarketID**: unique identifier for market\n",
    "* **MarketSize**: size of market area by sales\n",
    "* **LocationID**: unique identifier for store location\n",
    "* **AgeOfStore**: age of store in years\n",
    "* **Promotion**: one of three promotions that were tested\n",
    "* **week**: one of four weeks when the promotions were run\n",
    "* **SalesInThousands**: sales amount for a specific LocationID, Promotion, and week"
   ]
  },
  {
   "cell_type": "code",
   "execution_count": 19,
   "id": "1e3e21ce",
   "metadata": {
    "execution": {
     "iopub.execute_input": "2023-11-13T14:06:50.678768Z",
     "iopub.status.busy": "2023-11-13T14:06:50.678043Z",
     "iopub.status.idle": "2023-11-13T14:06:50.686581Z",
     "shell.execute_reply": "2023-11-13T14:06:50.685533Z"
    },
    "papermill": {
     "duration": 0.03046,
     "end_time": "2023-11-13T14:06:50.688719",
     "exception": false,
     "start_time": "2023-11-13T14:06:50.658259",
     "status": "completed"
    },
    "tags": []
   },
   "outputs": [
    {
     "data": {
      "text/plain": [
       "Promotion\n",
       "3    188\n",
       "2    188\n",
       "1    172\n",
       "Name: count, dtype: int64"
      ]
     },
     "execution_count": 19,
     "metadata": {},
     "output_type": "execute_result"
    }
   ],
   "source": [
    "fast_food[\"Promotion\"].value_counts()"
   ]
  },
  {
   "cell_type": "code",
   "execution_count": 20,
   "id": "2bf0039b",
   "metadata": {
    "execution": {
     "iopub.execute_input": "2023-11-13T14:06:50.728048Z",
     "iopub.status.busy": "2023-11-13T14:06:50.727655Z",
     "iopub.status.idle": "2023-11-13T14:06:50.735154Z",
     "shell.execute_reply": "2023-11-13T14:06:50.734067Z"
    },
    "papermill": {
     "duration": 0.030075,
     "end_time": "2023-11-13T14:06:50.737412",
     "exception": false,
     "start_time": "2023-11-13T14:06:50.707337",
     "status": "completed"
    },
    "tags": []
   },
   "outputs": [],
   "source": [
    "promotion1 = fast_food[fast_food[\"Promotion\"]==\"1\"]\n",
    "promotion2 = fast_food[fast_food[\"Promotion\"]==\"2\"]\n",
    "promotion3 = fast_food[fast_food[\"Promotion\"]==\"3\"]"
   ]
  },
  {
   "cell_type": "markdown",
   "id": "3dd274c1",
   "metadata": {
    "papermill": {
     "duration": 0.018018,
     "end_time": "2023-11-13T14:06:50.773570",
     "exception": false,
     "start_time": "2023-11-13T14:06:50.755552",
     "status": "completed"
    },
    "tags": []
   },
   "source": [
    "> **Hypothesis Testing**"
   ]
  },
  {
   "cell_type": "markdown",
   "id": "81aa5ec2",
   "metadata": {
    "papermill": {
     "duration": 0.018868,
     "end_time": "2023-11-13T14:06:50.811571",
     "exception": false,
     "start_time": "2023-11-13T14:06:50.792703",
     "status": "completed"
    },
    "tags": []
   },
   "source": [
    "<div style=\"border-radius:10px; border:#65647C solid; padding: 15px; background-color: #F8EDE3; font-size:100%; text-align:left\">\n",
    "\n",
    "<h3 align=\"left\"><font color='#7D6E83'><b>🗨️ Comment: </b></font></h3>\n",
    "    \n",
    "According to these numbers, it seems like there may be a difference in promotion types, but this difference could have occurred by chance and should be statistically tested.\n",
    "\n",
    "**Step 1 - Formulate Hypotheses:**\n",
    "   - Null Hypothesis (H0): μ1 = μ2 = μ3 (There is no statistical difference in terms of promotion types.)\n",
    "   - Alternative Hypothesis (H1): At least one group is different from the others.\n",
    "\n",
    "**Step 2 - Assumption Checks:**\n",
    "   - Normality Assumption\n",
    "   - Homogeneity of Variance\n",
    "\n",
    "**Step 3 - Normality Assumption Hypothesis:**\n",
    "   - H0: The normal distribution assumption is met.\n",
    "   - H1: The normal distribution assumption is not met.\n",
    "    \n",
    "**Step 4 - Assumption of Homogeneity of Variance:**\n",
    "   - H0: Variances are homogenous.\n",
    "   - H1: Variances are not homogenous."
   ]
  },
  {
   "cell_type": "markdown",
   "id": "f288b117",
   "metadata": {
    "papermill": {
     "duration": 0.020171,
     "end_time": "2023-11-13T14:06:50.854624",
     "exception": false,
     "start_time": "2023-11-13T14:06:50.834453",
     "status": "completed"
    },
    "tags": []
   },
   "source": [
    "> **Normality Assumption**"
   ]
  },
  {
   "cell_type": "code",
   "execution_count": 21,
   "id": "f80c4ca2",
   "metadata": {
    "execution": {
     "iopub.execute_input": "2023-11-13T14:06:50.896577Z",
     "iopub.status.busy": "2023-11-13T14:06:50.895849Z",
     "iopub.status.idle": "2023-11-13T14:06:50.905333Z",
     "shell.execute_reply": "2023-11-13T14:06:50.904063Z"
    },
    "papermill": {
     "duration": 0.033981,
     "end_time": "2023-11-13T14:06:50.907559",
     "exception": false,
     "start_time": "2023-11-13T14:06:50.873578",
     "status": "completed"
    },
    "tags": []
   },
   "outputs": [
    {
     "name": "stdout",
     "output_type": "stream",
     "text": [
      "3 p-value: 0.0000\n",
      "2 p-value: 0.0000\n",
      "1 p-value: 0.0000\n"
     ]
    }
   ],
   "source": [
    "for group in list(fast_food[\"Promotion\"].unique()):\n",
    "    \n",
    "    pvalue = shapiro(fast_food.loc[fast_food[\"Promotion\"] == group, \"SalesInThousands\"])[1]\n",
    "    \n",
    "    print(group, 'p-value: %.4f' % pvalue)"
   ]
  },
  {
   "cell_type": "markdown",
   "id": "674653f8",
   "metadata": {
    "papermill": {
     "duration": 0.018148,
     "end_time": "2023-11-13T14:06:50.944524",
     "exception": false,
     "start_time": "2023-11-13T14:06:50.926376",
     "status": "completed"
    },
    "tags": []
   },
   "source": [
    "<div style=\"border-radius:10px; border:#65647C solid; padding: 15px; background-color: #F8EDE3; font-size:100%; text-align:left\">\n",
    "\n",
    "<h3 align=\"left\"><font color='#7D6E83'><b>🗨️ Comment: </b></font></h3>\n",
    "    \n",
    "* \"H0 has been rejected. It does not exhibit a normal distribution.\n",
    "* Therefore, there is no need to check for homogeneity of variances. We can proceed directly to non-parametric statistical analysis, which is the **Kruskal Test.**"
   ]
  },
  {
   "cell_type": "markdown",
   "id": "236af4ed",
   "metadata": {
    "papermill": {
     "duration": 0.018391,
     "end_time": "2023-11-13T14:06:50.981596",
     "exception": false,
     "start_time": "2023-11-13T14:06:50.963205",
     "status": "completed"
    },
    "tags": []
   },
   "source": [
    "> **Non-parametric Test**"
   ]
  },
  {
   "cell_type": "code",
   "execution_count": 22,
   "id": "f1cc20db",
   "metadata": {
    "execution": {
     "iopub.execute_input": "2023-11-13T14:06:51.021212Z",
     "iopub.status.busy": "2023-11-13T14:06:51.020451Z",
     "iopub.status.idle": "2023-11-13T14:06:51.031687Z",
     "shell.execute_reply": "2023-11-13T14:06:51.030739Z"
    },
    "papermill": {
     "duration": 0.033638,
     "end_time": "2023-11-13T14:06:51.033969",
     "exception": false,
     "start_time": "2023-11-13T14:06:51.000331",
     "status": "completed"
    },
    "tags": []
   },
   "outputs": [
    {
     "name": "stdout",
     "output_type": "stream",
     "text": [
      "\n",
      "Statistic: 53.295\n",
      "p-Value: 0.000\n",
      "\n"
     ]
    }
   ],
   "source": [
    "s,p = kruskal(fast_food.loc[fast_food[\"Promotion\"] == 1, \"SalesInThousands\"],\n",
    "        fast_food.loc[fast_food[\"Promotion\"] == 2, \"SalesInThousands\"],\n",
    "        fast_food.loc[fast_food[\"Promotion\"] == 3, \"SalesInThousands\"])\n",
    "\n",
    "print(f\"\\nStatistic: {s:.3f}\\np-Value: {p:.3f}\\n\")\n",
    "\n",
    "# The p-value for the hypothesis of equality of promotions is less than 0.05; therefore, we reject the null hypothesis, indicating that the assumption of equality is not satisfied."
   ]
  },
  {
   "cell_type": "markdown",
   "id": "3ffe4431",
   "metadata": {
    "papermill": {
     "duration": 0.018608,
     "end_time": "2023-11-13T14:06:51.071052",
     "exception": false,
     "start_time": "2023-11-13T14:06:51.052444",
     "status": "completed"
    },
    "tags": []
   },
   "source": [
    "<div style=\"border-radius:10px; border:#65647C solid; padding: 15px; background-color: #F8EDE3; font-size:100%; text-align:left\">\n",
    "\n",
    "<h3 align=\"left\"><font color='#7D6E83'><b>🗨️ Comment: </b></font></h3>\n",
    "    \n",
    "* The p-value for the hypothesis of equality of promotions is less than 0.05; therefore, we reject the null hypothesis, indicating that the assumption of equality is not satisfied.\n",
    "* In Addition to this, we can check the  difference amoung beetwen these groups in below."
   ]
  },
  {
   "cell_type": "code",
   "execution_count": 23,
   "id": "9e03723f",
   "metadata": {
    "execution": {
     "iopub.execute_input": "2023-11-13T14:06:51.110787Z",
     "iopub.status.busy": "2023-11-13T14:06:51.110128Z",
     "iopub.status.idle": "2023-11-13T14:06:51.404306Z",
     "shell.execute_reply": "2023-11-13T14:06:51.402773Z"
    },
    "papermill": {
     "duration": 0.317044,
     "end_time": "2023-11-13T14:06:51.406983",
     "exception": false,
     "start_time": "2023-11-13T14:06:51.089939",
     "status": "completed"
    },
    "tags": []
   },
   "outputs": [
    {
     "name": "stdout",
     "output_type": "stream",
     "text": [
      " Multiple Comparison of Means - Tukey HSD, FWER=0.05 \n",
      "=====================================================\n",
      "group1 group2 meandiff p-adj   lower    upper  reject\n",
      "-----------------------------------------------------\n",
      "     1      2 -10.7696    0.0 -14.7738 -6.7654   True\n",
      "     1      3  -2.7345 0.2444  -6.7388  1.2697  False\n",
      "     2      3   8.0351    0.0   4.1208 11.9493   True\n",
      "-----------------------------------------------------\n"
     ]
    }
   ],
   "source": [
    "from statsmodels.stats.multicomp import MultiComparison\n",
    "\n",
    "comparison = MultiComparison(fast_food['SalesInThousands'], fast_food['Promotion'])\n",
    "tukey = comparison.tukeyhsd(0.05)\n",
    "\n",
    "print(tukey.summary())"
   ]
  },
  {
   "cell_type": "markdown",
   "id": "d180da5e",
   "metadata": {
    "papermill": {
     "duration": 0.019908,
     "end_time": "2023-11-13T14:06:51.445640",
     "exception": false,
     "start_time": "2023-11-13T14:06:51.425732",
     "status": "completed"
    },
    "tags": []
   },
   "source": [
    "<div style=\"border-radius:10px; border:#65647C solid; padding: 15px; background-color: #F8EDE3; font-size:100%; text-align:left\">\n",
    "\n",
    "<h3 align=\"left\"><font color='#7D6E83'><b>🗨️ Comment: </b></font></h3>\n",
    "\n",
    "* As observed, we cannot reject the similarity between 1 and 3, a difference was found between 1 and 3."
   ]
  },
  {
   "cell_type": "markdown",
   "id": "6c685a5a",
   "metadata": {
    "papermill": {
     "duration": 0.018256,
     "end_time": "2023-11-13T14:06:51.482305",
     "exception": false,
     "start_time": "2023-11-13T14:06:51.464049",
     "status": "completed"
    },
    "tags": []
   },
   "source": [
    "<a id = \"4\"></a><br>\n",
    "<p style=\"font-family: 'Pacifico', cursive; font-weight: bold; letter-spacing: 2px; color: #556B2F; font-size: 160%; text-align: left; padding: 0px; border-bottom: 3px solid\">✨Mobile Games A/B Testing✨</p>"
   ]
  },
  {
   "cell_type": "code",
   "execution_count": 24,
   "id": "5b9c403e",
   "metadata": {
    "execution": {
     "iopub.execute_input": "2023-11-13T14:06:51.522205Z",
     "iopub.status.busy": "2023-11-13T14:06:51.521099Z",
     "iopub.status.idle": "2023-11-13T14:06:51.622083Z",
     "shell.execute_reply": "2023-11-13T14:06:51.620959Z"
    },
    "papermill": {
     "duration": 0.123575,
     "end_time": "2023-11-13T14:06:51.624852",
     "exception": false,
     "start_time": "2023-11-13T14:06:51.501277",
     "status": "completed"
    },
    "tags": []
   },
   "outputs": [],
   "source": [
    "mob = pd.read_csv(\"/kaggle/input/mobile-games-ab-testing/cookie_cats.csv\")"
   ]
  },
  {
   "cell_type": "code",
   "execution_count": 25,
   "id": "29357b87",
   "metadata": {
    "execution": {
     "iopub.execute_input": "2023-11-13T14:06:51.664957Z",
     "iopub.status.busy": "2023-11-13T14:06:51.664492Z",
     "iopub.status.idle": "2023-11-13T14:06:51.676855Z",
     "shell.execute_reply": "2023-11-13T14:06:51.675818Z"
    },
    "papermill": {
     "duration": 0.035041,
     "end_time": "2023-11-13T14:06:51.679144",
     "exception": false,
     "start_time": "2023-11-13T14:06:51.644103",
     "status": "completed"
    },
    "tags": []
   },
   "outputs": [
    {
     "data": {
      "text/html": [
       "<div>\n",
       "<style scoped>\n",
       "    .dataframe tbody tr th:only-of-type {\n",
       "        vertical-align: middle;\n",
       "    }\n",
       "\n",
       "    .dataframe tbody tr th {\n",
       "        vertical-align: top;\n",
       "    }\n",
       "\n",
       "    .dataframe thead th {\n",
       "        text-align: right;\n",
       "    }\n",
       "</style>\n",
       "<table border=\"1\" class=\"dataframe\">\n",
       "  <thead>\n",
       "    <tr style=\"text-align: right;\">\n",
       "      <th></th>\n",
       "      <th>userid</th>\n",
       "      <th>version</th>\n",
       "      <th>sum_gamerounds</th>\n",
       "      <th>retention_1</th>\n",
       "      <th>retention_7</th>\n",
       "    </tr>\n",
       "  </thead>\n",
       "  <tbody>\n",
       "    <tr>\n",
       "      <th>0</th>\n",
       "      <td>116</td>\n",
       "      <td>gate_30</td>\n",
       "      <td>3</td>\n",
       "      <td>False</td>\n",
       "      <td>False</td>\n",
       "    </tr>\n",
       "    <tr>\n",
       "      <th>1</th>\n",
       "      <td>337</td>\n",
       "      <td>gate_30</td>\n",
       "      <td>38</td>\n",
       "      <td>True</td>\n",
       "      <td>False</td>\n",
       "    </tr>\n",
       "    <tr>\n",
       "      <th>2</th>\n",
       "      <td>377</td>\n",
       "      <td>gate_40</td>\n",
       "      <td>165</td>\n",
       "      <td>True</td>\n",
       "      <td>False</td>\n",
       "    </tr>\n",
       "    <tr>\n",
       "      <th>3</th>\n",
       "      <td>483</td>\n",
       "      <td>gate_40</td>\n",
       "      <td>1</td>\n",
       "      <td>False</td>\n",
       "      <td>False</td>\n",
       "    </tr>\n",
       "    <tr>\n",
       "      <th>4</th>\n",
       "      <td>488</td>\n",
       "      <td>gate_40</td>\n",
       "      <td>179</td>\n",
       "      <td>True</td>\n",
       "      <td>True</td>\n",
       "    </tr>\n",
       "  </tbody>\n",
       "</table>\n",
       "</div>"
      ],
      "text/plain": [
       "   userid  version  sum_gamerounds  retention_1  retention_7\n",
       "0     116  gate_30               3        False        False\n",
       "1     337  gate_30              38         True        False\n",
       "2     377  gate_40             165         True        False\n",
       "3     483  gate_40               1        False        False\n",
       "4     488  gate_40             179         True         True"
      ]
     },
     "execution_count": 25,
     "metadata": {},
     "output_type": "execute_result"
    }
   ],
   "source": [
    "mob.head()"
   ]
  },
  {
   "cell_type": "markdown",
   "id": "c55285f4",
   "metadata": {
    "papermill": {
     "duration": 0.018367,
     "end_time": "2023-11-13T14:06:51.716248",
     "exception": false,
     "start_time": "2023-11-13T14:06:51.697881",
     "status": "completed"
    },
    "tags": []
   },
   "source": [
    "<div style=\"border-radius:10px; border:#65647C solid; padding: 15px; background-color: #F8EDE3; font-size:100%; text-align:left\">\n",
    "\n",
    "<h3 align=\"left\"><font color='#7D6E83'><b>🗨️ Comment: </b></font></h3>\n",
    "    \n",
    "- **userid:** Unique identifier for each user.\n",
    "- **version:** The version of the game (e.g., Gate_30 or Gate_40).\n",
    "- **sum_gamerounds:** The total number of game rounds played by the user.\n",
    "- **retention_1:** Whether the user retained after 1 day from installation (binary: 1 for retained, 0 for not retained).\n",
    "- **retention_7:** Whether the user retained after 7 days from installation (binary: 1 for retained, 0 for not retained)."
   ]
  },
  {
   "cell_type": "code",
   "execution_count": 26,
   "id": "79a870f5",
   "metadata": {
    "execution": {
     "iopub.execute_input": "2023-11-13T14:06:51.755408Z",
     "iopub.status.busy": "2023-11-13T14:06:51.755037Z",
     "iopub.status.idle": "2023-11-13T14:06:51.761698Z",
     "shell.execute_reply": "2023-11-13T14:06:51.760699Z"
    },
    "papermill": {
     "duration": 0.028887,
     "end_time": "2023-11-13T14:06:51.763730",
     "exception": false,
     "start_time": "2023-11-13T14:06:51.734843",
     "status": "completed"
    },
    "tags": []
   },
   "outputs": [
    {
     "data": {
      "text/plain": [
       "(90189, 5)"
      ]
     },
     "execution_count": 26,
     "metadata": {},
     "output_type": "execute_result"
    }
   ],
   "source": [
    "mob.shape"
   ]
  },
  {
   "cell_type": "code",
   "execution_count": 27,
   "id": "6fe23885",
   "metadata": {
    "execution": {
     "iopub.execute_input": "2023-11-13T14:06:51.803862Z",
     "iopub.status.busy": "2023-11-13T14:06:51.803485Z",
     "iopub.status.idle": "2023-11-13T14:06:51.832159Z",
     "shell.execute_reply": "2023-11-13T14:06:51.831087Z"
    },
    "papermill": {
     "duration": 0.051665,
     "end_time": "2023-11-13T14:06:51.834419",
     "exception": false,
     "start_time": "2023-11-13T14:06:51.782754",
     "status": "completed"
    },
    "tags": []
   },
   "outputs": [
    {
     "data": {
      "text/plain": [
       "0"
      ]
     },
     "execution_count": 27,
     "metadata": {},
     "output_type": "execute_result"
    }
   ],
   "source": [
    "mob.duplicated().sum()"
   ]
  },
  {
   "cell_type": "code",
   "execution_count": 28,
   "id": "e314cda5",
   "metadata": {
    "execution": {
     "iopub.execute_input": "2023-11-13T14:06:51.874148Z",
     "iopub.status.busy": "2023-11-13T14:06:51.873778Z",
     "iopub.status.idle": "2023-11-13T14:06:51.893264Z",
     "shell.execute_reply": "2023-11-13T14:06:51.891580Z"
    },
    "papermill": {
     "duration": 0.043678,
     "end_time": "2023-11-13T14:06:51.897023",
     "exception": false,
     "start_time": "2023-11-13T14:06:51.853345",
     "status": "completed"
    },
    "tags": []
   },
   "outputs": [
    {
     "data": {
      "text/plain": [
       "(50.59946671311376, 53.14544674639904)"
      ]
     },
     "execution_count": 28,
     "metadata": {},
     "output_type": "execute_result"
    }
   ],
   "source": [
    "sms.DescrStatsW(mob[\"sum_gamerounds\"]).tconfint_mean() # we checked confidience intervals before sampling"
   ]
  },
  {
   "cell_type": "code",
   "execution_count": 29,
   "id": "2056d328",
   "metadata": {
    "execution": {
     "iopub.execute_input": "2023-11-13T14:06:51.982317Z",
     "iopub.status.busy": "2023-11-13T14:06:51.981498Z",
     "iopub.status.idle": "2023-11-13T14:06:52.000296Z",
     "shell.execute_reply": "2023-11-13T14:06:51.998927Z"
    },
    "papermill": {
     "duration": 0.065806,
     "end_time": "2023-11-13T14:06:52.004017",
     "exception": false,
     "start_time": "2023-11-13T14:06:51.938211",
     "status": "completed"
    },
    "tags": []
   },
   "outputs": [
    {
     "data": {
      "text/plain": [
       "51.9722"
      ]
     },
     "execution_count": 29,
     "metadata": {},
     "output_type": "execute_result"
    }
   ],
   "source": [
    "sample = mob.sample(n=5000, random_state=42)\n",
    "\n",
    "sample[\"sum_gamerounds\"].mean()"
   ]
  },
  {
   "cell_type": "markdown",
   "id": "80f33aa1",
   "metadata": {
    "papermill": {
     "duration": 0.018907,
     "end_time": "2023-11-13T14:06:52.044319",
     "exception": false,
     "start_time": "2023-11-13T14:06:52.025412",
     "status": "completed"
    },
    "tags": []
   },
   "source": [
    "<div style=\"border-radius:10px; border:#65647C solid; padding: 15px; background-color: #F8EDE3; font-size:100%; text-align:left\">\n",
    "\n",
    "<h3 align=\"left\"><font color='#7D6E83'><b>🗨️ Comment: </b></font></h3>\n",
    "\n",
    "* The Shapiro-Wilk test requires the sample size to be less than 5000. Therefore, for each unique value of the 'version,' we selected 2500 sample units, assigning n=5000.\n",
    "* We can use the sample mean because it falls within the confidence interval of our entire dataset."
   ]
  },
  {
   "cell_type": "markdown",
   "id": "3f58bd25",
   "metadata": {
    "papermill": {
     "duration": 0.018991,
     "end_time": "2023-11-13T14:06:52.082661",
     "exception": false,
     "start_time": "2023-11-13T14:06:52.063670",
     "status": "completed"
    },
    "tags": []
   },
   "source": [
    "> **Hypothesis Testing**"
   ]
  },
  {
   "cell_type": "code",
   "execution_count": 30,
   "id": "25714cd0",
   "metadata": {
    "execution": {
     "iopub.execute_input": "2023-11-13T14:06:52.123779Z",
     "iopub.status.busy": "2023-11-13T14:06:52.122680Z",
     "iopub.status.idle": "2023-11-13T14:06:52.141713Z",
     "shell.execute_reply": "2023-11-13T14:06:52.140950Z"
    },
    "papermill": {
     "duration": 0.041923,
     "end_time": "2023-11-13T14:06:52.143795",
     "exception": false,
     "start_time": "2023-11-13T14:06:52.101872",
     "status": "completed"
    },
    "tags": []
   },
   "outputs": [
    {
     "data": {
      "text/html": [
       "<div>\n",
       "<style scoped>\n",
       "    .dataframe tbody tr th:only-of-type {\n",
       "        vertical-align: middle;\n",
       "    }\n",
       "\n",
       "    .dataframe tbody tr th {\n",
       "        vertical-align: top;\n",
       "    }\n",
       "\n",
       "    .dataframe thead tr th {\n",
       "        text-align: left;\n",
       "    }\n",
       "\n",
       "    .dataframe thead tr:last-of-type th {\n",
       "        text-align: right;\n",
       "    }\n",
       "</style>\n",
       "<table border=\"1\" class=\"dataframe\">\n",
       "  <thead>\n",
       "    <tr>\n",
       "      <th></th>\n",
       "      <th colspan=\"2\" halign=\"left\">sum_gamerounds</th>\n",
       "    </tr>\n",
       "    <tr>\n",
       "      <th></th>\n",
       "      <th>count</th>\n",
       "      <th>mean</th>\n",
       "    </tr>\n",
       "    <tr>\n",
       "      <th>version</th>\n",
       "      <th></th>\n",
       "      <th></th>\n",
       "    </tr>\n",
       "  </thead>\n",
       "  <tbody>\n",
       "    <tr>\n",
       "      <th>gate_30</th>\n",
       "      <td>2503</td>\n",
       "      <td>52.296444</td>\n",
       "    </tr>\n",
       "    <tr>\n",
       "      <th>gate_40</th>\n",
       "      <td>2497</td>\n",
       "      <td>51.647177</td>\n",
       "    </tr>\n",
       "  </tbody>\n",
       "</table>\n",
       "</div>"
      ],
      "text/plain": [
       "        sum_gamerounds           \n",
       "                 count       mean\n",
       "version                          \n",
       "gate_30           2503  52.296444\n",
       "gate_40           2497  51.647177"
      ]
     },
     "execution_count": 30,
     "metadata": {},
     "output_type": "execute_result"
    }
   ],
   "source": [
    "sample.groupby('version').agg({\"sum_gamerounds\": [\"count\", \"mean\"]})"
   ]
  },
  {
   "cell_type": "markdown",
   "id": "f8505ca4",
   "metadata": {
    "papermill": {
     "duration": 0.019648,
     "end_time": "2023-11-13T14:06:52.183372",
     "exception": false,
     "start_time": "2023-11-13T14:06:52.163724",
     "status": "completed"
    },
    "tags": []
   },
   "source": [
    "<div style=\"border-radius:10px; border:#65647C solid; padding: 15px; background-color: #F8EDE3; font-size:100%; text-align:left\">\n",
    "\n",
    "<h3 align=\"left\"><font color='#7D6E83'><b>🗨️ Comment: </b></font></h3>\n",
    "    \n",
    "According to these numbers, it seems like there may be a difference in game rounds, but this difference could have occurred by chance and should be statistically tested.\n",
    "\n",
    "**Step 1 - Formulate Hypotheses:**\n",
    "   - Null Hypothesis (H0): μ1 = μ2 (There is no statistical difference in terms of game rounds between the versions)\n",
    "   - Alternative Hypothesis (H1): μ1 ≠ μ2 (There is statistical difference in terms of game rounds between the versions)\n",
    "\n",
    "**Step 2 - Assumption Checks:**\n",
    "   - Normality Assumption\n",
    "   - Homogeneity of Variance\n",
    "\n",
    "**Step 3 - Normality Assumption Hypothesis:**\n",
    "   - H0: The normal distribution assumption is met.\n",
    "   - H1: The normal distribution assumption is not met.\n",
    "    \n",
    "**Step 4 - Assumption of Homogeneity of Variance:**\n",
    "   - H0: Variances are homogenous.\n",
    "   - H1: Variances are not homogenous."
   ]
  },
  {
   "cell_type": "markdown",
   "id": "825b26c7",
   "metadata": {
    "papermill": {
     "duration": 0.01922,
     "end_time": "2023-11-13T14:06:52.222175",
     "exception": false,
     "start_time": "2023-11-13T14:06:52.202955",
     "status": "completed"
    },
    "tags": []
   },
   "source": [
    "> **Normality Assumption**"
   ]
  },
  {
   "cell_type": "code",
   "execution_count": 31,
   "id": "d320b632",
   "metadata": {
    "execution": {
     "iopub.execute_input": "2023-11-13T14:06:52.263554Z",
     "iopub.status.busy": "2023-11-13T14:06:52.262852Z",
     "iopub.status.idle": "2023-11-13T14:06:52.273011Z",
     "shell.execute_reply": "2023-11-13T14:06:52.271856Z"
    },
    "papermill": {
     "duration": 0.033634,
     "end_time": "2023-11-13T14:06:52.275328",
     "exception": false,
     "start_time": "2023-11-13T14:06:52.241694",
     "status": "completed"
    },
    "tags": []
   },
   "outputs": [
    {
     "name": "stdout",
     "output_type": "stream",
     "text": [
      "Version: gate_30 \n",
      "Statistic: 0.468\n",
      "p-Value: 0.000\n",
      "\n",
      "Version: gate_40 \n",
      "Statistic: 0.494\n",
      "p-Value: 0.000\n",
      "\n"
     ]
    }
   ],
   "source": [
    "for gate in sample[\"version\"].unique():\n",
    "    \n",
    "    s,p = shapiro(sample.loc[sample['version'] == gate,\"sum_gamerounds\"])\n",
    "    \n",
    "    print(f\"Version: {gate} \\nStatistic: {s:.3f}\\np-Value: {p:.3f}\\n\")"
   ]
  },
  {
   "cell_type": "markdown",
   "id": "f9ba776c",
   "metadata": {
    "papermill": {
     "duration": 0.01935,
     "end_time": "2023-11-13T14:06:52.314353",
     "exception": false,
     "start_time": "2023-11-13T14:06:52.295003",
     "status": "completed"
    },
    "tags": []
   },
   "source": [
    "<div style=\"border-radius:10px; border:#65647C solid; padding: 15px; background-color: #F8EDE3; font-size:100%; text-align:left\">\n",
    "\n",
    "<h3 align=\"left\"><font color='#7D6E83'><b>🗨️ Comment: </b></font></h3>\n",
    "    \n",
    "* \"H0 has been rejected. It does not exhibit a normal distribution. \n",
    "* Therefore, there is no need to check for homogeneity of variances. We can proceed directly to non-parametric statistical analysis, which is the **Mann-Whitney test.**\"."
   ]
  },
  {
   "cell_type": "markdown",
   "id": "dc6416a2",
   "metadata": {
    "papermill": {
     "duration": 0.019157,
     "end_time": "2023-11-13T14:06:52.352773",
     "exception": false,
     "start_time": "2023-11-13T14:06:52.333616",
     "status": "completed"
    },
    "tags": []
   },
   "source": [
    "> **Non-parametric Test**"
   ]
  },
  {
   "cell_type": "code",
   "execution_count": 32,
   "id": "125a38ba",
   "metadata": {
    "execution": {
     "iopub.execute_input": "2023-11-13T14:06:52.393184Z",
     "iopub.status.busy": "2023-11-13T14:06:52.392519Z",
     "iopub.status.idle": "2023-11-13T14:06:52.408702Z",
     "shell.execute_reply": "2023-11-13T14:06:52.407577Z"
    },
    "papermill": {
     "duration": 0.038681,
     "end_time": "2023-11-13T14:06:52.410792",
     "exception": false,
     "start_time": "2023-11-13T14:06:52.372111",
     "status": "completed"
    },
    "tags": []
   },
   "outputs": [
    {
     "name": "stdout",
     "output_type": "stream",
     "text": [
      "\n",
      "Statistic: 3120414.500\n",
      "p-Value: 0.928\n",
      "\n"
     ]
    }
   ],
   "source": [
    "s,p = mannwhitneyu(sample.loc[sample['version']==\"gate_30\",\"sum_gamerounds\"],\n",
    "             sample.loc[sample['version']==\"gate_40\",\"sum_gamerounds\"])\n",
    "\n",
    "print(f\"\\nStatistic: {s:.3f}\\np-Value: {p:.3f}\\n\")"
   ]
  },
  {
   "cell_type": "markdown",
   "id": "c5259aac",
   "metadata": {
    "papermill": {
     "duration": 0.019566,
     "end_time": "2023-11-13T14:06:52.450234",
     "exception": false,
     "start_time": "2023-11-13T14:06:52.430668",
     "status": "completed"
    },
    "tags": []
   },
   "source": [
    "<div style=\"border-radius:10px; border:#65647C solid; padding: 15px; background-color: #F8EDE3; font-size:100%; text-align:left\">\n",
    "\n",
    "<h3 align=\"left\"><font color='#7D6E83'><b>🗨️ Comment: </b></font></h3>\n",
    "\n",
    "* According to the Mann-Whitney U test, H0 cannot be rejected. There is no significant difference between the means of the two groups."
   ]
  }
 ],
 "metadata": {
  "kernelspec": {
   "display_name": "Python 3",
   "language": "python",
   "name": "python3"
  },
  "language_info": {
   "codemirror_mode": {
    "name": "ipython",
    "version": 3
   },
   "file_extension": ".py",
   "mimetype": "text/x-python",
   "name": "python",
   "nbconvert_exporter": "python",
   "pygments_lexer": "ipython3",
   "version": "3.10.12"
  },
  "papermill": {
   "default_parameters": {},
   "duration": 10.473173,
   "end_time": "2023-11-13T14:06:52.991331",
   "environment_variables": {},
   "exception": null,
   "input_path": "__notebook__.ipynb",
   "output_path": "__notebook__.ipynb",
   "parameters": {},
   "start_time": "2023-11-13T14:06:42.518158",
   "version": "2.4.0"
  }
 },
 "nbformat": 4,
 "nbformat_minor": 5
}
